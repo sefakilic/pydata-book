{
 "metadata": {
  "name": ""
 },
 "nbformat": 3,
 "nbformat_minor": 0,
 "worksheets": [
  {
   "cells": [
    {
     "cell_type": "heading",
     "level": 1,
     "source": [
      "NumPy Basics"
     ]
    },
    {
     "cell_type": "code",
     "collapsed": false,
     "input": [
      "import numpy as np"
     ],
     "language": "python",
     "outputs": [],
     "prompt_number": 1
    },
    {
     "cell_type": "markdown",
     "source": [
      "One of the main features of NumPy is N-dimensional array object."
     ]
    },
    {
     "cell_type": "code",
     "collapsed": false,
     "input": [
      "data = np.random.randn(10)\n",
      "data"
     ],
     "language": "python",
     "outputs": [
      {
       "output_type": "pyout",
       "prompt_number": 3,
       "text": [
        "array([-0.71286653, -0.06829651,  0.52592539,  1.08429673,  0.79459201,\n",
        "        1.65841126,  0.25869083,  0.77187075,  0.10428469,  0.5172483 ])"
       ]
      }
     ],
     "prompt_number": 3
    },
    {
     "cell_type": "markdown",
     "source": [
      "Standard mathematical functions for fast operations on entire arrays of data,\n",
      "without having to write loops"
     ]
    },
    {
     "cell_type": "code",
     "collapsed": false,
     "input": [
      "data*10\n"
     ],
     "language": "python",
     "outputs": [
      {
       "output_type": "pyout",
       "prompt_number": 9,
       "text": [
        "array([ -7.12866525,  -0.68296511,   5.25925391,  10.84296729,\n",
        "         7.94592006,  16.58411262,   2.58690831,   7.7187075 ,\n",
        "         1.0428469 ,   5.17248304])"
       ]
      }
     ],
     "prompt_number": 9
    },
    {
     "cell_type": "code",
     "collapsed": false,
     "input": [
      "data + data"
     ],
     "language": "python",
     "outputs": [
      {
       "output_type": "pyout",
       "prompt_number": 10,
       "text": [
        "array([-1.42573305, -0.13659302,  1.05185078,  2.16859346,  1.58918401,\n",
        "        3.31682252,  0.51738166,  1.5437415 ,  0.20856938,  1.03449661])"
       ]
      }
     ],
     "prompt_number": 10
    },
    {
     "cell_type": "code",
     "collapsed": false,
     "input": [
      "data.shape"
     ],
     "language": "python",
     "outputs": [
      {
       "output_type": "pyout",
       "prompt_number": 11,
       "text": [
        "(10,)"
       ]
      }
     ],
     "prompt_number": 11
    },
    {
     "cell_type": "code",
     "collapsed": false,
     "input": [
      "data.dtype"
     ],
     "language": "python",
     "outputs": [
      {
       "output_type": "pyout",
       "prompt_number": 12,
       "text": [
        "dtype('float64')"
       ]
      }
     ],
     "prompt_number": 12
    },
    {
     "cell_type": "markdown",
     "source": [
      "# Creating ndarrays"
     ]
    },
    {
     "cell_type": "code",
     "collapsed": false,
     "input": [
      "data1 = [6, 7.5, 8, 0, 1]\n",
      "arr1 = np.array(data1)\n",
      "arr1"
     ],
     "language": "python",
     "outputs": [
      {
       "output_type": "pyout",
       "prompt_number": 13,
       "text": [
        "array([ 6. ,  7.5,  8. ,  0. ,  1. ])"
       ]
      }
     ],
     "prompt_number": 13
    },
    {
     "cell_type": "code",
     "collapsed": false,
     "input": [
      "data2 = [[1, 2, 3, 4], [5, 6, 7, 8]]\n",
      "arr2 = np.array(data2)\n",
      "arr2"
     ],
     "language": "python",
     "outputs": [
      {
       "output_type": "pyout",
       "prompt_number": 15,
       "text": [
        "array([[1, 2, 3, 4],\n",
        "       [5, 6, 7, 8]])"
       ]
      }
     ],
     "prompt_number": 15
    },
    {
     "cell_type": "code",
     "collapsed": false,
     "input": [
      "arr2.ndim"
     ],
     "language": "python",
     "outputs": [
      {
       "output_type": "pyout",
       "prompt_number": 17,
       "text": [
        "2"
       ]
      }
     ],
     "prompt_number": 17
    },
    {
     "cell_type": "code",
     "collapsed": false,
     "input": [
      "arr2.shape"
     ],
     "language": "python",
     "outputs": [
      {
       "output_type": "pyout",
       "prompt_number": 18,
       "text": [
        "(2, 4)"
       ]
      }
     ],
     "prompt_number": 18
    },
    {
     "cell_type": "code",
     "collapsed": false,
     "input": [
      "arr2.dtype"
     ],
     "language": "python",
     "outputs": [
      {
       "output_type": "pyout",
       "prompt_number": 19,
       "text": [
        "dtype('int64')"
       ]
      }
     ],
     "prompt_number": 19
    },
    {
     "cell_type": "markdown",
     "source": [
      "There are number of other functions for creating new arrays"
     ]
    },
    {
     "cell_type": "code",
     "collapsed": false,
     "input": [
      "np.zeros(10)"
     ],
     "language": "python",
     "outputs": [
      {
       "output_type": "pyout",
       "prompt_number": 20,
       "text": [
        "array([ 0.,  0.,  0.,  0.,  0.,  0.,  0.,  0.,  0.,  0.])"
       ]
      }
     ],
     "prompt_number": 20
    },
    {
     "cell_type": "code",
     "collapsed": false,
     "input": [
      "np.zeros((3, 6))"
     ],
     "language": "python",
     "outputs": [
      {
       "output_type": "pyout",
       "prompt_number": 21,
       "text": [
        "array([[ 0.,  0.,  0.,  0.,  0.,  0.],\n",
        "       [ 0.,  0.,  0.,  0.,  0.,  0.],\n",
        "       [ 0.,  0.,  0.,  0.,  0.,  0.]])"
       ]
      }
     ],
     "prompt_number": 21
    },
    {
     "cell_type": "code",
     "collapsed": false,
     "input": [
      "# empty creates an array without initializing its values to any particular value\n",
      "np.empty((2, 3, 2))"
     ],
     "language": "python",
     "outputs": [
      {
       "output_type": "pyout",
       "prompt_number": 25,
       "text": [
        "array([[[  6.91584729e-310,   6.91584729e-310],\n",
        "        [  1.58101007e-322,   2.37151510e-322],\n",
        "        [  0.00000000e+000,   3.32605864e-309]],\n",
        "\n",
        "       [[  3.87491056e-297,   3.03478924e-152],\n",
        "        [  2.88014109e+214,   1.63041663e-322],\n",
        "        [  6.91584729e-310,   6.91584729e-310]]])"
       ]
      }
     ],
     "prompt_number": 25
    },
    {
     "cell_type": "markdown",
     "source": [
      "arange is array-valued version of built-in Python `range`"
     ]
    },
    {
     "cell_type": "code",
     "collapsed": false,
     "input": [
      "np.arange(10)"
     ],
     "language": "python",
     "outputs": [
      {
       "output_type": "pyout",
       "prompt_number": 26,
       "text": [
        "array([0, 1, 2, 3, 4, 5, 6, 7, 8, 9])"
       ]
      }
     ],
     "prompt_number": 26
    },
    {
     "cell_type": "markdown",
     "source": [
      "A numpy array of one type can be casted onto another using `astype` method\n"
     ]
    },
    {
     "cell_type": "code",
     "collapsed": false,
     "input": [
      "arr = np.array([1, 2, 3, 4, 5])\n",
      "arr.dtype"
     ],
     "language": "python",
     "outputs": [
      {
       "output_type": "pyout",
       "prompt_number": 29,
       "text": [
        "dtype('int64')"
       ]
      }
     ],
     "prompt_number": 29
    },
    {
     "cell_type": "code",
     "collapsed": false,
     "input": [
      "arr2 = arr.astype(np.float64)\n",
      "arr2.dtype"
     ],
     "language": "python",
     "outputs": [
      {
       "output_type": "pyout",
       "prompt_number": 31,
       "text": [
        "dtype('float64')"
       ]
      }
     ],
     "prompt_number": 31
    },
    {
     "cell_type": "code",
     "collapsed": false,
     "input": [
      "arr2"
     ],
     "language": "python",
     "outputs": [
      {
       "output_type": "pyout",
       "prompt_number": 32,
       "text": [
        "array([ 1.,  2.,  3.,  4.,  5.])"
       ]
      }
     ],
     "prompt_number": 32
    },
    {
     "cell_type": "markdown",
     "source": [
      "# Basic indexing and slicing"
     ]
    },
    {
     "cell_type": "code",
     "collapsed": false,
     "input": [
      "arr = np.arange(10)\n",
      "arr"
     ],
     "language": "python",
     "outputs": [
      {
       "output_type": "pyout",
       "prompt_number": 34,
       "text": [
        "array([0, 1, 2, 3, 4, 5, 6, 7, 8, 9])"
       ]
      }
     ],
     "prompt_number": 34
    },
    {
     "cell_type": "code",
     "collapsed": false,
     "input": [
      "arr[5]"
     ],
     "language": "python",
     "outputs": [
      {
       "output_type": "pyout",
       "prompt_number": 35,
       "text": [
        "5"
       ]
      }
     ],
     "prompt_number": 35
    },
    {
     "cell_type": "code",
     "collapsed": false,
     "input": [
      "arr[5:8]"
     ],
     "language": "python",
     "outputs": [
      {
       "output_type": "pyout",
       "prompt_number": 36,
       "text": [
        "array([5, 6, 7])"
       ]
      }
     ],
     "prompt_number": 36
    },
    {
     "cell_type": "code",
     "collapsed": false,
     "input": [
      "arr[5:8] = 12\n",
      "arr"
     ],
     "language": "python",
     "outputs": [
      {
       "output_type": "pyout",
       "prompt_number": 37,
       "text": [
        "array([ 0,  1,  2,  3,  4, 12, 12, 12,  8,  9])"
       ]
      }
     ],
     "prompt_number": 37
    },
    {
     "cell_type": "markdown",
     "source": [
      "Unlike Python lists, array slices are _views_ on the original array."
     ]
    },
    {
     "cell_type": "code",
     "collapsed": false,
     "input": [
      "xs = range(10)\n",
      "xs_slice = xs[5:8]\n",
      "xs_slice[1] = 12345\n",
      "xs\n"
     ],
     "language": "python",
     "outputs": [
      {
       "output_type": "pyout",
       "prompt_number": 40,
       "text": [
        "[0, 1, 2, 3, 4, 5, 6, 7, 8, 9]"
       ]
      }
     ],
     "prompt_number": 40
    },
    {
     "cell_type": "code",
     "collapsed": false,
     "input": [
      "arr = np.arange(10)\n",
      "arr_slice = arr[5:8]\n",
      "arr_slice[:] = 12345\n",
      "arr"
     ],
     "language": "python",
     "outputs": [
      {
       "output_type": "pyout",
       "prompt_number": 43,
       "text": [
        "array([    0,     1,     2,     3,     4, 12345, 12345, 12345,     8,     9])"
       ]
      }
     ],
     "prompt_number": 43
    },
    {
     "cell_type": "markdown",
     "source": [
      "Accessing nd-array elements"
     ]
    },
    {
     "cell_type": "code",
     "collapsed": false,
     "input": [
      "arr2d = np.array([[1,2,3], [4,5,6], [7,8,9]])\n",
      "arr2d"
     ],
     "language": "python",
     "outputs": [
      {
       "output_type": "pyout",
       "prompt_number": 48,
       "text": [
        "array([[1, 2, 3],\n",
        "       [4, 5, 6],\n",
        "       [7, 8, 9]])"
       ]
      }
     ],
     "prompt_number": 48
    },
    {
     "cell_type": "code",
     "collapsed": false,
     "input": [
      "arr2d[0]"
     ],
     "language": "python",
     "outputs": [
      {
       "output_type": "pyout",
       "prompt_number": 49,
       "text": [
        "array([1, 2, 3])"
       ]
      }
     ],
     "prompt_number": 49
    },
    {
     "cell_type": "code",
     "collapsed": false,
     "input": [
      "arr2d[0][1]"
     ],
     "language": "python",
     "outputs": [
      {
       "output_type": "pyout",
       "prompt_number": 46,
       "text": [
        "2"
       ]
      }
     ],
     "prompt_number": 46
    },
    {
     "cell_type": "code",
     "collapsed": false,
     "input": [
      "arr2d[:2,1]"
     ],
     "language": "python",
     "outputs": [
      {
       "output_type": "pyout",
       "prompt_number": 75,
       "text": [
        "array([2, 5])"
       ]
      }
     ],
     "prompt_number": 75
    },
    {
     "cell_type": "code",
     "collapsed": false,
     "input": [
      "# arr2d[:2,1] != arr2d[:2][1]\n",
      "print arr2d\n",
      "print arr2d[:2,1]\n",
      "print arr2d[:2][1]"
     ],
     "language": "python",
     "outputs": [
      {
       "output_type": "stream",
       "stream": "stdout",
       "text": [
        "[[1 2 3]\n",
        " [4 5 6]\n",
        " [7 8 9]]\n",
        "[2 5]\n",
        "[4 5 6]\n"
       ]
      }
     ],
     "prompt_number": 78
    },
    {
     "cell_type": "markdown",
     "source": [
      "# Boolean indexing"
     ]
    },
    {
     "cell_type": "code",
     "collapsed": false,
     "input": [
      "names = np.array(['Bob', 'Joe', 'Will', 'Bob', 'Will', 'Joe', 'Joe'])\n",
      "data = np.random.randn(7,4)"
     ],
     "language": "python",
     "outputs": [],
     "prompt_number": 87
    },
    {
     "cell_type": "code",
     "collapsed": false,
     "input": [
      "names"
     ],
     "language": "python",
     "outputs": [
      {
       "output_type": "pyout",
       "prompt_number": 89,
       "text": [
        "array(['Bob', 'Joe', 'Will', 'Bob', 'Will', 'Joe', 'Joe'], \n",
        "      dtype='|S4')"
       ]
      }
     ],
     "prompt_number": 89
    },
    {
     "cell_type": "code",
     "collapsed": false,
     "input": [
      "data"
     ],
     "language": "python",
     "outputs": [
      {
       "output_type": "pyout",
       "prompt_number": 90,
       "text": [
        "array([[  6.80843775e-01,   2.87072347e-02,   1.53138247e+00,\n",
        "         -8.90076852e-01],\n",
        "       [  1.14472563e+00,   9.70638197e-04,  -1.47262459e-01,\n",
        "          1.35492214e+00],\n",
        "       [ -7.97980644e-01,  -3.52147035e-02,  -1.27044882e-01,\n",
        "          1.64243634e+00],\n",
        "       [  3.31986913e-01,  -5.62246951e-01,  -4.08401439e-01,\n",
        "         -1.72520374e+00],\n",
        "       [  6.63051932e-01,   9.37475831e-01,   1.62993300e+00,\n",
        "         -9.20777888e-01],\n",
        "       [  1.29026242e+00,  -1.53116185e+00,  -2.76308937e-01,\n",
        "          4.05372962e-02],\n",
        "       [ -5.16001655e-01,  -7.23544022e-01,  -2.21564737e-02,\n",
        "         -1.99171803e-01]])"
       ]
      }
     ],
     "prompt_number": 90
    },
    {
     "cell_type": "code",
     "collapsed": false,
     "input": [
      "names == 'Bob'"
     ],
     "language": "python",
     "outputs": [
      {
       "output_type": "pyout",
       "prompt_number": 91,
       "text": [
        "array([ True, False, False,  True, False, False, False], dtype=bool)"
       ]
      }
     ],
     "prompt_number": 91
    },
    {
     "cell_type": "code",
     "collapsed": false,
     "input": [
      "-(names == 'Bob')"
     ],
     "language": "python",
     "outputs": [
      {
       "output_type": "pyout",
       "prompt_number": 97,
       "text": [
        "array([False,  True,  True, False,  True,  True,  True], dtype=bool)"
       ]
      }
     ],
     "prompt_number": 97
    },
    {
     "cell_type": "markdown",
     "source": [
      "This Boolean array can be passed when indexing the array"
     ]
    },
    {
     "cell_type": "code",
     "collapsed": false,
     "input": [
      "data[names == 'Bob']"
     ],
     "language": "python",
     "outputs": [
      {
       "output_type": "pyout",
       "prompt_number": 92,
       "text": [
        "array([[ 0.68084377,  0.02870723,  1.53138247, -0.89007685],\n",
        "       [ 0.33198691, -0.56224695, -0.40840144, -1.72520374]])"
       ]
      }
     ],
     "prompt_number": 92
    },
    {
     "cell_type": "code",
     "collapsed": false,
     "input": [
      "data[names != 'Bob']"
     ],
     "language": "python",
     "outputs": [
      {
       "output_type": "pyout",
       "prompt_number": 95,
       "text": [
        "array([[  1.14472563e+00,   9.70638197e-04,  -1.47262459e-01,\n",
        "          1.35492214e+00],\n",
        "       [ -7.97980644e-01,  -3.52147035e-02,  -1.27044882e-01,\n",
        "          1.64243634e+00],\n",
        "       [  6.63051932e-01,   9.37475831e-01,   1.62993300e+00,\n",
        "         -9.20777888e-01],\n",
        "       [  1.29026242e+00,  -1.53116185e+00,  -2.76308937e-01,\n",
        "          4.05372962e-02],\n",
        "       [ -5.16001655e-01,  -7.23544022e-01,  -2.21564737e-02,\n",
        "         -1.99171803e-01]])"
       ]
      }
     ],
     "prompt_number": 95
    },
    {
     "cell_type": "markdown",
     "source": [
      "# Fancy indexing"
     ]
    },
    {
     "cell_type": "code",
     "collapsed": false,
     "input": [
      "arr = np.array([[i]*4 for i in range(8)])\n",
      "arr"
     ],
     "language": "python",
     "outputs": [
      {
       "output_type": "pyout",
       "prompt_number": 118,
       "text": [
        "array([[0, 0, 0, 0],\n",
        "       [1, 1, 1, 1],\n",
        "       [2, 2, 2, 2],\n",
        "       [3, 3, 3, 3],\n",
        "       [4, 4, 4, 4],\n",
        "       [5, 5, 5, 5],\n",
        "       [6, 6, 6, 6],\n",
        "       [7, 7, 7, 7]])"
       ]
      }
     ],
     "prompt_number": 118
    },
    {
     "cell_type": "code",
     "collapsed": false,
     "input": [
      "arr[[4,3,0,6]]"
     ],
     "language": "python",
     "outputs": [
      {
       "output_type": "pyout",
       "prompt_number": 119,
       "text": [
        "array([[4, 4, 4, 4],\n",
        "       [3, 3, 3, 3],\n",
        "       [0, 0, 0, 0],\n",
        "       [6, 6, 6, 6]])"
       ]
      }
     ],
     "prompt_number": 119
    },
    {
     "cell_type": "code",
     "collapsed": false,
     "input": [
      "arr[[-3, -5, -7]]"
     ],
     "language": "python",
     "outputs": [
      {
       "output_type": "pyout",
       "prompt_number": 120,
       "text": [
        "array([[5, 5, 5, 5],\n",
        "       [3, 3, 3, 3],\n",
        "       [1, 1, 1, 1]])"
       ]
      }
     ],
     "prompt_number": 120
    },
    {
     "cell_type": "markdown",
     "source": [
      "# Transposing arrays\n"
     ]
    },
    {
     "cell_type": "code",
     "collapsed": false,
     "input": [
      "arr = np.arange(15).reshape((3,5))\n",
      "arr"
     ],
     "language": "python",
     "outputs": [
      {
       "output_type": "pyout",
       "prompt_number": 123,
       "text": [
        "array([[ 0,  1,  2,  3,  4],\n",
        "       [ 5,  6,  7,  8,  9],\n",
        "       [10, 11, 12, 13, 14]])"
       ]
      }
     ],
     "prompt_number": 123
    },
    {
     "cell_type": "code",
     "collapsed": false,
     "input": [
      "arr.T"
     ],
     "language": "python",
     "outputs": [
      {
       "output_type": "pyout",
       "prompt_number": 124,
       "text": [
        "array([[ 0,  5, 10],\n",
        "       [ 1,  6, 11],\n",
        "       [ 2,  7, 12],\n",
        "       [ 3,  8, 13],\n",
        "       [ 4,  9, 14]])"
       ]
      }
     ],
     "prompt_number": 124
    },
    {
     "cell_type": "code",
     "collapsed": false,
     "input": [
      "np.dot(arr.T, arr)"
     ],
     "language": "python",
     "outputs": [
      {
       "output_type": "pyout",
       "prompt_number": 125,
       "text": [
        "array([[125, 140, 155, 170, 185],\n",
        "       [140, 158, 176, 194, 212],\n",
        "       [155, 176, 197, 218, 239],\n",
        "       [170, 194, 218, 242, 266],\n",
        "       [185, 212, 239, 266, 293]])"
       ]
      }
     ],
     "prompt_number": 125
    },
    {
     "cell_type": "markdown",
     "source": [
      "# Universal functions: fast element-wise array functions"
     ]
    },
    {
     "cell_type": "code",
     "collapsed": false,
     "input": [
      "arr = np.arange(10)"
     ],
     "language": "python",
     "outputs": [],
     "prompt_number": 126
    },
    {
     "cell_type": "code",
     "collapsed": false,
     "input": [
      "np.sqrt(arr)"
     ],
     "language": "python",
     "outputs": [
      {
       "output_type": "pyout",
       "prompt_number": 127,
       "text": [
        "array([ 0.        ,  1.        ,  1.41421356,  1.73205081,  2.        ,\n",
        "        2.23606798,  2.44948974,  2.64575131,  2.82842712,  3.        ])"
       ]
      }
     ],
     "prompt_number": 127
    },
    {
     "cell_type": "code",
     "collapsed": false,
     "input": [
      "np.exp(arr)"
     ],
     "language": "python",
     "outputs": [
      {
       "output_type": "pyout",
       "prompt_number": 128,
       "text": [
        "array([  1.00000000e+00,   2.71828183e+00,   7.38905610e+00,\n",
        "         2.00855369e+01,   5.45981500e+01,   1.48413159e+02,\n",
        "         4.03428793e+02,   1.09663316e+03,   2.98095799e+03,\n",
        "         8.10308393e+03])"
       ]
      }
     ],
     "prompt_number": 128
    },
    {
     "cell_type": "code",
     "collapsed": false,
     "input": [
      "from numpy.random import randn\n",
      "x = randn(8)\n",
      "y = randn(8)\n"
     ],
     "language": "python",
     "outputs": [],
     "prompt_number": 134
    },
    {
     "cell_type": "code",
     "collapsed": false,
     "input": [
      "x"
     ],
     "language": "python",
     "outputs": [
      {
       "output_type": "pyout",
       "prompt_number": 135,
       "text": [
        "array([-0.53542042, -0.71462349,  1.32705733,  0.90359357, -1.02285107,\n",
        "       -1.33928782,  0.97034227, -0.81920467])"
       ]
      }
     ],
     "prompt_number": 135
    },
    {
     "cell_type": "code",
     "collapsed": false,
     "input": [
      "y"
     ],
     "language": "python",
     "outputs": [
      {
       "output_type": "pyout",
       "prompt_number": 136,
       "text": [
        "array([-0.72198608,  1.75727232, -1.1647331 ,  0.3116423 , -0.81065882,\n",
        "        0.33916948, -0.2665429 ,  1.37441947])"
       ]
      }
     ],
     "prompt_number": 136
    },
    {
     "cell_type": "code",
     "collapsed": false,
     "input": [
      "np.maximum(x, y)"
     ],
     "language": "python",
     "outputs": [
      {
       "output_type": "pyout",
       "prompt_number": 137,
       "text": [
        "array([-0.53542042,  1.75727232,  1.32705733,  0.90359357, -0.81065882,\n",
        "        0.33916948,  0.97034227,  1.37441947])"
       ]
      }
     ],
     "prompt_number": 137
    },
    {
     "cell_type": "markdown",
     "source": [
      "# Data processing using arrays"
     ]
    },
    {
     "cell_type": "code",
     "collapsed": false,
     "input": [
      "points = np.arange(-5, 5, 0.01)\n",
      "xs, ys = np.meshgrid(points, points)\n",
      "xs"
     ],
     "language": "python",
     "outputs": [
      {
       "output_type": "pyout",
       "prompt_number": 141,
       "text": [
        "array([[-5.  , -4.99, -4.98, ...,  4.97,  4.98,  4.99],\n",
        "       [-5.  , -4.99, -4.98, ...,  4.97,  4.98,  4.99],\n",
        "       [-5.  , -4.99, -4.98, ...,  4.97,  4.98,  4.99],\n",
        "       ..., \n",
        "       [-5.  , -4.99, -4.98, ...,  4.97,  4.98,  4.99],\n",
        "       [-5.  , -4.99, -4.98, ...,  4.97,  4.98,  4.99],\n",
        "       [-5.  , -4.99, -4.98, ...,  4.97,  4.98,  4.99]])"
       ]
      }
     ],
     "prompt_number": 141
    },
    {
     "cell_type": "code",
     "collapsed": false,
     "input": [
      "z = np.sqrt(xs ** 2 + ys ** 2)\n",
      "z"
     ],
     "language": "python",
     "outputs": [
      {
       "output_type": "pyout",
       "prompt_number": 142,
       "text": [
        "array([[ 7.07106781,  7.06400028,  7.05693985, ...,  7.04988652,\n",
        "         7.05693985,  7.06400028],\n",
        "       [ 7.06400028,  7.05692568,  7.04985815, ...,  7.04279774,\n",
        "         7.04985815,  7.05692568],\n",
        "       [ 7.05693985,  7.04985815,  7.04278354, ...,  7.03571603,\n",
        "         7.04278354,  7.04985815],\n",
        "       ..., \n",
        "       [ 7.04988652,  7.04279774,  7.03571603, ...,  7.0286414 ,\n",
        "         7.03571603,  7.04279774],\n",
        "       [ 7.05693985,  7.04985815,  7.04278354, ...,  7.03571603,\n",
        "         7.04278354,  7.04985815],\n",
        "       [ 7.06400028,  7.05692568,  7.04985815, ...,  7.04279774,\n",
        "         7.04985815,  7.05692568]])"
       ]
      }
     ],
     "prompt_number": 142
    },
    {
     "cell_type": "code",
     "collapsed": false,
     "input": [
      "import matplotlib.pyplot as plt\n",
      "%matplotlib inline\n",
      "plt.imshow(z, cmap=plt.cm.gray); plt.colorbar()\n",
      "plt.title(\"Image plot of $\\sqrt{x^2 + y^2}$ for a grid of values\")"
     ],
     "language": "python",
     "outputs": [
      {
       "output_type": "pyout",
       "prompt_number": 147,
       "text": [
        "<matplotlib.text.Text at 0x7f4f151fcb10>"
       ]
      },
      {
       "output_type": "display_data",
       "png": "[encoded data removed]",
       "text": [
        "<matplotlib.figure.Figure at 0x7f4f1563edd0>"
       ]
      }
     ],
     "prompt_number": 147
    },
    {
     "cell_type": "markdown",
     "source": [
      "# Expressing conditional logic as array operations\n"
     ]
    },
    {
     "cell_type": "code",
     "collapsed": false,
     "input": [
      "xarr = np.array([1.1, 1.2, 1.3, 1.4, 1.5])\n",
      "yarr = np.array([2.1, 2.2, 2.3, 2.4, 2.5])\n",
      "cond = np.array([True, False, True, True, False])\n"
     ],
     "language": "python",
     "outputs": [],
     "prompt_number": 150
    },
    {
     "cell_type": "code",
     "collapsed": false,
     "input": [
      "# Slow way\n",
      "result = [(x if c else y)\n",
      "          for x, y, c in zip(xarr, yarr, cond)]\n",
      "result"
     ],
     "language": "python",
     "outputs": [
      {
       "output_type": "pyout",
       "prompt_number": 152,
       "text": [
        "[1.1000000000000001, 2.2000000000000002, 1.3, 1.3999999999999999, 2.5]"
       ]
      }
     ],
     "prompt_number": 152
    },
    {
     "cell_type": "code",
     "collapsed": false,
     "input": [
      "# Better way\n",
      "result = np.where(xarr, yarr, cond)\n",
      "result"
     ],
     "language": "python",
     "outputs": [
      {
       "output_type": "pyout",
       "prompt_number": 153,
       "text": [
        "array([ 2.1,  2.2,  2.3,  2.4,  2.5])"
       ]
      }
     ],
     "prompt_number": 153
    },
    {
     "cell_type": "markdown",
     "source": [
      "Example: replace all positive values with 2 and all negative values with -2\n"
     ]
    },
    {
     "cell_type": "code",
     "collapsed": false,
     "input": [
      "arr = randn(4, 4)\n",
      "arr"
     ],
     "language": "python",
     "outputs": [
      {
       "output_type": "pyout",
       "prompt_number": 156,
       "text": [
        "array([[ 1.1557511 ,  0.98771092,  1.62180194,  0.7034441 ],\n",
        "       [-0.41757649, -0.43533893,  0.77717941, -2.47238795],\n",
        "       [ 0.35819811, -0.05641359,  0.35918111,  0.13174609],\n",
        "       [ 0.51380254, -0.14441274,  0.76780162, -0.22624675]])"
       ]
      }
     ],
     "prompt_number": 156
    },
    {
     "cell_type": "code",
     "collapsed": false,
     "input": [
      "np.where(arr > 0, 2, -2)"
     ],
     "language": "python",
     "outputs": [
      {
       "output_type": "pyout",
       "prompt_number": 157,
       "text": [
        "array([[ 2,  2,  2,  2],\n",
        "       [-2, -2,  2, -2],\n",
        "       [ 2, -2,  2,  2],\n",
        "       [ 2, -2,  2, -2]])"
       ]
      }
     ],
     "prompt_number": 157
    },
    {
     "cell_type": "markdown",
     "source": [
      "# Mathematical and statistical methods"
     ]
    },
    {
     "cell_type": "code",
     "collapsed": false,
     "input": [
      "arr = np.random.randn(5, 4)\n",
      "arr.mean()\n"
     ],
     "language": "python",
     "outputs": [
      {
       "output_type": "pyout",
       "prompt_number": 161,
       "text": [
        "-0.34040282318220927"
       ]
      }
     ],
     "prompt_number": 161
    },
    {
     "cell_type": "code",
     "collapsed": false,
     "input": [
      "arr.sum()"
     ],
     "language": "python",
     "outputs": [
      {
       "output_type": "pyout",
       "prompt_number": 162,
       "text": [
        "-6.8080564636441849"
       ]
      }
     ],
     "prompt_number": 162
    },
    {
     "cell_type": "code",
     "collapsed": false,
     "input": [
      "arr = np.array([[0, 1, 2], [3, 4, 5], [6, 7, 8]])\n",
      "arr.cumsum(0)"
     ],
     "language": "python",
     "outputs": [
      {
       "output_type": "pyout",
       "prompt_number": 167,
       "text": [
        "array([[ 0,  1,  2],\n",
        "       [ 3,  5,  7],\n",
        "       [ 9, 12, 15]])"
       ]
      }
     ],
     "prompt_number": 167
    },
    {
     "cell_type": "markdown",
     "source": [
      "# Sorting\n"
     ]
    },
    {
     "cell_type": "markdown",
     "source": [
      "Sorting is done _in-place_."
     ]
    },
    {
     "cell_type": "code",
     "collapsed": false,
     "input": [
      "arr = randn(8)\n",
      "arr"
     ],
     "language": "python",
     "outputs": [
      {
       "output_type": "pyout",
       "prompt_number": 172,
       "text": [
        "array([ 0.70310104, -1.25489758,  0.10510999, -0.39067887,  0.33886392,\n",
        "        0.87008333, -2.23892608, -0.02060157])"
       ]
      }
     ],
     "prompt_number": 172
    },
    {
     "cell_type": "code",
     "collapsed": false,
     "input": [
      "arr.sort()\n",
      "arr"
     ],
     "language": "python",
     "outputs": [
      {
       "output_type": "pyout",
       "prompt_number": 174,
       "text": [
        "array([-2.23892608, -1.25489758, -0.39067887, -0.02060157,  0.10510999,\n",
        "        0.33886392,  0.70310104,  0.87008333])"
       ]
      }
     ],
     "prompt_number": 174
    },
    {
     "cell_type": "code",
     "collapsed": false,
     "input": [
      "arr = randn(5, 3)\n",
      "arr"
     ],
     "language": "python",
     "outputs": [
      {
       "output_type": "pyout",
       "prompt_number": 179,
       "text": [
        "array([[ 2.41605317, -0.51640519, -0.40175623],\n",
        "       [-1.2320755 , -0.56938145, -2.258095  ],\n",
        "       [ 1.70981963,  0.01634023,  0.37737674],\n",
        "       [-0.04848156, -0.36708212,  0.69623356],\n",
        "       [-0.0108098 , -0.35046879,  0.66533785]])"
       ]
      }
     ],
     "prompt_number": 179
    },
    {
     "cell_type": "code",
     "collapsed": false,
     "input": [
      "arr.sort(1)\n",
      "arr"
     ],
     "language": "python",
     "outputs": [
      {
       "output_type": "pyout",
       "prompt_number": 181,
       "text": [
        "array([[-0.51640519, -0.40175623,  2.41605317],\n",
        "       [-2.258095  , -1.2320755 , -0.56938145],\n",
        "       [ 0.01634023,  0.37737674,  1.70981963],\n",
        "       [-0.36708212, -0.04848156,  0.69623356],\n",
        "       [-0.35046879, -0.0108098 ,  0.66533785]])"
       ]
      }
     ],
     "prompt_number": 181
    },
    {
     "cell_type": "markdown",
     "source": [
      "`np.sort()` returns a sorted copy of an array instead of in-place sorting"
     ]
    },
    {
     "cell_type": "code",
     "collapsed": false,
     "input": [
      "arr"
     ],
     "language": "python",
     "outputs": [
      {
       "output_type": "pyout",
       "prompt_number": 182,
       "text": [
        "array([[-0.51640519, -0.40175623,  2.41605317],\n",
        "       [-2.258095  , -1.2320755 , -0.56938145],\n",
        "       [ 0.01634023,  0.37737674,  1.70981963],\n",
        "       [-0.36708212, -0.04848156,  0.69623356],\n",
        "       [-0.35046879, -0.0108098 ,  0.66533785]])"
       ]
      }
     ],
     "prompt_number": 182
    },
    {
     "cell_type": "code",
     "collapsed": false,
     "input": [
      "np.sort(arr)"
     ],
     "language": "python",
     "outputs": [
      {
       "output_type": "pyout",
       "prompt_number": 183,
       "text": [
        "array([[-0.51640519, -0.40175623,  2.41605317],\n",
        "       [-2.258095  , -1.2320755 , -0.56938145],\n",
        "       [ 0.01634023,  0.37737674,  1.70981963],\n",
        "       [-0.36708212, -0.04848156,  0.69623356],\n",
        "       [-0.35046879, -0.0108098 ,  0.66533785]])"
       ]
      }
     ],
     "prompt_number": 183
    },
    {
     "cell_type": "markdown",
     "source": [
      "# File I/O with arrays\n",
      "\n",
      "`np.save()` and `np.load()`"
     ]
    },
    {
     "cell_type": "code",
     "collapsed": false,
     "input": [
      "arr = np.arange(10)\n",
      "np.save('some_arr', arr)"
     ],
     "language": "python",
     "outputs": [],
     "prompt_number": 185
    },
    {
     "cell_type": "code",
     "collapsed": false,
     "input": [
      "np.load('some_arr.npy')"
     ],
     "language": "python",
     "outputs": [
      {
       "output_type": "pyout",
       "prompt_number": 186,
       "text": [
        "array([0, 1, 2, 3, 4, 5, 6, 7, 8, 9])"
       ]
      }
     ],
     "prompt_number": 186
    },
    {
     "cell_type": "markdown",
     "source": [
      "# Linear algebra"
     ]
    },
    {
     "cell_type": "code",
     "collapsed": false,
     "input": [
      "x = np.array([[1., 2., 3.], [4., 5., 6.]])\n",
      "y = np.array([[6., 23.], [-1, 7], [8, 9]])\n",
      "x.dot(y)"
     ],
     "language": "python",
     "outputs": [
      {
       "output_type": "pyout",
       "prompt_number": 190,
       "text": [
        "array([[  28.,   64.],\n",
        "       [  67.,  181.]])"
       ]
      }
     ],
     "prompt_number": 190
    },
    {
     "cell_type": "code",
     "collapsed": false,
     "input": [
      "from numpy.linalg import inv, qr\n",
      "x = randn(5, 5)\n",
      "mat = x.T.dot(x)\n",
      "inv(mat)"
     ],
     "language": "python",
     "outputs": [
      {
       "output_type": "pyout",
       "prompt_number": 194,
       "text": [
        "array([[  1.01668720e+00,   1.16814492e+00,   2.04233298e-01,\n",
        "          2.59593833e-01,   9.00038239e-02],\n",
        "       [  1.16814492e+00,   3.71158197e+00,   1.10408002e+00,\n",
        "          1.00427220e+00,   1.59286114e-02],\n",
        "       [  2.04233298e-01,   1.10408002e+00,   4.84017769e-01,\n",
        "          2.74204685e-01,   3.31919757e-03],\n",
        "       [  2.59593833e-01,   1.00427220e+00,   2.74204685e-01,\n",
        "          5.50703614e-01,  -1.84173932e-01],\n",
        "       [  9.00038239e-02,   1.59286114e-02,   3.31919757e-03,\n",
        "         -1.84173932e-01,   2.32978470e-01]])"
       ]
      }
     ],
     "prompt_number": 194
    },
    {
     "cell_type": "markdown",
     "source": [
      "# Example: Random walks"
     ]
    },
    {
     "cell_type": "code",
     "collapsed": false,
     "input": [
      "nsteps = 1000\n",
      "draws = np.random.randint(0, 2, size=nsteps)\n",
      "steps = np.where(draws > 0, 1, -1)\n",
      "walk = steps.cumsum()\n",
      "walk.min(), walk.max()"
     ],
     "language": "python",
     "outputs": [
      {
       "output_type": "pyout",
       "prompt_number": 204,
       "text": [
        "(-11, 26)"
       ]
      }
     ],
     "prompt_number": 204
    },
    {
     "cell_type": "code",
     "collapsed": false,
     "input": [
      "from matplotlib import pyplot as plt\n",
      "plt.plot(walk)\n",
      "\n"
     ],
     "language": "python",
     "outputs": [
      {
       "output_type": "pyout",
       "prompt_number": 210,
       "text": [
        "[<matplotlib.lines.Line2D at 0x7f4f14d2fa90>]"
       ]
      },
      {
       "output_type": "display_data",
       "png": "[encoded data removed]",
       "text": [
        "<matplotlib.figure.Figure at 0x7f4f14c86d50>"
       ]
      }
     ],
     "prompt_number": 210
    }
   ]
  },
  {
   "cells": [
    {
     "cell_type": "code",
     "collapsed": false,
     "input": [],
     "language": "python",
     "outputs": []
    }
   ]
  }
 ]
}