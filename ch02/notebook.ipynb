{
 "metadata": {
  "name": ""
 },
 "nbformat": 3,
 "nbformat_minor": 0,
 "worksheets": [
  {
   "cells": [
    {
     "cell_type": "heading",
     "level": 1,
     "source": [
      "Python for Data Analysis - Chapter 2"
     ]
    },
    {
     "cell_type": "markdown",
     "source": [
      "Module imports go here"
     ]
    },
    {
     "cell_type": "code",
     "collapsed": false,
     "input": [
      "import numpy as np\n",
      "import pandas as pd\n",
      "%matplotlib inline"
     ],
     "language": "python",
     "outputs": [],
     "prompt_number": 1
    },
    {
     "cell_type": "markdown",
     "source": [
      "# usa.gov data from bit.ly\n"
     ]
    },
    {
     "cell_type": "code",
     "collapsed": false,
     "input": [
      "path = 'usagov_bitly_data2012-03-16-1331923249.txt'\n",
      "open(path).readline()"
     ],
     "language": "python",
     "outputs": [
      {
       "metadata": null,
       "output_type": "pyout",
       "prompt_number": 2,
       "text": [
        "'{ \"a\": \"Mozilla\\\\/5.0 (Windows NT 6.1; WOW64) AppleWebKit\\\\/535.11 (KHTML, like Gecko) Chrome\\\\/17.0.963.78 Safari\\\\/535.11\", \"c\": \"US\", \"nk\": 1, \"tz\": \"America\\\\/New_York\", \"gr\": \"MA\", \"g\": \"A6qOVH\", \"h\": \"wfLQtf\", \"l\": \"orofrog\", \"al\": \"en-US,en;q=0.8\", \"hh\": \"1.usa.gov\", \"r\": \"http:\\\\/\\\\/www.facebook.com\\\\/l\\\\/7AQEFzjSi\\\\/1.usa.gov\\\\/wfLQtf\", \"u\": \"http:\\\\/\\\\/www.ncbi.nlm.nih.gov\\\\/pubmed\\\\/22415991\", \"t\": 1331923247, \"hc\": 1331822918, \"cy\": \"Danvers\", \"ll\": [ 42.576698, -70.954903 ] }\\n'"
       ]
      }
     ],
     "prompt_number": 2
    },
    {
     "cell_type": "markdown",
     "source": [
      "Each line of the data is in JSON format. We can use `json` module to read json\n",
      "string to python dictionary."
     ]
    },
    {
     "cell_type": "code",
     "collapsed": false,
     "input": [
      "import json\n",
      "records = [json.loads(line) for line in open(path)]\n",
      "records[0]"
     ],
     "language": "python",
     "outputs": [
      {
       "metadata": null,
       "output_type": "pyout",
       "prompt_number": 3,
       "text": [
        "{u'a': u'Mozilla/5.0 (Windows NT 6.1; WOW64) AppleWebKit/535.11 (KHTML, like Gecko) Chrome/17.0.963.78 Safari/535.11',\n",
        " u'al': u'en-US,en;q=0.8',\n",
        " u'c': u'US',\n",
        " u'cy': u'Danvers',\n",
        " u'g': u'A6qOVH',\n",
        " u'gr': u'MA',\n",
        " u'h': u'wfLQtf',\n",
        " u'hc': 1331822918,\n",
        " u'hh': u'1.usa.gov',\n",
        " u'l': u'orofrog',\n",
        " u'll': [42.576698, -70.954903],\n",
        " u'nk': 1,\n",
        " u'r': u'http://www.facebook.com/l/7AQEFzjSi/1.usa.gov/wfLQtf',\n",
        " u't': 1331923247,\n",
        " u'tz': u'America/New_York',\n",
        " u'u': u'http://www.ncbi.nlm.nih.gov/pubmed/22415991'}"
       ]
      }
     ],
     "prompt_number": 3
    },
    {
     "cell_type": "markdown",
     "source": [
      "# Counting time zones in pure python\n",
      "\n",
      "It seems that not all records have time zone field."
     ]
    },
    {
     "cell_type": "code",
     "collapsed": false,
     "input": [
      "time_zones = [rec['tz'] for rec in records]"
     ],
     "language": "python",
     "outputs": [
      {
       "ename": "KeyError",
       "evalue": "'tz'",
       "output_type": "pyerr",
       "traceback": [
        "\u001b[1;31m---------------------------------------------------------------------------\u001b[0m\n\u001b[1;31mKeyError\u001b[0m                                  Traceback (most recent call last)",
        "\u001b[1;32m<ipython-input-4-db4fbd348da9>\u001b[0m in \u001b[0;36m<module>\u001b[1;34m()\u001b[0m\n\u001b[1;32m----> 1\u001b[1;33m \u001b[0mtime_zones\u001b[0m \u001b[1;33m=\u001b[0m \u001b[1;33m[\u001b[0m\u001b[0mrec\u001b[0m\u001b[1;33m[\u001b[0m\u001b[1;34m'tz'\u001b[0m\u001b[1;33m]\u001b[0m \u001b[1;32mfor\u001b[0m \u001b[0mrec\u001b[0m \u001b[1;32min\u001b[0m \u001b[0mrecords\u001b[0m\u001b[1;33m]\u001b[0m\u001b[1;33m\u001b[0m\u001b[0m\n\u001b[0m",
        "\u001b[1;31mKeyError\u001b[0m: 'tz'"
       ]
      }
     ],
     "prompt_number": 4
    },
    {
     "cell_type": "code",
     "collapsed": false,
     "input": [
      "# Let's access time zone field only if it exists\n",
      "time_zones = [rec['tz'] for rec in records if 'tz' in rec]\n",
      "time_zones[:10]"
     ],
     "language": "python",
     "outputs": [
      {
       "metadata": null,
       "output_type": "pyout",
       "prompt_number": 5,
       "text": [
        "[u'America/New_York',\n",
        " u'America/Denver',\n",
        " u'America/New_York',\n",
        " u'America/Sao_Paulo',\n",
        " u'America/New_York',\n",
        " u'America/New_York',\n",
        " u'Europe/Warsaw',\n",
        " u'',\n",
        " u'',\n",
        " u'']"
       ]
      }
     ],
     "prompt_number": 5
    },
    {
     "cell_type": "code",
     "collapsed": false,
     "input": [
      "# Let's count time zones\n",
      "from collections import defaultdict\n",
      "def get_counts(sequence):\n",
      "    counts = defaultdict(int)   # values will init to 0\n",
      "    for x in sequence:\n",
      "        counts[x] += 1\n",
      "    return counts\n",
      "\n",
      "counts = get_counts(time_zones)\n",
      "counts['America/New_York']"
     ],
     "language": "python",
     "outputs": [
      {
       "metadata": null,
       "output_type": "pyout",
       "prompt_number": 6,
       "text": [
        "1251"
       ]
      }
     ],
     "prompt_number": 6
    },
    {
     "cell_type": "code",
     "collapsed": false,
     "input": [
      "len(time_zones)"
     ],
     "language": "python",
     "outputs": [
      {
       "metadata": null,
       "output_type": "pyout",
       "prompt_number": 7,
       "text": [
        "3440"
       ]
      }
     ],
     "prompt_number": 7
    },
    {
     "cell_type": "markdown",
     "source": [
      "# Counting time zones with pandas\n",
      "\n",
      "Let's create a `DataFrame` object from the original set of records."
     ]
    },
    {
     "cell_type": "code",
     "collapsed": false,
     "input": [
      "from pandas import DataFrame, Series\n",
      "import pandas as pd\n"
     ],
     "language": "python",
     "outputs": [],
     "prompt_number": 8
    },
    {
     "cell_type": "code",
     "collapsed": false,
     "input": [
      "frame = DataFrame(records)\n",
      "frame.head()"
     ],
     "language": "python",
     "outputs": [
      {
       "html": [
        "<div style=\"max-height:1000px;max-width:1500px;overflow:auto;\">\n",
        "<table border=\"1\" class=\"dataframe\">\n",
        "  <thead>\n",
        "    <tr style=\"text-align: right;\">\n",
        "      <th></th>\n",
        "      <th>_heartbeat_</th>\n",
        "      <th>a</th>\n",
        "      <th>al</th>\n",
        "      <th>c</th>\n",
        "      <th>cy</th>\n",
        "      <th>g</th>\n",
        "      <th>gr</th>\n",
        "      <th>h</th>\n",
        "      <th>hc</th>\n",
        "      <th>hh</th>\n",
        "      <th>kw</th>\n",
        "      <th>l</th>\n",
        "      <th>ll</th>\n",
        "      <th>nk</th>\n",
        "      <th>r</th>\n",
        "      <th>t</th>\n",
        "      <th>tz</th>\n",
        "      <th>u</th>\n",
        "    </tr>\n",
        "  </thead>\n",
        "  <tbody>\n",
        "    <tr>\n",
        "      <th>0</th>\n",
        "      <td>NaN</td>\n",
        "      <td> Mozilla/5.0 (Windows NT 6.1; WOW64) AppleWebKi...</td>\n",
        "      <td> en-US,en;q=0.8</td>\n",
        "      <td> US</td>\n",
        "      <td>    Danvers</td>\n",
        "      <td> A6qOVH</td>\n",
        "      <td> MA</td>\n",
        "      <td> wfLQtf</td>\n",
        "      <td> 1331822918</td>\n",
        "      <td> 1.usa.gov</td>\n",
        "      <td> NaN</td>\n",
        "      <td>  orofrog</td>\n",
        "      <td>  [42.576698, -70.954903]</td>\n",
        "      <td> 1</td>\n",
        "      <td> http://www.facebook.com/l/7AQEFzjSi/1.usa.gov/...</td>\n",
        "      <td> 1331923247</td>\n",
        "      <td>  America/New_York</td>\n",
        "      <td>       http://www.ncbi.nlm.nih.gov/pubmed/22415991</td>\n",
        "    </tr>\n",
        "    <tr>\n",
        "      <th>1</th>\n",
        "      <td>NaN</td>\n",
        "      <td>                            GoogleMaps/RochesterNY</td>\n",
        "      <td>            NaN</td>\n",
        "      <td> US</td>\n",
        "      <td>      Provo</td>\n",
        "      <td> mwszkS</td>\n",
        "      <td> UT</td>\n",
        "      <td> mwszkS</td>\n",
        "      <td> 1308262393</td>\n",
        "      <td>      j.mp</td>\n",
        "      <td> NaN</td>\n",
        "      <td>    bitly</td>\n",
        "      <td> [40.218102, -111.613297]</td>\n",
        "      <td> 0</td>\n",
        "      <td>                          http://www.AwareMap.com/</td>\n",
        "      <td> 1331923249</td>\n",
        "      <td>    America/Denver</td>\n",
        "      <td>       http://www.monroecounty.gov/etc/911/rss.php</td>\n",
        "    </tr>\n",
        "    <tr>\n",
        "      <th>2</th>\n",
        "      <td>NaN</td>\n",
        "      <td> Mozilla/4.0 (compatible; MSIE 8.0; Windows NT ...</td>\n",
        "      <td>          en-US</td>\n",
        "      <td> US</td>\n",
        "      <td> Washington</td>\n",
        "      <td> xxr3Qb</td>\n",
        "      <td> DC</td>\n",
        "      <td> xxr3Qb</td>\n",
        "      <td> 1331919941</td>\n",
        "      <td> 1.usa.gov</td>\n",
        "      <td> NaN</td>\n",
        "      <td>    bitly</td>\n",
        "      <td>    [38.9007, -77.043098]</td>\n",
        "      <td> 1</td>\n",
        "      <td>                              http://t.co/03elZC4Q</td>\n",
        "      <td> 1331923250</td>\n",
        "      <td>  America/New_York</td>\n",
        "      <td> http://boxer.senate.gov/en/press/releases/0316...</td>\n",
        "    </tr>\n",
        "    <tr>\n",
        "      <th>3</th>\n",
        "      <td>NaN</td>\n",
        "      <td> Mozilla/5.0 (Macintosh; Intel Mac OS X 10_6_8)...</td>\n",
        "      <td>          pt-br</td>\n",
        "      <td> BR</td>\n",
        "      <td>       Braz</td>\n",
        "      <td> zCaLwp</td>\n",
        "      <td> 27</td>\n",
        "      <td> zUtuOu</td>\n",
        "      <td> 1331923068</td>\n",
        "      <td> 1.usa.gov</td>\n",
        "      <td> NaN</td>\n",
        "      <td> alelex88</td>\n",
        "      <td> [-23.549999, -46.616699]</td>\n",
        "      <td> 0</td>\n",
        "      <td>                                            direct</td>\n",
        "      <td> 1331923249</td>\n",
        "      <td> America/Sao_Paulo</td>\n",
        "      <td>           http://apod.nasa.gov/apod/ap120312.html</td>\n",
        "    </tr>\n",
        "    <tr>\n",
        "      <th>4</th>\n",
        "      <td>NaN</td>\n",
        "      <td> Mozilla/5.0 (Windows NT 6.1; WOW64) AppleWebKi...</td>\n",
        "      <td> en-US,en;q=0.8</td>\n",
        "      <td> US</td>\n",
        "      <td> Shrewsbury</td>\n",
        "      <td> 9b6kNl</td>\n",
        "      <td> MA</td>\n",
        "      <td> 9b6kNl</td>\n",
        "      <td> 1273672411</td>\n",
        "      <td>    bit.ly</td>\n",
        "      <td> NaN</td>\n",
        "      <td>    bitly</td>\n",
        "      <td>  [42.286499, -71.714699]</td>\n",
        "      <td> 0</td>\n",
        "      <td>               http://www.shrewsbury-ma.gov/selco/</td>\n",
        "      <td> 1331923251</td>\n",
        "      <td>  America/New_York</td>\n",
        "      <td> http://www.shrewsbury-ma.gov/egov/gallery/1341...</td>\n",
        "    </tr>\n",
        "  </tbody>\n",
        "</table>\n",
        "<p>5 rows \u00d7 18 columns</p>\n",
        "</div>"
       ],
       "metadata": null,
       "output_type": "pyout",
       "prompt_number": 9,
       "text": [
        "   _heartbeat_                                                  a  \\\n",
        "0          NaN  Mozilla/5.0 (Windows NT 6.1; WOW64) AppleWebKi...   \n",
        "1          NaN                             GoogleMaps/RochesterNY   \n",
        "2          NaN  Mozilla/4.0 (compatible; MSIE 8.0; Windows NT ...   \n",
        "3          NaN  Mozilla/5.0 (Macintosh; Intel Mac OS X 10_6_8)...   \n",
        "4          NaN  Mozilla/5.0 (Windows NT 6.1; WOW64) AppleWebKi...   \n",
        "\n",
        "               al   c          cy       g  gr       h          hc         hh  \\\n",
        "0  en-US,en;q=0.8  US     Danvers  A6qOVH  MA  wfLQtf  1331822918  1.usa.gov   \n",
        "1             NaN  US       Provo  mwszkS  UT  mwszkS  1308262393       j.mp   \n",
        "2           en-US  US  Washington  xxr3Qb  DC  xxr3Qb  1331919941  1.usa.gov   \n",
        "3           pt-br  BR        Braz  zCaLwp  27  zUtuOu  1331923068  1.usa.gov   \n",
        "4  en-US,en;q=0.8  US  Shrewsbury  9b6kNl  MA  9b6kNl  1273672411     bit.ly   \n",
        "\n",
        "    kw         l                        ll  nk  \\\n",
        "0  NaN   orofrog   [42.576698, -70.954903]   1   \n",
        "1  NaN     bitly  [40.218102, -111.613297]   0   \n",
        "2  NaN     bitly     [38.9007, -77.043098]   1   \n",
        "3  NaN  alelex88  [-23.549999, -46.616699]   0   \n",
        "4  NaN     bitly   [42.286499, -71.714699]   0   \n",
        "\n",
        "                                                   r           t  \\\n",
        "0  http://www.facebook.com/l/7AQEFzjSi/1.usa.gov/...  1331923247   \n",
        "1                           http://www.AwareMap.com/  1331923249   \n",
        "2                               http://t.co/03elZC4Q  1331923250   \n",
        "3                                             direct  1331923249   \n",
        "4                http://www.shrewsbury-ma.gov/selco/  1331923251   \n",
        "\n",
        "                  tz                                                  u  \n",
        "0   America/New_York        http://www.ncbi.nlm.nih.gov/pubmed/22415991  \n",
        "1     America/Denver        http://www.monroecounty.gov/etc/911/rss.php  \n",
        "2   America/New_York  http://boxer.senate.gov/en/press/releases/0316...  \n",
        "3  America/Sao_Paulo            http://apod.nasa.gov/apod/ap120312.html  \n",
        "4   America/New_York  http://www.shrewsbury-ma.gov/egov/gallery/1341...  \n",
        "\n",
        "[5 rows x 18 columns]"
       ]
      }
     ],
     "prompt_number": 9
    },
    {
     "cell_type": "markdown",
     "source": [
      "The `Series` object `frame['tz']` has a method `value_counts` for what we want"
     ]
    },
    {
     "cell_type": "code",
     "collapsed": false,
     "input": [
      "tz_counts = frame['tz'].value_counts()\n",
      "tz_counts[:10]"
     ],
     "language": "python",
     "outputs": [
      {
       "metadata": null,
       "output_type": "pyout",
       "prompt_number": 10,
       "text": [
        "America/New_York       1251\n",
        "                        521\n",
        "America/Chicago         400\n",
        "America/Los_Angeles     382\n",
        "America/Denver          191\n",
        "Europe/London            74\n",
        "Asia/Tokyo               37\n",
        "Pacific/Honolulu         36\n",
        "Europe/Madrid            35\n",
        "America/Sao_Paulo        33\n",
        "dtype: int64"
       ]
      }
     ],
     "prompt_number": 10
    },
    {
     "cell_type": "markdown",
     "source": [
      "Some data munging"
     ]
    },
    {
     "cell_type": "code",
     "collapsed": false,
     "input": [
      "clean_tz = frame['tz'].fillna('Missing')\n",
      "clean_tz[clean_tz == ''] = 'Unknown'\n",
      "tz_counts = clean_tz.value_counts()\n",
      "tz_counts[:10]"
     ],
     "language": "python",
     "outputs": [
      {
       "metadata": null,
       "output_type": "pyout",
       "prompt_number": 11,
       "text": [
        "America/New_York       1251\n",
        "Unknown                 521\n",
        "America/Chicago         400\n",
        "America/Los_Angeles     382\n",
        "America/Denver          191\n",
        "Missing                 120\n",
        "Europe/London            74\n",
        "Asia/Tokyo               37\n",
        "Pacific/Honolulu         36\n",
        "Europe/Madrid            35\n",
        "dtype: int64"
       ]
      }
     ],
     "prompt_number": 11
    },
    {
     "cell_type": "markdown",
     "source": [
      "Let's make a horizontal plot on the counts\n"
     ]
    },
    {
     "cell_type": "code",
     "collapsed": false,
     "input": [
      "tz_counts[:10].plot(kind='barh', rot=0)"
     ],
     "language": "python",
     "outputs": [
      {
       "metadata": null,
       "output_type": "pyout",
       "prompt_number": 12,
       "text": [
        "<matplotlib.axes.AxesSubplot at 0x7fae9a452850>"
       ]
      },
      {
       "metadata": null,
       "output_type": "display_data",
       "png": "[encoded data removed]",
       "text": [
        "<matplotlib.figure.Figure at 0x7fae9a452e90>"
       ]
      }
     ],
     "prompt_number": 12
    },
    {
     "cell_type": "markdown",
     "source": [
      "The `a` field of the data frame contains information about the browser, device and application.\n",
      "\n"
     ]
    },
    {
     "cell_type": "code",
     "collapsed": false,
     "input": [
      "frame['a'][1]\n"
     ],
     "language": "python",
     "outputs": [
      {
       "metadata": null,
       "output_type": "pyout",
       "prompt_number": 13,
       "text": [
        "u'GoogleMaps/RochesterNY'"
       ]
      }
     ],
     "prompt_number": 13
    },
    {
     "cell_type": "code",
     "collapsed": false,
     "input": [
      "frame['a'][50]"
     ],
     "language": "python",
     "outputs": [
      {
       "metadata": null,
       "output_type": "pyout",
       "prompt_number": 14,
       "text": [
        "u'Mozilla/5.0 (Windows NT 5.1; rv:10.0.2) Gecko/20100101 Firefox/10.0.2'"
       ]
      }
     ],
     "prompt_number": 14
    },
    {
     "cell_type": "markdown",
     "source": [
      "We're only interested in the browser name, roughly the first token of the string\n"
     ]
    },
    {
     "cell_type": "code",
     "collapsed": false,
     "input": [
      "results = Series([x.split()[0] for x in frame.a.dropna()])\n",
      "results[:5]"
     ],
     "language": "python",
     "outputs": [
      {
       "metadata": null,
       "output_type": "pyout",
       "prompt_number": 15,
       "text": [
        "0               Mozilla/5.0\n",
        "1    GoogleMaps/RochesterNY\n",
        "2               Mozilla/4.0\n",
        "3               Mozilla/5.0\n",
        "4               Mozilla/5.0\n",
        "dtype: object"
       ]
      }
     ],
     "prompt_number": 15
    },
    {
     "cell_type": "markdown",
     "source": [
      "Suppose we want to decompose top time zones into Windows and non-Windows\n",
      "users. Let's start with excluding records that are missing agent information."
     ]
    },
    {
     "cell_type": "code",
     "collapsed": false,
     "input": [
      "cframe = frame[frame.a.notnull()]"
     ],
     "language": "python",
     "outputs": [],
     "prompt_number": 16
    },
    {
     "cell_type": "markdown",
     "source": [
      "And for each record, find if it is Windows or not."
     ]
    },
    {
     "cell_type": "code",
     "collapsed": false,
     "input": [
      "operating_system = np.where(cframe['a'].str.contains('Windows'), 'Windows', 'Not Windows')\n",
      "operating_system[:5]"
     ],
     "language": "python",
     "outputs": [
      {
       "metadata": null,
       "output_type": "pyout",
       "prompt_number": 17,
       "text": [
        "array(['Windows', 'Not Windows', 'Windows', 'Not Windows', 'Windows'], \n",
        "      dtype='|S11')"
       ]
      }
     ],
     "prompt_number": 17
    },
    {
     "cell_type": "markdown",
     "source": [
      "Then, we can group the data by its time zone column and the operating system."
     ]
    },
    {
     "cell_type": "code",
     "collapsed": false,
     "input": [],
     "language": "python",
     "outputs": [],
     "prompt_number": 17
    },
    {
     "cell_type": "code",
     "collapsed": false,
     "input": [
      "by_tz_os = cframe.groupby(['tz', operating_system])\n",
      "agg_counts = by_tz_os.size().unstack().fillna(0)\n",
      "agg_counts[:10]"
     ],
     "language": "python",
     "outputs": [
      {
       "html": [
        "<div style=\"max-height:1000px;max-width:1500px;overflow:auto;\">\n",
        "<table border=\"1\" class=\"dataframe\">\n",
        "  <thead>\n",
        "    <tr style=\"text-align: right;\">\n",
        "      <th></th>\n",
        "      <th>Not Windows</th>\n",
        "      <th>Windows</th>\n",
        "    </tr>\n",
        "    <tr>\n",
        "      <th>tz</th>\n",
        "      <th></th>\n",
        "      <th></th>\n",
        "    </tr>\n",
        "  </thead>\n",
        "  <tbody>\n",
        "    <tr>\n",
        "      <th></th>\n",
        "      <td> 245</td>\n",
        "      <td> 276</td>\n",
        "    </tr>\n",
        "    <tr>\n",
        "      <th>Africa/Cairo</th>\n",
        "      <td>   0</td>\n",
        "      <td>   3</td>\n",
        "    </tr>\n",
        "    <tr>\n",
        "      <th>Africa/Casablanca</th>\n",
        "      <td>   0</td>\n",
        "      <td>   1</td>\n",
        "    </tr>\n",
        "    <tr>\n",
        "      <th>Africa/Ceuta</th>\n",
        "      <td>   0</td>\n",
        "      <td>   2</td>\n",
        "    </tr>\n",
        "    <tr>\n",
        "      <th>Africa/Johannesburg</th>\n",
        "      <td>   0</td>\n",
        "      <td>   1</td>\n",
        "    </tr>\n",
        "    <tr>\n",
        "      <th>Africa/Lusaka</th>\n",
        "      <td>   0</td>\n",
        "      <td>   1</td>\n",
        "    </tr>\n",
        "    <tr>\n",
        "      <th>America/Anchorage</th>\n",
        "      <td>   4</td>\n",
        "      <td>   1</td>\n",
        "    </tr>\n",
        "    <tr>\n",
        "      <th>America/Argentina/Buenos_Aires</th>\n",
        "      <td>   1</td>\n",
        "      <td>   0</td>\n",
        "    </tr>\n",
        "    <tr>\n",
        "      <th>America/Argentina/Cordoba</th>\n",
        "      <td>   0</td>\n",
        "      <td>   1</td>\n",
        "    </tr>\n",
        "    <tr>\n",
        "      <th>America/Argentina/Mendoza</th>\n",
        "      <td>   0</td>\n",
        "      <td>   1</td>\n",
        "    </tr>\n",
        "  </tbody>\n",
        "</table>\n",
        "<p>10 rows \u00d7 2 columns</p>\n",
        "</div>"
       ],
       "metadata": null,
       "output_type": "pyout",
       "prompt_number": 18,
       "text": [
        "                                Not Windows  Windows\n",
        "tz                                                  \n",
        "                                        245      276\n",
        "Africa/Cairo                              0        3\n",
        "Africa/Casablanca                         0        1\n",
        "Africa/Ceuta                              0        2\n",
        "Africa/Johannesburg                       0        1\n",
        "Africa/Lusaka                             0        1\n",
        "America/Anchorage                         4        1\n",
        "America/Argentina/Buenos_Aires            1        0\n",
        "America/Argentina/Cordoba                 0        1\n",
        "America/Argentina/Mendoza                 0        1\n",
        "\n",
        "[10 rows x 2 columns]"
       ]
      }
     ],
     "prompt_number": 18
    },
    {
     "cell_type": "markdown",
     "source": [
      "Let's select the top overall time zones.\n"
     ]
    },
    {
     "cell_type": "code",
     "collapsed": false,
     "input": [
      "indexer = agg_counts.sum(1).argsort()\n",
      "indexer\n"
     ],
     "language": "python",
     "outputs": [
      {
       "metadata": null,
       "output_type": "pyout",
       "prompt_number": 19,
       "text": [
        "tz\n",
        "                                  24\n",
        "Africa/Cairo                      20\n",
        "Africa/Casablanca                 21\n",
        "Africa/Ceuta                      92\n",
        "Africa/Johannesburg               87\n",
        "Africa/Lusaka                     53\n",
        "America/Anchorage                 54\n",
        "America/Argentina/Buenos_Aires    57\n",
        "America/Argentina/Cordoba         26\n",
        "America/Argentina/Mendoza         55\n",
        "America/Bogota                    62\n",
        "America/Caracas                   34\n",
        "America/Chicago                   60\n",
        "America/Chihuahua                 36\n",
        "America/Costa_Rica                37\n",
        "...\n",
        "Europe/Paris        19\n",
        "Europe/Prague       64\n",
        "Europe/Riga         32\n",
        "Europe/Rome         85\n",
        "Europe/Skopje       67\n",
        "Europe/Sofia        35\n",
        "Europe/Stockholm    78\n",
        "Europe/Uzhgorod     96\n",
        "Europe/Vienna       59\n",
        "Europe/Vilnius      77\n",
        "Europe/Volgograd    15\n",
        "Europe/Warsaw       22\n",
        "Europe/Zurich       12\n",
        "Pacific/Auckland     0\n",
        "Pacific/Honolulu    29\n",
        "Length: 97, dtype: int64"
       ]
      }
     ],
     "prompt_number": 19
    },
    {
     "cell_type": "markdown",
     "source": [
      "Take the last 10 rows\n"
     ]
    },
    {
     "cell_type": "code",
     "collapsed": false,
     "input": [
      "count_subset = agg_counts.take(indexer)[-10:]\n",
      "count_subset"
     ],
     "language": "python",
     "outputs": [
      {
       "html": [
        "<div style=\"max-height:1000px;max-width:1500px;overflow:auto;\">\n",
        "<table border=\"1\" class=\"dataframe\">\n",
        "  <thead>\n",
        "    <tr style=\"text-align: right;\">\n",
        "      <th></th>\n",
        "      <th>Not Windows</th>\n",
        "      <th>Windows</th>\n",
        "    </tr>\n",
        "    <tr>\n",
        "      <th>tz</th>\n",
        "      <th></th>\n",
        "      <th></th>\n",
        "    </tr>\n",
        "  </thead>\n",
        "  <tbody>\n",
        "    <tr>\n",
        "      <th>America/Sao_Paulo</th>\n",
        "      <td>  13</td>\n",
        "      <td>  20</td>\n",
        "    </tr>\n",
        "    <tr>\n",
        "      <th>Europe/Madrid</th>\n",
        "      <td>  16</td>\n",
        "      <td>  19</td>\n",
        "    </tr>\n",
        "    <tr>\n",
        "      <th>Pacific/Honolulu</th>\n",
        "      <td>   0</td>\n",
        "      <td>  36</td>\n",
        "    </tr>\n",
        "    <tr>\n",
        "      <th>Asia/Tokyo</th>\n",
        "      <td>   2</td>\n",
        "      <td>  35</td>\n",
        "    </tr>\n",
        "    <tr>\n",
        "      <th>Europe/London</th>\n",
        "      <td>  43</td>\n",
        "      <td>  31</td>\n",
        "    </tr>\n",
        "    <tr>\n",
        "      <th>America/Denver</th>\n",
        "      <td> 132</td>\n",
        "      <td>  59</td>\n",
        "    </tr>\n",
        "    <tr>\n",
        "      <th>America/Los_Angeles</th>\n",
        "      <td> 130</td>\n",
        "      <td> 252</td>\n",
        "    </tr>\n",
        "    <tr>\n",
        "      <th>America/Chicago</th>\n",
        "      <td> 115</td>\n",
        "      <td> 285</td>\n",
        "    </tr>\n",
        "    <tr>\n",
        "      <th></th>\n",
        "      <td> 245</td>\n",
        "      <td> 276</td>\n",
        "    </tr>\n",
        "    <tr>\n",
        "      <th>America/New_York</th>\n",
        "      <td> 339</td>\n",
        "      <td> 912</td>\n",
        "    </tr>\n",
        "  </tbody>\n",
        "</table>\n",
        "<p>10 rows \u00d7 2 columns</p>\n",
        "</div>"
       ],
       "metadata": null,
       "output_type": "pyout",
       "prompt_number": 20,
       "text": [
        "                     Not Windows  Windows\n",
        "tz                                       \n",
        "America/Sao_Paulo             13       20\n",
        "Europe/Madrid                 16       19\n",
        "Pacific/Honolulu               0       36\n",
        "Asia/Tokyo                     2       35\n",
        "Europe/London                 43       31\n",
        "America/Denver               132       59\n",
        "America/Los_Angeles          130      252\n",
        "America/Chicago              115      285\n",
        "                             245      276\n",
        "America/New_York             339      912\n",
        "\n",
        "[10 rows x 2 columns]"
       ]
      }
     ],
     "prompt_number": 20
    },
    {
     "cell_type": "markdown",
     "source": [
      "Let's make stacked bar plot of the counts"
     ]
    },
    {
     "cell_type": "code",
     "collapsed": false,
     "input": [
      "count_subset.plot(kind='barh', stacked=True)"
     ],
     "language": "python",
     "outputs": [
      {
       "metadata": null,
       "output_type": "pyout",
       "prompt_number": 21,
       "text": [
        "<matplotlib.axes.AxesSubplot at 0x7fae9a20a0d0>"
       ]
      },
      {
       "metadata": null,
       "output_type": "display_data",
       "png": "[encoded data removed]",
       "text": [
        "<matplotlib.figure.Figure at 0x7fae9a395c10>"
       ]
      }
     ],
     "prompt_number": 21
    },
    {
     "cell_type": "markdown",
     "source": [
      "What about the relative percentage of Windows users "
     ]
    },
    {
     "cell_type": "code",
     "collapsed": false,
     "input": [
      "normed_subset = count_subset.div(count_subset.sum(1), axis=0)\n",
      "normed_subset.plot(kind='barh', stacked=True)"
     ],
     "language": "python",
     "outputs": [
      {
       "metadata": null,
       "output_type": "pyout",
       "prompt_number": 22,
       "text": [
        "<matplotlib.axes.AxesSubplot at 0x7fae9a1a19d0>"
       ]
      },
      {
       "metadata": null,
       "output_type": "display_data",
       "png": "[encoded data removed]",
       "text": [
        "<matplotlib.figure.Figure at 0x7fae9a20a090>"
       ]
      }
     ],
     "prompt_number": 22
    },
    {
     "cell_type": "markdown",
     "source": [
      "# MovieLens 1M Data Set\n",
      "\n",
      "Collection of movie ratings data collected from users of MovieLens in the late\n",
      "90s and early 2000s. It's spread across 3 tables: ratings, user information and\n",
      "movie information. "
     ]
    },
    {
     "cell_type": "code",
     "collapsed": false,
     "input": [
      "import pandas as pd\n",
      "unames = ['user_id', 'gender', 'age', 'occupation', 'zip']\n",
      "users = pd.read_table('movielens/users.dat', sep='::', header=None,\n",
      "                      names=unames)\n",
      "\n",
      "rnames = ['user_id', 'movie_id', 'rating', 'timestamp']\n",
      "ratings = pd.read_table('movielens/ratings.dat', sep='::', header=None,\n",
      "                        names=rnames)\n",
      "\n",
      "mnames = ['movie_id', 'title', 'genres']\n",
      "movies = pd.read_table('movielens/movies.dat', sep='::', header=None,\n",
      "                       names=mnames)\n"
     ],
     "language": "python",
     "outputs": [],
     "prompt_number": 23
    },
    {
     "cell_type": "code",
     "collapsed": false,
     "input": [
      "users[:5]"
     ],
     "language": "python",
     "outputs": [
      {
       "html": [
        "<div style=\"max-height:1000px;max-width:1500px;overflow:auto;\">\n",
        "<table border=\"1\" class=\"dataframe\">\n",
        "  <thead>\n",
        "    <tr style=\"text-align: right;\">\n",
        "      <th></th>\n",
        "      <th>user_id</th>\n",
        "      <th>gender</th>\n",
        "      <th>age</th>\n",
        "      <th>occupation</th>\n",
        "      <th>zip</th>\n",
        "    </tr>\n",
        "  </thead>\n",
        "  <tbody>\n",
        "    <tr>\n",
        "      <th>0</th>\n",
        "      <td> 1</td>\n",
        "      <td> F</td>\n",
        "      <td>  1</td>\n",
        "      <td> 10</td>\n",
        "      <td> 48067</td>\n",
        "    </tr>\n",
        "    <tr>\n",
        "      <th>1</th>\n",
        "      <td> 2</td>\n",
        "      <td> M</td>\n",
        "      <td> 56</td>\n",
        "      <td> 16</td>\n",
        "      <td> 70072</td>\n",
        "    </tr>\n",
        "    <tr>\n",
        "      <th>2</th>\n",
        "      <td> 3</td>\n",
        "      <td> M</td>\n",
        "      <td> 25</td>\n",
        "      <td> 15</td>\n",
        "      <td> 55117</td>\n",
        "    </tr>\n",
        "    <tr>\n",
        "      <th>3</th>\n",
        "      <td> 4</td>\n",
        "      <td> M</td>\n",
        "      <td> 45</td>\n",
        "      <td>  7</td>\n",
        "      <td> 02460</td>\n",
        "    </tr>\n",
        "    <tr>\n",
        "      <th>4</th>\n",
        "      <td> 5</td>\n",
        "      <td> M</td>\n",
        "      <td> 25</td>\n",
        "      <td> 20</td>\n",
        "      <td> 55455</td>\n",
        "    </tr>\n",
        "  </tbody>\n",
        "</table>\n",
        "<p>5 rows \u00d7 5 columns</p>\n",
        "</div>"
       ],
       "metadata": null,
       "output_type": "pyout",
       "prompt_number": 24,
       "text": [
        "   user_id gender  age  occupation    zip\n",
        "0        1      F    1          10  48067\n",
        "1        2      M   56          16  70072\n",
        "2        3      M   25          15  55117\n",
        "3        4      M   45           7  02460\n",
        "4        5      M   25          20  55455\n",
        "\n",
        "[5 rows x 5 columns]"
       ]
      }
     ],
     "prompt_number": 24
    },
    {
     "cell_type": "code",
     "collapsed": false,
     "input": [
      "movies[:5]"
     ],
     "language": "python",
     "outputs": [
      {
       "html": [
        "<div style=\"max-height:1000px;max-width:1500px;overflow:auto;\">\n",
        "<table border=\"1\" class=\"dataframe\">\n",
        "  <thead>\n",
        "    <tr style=\"text-align: right;\">\n",
        "      <th></th>\n",
        "      <th>movie_id</th>\n",
        "      <th>title</th>\n",
        "      <th>genres</th>\n",
        "    </tr>\n",
        "  </thead>\n",
        "  <tbody>\n",
        "    <tr>\n",
        "      <th>0</th>\n",
        "      <td> 1</td>\n",
        "      <td>                   Toy Story (1995)</td>\n",
        "      <td>  Animation|Children's|Comedy</td>\n",
        "    </tr>\n",
        "    <tr>\n",
        "      <th>1</th>\n",
        "      <td> 2</td>\n",
        "      <td>                     Jumanji (1995)</td>\n",
        "      <td> Adventure|Children's|Fantasy</td>\n",
        "    </tr>\n",
        "    <tr>\n",
        "      <th>2</th>\n",
        "      <td> 3</td>\n",
        "      <td>            Grumpier Old Men (1995)</td>\n",
        "      <td>               Comedy|Romance</td>\n",
        "    </tr>\n",
        "    <tr>\n",
        "      <th>3</th>\n",
        "      <td> 4</td>\n",
        "      <td>           Waiting to Exhale (1995)</td>\n",
        "      <td>                 Comedy|Drama</td>\n",
        "    </tr>\n",
        "    <tr>\n",
        "      <th>4</th>\n",
        "      <td> 5</td>\n",
        "      <td> Father of the Bride Part II (1995)</td>\n",
        "      <td>                       Comedy</td>\n",
        "    </tr>\n",
        "  </tbody>\n",
        "</table>\n",
        "<p>5 rows \u00d7 3 columns</p>\n",
        "</div>"
       ],
       "metadata": null,
       "output_type": "pyout",
       "prompt_number": 25,
       "text": [
        "   movie_id                               title                        genres\n",
        "0         1                    Toy Story (1995)   Animation|Children's|Comedy\n",
        "1         2                      Jumanji (1995)  Adventure|Children's|Fantasy\n",
        "2         3             Grumpier Old Men (1995)                Comedy|Romance\n",
        "3         4            Waiting to Exhale (1995)                  Comedy|Drama\n",
        "4         5  Father of the Bride Part II (1995)                        Comedy\n",
        "\n",
        "[5 rows x 3 columns]"
       ]
      }
     ],
     "prompt_number": 25
    },
    {
     "cell_type": "code",
     "collapsed": false,
     "input": [
      "ratings[:5]"
     ],
     "language": "python",
     "outputs": [
      {
       "html": [
        "<div style=\"max-height:1000px;max-width:1500px;overflow:auto;\">\n",
        "<table border=\"1\" class=\"dataframe\">\n",
        "  <thead>\n",
        "    <tr style=\"text-align: right;\">\n",
        "      <th></th>\n",
        "      <th>user_id</th>\n",
        "      <th>movie_id</th>\n",
        "      <th>rating</th>\n",
        "      <th>timestamp</th>\n",
        "    </tr>\n",
        "  </thead>\n",
        "  <tbody>\n",
        "    <tr>\n",
        "      <th>0</th>\n",
        "      <td> 1</td>\n",
        "      <td> 1193</td>\n",
        "      <td> 5</td>\n",
        "      <td> 978300760</td>\n",
        "    </tr>\n",
        "    <tr>\n",
        "      <th>1</th>\n",
        "      <td> 1</td>\n",
        "      <td>  661</td>\n",
        "      <td> 3</td>\n",
        "      <td> 978302109</td>\n",
        "    </tr>\n",
        "    <tr>\n",
        "      <th>2</th>\n",
        "      <td> 1</td>\n",
        "      <td>  914</td>\n",
        "      <td> 3</td>\n",
        "      <td> 978301968</td>\n",
        "    </tr>\n",
        "    <tr>\n",
        "      <th>3</th>\n",
        "      <td> 1</td>\n",
        "      <td> 3408</td>\n",
        "      <td> 4</td>\n",
        "      <td> 978300275</td>\n",
        "    </tr>\n",
        "    <tr>\n",
        "      <th>4</th>\n",
        "      <td> 1</td>\n",
        "      <td> 2355</td>\n",
        "      <td> 5</td>\n",
        "      <td> 978824291</td>\n",
        "    </tr>\n",
        "  </tbody>\n",
        "</table>\n",
        "<p>5 rows \u00d7 4 columns</p>\n",
        "</div>"
       ],
       "metadata": null,
       "output_type": "pyout",
       "prompt_number": 26,
       "text": [
        "   user_id  movie_id  rating  timestamp\n",
        "0        1      1193       5  978300760\n",
        "1        1       661       3  978302109\n",
        "2        1       914       3  978301968\n",
        "3        1      3408       4  978300275\n",
        "4        1      2355       5  978824291\n",
        "\n",
        "[5 rows x 4 columns]"
       ]
      }
     ],
     "prompt_number": 26
    },
    {
     "cell_type": "markdown",
     "source": [
      "Let's merge all three tables. Pandas' `merge` function merges tables based on\n",
      "overlapping column names."
     ]
    },
    {
     "cell_type": "code",
     "collapsed": false,
     "input": [
      "data = pd.merge(pd.merge(ratings, users), movies)\n",
      "data[:5]"
     ],
     "language": "python",
     "outputs": [
      {
       "html": [
        "<div style=\"max-height:1000px;max-width:1500px;overflow:auto;\">\n",
        "<table border=\"1\" class=\"dataframe\">\n",
        "  <thead>\n",
        "    <tr style=\"text-align: right;\">\n",
        "      <th></th>\n",
        "      <th>user_id</th>\n",
        "      <th>movie_id</th>\n",
        "      <th>rating</th>\n",
        "      <th>timestamp</th>\n",
        "      <th>gender</th>\n",
        "      <th>age</th>\n",
        "      <th>occupation</th>\n",
        "      <th>zip</th>\n",
        "      <th>title</th>\n",
        "      <th>genres</th>\n",
        "    </tr>\n",
        "  </thead>\n",
        "  <tbody>\n",
        "    <tr>\n",
        "      <th>0</th>\n",
        "      <td>  1</td>\n",
        "      <td> 1193</td>\n",
        "      <td> 5</td>\n",
        "      <td> 978300760</td>\n",
        "      <td> F</td>\n",
        "      <td>  1</td>\n",
        "      <td> 10</td>\n",
        "      <td> 48067</td>\n",
        "      <td> One Flew Over the Cuckoo's Nest (1975)</td>\n",
        "      <td> Drama</td>\n",
        "    </tr>\n",
        "    <tr>\n",
        "      <th>1</th>\n",
        "      <td>  2</td>\n",
        "      <td> 1193</td>\n",
        "      <td> 5</td>\n",
        "      <td> 978298413</td>\n",
        "      <td> M</td>\n",
        "      <td> 56</td>\n",
        "      <td> 16</td>\n",
        "      <td> 70072</td>\n",
        "      <td> One Flew Over the Cuckoo's Nest (1975)</td>\n",
        "      <td> Drama</td>\n",
        "    </tr>\n",
        "    <tr>\n",
        "      <th>2</th>\n",
        "      <td> 12</td>\n",
        "      <td> 1193</td>\n",
        "      <td> 4</td>\n",
        "      <td> 978220179</td>\n",
        "      <td> M</td>\n",
        "      <td> 25</td>\n",
        "      <td> 12</td>\n",
        "      <td> 32793</td>\n",
        "      <td> One Flew Over the Cuckoo's Nest (1975)</td>\n",
        "      <td> Drama</td>\n",
        "    </tr>\n",
        "    <tr>\n",
        "      <th>3</th>\n",
        "      <td> 15</td>\n",
        "      <td> 1193</td>\n",
        "      <td> 4</td>\n",
        "      <td> 978199279</td>\n",
        "      <td> M</td>\n",
        "      <td> 25</td>\n",
        "      <td>  7</td>\n",
        "      <td> 22903</td>\n",
        "      <td> One Flew Over the Cuckoo's Nest (1975)</td>\n",
        "      <td> Drama</td>\n",
        "    </tr>\n",
        "    <tr>\n",
        "      <th>4</th>\n",
        "      <td> 17</td>\n",
        "      <td> 1193</td>\n",
        "      <td> 5</td>\n",
        "      <td> 978158471</td>\n",
        "      <td> M</td>\n",
        "      <td> 50</td>\n",
        "      <td>  1</td>\n",
        "      <td> 95350</td>\n",
        "      <td> One Flew Over the Cuckoo's Nest (1975)</td>\n",
        "      <td> Drama</td>\n",
        "    </tr>\n",
        "  </tbody>\n",
        "</table>\n",
        "<p>5 rows \u00d7 10 columns</p>\n",
        "</div>"
       ],
       "metadata": null,
       "output_type": "pyout",
       "prompt_number": 27,
       "text": [
        "   user_id  movie_id  rating  timestamp gender  age  occupation    zip  \\\n",
        "0        1      1193       5  978300760      F    1          10  48067   \n",
        "1        2      1193       5  978298413      M   56          16  70072   \n",
        "2       12      1193       4  978220179      M   25          12  32793   \n",
        "3       15      1193       4  978199279      M   25           7  22903   \n",
        "4       17      1193       5  978158471      M   50           1  95350   \n",
        "\n",
        "                                    title genres  \n",
        "0  One Flew Over the Cuckoo's Nest (1975)  Drama  \n",
        "1  One Flew Over the Cuckoo's Nest (1975)  Drama  \n",
        "2  One Flew Over the Cuckoo's Nest (1975)  Drama  \n",
        "3  One Flew Over the Cuckoo's Nest (1975)  Drama  \n",
        "4  One Flew Over the Cuckoo's Nest (1975)  Drama  \n",
        "\n",
        "[5 rows x 10 columns]"
       ]
      }
     ],
     "prompt_number": 27
    },
    {
     "cell_type": "code",
     "collapsed": false,
     "input": [
      "data.ix[0]"
     ],
     "language": "python",
     "outputs": [
      {
       "metadata": null,
       "output_type": "pyout",
       "prompt_number": 28,
       "text": [
        "user_id                                            1\n",
        "movie_id                                        1193\n",
        "rating                                             5\n",
        "timestamp                                  978300760\n",
        "gender                                             F\n",
        "age                                                1\n",
        "occupation                                        10\n",
        "zip                                            48067\n",
        "title         One Flew Over the Cuckoo's Nest (1975)\n",
        "genres                                         Drama\n",
        "Name: 0, dtype: object"
       ]
      }
     ],
     "prompt_number": 28
    },
    {
     "cell_type": "markdown",
     "source": [
      "To get mean movie ratings for each film grouped by gender, we can use Pandas'\n",
      "`pivot_table` function"
     ]
    },
    {
     "cell_type": "code",
     "collapsed": false,
     "input": [
      "mean_ratings = data.pivot_table('rating', rows='title', cols='gender',\n",
      "                                aggfunc='mean')\n",
      "mean_ratings[:5]\n"
     ],
     "language": "python",
     "outputs": [
      {
       "html": [
        "<div style=\"max-height:1000px;max-width:1500px;overflow:auto;\">\n",
        "<table border=\"1\" class=\"dataframe\">\n",
        "  <thead>\n",
        "    <tr style=\"text-align: right;\">\n",
        "      <th>gender</th>\n",
        "      <th>F</th>\n",
        "      <th>M</th>\n",
        "    </tr>\n",
        "    <tr>\n",
        "      <th>title</th>\n",
        "      <th></th>\n",
        "      <th></th>\n",
        "    </tr>\n",
        "  </thead>\n",
        "  <tbody>\n",
        "    <tr>\n",
        "      <th>$1,000,000 Duck (1971)</th>\n",
        "      <td> 3.375000</td>\n",
        "      <td> 2.761905</td>\n",
        "    </tr>\n",
        "    <tr>\n",
        "      <th>'Night Mother (1986)</th>\n",
        "      <td> 3.388889</td>\n",
        "      <td> 3.352941</td>\n",
        "    </tr>\n",
        "    <tr>\n",
        "      <th>'Til There Was You (1997)</th>\n",
        "      <td> 2.675676</td>\n",
        "      <td> 2.733333</td>\n",
        "    </tr>\n",
        "    <tr>\n",
        "      <th>'burbs, The (1989)</th>\n",
        "      <td> 2.793478</td>\n",
        "      <td> 2.962085</td>\n",
        "    </tr>\n",
        "    <tr>\n",
        "      <th>...And Justice for All (1979)</th>\n",
        "      <td> 3.828571</td>\n",
        "      <td> 3.689024</td>\n",
        "    </tr>\n",
        "  </tbody>\n",
        "</table>\n",
        "<p>5 rows \u00d7 2 columns</p>\n",
        "</div>"
       ],
       "metadata": null,
       "output_type": "pyout",
       "prompt_number": 29,
       "text": [
        "gender                                F         M\n",
        "title                                            \n",
        "$1,000,000 Duck (1971)         3.375000  2.761905\n",
        "'Night Mother (1986)           3.388889  3.352941\n",
        "'Til There Was You (1997)      2.675676  2.733333\n",
        "'burbs, The (1989)             2.793478  2.962085\n",
        "...And Justice for All (1979)  3.828571  3.689024\n",
        "\n",
        "[5 rows x 2 columns]"
       ]
      }
     ],
     "prompt_number": 29
    },
    {
     "cell_type": "markdown",
     "source": [
      "Let's filter movies that received at least 250 ratings. First, we need to group\n",
      "the data by title and call `size` function which returns the size of each group."
     ]
    },
    {
     "cell_type": "code",
     "collapsed": false,
     "input": [
      "ratings_by_title = data.groupby('title').size()\n",
      "ratings_by_title[:10]"
     ],
     "language": "python",
     "outputs": [
      {
       "metadata": null,
       "output_type": "pyout",
       "prompt_number": 30,
       "text": [
        "title\n",
        "$1,000,000 Duck (1971)                37\n",
        "'Night Mother (1986)                  70\n",
        "'Til There Was You (1997)             52\n",
        "'burbs, The (1989)                   303\n",
        "...And Justice for All (1979)        199\n",
        "1-900 (1994)                           2\n",
        "10 Things I Hate About You (1999)    700\n",
        "101 Dalmatians (1961)                565\n",
        "101 Dalmatians (1996)                364\n",
        "12 Angry Men (1957)                  616\n",
        "dtype: int64"
       ]
      }
     ],
     "prompt_number": 30
    },
    {
     "cell_type": "code",
     "collapsed": false,
     "input": [
      "active_tables = ratings_by_title.index[ratings_by_title >= 250]\n",
      "active_tables"
     ],
     "language": "python",
     "outputs": [
      {
       "metadata": null,
       "output_type": "pyout",
       "prompt_number": 31,
       "text": [
        "Index([u''burbs, The (1989)', u'10 Things I Hate About You (1999)', u'101 Dalmatians (1961)', u'101 Dalmatians (1996)', u'12 Angry Men (1957)', u'13th Warrior, The (1999)', u'2 Days in the Valley (1996)', u'20,000 Leagues Under the Sea (1954)', u'2001: A Space Odyssey (1968)', u'2010 (1984)', u'28 Days (2000)', u'39 Steps, The (1935)', u'54 (1998)', u'7th Voyage of Sinbad, The (1958)', u'8MM (1999)', u'About Last Night... (1986)', u'Absent Minded Professor, The (1961)', u'Absolute Power (1997)', u'Abyss, The (1989)', u'Ace Ventura: Pet Detective (1994)', u'Ace Ventura: When Nature Calls (1995)', u'Addams Family Values (1993)', u'Addams Family, The (1991)', u'Adventures in Babysitting (1987)', u'Adventures of Buckaroo Bonzai Across the 8th Dimension, The (1984)', u'Adventures of Priscilla, Queen of the Desert, The (1994)', u'Adventures of Robin Hood, The (1938)', u'African Queen, The (1951)', u'Age of Innocence, The (1993)', u'Agnes of God (1985)', u'Air America (1990)', u'Air Force One (1997)', u'Airplane II: The Sequel (1982)', u'Airplane! (1980)', u'Akira (1988)', u'Aladdin (1992)', u'Alice in Wonderland (1951)', u'Alien (1979)', u'Alien Nation (1988)', u'Alien: Resurrection (1997)', u'Aliens (1986)', u'Alien\ufffd (1992)', u'Alive (1993)', u'All About Eve (1950)', u'All About My Mother (Todo Sobre Mi Madre) (1999)', u'All Quiet on the Western Front (1930)', u'All That Jazz (1979)', u'Almost Famous (2000)', u'Amadeus (1984)', u'American Beauty (1999)', u'American Gigolo (1980)', u'American Graffiti (1973)', u'American History X (1998)', u'American Movie (1999)', u'American Pie (1999)', u'American President, The (1995)', u'American Psycho (2000)', u'American Tail, An (1986)', u'American Werewolf in London, An (1981)', u'American Werewolf in Paris, An (1997)', u'American in Paris, An (1951)', u'Amistad (1997)', u'Amityville Horror, The (1979)', u'Anaconda (1997)', u'Analyze This (1999)', u'Anastasia (1997)', u'And Now for Something Completely Different (1971)', u'Angel Heart (1987)', u'Animal House (1978)', u'Anna and the King (1999)', u'Annie Hall (1977)', u'Antz (1998)', u'Any Given Sunday (1999)', u'Apartment, The (1960)', u'Apocalypse Now (1979)', u'Apollo 13 (1995)', u'Apostle, The (1997)', u'Arachnophobia (1990)', u'Aristocats, The (1970)', u'Arlington Road (1999)', u'Armageddon (1998)', u'Army of Darkness (1993)', u'Around the World in 80 Days (1956)', u'Arrival, The (1996)', u'Arsenic and Old Lace (1944)', u'Arthur (1981)', u'As Good As It Gets (1997)', u'Astronaut's Wife, The (1999)', u'Atlantic City (1980)', u'Auntie Mame (1958)', u'Austin Powers: International Man of Mystery (1997)', u'Austin Powers: The Spy Who Shagged Me (1999)', u'Avengers, The (1998)', u'Awakenings (1990)', u'Babe (1995)', u'Babe: Pig in the City (1998)', u'Bachelor Party (1984)', u'Bachelor, The (1999)', u'Back to School (1986)', u'Back to the Future (1985)', ...], dtype='object')"
       ]
      }
     ],
     "prompt_number": 31
    },
    {
     "cell_type": "markdown",
     "source": [
      "We can find the mean ratings for these movies."
     ]
    },
    {
     "cell_type": "code",
     "collapsed": false,
     "input": [
      "mean_ratings = mean_ratings.ix[active_tables]\n",
      "mean_ratings[:5]"
     ],
     "language": "python",
     "outputs": [
      {
       "html": [
        "<div style=\"max-height:1000px;max-width:1500px;overflow:auto;\">\n",
        "<table border=\"1\" class=\"dataframe\">\n",
        "  <thead>\n",
        "    <tr style=\"text-align: right;\">\n",
        "      <th>gender</th>\n",
        "      <th>F</th>\n",
        "      <th>M</th>\n",
        "    </tr>\n",
        "    <tr>\n",
        "      <th>title</th>\n",
        "      <th></th>\n",
        "      <th></th>\n",
        "    </tr>\n",
        "  </thead>\n",
        "  <tbody>\n",
        "    <tr>\n",
        "      <th>'burbs, The (1989)</th>\n",
        "      <td> 2.793478</td>\n",
        "      <td> 2.962085</td>\n",
        "    </tr>\n",
        "    <tr>\n",
        "      <th>10 Things I Hate About You (1999)</th>\n",
        "      <td> 3.646552</td>\n",
        "      <td> 3.311966</td>\n",
        "    </tr>\n",
        "    <tr>\n",
        "      <th>101 Dalmatians (1961)</th>\n",
        "      <td> 3.791444</td>\n",
        "      <td> 3.500000</td>\n",
        "    </tr>\n",
        "    <tr>\n",
        "      <th>101 Dalmatians (1996)</th>\n",
        "      <td> 3.240000</td>\n",
        "      <td> 2.911215</td>\n",
        "    </tr>\n",
        "    <tr>\n",
        "      <th>12 Angry Men (1957)</th>\n",
        "      <td> 4.184397</td>\n",
        "      <td> 4.328421</td>\n",
        "    </tr>\n",
        "  </tbody>\n",
        "</table>\n",
        "<p>5 rows \u00d7 2 columns</p>\n",
        "</div>"
       ],
       "metadata": null,
       "output_type": "pyout",
       "prompt_number": 32,
       "text": [
        "gender                                    F         M\n",
        "title                                                \n",
        "'burbs, The (1989)                 2.793478  2.962085\n",
        "10 Things I Hate About You (1999)  3.646552  3.311966\n",
        "101 Dalmatians (1961)              3.791444  3.500000\n",
        "101 Dalmatians (1996)              3.240000  2.911215\n",
        "12 Angry Men (1957)                4.184397  4.328421\n",
        "\n",
        "[5 rows x 2 columns]"
       ]
      }
     ],
     "prompt_number": 32
    },
    {
     "cell_type": "markdown",
     "source": [
      "To see top movies among females"
     ]
    },
    {
     "cell_type": "code",
     "collapsed": false,
     "input": [
      "top_female_ratings = mean_ratings.sort_index(by='F', ascending=False)\n",
      "top_female_ratings[:10]"
     ],
     "language": "python",
     "outputs": [
      {
       "html": [
        "<div style=\"max-height:1000px;max-width:1500px;overflow:auto;\">\n",
        "<table border=\"1\" class=\"dataframe\">\n",
        "  <thead>\n",
        "    <tr style=\"text-align: right;\">\n",
        "      <th>gender</th>\n",
        "      <th>F</th>\n",
        "      <th>M</th>\n",
        "    </tr>\n",
        "    <tr>\n",
        "      <th>title</th>\n",
        "      <th></th>\n",
        "      <th></th>\n",
        "    </tr>\n",
        "  </thead>\n",
        "  <tbody>\n",
        "    <tr>\n",
        "      <th>Close Shave, A (1995)</th>\n",
        "      <td> 4.644444</td>\n",
        "      <td> 4.473795</td>\n",
        "    </tr>\n",
        "    <tr>\n",
        "      <th>Wrong Trousers, The (1993)</th>\n",
        "      <td> 4.588235</td>\n",
        "      <td> 4.478261</td>\n",
        "    </tr>\n",
        "    <tr>\n",
        "      <th>Sunset Blvd. (a.k.a. Sunset Boulevard) (1950)</th>\n",
        "      <td> 4.572650</td>\n",
        "      <td> 4.464589</td>\n",
        "    </tr>\n",
        "    <tr>\n",
        "      <th>Wallace &amp; Gromit: The Best of Aardman Animation (1996)</th>\n",
        "      <td> 4.563107</td>\n",
        "      <td> 4.385075</td>\n",
        "    </tr>\n",
        "    <tr>\n",
        "      <th>Schindler's List (1993)</th>\n",
        "      <td> 4.562602</td>\n",
        "      <td> 4.491415</td>\n",
        "    </tr>\n",
        "    <tr>\n",
        "      <th>Shawshank Redemption, The (1994)</th>\n",
        "      <td> 4.539075</td>\n",
        "      <td> 4.560625</td>\n",
        "    </tr>\n",
        "    <tr>\n",
        "      <th>Grand Day Out, A (1992)</th>\n",
        "      <td> 4.537879</td>\n",
        "      <td> 4.293255</td>\n",
        "    </tr>\n",
        "    <tr>\n",
        "      <th>To Kill a Mockingbird (1962)</th>\n",
        "      <td> 4.536667</td>\n",
        "      <td> 4.372611</td>\n",
        "    </tr>\n",
        "    <tr>\n",
        "      <th>Creature Comforts (1990)</th>\n",
        "      <td> 4.513889</td>\n",
        "      <td> 4.272277</td>\n",
        "    </tr>\n",
        "    <tr>\n",
        "      <th>Usual Suspects, The (1995)</th>\n",
        "      <td> 4.513317</td>\n",
        "      <td> 4.518248</td>\n",
        "    </tr>\n",
        "  </tbody>\n",
        "</table>\n",
        "<p>10 rows \u00d7 2 columns</p>\n",
        "</div>"
       ],
       "metadata": null,
       "output_type": "pyout",
       "prompt_number": 33,
       "text": [
        "gender                                                         F         M\n",
        "title                                                                     \n",
        "Close Shave, A (1995)                                   4.644444  4.473795\n",
        "Wrong Trousers, The (1993)                              4.588235  4.478261\n",
        "Sunset Blvd. (a.k.a. Sunset Boulevard) (1950)           4.572650  4.464589\n",
        "Wallace & Gromit: The Best of Aardman Animation (1996)  4.563107  4.385075\n",
        "Schindler's List (1993)                                 4.562602  4.491415\n",
        "Shawshank Redemption, The (1994)                        4.539075  4.560625\n",
        "Grand Day Out, A (1992)                                 4.537879  4.293255\n",
        "To Kill a Mockingbird (1962)                            4.536667  4.372611\n",
        "Creature Comforts (1990)                                4.513889  4.272277\n",
        "Usual Suspects, The (1995)                              4.513317  4.518248\n",
        "\n",
        "[10 rows x 2 columns]"
       ]
      }
     ],
     "prompt_number": 33
    },
    {
     "cell_type": "markdown",
     "source": [
      "# Measuring rating disagreement\n",
      "\n"
     ]
    },
    {
     "cell_type": "code",
     "collapsed": false,
     "input": [
      "mean_ratings['diff'] = mean_ratings['M'] - mean_ratings['F']\n",
      "sorted_by_diff = mean_ratings.sort_index(by='diff')\n",
      "sorted_by_diff[:10]"
     ],
     "language": "python",
     "outputs": [
      {
       "html": [
        "<div style=\"max-height:1000px;max-width:1500px;overflow:auto;\">\n",
        "<table border=\"1\" class=\"dataframe\">\n",
        "  <thead>\n",
        "    <tr style=\"text-align: right;\">\n",
        "      <th>gender</th>\n",
        "      <th>F</th>\n",
        "      <th>M</th>\n",
        "      <th>diff</th>\n",
        "    </tr>\n",
        "    <tr>\n",
        "      <th>title</th>\n",
        "      <th></th>\n",
        "      <th></th>\n",
        "      <th></th>\n",
        "    </tr>\n",
        "  </thead>\n",
        "  <tbody>\n",
        "    <tr>\n",
        "      <th>Dirty Dancing (1987)</th>\n",
        "      <td> 3.790378</td>\n",
        "      <td> 2.959596</td>\n",
        "      <td>-0.830782</td>\n",
        "    </tr>\n",
        "    <tr>\n",
        "      <th>Jumpin' Jack Flash (1986)</th>\n",
        "      <td> 3.254717</td>\n",
        "      <td> 2.578358</td>\n",
        "      <td>-0.676359</td>\n",
        "    </tr>\n",
        "    <tr>\n",
        "      <th>Grease (1978)</th>\n",
        "      <td> 3.975265</td>\n",
        "      <td> 3.367041</td>\n",
        "      <td>-0.608224</td>\n",
        "    </tr>\n",
        "    <tr>\n",
        "      <th>Little Women (1994)</th>\n",
        "      <td> 3.870588</td>\n",
        "      <td> 3.321739</td>\n",
        "      <td>-0.548849</td>\n",
        "    </tr>\n",
        "    <tr>\n",
        "      <th>Steel Magnolias (1989)</th>\n",
        "      <td> 3.901734</td>\n",
        "      <td> 3.365957</td>\n",
        "      <td>-0.535777</td>\n",
        "    </tr>\n",
        "    <tr>\n",
        "      <th>Anastasia (1997)</th>\n",
        "      <td> 3.800000</td>\n",
        "      <td> 3.281609</td>\n",
        "      <td>-0.518391</td>\n",
        "    </tr>\n",
        "    <tr>\n",
        "      <th>Rocky Horror Picture Show, The (1975)</th>\n",
        "      <td> 3.673016</td>\n",
        "      <td> 3.160131</td>\n",
        "      <td>-0.512885</td>\n",
        "    </tr>\n",
        "    <tr>\n",
        "      <th>Color Purple, The (1985)</th>\n",
        "      <td> 4.158192</td>\n",
        "      <td> 3.659341</td>\n",
        "      <td>-0.498851</td>\n",
        "    </tr>\n",
        "    <tr>\n",
        "      <th>Age of Innocence, The (1993)</th>\n",
        "      <td> 3.827068</td>\n",
        "      <td> 3.339506</td>\n",
        "      <td>-0.487561</td>\n",
        "    </tr>\n",
        "    <tr>\n",
        "      <th>Free Willy (1993)</th>\n",
        "      <td> 2.921348</td>\n",
        "      <td> 2.438776</td>\n",
        "      <td>-0.482573</td>\n",
        "    </tr>\n",
        "  </tbody>\n",
        "</table>\n",
        "<p>10 rows \u00d7 3 columns</p>\n",
        "</div>"
       ],
       "metadata": null,
       "output_type": "pyout",
       "prompt_number": 34,
       "text": [
        "gender                                        F         M      diff\n",
        "title                                                              \n",
        "Dirty Dancing (1987)                   3.790378  2.959596 -0.830782\n",
        "Jumpin' Jack Flash (1986)              3.254717  2.578358 -0.676359\n",
        "Grease (1978)                          3.975265  3.367041 -0.608224\n",
        "Little Women (1994)                    3.870588  3.321739 -0.548849\n",
        "Steel Magnolias (1989)                 3.901734  3.365957 -0.535777\n",
        "Anastasia (1997)                       3.800000  3.281609 -0.518391\n",
        "Rocky Horror Picture Show, The (1975)  3.673016  3.160131 -0.512885\n",
        "Color Purple, The (1985)               4.158192  3.659341 -0.498851\n",
        "Age of Innocence, The (1993)           3.827068  3.339506 -0.487561\n",
        "Free Willy (1993)                      2.921348  2.438776 -0.482573\n",
        "\n",
        "[10 rows x 3 columns]"
       ]
      }
     ],
     "prompt_number": 34
    },
    {
     "cell_type": "markdown",
     "source": [
      "Let's measure the disagreement independent of gender"
     ]
    },
    {
     "cell_type": "code",
     "collapsed": false,
     "input": [
      "rating_std_by_title = data.groupby('title')['rating'].std()\n",
      "# Filter down to active titles\n",
      "rating_std_by_title = rating_std_by_title.ix[active_tables]\n",
      "# Order Series by value in descending order\n",
      "rating_std_by_title.order(ascending=False)[:10]\n"
     ],
     "language": "python",
     "outputs": [
      {
       "metadata": null,
       "output_type": "pyout",
       "prompt_number": 35,
       "text": [
        "title\n",
        "Dumb & Dumber (1994)                     1.321333\n",
        "Blair Witch Project, The (1999)          1.316368\n",
        "Natural Born Killers (1994)              1.307198\n",
        "Tank Girl (1995)                         1.277695\n",
        "Rocky Horror Picture Show, The (1975)    1.260177\n",
        "Eyes Wide Shut (1999)                    1.259624\n",
        "Evita (1996)                             1.253631\n",
        "Billy Madison (1995)                     1.249970\n",
        "Fear and Loathing in Las Vegas (1998)    1.246408\n",
        "Bicentennial Man (1999)                  1.245533\n",
        "Name: rating, dtype: float64"
       ]
      }
     ],
     "prompt_number": 35
    },
    {
     "cell_type": "markdown",
     "source": [
      "# US baby names 1880-2010"
     ]
    },
    {
     "cell_type": "markdown",
     "source": [
      "Load baby names from 1880"
     ]
    },
    {
     "cell_type": "code",
     "collapsed": false,
     "input": [
      "import pandas as pd\n",
      "names1880 = pd.read_csv('names/yob1880.txt', names=['name', 'sex', 'births'])\n",
      "names1880[:10]"
     ],
     "language": "python",
     "outputs": [
      {
       "html": [
        "<div style=\"max-height:1000px;max-width:1500px;overflow:auto;\">\n",
        "<table border=\"1\" class=\"dataframe\">\n",
        "  <thead>\n",
        "    <tr style=\"text-align: right;\">\n",
        "      <th></th>\n",
        "      <th>name</th>\n",
        "      <th>sex</th>\n",
        "      <th>births</th>\n",
        "    </tr>\n",
        "  </thead>\n",
        "  <tbody>\n",
        "    <tr>\n",
        "      <th>0</th>\n",
        "      <td>      Mary</td>\n",
        "      <td> F</td>\n",
        "      <td> 7065</td>\n",
        "    </tr>\n",
        "    <tr>\n",
        "      <th>1</th>\n",
        "      <td>      Anna</td>\n",
        "      <td> F</td>\n",
        "      <td> 2604</td>\n",
        "    </tr>\n",
        "    <tr>\n",
        "      <th>2</th>\n",
        "      <td>      Emma</td>\n",
        "      <td> F</td>\n",
        "      <td> 2003</td>\n",
        "    </tr>\n",
        "    <tr>\n",
        "      <th>3</th>\n",
        "      <td> Elizabeth</td>\n",
        "      <td> F</td>\n",
        "      <td> 1939</td>\n",
        "    </tr>\n",
        "    <tr>\n",
        "      <th>4</th>\n",
        "      <td>    Minnie</td>\n",
        "      <td> F</td>\n",
        "      <td> 1746</td>\n",
        "    </tr>\n",
        "    <tr>\n",
        "      <th>5</th>\n",
        "      <td>  Margaret</td>\n",
        "      <td> F</td>\n",
        "      <td> 1578</td>\n",
        "    </tr>\n",
        "    <tr>\n",
        "      <th>6</th>\n",
        "      <td>       Ida</td>\n",
        "      <td> F</td>\n",
        "      <td> 1472</td>\n",
        "    </tr>\n",
        "    <tr>\n",
        "      <th>7</th>\n",
        "      <td>     Alice</td>\n",
        "      <td> F</td>\n",
        "      <td> 1414</td>\n",
        "    </tr>\n",
        "    <tr>\n",
        "      <th>8</th>\n",
        "      <td>    Bertha</td>\n",
        "      <td> F</td>\n",
        "      <td> 1320</td>\n",
        "    </tr>\n",
        "    <tr>\n",
        "      <th>9</th>\n",
        "      <td>     Sarah</td>\n",
        "      <td> F</td>\n",
        "      <td> 1288</td>\n",
        "    </tr>\n",
        "  </tbody>\n",
        "</table>\n",
        "<p>10 rows \u00d7 3 columns</p>\n",
        "</div>"
       ],
       "metadata": null,
       "output_type": "pyout",
       "prompt_number": 36,
       "text": [
        "        name sex  births\n",
        "0       Mary   F    7065\n",
        "1       Anna   F    2604\n",
        "2       Emma   F    2003\n",
        "3  Elizabeth   F    1939\n",
        "4     Minnie   F    1746\n",
        "5   Margaret   F    1578\n",
        "6        Ida   F    1472\n",
        "7      Alice   F    1414\n",
        "8     Bertha   F    1320\n",
        "9      Sarah   F    1288\n",
        "\n",
        "[10 rows x 3 columns]"
       ]
      }
     ],
     "prompt_number": 36
    },
    {
     "cell_type": "markdown",
     "source": [
      "Total number of births in that year\n"
     ]
    },
    {
     "cell_type": "code",
     "collapsed": false,
     "input": [
      "names1880.groupby('sex')['births'].sum()"
     ],
     "language": "python",
     "outputs": [
      {
       "metadata": null,
       "output_type": "pyout",
       "prompt_number": 37,
       "text": [
        "sex\n",
        "F       90993\n",
        "M      110493\n",
        "Name: births, dtype: int64"
       ]
      }
     ],
     "prompt_number": 37
    },
    {
     "cell_type": "code",
     "collapsed": false,
     "input": [
      "from IPython.display import Image\n",
      "Image(url='http://i.imgur.com/SK7Ede6.jpg')"
     ],
     "language": "python",
     "outputs": [
      {
       "html": [
        "<img src=\"http://i.imgur.com/SK7Ede6.jpg\"/>"
       ],
       "metadata": null,
       "output_type": "pyout",
       "prompt_number": 38,
       "text": [
        "<IPython.core.display.Image at 0x7fae99fe0210>"
       ]
      }
     ],
     "prompt_number": 38
    },
    {
     "cell_type": "code",
     "collapsed": false,
     "input": [
      "pieces = []\n",
      "columns = ['name', 'sex', 'births']\n",
      "\n",
      "for year in range(1880, 2011):\n",
      "    path = 'names/yob%d.txt' % year\n",
      "    frame = pd.read_csv(path, names=columns)\n",
      "    frame['year'] = year\n",
      "    pieces.append(frame)\n",
      "\n",
      "# Concatenate everything into a single DataFrame\n",
      "names = pd.concat(pieces, ignore_index=True)\n",
      "names[:10]"
     ],
     "language": "python",
     "outputs": [
      {
       "html": [
        "<div style=\"max-height:1000px;max-width:1500px;overflow:auto;\">\n",
        "<table border=\"1\" class=\"dataframe\">\n",
        "  <thead>\n",
        "    <tr style=\"text-align: right;\">\n",
        "      <th></th>\n",
        "      <th>name</th>\n",
        "      <th>sex</th>\n",
        "      <th>births</th>\n",
        "      <th>year</th>\n",
        "    </tr>\n",
        "  </thead>\n",
        "  <tbody>\n",
        "    <tr>\n",
        "      <th>0</th>\n",
        "      <td>      Mary</td>\n",
        "      <td> F</td>\n",
        "      <td> 7065</td>\n",
        "      <td> 1880</td>\n",
        "    </tr>\n",
        "    <tr>\n",
        "      <th>1</th>\n",
        "      <td>      Anna</td>\n",
        "      <td> F</td>\n",
        "      <td> 2604</td>\n",
        "      <td> 1880</td>\n",
        "    </tr>\n",
        "    <tr>\n",
        "      <th>2</th>\n",
        "      <td>      Emma</td>\n",
        "      <td> F</td>\n",
        "      <td> 2003</td>\n",
        "      <td> 1880</td>\n",
        "    </tr>\n",
        "    <tr>\n",
        "      <th>3</th>\n",
        "      <td> Elizabeth</td>\n",
        "      <td> F</td>\n",
        "      <td> 1939</td>\n",
        "      <td> 1880</td>\n",
        "    </tr>\n",
        "    <tr>\n",
        "      <th>4</th>\n",
        "      <td>    Minnie</td>\n",
        "      <td> F</td>\n",
        "      <td> 1746</td>\n",
        "      <td> 1880</td>\n",
        "    </tr>\n",
        "    <tr>\n",
        "      <th>5</th>\n",
        "      <td>  Margaret</td>\n",
        "      <td> F</td>\n",
        "      <td> 1578</td>\n",
        "      <td> 1880</td>\n",
        "    </tr>\n",
        "    <tr>\n",
        "      <th>6</th>\n",
        "      <td>       Ida</td>\n",
        "      <td> F</td>\n",
        "      <td> 1472</td>\n",
        "      <td> 1880</td>\n",
        "    </tr>\n",
        "    <tr>\n",
        "      <th>7</th>\n",
        "      <td>     Alice</td>\n",
        "      <td> F</td>\n",
        "      <td> 1414</td>\n",
        "      <td> 1880</td>\n",
        "    </tr>\n",
        "    <tr>\n",
        "      <th>8</th>\n",
        "      <td>    Bertha</td>\n",
        "      <td> F</td>\n",
        "      <td> 1320</td>\n",
        "      <td> 1880</td>\n",
        "    </tr>\n",
        "    <tr>\n",
        "      <th>9</th>\n",
        "      <td>     Sarah</td>\n",
        "      <td> F</td>\n",
        "      <td> 1288</td>\n",
        "      <td> 1880</td>\n",
        "    </tr>\n",
        "  </tbody>\n",
        "</table>\n",
        "<p>10 rows \u00d7 4 columns</p>\n",
        "</div>"
       ],
       "metadata": null,
       "output_type": "pyout",
       "prompt_number": 39,
       "text": [
        "        name sex  births  year\n",
        "0       Mary   F    7065  1880\n",
        "1       Anna   F    2604  1880\n",
        "2       Emma   F    2003  1880\n",
        "3  Elizabeth   F    1939  1880\n",
        "4     Minnie   F    1746  1880\n",
        "5   Margaret   F    1578  1880\n",
        "6        Ida   F    1472  1880\n",
        "7      Alice   F    1414  1880\n",
        "8     Bertha   F    1320  1880\n",
        "9      Sarah   F    1288  1880\n",
        "\n",
        "[10 rows x 4 columns]"
       ]
      }
     ],
     "prompt_number": 39
    },
    {
     "cell_type": "code",
     "collapsed": false,
     "input": [
      "total_births = names.pivot_table('births', rows='year', cols='sex', aggfunc=sum)\n",
      "total_births.tail()"
     ],
     "language": "python",
     "outputs": [
      {
       "html": [
        "<div style=\"max-height:1000px;max-width:1500px;overflow:auto;\">\n",
        "<table border=\"1\" class=\"dataframe\">\n",
        "  <thead>\n",
        "    <tr style=\"text-align: right;\">\n",
        "      <th>sex</th>\n",
        "      <th>F</th>\n",
        "      <th>M</th>\n",
        "    </tr>\n",
        "    <tr>\n",
        "      <th>year</th>\n",
        "      <th></th>\n",
        "      <th></th>\n",
        "    </tr>\n",
        "  </thead>\n",
        "  <tbody>\n",
        "    <tr>\n",
        "      <th>2006</th>\n",
        "      <td> 1896468</td>\n",
        "      <td> 2050234</td>\n",
        "    </tr>\n",
        "    <tr>\n",
        "      <th>2007</th>\n",
        "      <td> 1916888</td>\n",
        "      <td> 2069242</td>\n",
        "    </tr>\n",
        "    <tr>\n",
        "      <th>2008</th>\n",
        "      <td> 1883645</td>\n",
        "      <td> 2032310</td>\n",
        "    </tr>\n",
        "    <tr>\n",
        "      <th>2009</th>\n",
        "      <td> 1827643</td>\n",
        "      <td> 1973359</td>\n",
        "    </tr>\n",
        "    <tr>\n",
        "      <th>2010</th>\n",
        "      <td> 1759010</td>\n",
        "      <td> 1898382</td>\n",
        "    </tr>\n",
        "  </tbody>\n",
        "</table>\n",
        "<p>5 rows \u00d7 2 columns</p>\n",
        "</div>"
       ],
       "metadata": null,
       "output_type": "pyout",
       "prompt_number": 40,
       "text": [
        "sex         F        M\n",
        "year                  \n",
        "2006  1896468  2050234\n",
        "2007  1916888  2069242\n",
        "2008  1883645  2032310\n",
        "2009  1827643  1973359\n",
        "2010  1759010  1898382\n",
        "\n",
        "[5 rows x 2 columns]"
       ]
      }
     ],
     "prompt_number": 40
    },
    {
     "cell_type": "markdown",
     "source": [
      "Let's find the fraction of babies given each name"
     ]
    },
    {
     "cell_type": "code",
     "collapsed": false,
     "input": [
      "def add_prop(group):\n",
      "    births = group.births.astype(float)\n",
      "    group['prop'] = births / births.sum()\n",
      "    return group\n",
      "names = names.groupby(['year', 'sex']).apply(add_prop)\n",
      "names.head()"
     ],
     "language": "python",
     "outputs": [
      {
       "html": [
        "<div style=\"max-height:1000px;max-width:1500px;overflow:auto;\">\n",
        "<table border=\"1\" class=\"dataframe\">\n",
        "  <thead>\n",
        "    <tr style=\"text-align: right;\">\n",
        "      <th></th>\n",
        "      <th>name</th>\n",
        "      <th>sex</th>\n",
        "      <th>births</th>\n",
        "      <th>year</th>\n",
        "      <th>prop</th>\n",
        "    </tr>\n",
        "  </thead>\n",
        "  <tbody>\n",
        "    <tr>\n",
        "      <th>0</th>\n",
        "      <td>      Mary</td>\n",
        "      <td> F</td>\n",
        "      <td> 7065</td>\n",
        "      <td> 1880</td>\n",
        "      <td> 0.077643</td>\n",
        "    </tr>\n",
        "    <tr>\n",
        "      <th>1</th>\n",
        "      <td>      Anna</td>\n",
        "      <td> F</td>\n",
        "      <td> 2604</td>\n",
        "      <td> 1880</td>\n",
        "      <td> 0.028618</td>\n",
        "    </tr>\n",
        "    <tr>\n",
        "      <th>2</th>\n",
        "      <td>      Emma</td>\n",
        "      <td> F</td>\n",
        "      <td> 2003</td>\n",
        "      <td> 1880</td>\n",
        "      <td> 0.022013</td>\n",
        "    </tr>\n",
        "    <tr>\n",
        "      <th>3</th>\n",
        "      <td> Elizabeth</td>\n",
        "      <td> F</td>\n",
        "      <td> 1939</td>\n",
        "      <td> 1880</td>\n",
        "      <td> 0.021309</td>\n",
        "    </tr>\n",
        "    <tr>\n",
        "      <th>4</th>\n",
        "      <td>    Minnie</td>\n",
        "      <td> F</td>\n",
        "      <td> 1746</td>\n",
        "      <td> 1880</td>\n",
        "      <td> 0.019188</td>\n",
        "    </tr>\n",
        "  </tbody>\n",
        "</table>\n",
        "<p>5 rows \u00d7 5 columns</p>\n",
        "</div>"
       ],
       "output_type": "pyout",
       "prompt_number": 42,
       "text": [
        "        name sex  births  year      prop\n",
        "0       Mary   F    7065  1880  0.077643\n",
        "1       Anna   F    2604  1880  0.028618\n",
        "2       Emma   F    2003  1880  0.022013\n",
        "3  Elizabeth   F    1939  1880  0.021309\n",
        "4     Minnie   F    1746  1880  0.019188\n",
        "\n",
        "[5 rows x 5 columns]"
       ]
      }
     ],
     "prompt_number": 42
    },
    {
     "cell_type": "code",
     "collapsed": false,
     "input": [
      "%matplotlib inline\n",
      "total_births.plot(title=\"Total births by sex and year\")"
     ],
     "language": "python",
     "outputs": [
      {
       "output_type": "pyout",
       "prompt_number": 58,
       "text": [
        "<matplotlib.axes.AxesSubplot at 0x7fae92390c50>"
       ]
      },
      {
       "output_type": "display_data",
       "png": "[encoded data removed]",
       "text": [
        "<matplotlib.figure.Figure at 0x7fae9230e990>"
       ]
      }
     ],
     "prompt_number": 58
    },
    {
     "cell_type": "markdown",
     "source": [
      "Let's get the top 1000 names for each sex/year combination for further analysis."
     ]
    },
    {
     "cell_type": "code",
     "collapsed": false,
     "input": [
      "def get_top1000(group):\n",
      "    return group.sort_index(by='births', ascending=False)[:1000]\n",
      "    \n",
      "top1000 = names.groupby(['year', 'sex']).apply(get_top1000)\n",
      "top1000.head()"
     ],
     "language": "python",
     "outputs": [
      {
       "html": [
        "<div style=\"max-height:1000px;max-width:1500px;overflow:auto;\">\n",
        "<table border=\"1\" class=\"dataframe\">\n",
        "  <thead>\n",
        "    <tr style=\"text-align: right;\">\n",
        "      <th></th>\n",
        "      <th></th>\n",
        "      <th></th>\n",
        "      <th>name</th>\n",
        "      <th>sex</th>\n",
        "      <th>births</th>\n",
        "      <th>year</th>\n",
        "      <th>prop</th>\n",
        "    </tr>\n",
        "    <tr>\n",
        "      <th>year</th>\n",
        "      <th>sex</th>\n",
        "      <th></th>\n",
        "      <th></th>\n",
        "      <th></th>\n",
        "      <th></th>\n",
        "      <th></th>\n",
        "      <th></th>\n",
        "    </tr>\n",
        "  </thead>\n",
        "  <tbody>\n",
        "    <tr>\n",
        "      <th rowspan=\"5\" valign=\"top\">1880</th>\n",
        "      <th rowspan=\"5\" valign=\"top\">F</th>\n",
        "      <th>0</th>\n",
        "      <td>      Mary</td>\n",
        "      <td> F</td>\n",
        "      <td> 7065</td>\n",
        "      <td> 1880</td>\n",
        "      <td> 0.077643</td>\n",
        "    </tr>\n",
        "    <tr>\n",
        "      <th>1</th>\n",
        "      <td>      Anna</td>\n",
        "      <td> F</td>\n",
        "      <td> 2604</td>\n",
        "      <td> 1880</td>\n",
        "      <td> 0.028618</td>\n",
        "    </tr>\n",
        "    <tr>\n",
        "      <th>2</th>\n",
        "      <td>      Emma</td>\n",
        "      <td> F</td>\n",
        "      <td> 2003</td>\n",
        "      <td> 1880</td>\n",
        "      <td> 0.022013</td>\n",
        "    </tr>\n",
        "    <tr>\n",
        "      <th>3</th>\n",
        "      <td> Elizabeth</td>\n",
        "      <td> F</td>\n",
        "      <td> 1939</td>\n",
        "      <td> 1880</td>\n",
        "      <td> 0.021309</td>\n",
        "    </tr>\n",
        "    <tr>\n",
        "      <th>4</th>\n",
        "      <td>    Minnie</td>\n",
        "      <td> F</td>\n",
        "      <td> 1746</td>\n",
        "      <td> 1880</td>\n",
        "      <td> 0.019188</td>\n",
        "    </tr>\n",
        "  </tbody>\n",
        "</table>\n",
        "<p>5 rows \u00d7 5 columns</p>\n",
        "</div>"
       ],
       "output_type": "pyout",
       "prompt_number": 61,
       "text": [
        "                 name sex  births  year      prop\n",
        "year sex                                         \n",
        "1880 F   0       Mary   F    7065  1880  0.077643\n",
        "         1       Anna   F    2604  1880  0.028618\n",
        "         2       Emma   F    2003  1880  0.022013\n",
        "         3  Elizabeth   F    1939  1880  0.021309\n",
        "         4     Minnie   F    1746  1880  0.019188\n",
        "\n",
        "[5 rows x 5 columns]"
       ]
      }
     ],
     "prompt_number": 61
    },
    {
     "cell_type": "markdown",
     "source": [
      "# Analyzing name trends\n"
     ]
    },
    {
     "cell_type": "code",
     "collapsed": false,
     "input": [
      "boys = top1000[top1000.sex == 'M']\n",
      "boys.head()"
     ],
     "language": "python",
     "outputs": [
      {
       "html": [
        "<div style=\"max-height:1000px;max-width:1500px;overflow:auto;\">\n",
        "<table border=\"1\" class=\"dataframe\">\n",
        "  <thead>\n",
        "    <tr style=\"text-align: right;\">\n",
        "      <th></th>\n",
        "      <th></th>\n",
        "      <th></th>\n",
        "      <th>name</th>\n",
        "      <th>sex</th>\n",
        "      <th>births</th>\n",
        "      <th>year</th>\n",
        "      <th>prop</th>\n",
        "    </tr>\n",
        "    <tr>\n",
        "      <th>year</th>\n",
        "      <th>sex</th>\n",
        "      <th></th>\n",
        "      <th></th>\n",
        "      <th></th>\n",
        "      <th></th>\n",
        "      <th></th>\n",
        "      <th></th>\n",
        "    </tr>\n",
        "  </thead>\n",
        "  <tbody>\n",
        "    <tr>\n",
        "      <th rowspan=\"5\" valign=\"top\">1880</th>\n",
        "      <th rowspan=\"5\" valign=\"top\">M</th>\n",
        "      <th>942</th>\n",
        "      <td>    John</td>\n",
        "      <td> M</td>\n",
        "      <td> 9655</td>\n",
        "      <td> 1880</td>\n",
        "      <td> 0.087381</td>\n",
        "    </tr>\n",
        "    <tr>\n",
        "      <th>943</th>\n",
        "      <td> William</td>\n",
        "      <td> M</td>\n",
        "      <td> 9533</td>\n",
        "      <td> 1880</td>\n",
        "      <td> 0.086277</td>\n",
        "    </tr>\n",
        "    <tr>\n",
        "      <th>944</th>\n",
        "      <td>   James</td>\n",
        "      <td> M</td>\n",
        "      <td> 5927</td>\n",
        "      <td> 1880</td>\n",
        "      <td> 0.053641</td>\n",
        "    </tr>\n",
        "    <tr>\n",
        "      <th>945</th>\n",
        "      <td> Charles</td>\n",
        "      <td> M</td>\n",
        "      <td> 5348</td>\n",
        "      <td> 1880</td>\n",
        "      <td> 0.048401</td>\n",
        "    </tr>\n",
        "    <tr>\n",
        "      <th>946</th>\n",
        "      <td>  George</td>\n",
        "      <td> M</td>\n",
        "      <td> 5126</td>\n",
        "      <td> 1880</td>\n",
        "      <td> 0.046392</td>\n",
        "    </tr>\n",
        "  </tbody>\n",
        "</table>\n",
        "<p>5 rows \u00d7 5 columns</p>\n",
        "</div>"
       ],
       "output_type": "pyout",
       "prompt_number": 63,
       "text": [
        "                 name sex  births  year      prop\n",
        "year sex                                         \n",
        "1880 M   942     John   M    9655  1880  0.087381\n",
        "         943  William   M    9533  1880  0.086277\n",
        "         944    James   M    5927  1880  0.053641\n",
        "         945  Charles   M    5348  1880  0.048401\n",
        "         946   George   M    5126  1880  0.046392\n",
        "\n",
        "[5 rows x 5 columns]"
       ]
      }
     ],
     "prompt_number": 63
    },
    {
     "cell_type": "code",
     "collapsed": false,
     "input": [
      "girls = top1000[top1000.sex == 'F']\n",
      "girls.head()"
     ],
     "language": "python",
     "outputs": [
      {
       "html": [
        "<div style=\"max-height:1000px;max-width:1500px;overflow:auto;\">\n",
        "<table border=\"1\" class=\"dataframe\">\n",
        "  <thead>\n",
        "    <tr style=\"text-align: right;\">\n",
        "      <th></th>\n",
        "      <th></th>\n",
        "      <th></th>\n",
        "      <th>name</th>\n",
        "      <th>sex</th>\n",
        "      <th>births</th>\n",
        "      <th>year</th>\n",
        "      <th>prop</th>\n",
        "    </tr>\n",
        "    <tr>\n",
        "      <th>year</th>\n",
        "      <th>sex</th>\n",
        "      <th></th>\n",
        "      <th></th>\n",
        "      <th></th>\n",
        "      <th></th>\n",
        "      <th></th>\n",
        "      <th></th>\n",
        "    </tr>\n",
        "  </thead>\n",
        "  <tbody>\n",
        "    <tr>\n",
        "      <th rowspan=\"5\" valign=\"top\">1880</th>\n",
        "      <th rowspan=\"5\" valign=\"top\">F</th>\n",
        "      <th>0</th>\n",
        "      <td>      Mary</td>\n",
        "      <td> F</td>\n",
        "      <td> 7065</td>\n",
        "      <td> 1880</td>\n",
        "      <td> 0.077643</td>\n",
        "    </tr>\n",
        "    <tr>\n",
        "      <th>1</th>\n",
        "      <td>      Anna</td>\n",
        "      <td> F</td>\n",
        "      <td> 2604</td>\n",
        "      <td> 1880</td>\n",
        "      <td> 0.028618</td>\n",
        "    </tr>\n",
        "    <tr>\n",
        "      <th>2</th>\n",
        "      <td>      Emma</td>\n",
        "      <td> F</td>\n",
        "      <td> 2003</td>\n",
        "      <td> 1880</td>\n",
        "      <td> 0.022013</td>\n",
        "    </tr>\n",
        "    <tr>\n",
        "      <th>3</th>\n",
        "      <td> Elizabeth</td>\n",
        "      <td> F</td>\n",
        "      <td> 1939</td>\n",
        "      <td> 1880</td>\n",
        "      <td> 0.021309</td>\n",
        "    </tr>\n",
        "    <tr>\n",
        "      <th>4</th>\n",
        "      <td>    Minnie</td>\n",
        "      <td> F</td>\n",
        "      <td> 1746</td>\n",
        "      <td> 1880</td>\n",
        "      <td> 0.019188</td>\n",
        "    </tr>\n",
        "  </tbody>\n",
        "</table>\n",
        "<p>5 rows \u00d7 5 columns</p>\n",
        "</div>"
       ],
       "output_type": "pyout",
       "prompt_number": 68,
       "text": [
        "                 name sex  births  year      prop\n",
        "year sex                                         \n",
        "1880 F   0       Mary   F    7065  1880  0.077643\n",
        "         1       Anna   F    2604  1880  0.028618\n",
        "         2       Emma   F    2003  1880  0.022013\n",
        "         3  Elizabeth   F    1939  1880  0.021309\n",
        "         4     Minnie   F    1746  1880  0.019188\n",
        "\n",
        "[5 rows x 5 columns]"
       ]
      }
     ],
     "prompt_number": 68
    },
    {
     "cell_type": "markdown",
     "source": [
      "Let's check the trend for couple of names."
     ]
    },
    {
     "cell_type": "code",
     "collapsed": false,
     "input": [
      "total_births = top1000.pivot_table('births', rows='year', cols='name', aggfunc=sum)\n",
      "subset = total_births[['John', 'Harry', 'Mary', 'Marilyn']]\n",
      "subset.plot(title=\"Number of births per year\", figsize=(12,10), grid=False)"
     ],
     "language": "python",
     "outputs": [
      {
       "output_type": "pyout",
       "prompt_number": 75,
       "text": [
        "<matplotlib.axes.AxesSubplot at 0x7fae8ed9f350>"
       ]
      },
      {
       "output_type": "display_data",
       "png": "[encoded data removed]",
       "text": [
        "<matplotlib.figure.Figure at 0x7fae8ed70650>"
       ]
      }
     ],
     "prompt_number": 75
    },
    {
     "cell_type": "markdown",
     "source": [
      "# Measuring the increase in naming diversity\n",
      "\n",
      "The previous plot suggests that fewer parents are choosing common names for\n",
      "their babies. Let's investigate this."
     ]
    },
    {
     "cell_type": "code",
     "collapsed": false,
     "input": [
      "table = top1000.pivot_table('prop', rows='year', cols='sex', aggfunc=sum)\n",
      "table.plot()\n"
     ],
     "language": "python",
     "outputs": [
      {
       "output_type": "pyout",
       "prompt_number": 79,
       "text": [
        "<matplotlib.axes.AxesSubplot at 0x7fae8e985bd0>"
       ]
      },
      {
       "output_type": "display_data",
       "png": "[encoded data removed]",
       "text": [
        "<matplotlib.figure.Figure at 0x7fae8eb46b10>"
       ]
      }
     ],
     "prompt_number": 79
    },
    {
     "cell_type": "markdown",
     "source": [
      "The plot shows that the proportion of top 1000 names keep decreasing over the\n",
      "years. Let's also check the number of distinct names by year."
     ]
    },
    {
     "cell_type": "code",
     "collapsed": false,
     "input": [
      "# Let's first consider boy names from 2010\n",
      "df = boys[boys.year == 2010]\n",
      "df.head()"
     ],
     "language": "python",
     "outputs": [
      {
       "html": [
        "<div style=\"max-height:1000px;max-width:1500px;overflow:auto;\">\n",
        "<table border=\"1\" class=\"dataframe\">\n",
        "  <thead>\n",
        "    <tr style=\"text-align: right;\">\n",
        "      <th></th>\n",
        "      <th></th>\n",
        "      <th></th>\n",
        "      <th>name</th>\n",
        "      <th>sex</th>\n",
        "      <th>births</th>\n",
        "      <th>year</th>\n",
        "      <th>prop</th>\n",
        "    </tr>\n",
        "    <tr>\n",
        "      <th>year</th>\n",
        "      <th>sex</th>\n",
        "      <th></th>\n",
        "      <th></th>\n",
        "      <th></th>\n",
        "      <th></th>\n",
        "      <th></th>\n",
        "      <th></th>\n",
        "    </tr>\n",
        "  </thead>\n",
        "  <tbody>\n",
        "    <tr>\n",
        "      <th rowspan=\"5\" valign=\"top\">2010</th>\n",
        "      <th rowspan=\"5\" valign=\"top\">M</th>\n",
        "      <th>1676644</th>\n",
        "      <td>   Jacob</td>\n",
        "      <td> M</td>\n",
        "      <td> 21875</td>\n",
        "      <td> 2010</td>\n",
        "      <td> 0.011523</td>\n",
        "    </tr>\n",
        "    <tr>\n",
        "      <th>1676645</th>\n",
        "      <td>   Ethan</td>\n",
        "      <td> M</td>\n",
        "      <td> 17866</td>\n",
        "      <td> 2010</td>\n",
        "      <td> 0.009411</td>\n",
        "    </tr>\n",
        "    <tr>\n",
        "      <th>1676646</th>\n",
        "      <td> Michael</td>\n",
        "      <td> M</td>\n",
        "      <td> 17133</td>\n",
        "      <td> 2010</td>\n",
        "      <td> 0.009025</td>\n",
        "    </tr>\n",
        "    <tr>\n",
        "      <th>1676647</th>\n",
        "      <td>  Jayden</td>\n",
        "      <td> M</td>\n",
        "      <td> 17030</td>\n",
        "      <td> 2010</td>\n",
        "      <td> 0.008971</td>\n",
        "    </tr>\n",
        "    <tr>\n",
        "      <th>1676648</th>\n",
        "      <td> William</td>\n",
        "      <td> M</td>\n",
        "      <td> 16870</td>\n",
        "      <td> 2010</td>\n",
        "      <td> 0.008887</td>\n",
        "    </tr>\n",
        "  </tbody>\n",
        "</table>\n",
        "<p>5 rows \u00d7 5 columns</p>\n",
        "</div>"
       ],
       "output_type": "pyout",
       "prompt_number": 81,
       "text": [
        "                     name sex  births  year      prop\n",
        "year sex                                             \n",
        "2010 M   1676644    Jacob   M   21875  2010  0.011523\n",
        "         1676645    Ethan   M   17866  2010  0.009411\n",
        "         1676646  Michael   M   17133  2010  0.009025\n",
        "         1676647   Jayden   M   17030  2010  0.008971\n",
        "         1676648  William   M   16870  2010  0.008887\n",
        "\n",
        "[5 rows x 5 columns]"
       ]
      }
     ],
     "prompt_number": 81
    },
    {
     "cell_type": "markdown",
     "source": [
      "How many names it takes to reach 50%?"
     ]
    },
    {
     "cell_type": "code",
     "collapsed": false,
     "input": [
      "prop_cumsum = df.sort_index(by='prop', ascending=False)['prop'].cumsum()\n",
      "prop_cumsum[:10]"
     ],
     "language": "python",
     "outputs": [
      {
       "output_type": "pyout",
       "prompt_number": 88,
       "text": [
        "year  sex         \n",
        "2010  M    1676644    0.011523\n",
        "           1676645    0.020934\n",
        "           1676646    0.029959\n",
        "           1676647    0.038930\n",
        "           1676648    0.047817\n",
        "           1676649    0.056579\n",
        "           1676650    0.065155\n",
        "           1676651    0.073414\n",
        "           1676652    0.081528\n",
        "           1676653    0.089621\n",
        "Name: prop, dtype: float64"
       ]
      }
     ],
     "prompt_number": 88
    },
    {
     "cell_type": "code",
     "collapsed": false,
     "input": [
      "prop_cumsum.values.searchsorted(0.5)"
     ],
     "language": "python",
     "outputs": [
      {
       "output_type": "pyout",
       "prompt_number": 89,
       "text": [
        "116"
       ]
      }
     ],
     "prompt_number": 89
    },
    {
     "cell_type": "markdown",
     "source": [
      "Let's look at 1900 as well."
     ]
    },
    {
     "cell_type": "code",
     "collapsed": false,
     "input": [
      "df = boys[boys.year == 1900]\n",
      "in1900 = df.sort_index(by='prop', ascending=False).prop.cumsum()\n",
      "in1900.values.searchsorted(0.5)"
     ],
     "language": "python",
     "outputs": [
      {
       "output_type": "pyout",
       "prompt_number": 92,
       "text": [
        "24"
       ]
      }
     ],
     "prompt_number": 92
    },
    {
     "cell_type": "markdown",
     "source": [
      "Let's apply the same operation to all years"
     ]
    },
    {
     "cell_type": "code",
     "collapsed": false,
     "input": [
      "def get_quantile_count(group, q=0.5):\n",
      "    group = group.sort_index(by='prop', ascending=False).prop.cumsum()\n",
      "    return group.values.searchsorted(q)\n",
      "\n",
      "diversity = top1000.groupby(['year', 'sex']).apply(get_quantile_count)\n",
      "diversity = diversity.unstack()\n",
      "diversity.head()"
     ],
     "language": "python",
     "outputs": [
      {
       "html": [
        "<div style=\"max-height:1000px;max-width:1500px;overflow:auto;\">\n",
        "<table border=\"1\" class=\"dataframe\">\n",
        "  <thead>\n",
        "    <tr style=\"text-align: right;\">\n",
        "      <th>sex</th>\n",
        "      <th>F</th>\n",
        "      <th>M</th>\n",
        "    </tr>\n",
        "    <tr>\n",
        "      <th>year</th>\n",
        "      <th></th>\n",
        "      <th></th>\n",
        "    </tr>\n",
        "  </thead>\n",
        "  <tbody>\n",
        "    <tr>\n",
        "      <th>1880</th>\n",
        "      <td> 37</td>\n",
        "      <td> 13</td>\n",
        "    </tr>\n",
        "    <tr>\n",
        "      <th>1881</th>\n",
        "      <td> 37</td>\n",
        "      <td> 13</td>\n",
        "    </tr>\n",
        "    <tr>\n",
        "      <th>1882</th>\n",
        "      <td> 37</td>\n",
        "      <td> 14</td>\n",
        "    </tr>\n",
        "    <tr>\n",
        "      <th>1883</th>\n",
        "      <td> 38</td>\n",
        "      <td> 14</td>\n",
        "    </tr>\n",
        "    <tr>\n",
        "      <th>1884</th>\n",
        "      <td> 38</td>\n",
        "      <td> 15</td>\n",
        "    </tr>\n",
        "  </tbody>\n",
        "</table>\n",
        "<p>5 rows \u00d7 2 columns</p>\n",
        "</div>"
       ],
       "output_type": "pyout",
       "prompt_number": 99,
       "text": [
        "sex    F   M\n",
        "year        \n",
        "1880  37  13\n",
        "1881  37  13\n",
        "1882  37  14\n",
        "1883  38  14\n",
        "1884  38  15\n",
        "\n",
        "[5 rows x 2 columns]"
       ]
      }
     ],
     "prompt_number": 99
    },
    {
     "cell_type": "code",
     "collapsed": false,
     "input": [
      "diversity.plot(title=\"Number of popular names in top 50%\")"
     ],
     "language": "python",
     "outputs": [
      {
       "output_type": "pyout",
       "prompt_number": 100,
       "text": [
        "<matplotlib.axes.AxesSubplot at 0x7fae8f001d90>"
       ]
      },
      {
       "output_type": "display_data",
       "png": "[encoded data removed]",
       "text": [
        "<matplotlib.figure.Figure at 0x7fae8e915910>"
       ]
      }
     ],
     "prompt_number": 100
    },
    {
     "cell_type": "markdown",
     "source": [
      "# Is it true that the distribution of boy names by last letter has changed significantly?\n",
      "\n"
     ]
    },
    {
     "cell_type": "code",
     "collapsed": false,
     "input": [
      "get_last_letter = lambda x: x[-1]\n",
      "last_letters = names['name'].map(get_last_letter)\n",
      "last_letters.name = 'last_letter'\n",
      "\n",
      "table = names.pivot_table('births', rows=last_letters, cols=['sex', 'year'], aggfunc=sum)\n",
      "table.head()"
     ],
     "language": "python",
     "outputs": [
      {
       "html": [
        "<div style=\"max-height:1000px;max-width:1500px;overflow:auto;\">\n",
        "<table border=\"1\" class=\"dataframe\">\n",
        "  <thead>\n",
        "    <tr>\n",
        "      <th>sex</th>\n",
        "      <th colspan=\"20\" halign=\"left\">F</th>\n",
        "      <th></th>\n",
        "    </tr>\n",
        "    <tr>\n",
        "      <th>year</th>\n",
        "      <th>1880</th>\n",
        "      <th>1881</th>\n",
        "      <th>1882</th>\n",
        "      <th>1883</th>\n",
        "      <th>1884</th>\n",
        "      <th>1885</th>\n",
        "      <th>1886</th>\n",
        "      <th>1887</th>\n",
        "      <th>1888</th>\n",
        "      <th>1889</th>\n",
        "      <th>1890</th>\n",
        "      <th>1891</th>\n",
        "      <th>1892</th>\n",
        "      <th>1893</th>\n",
        "      <th>1894</th>\n",
        "      <th>1895</th>\n",
        "      <th>1896</th>\n",
        "      <th>1897</th>\n",
        "      <th>1898</th>\n",
        "      <th>1899</th>\n",
        "      <th></th>\n",
        "    </tr>\n",
        "    <tr>\n",
        "      <th>last_letter</th>\n",
        "      <th></th>\n",
        "      <th></th>\n",
        "      <th></th>\n",
        "      <th></th>\n",
        "      <th></th>\n",
        "      <th></th>\n",
        "      <th></th>\n",
        "      <th></th>\n",
        "      <th></th>\n",
        "      <th></th>\n",
        "      <th></th>\n",
        "      <th></th>\n",
        "      <th></th>\n",
        "      <th></th>\n",
        "      <th></th>\n",
        "      <th></th>\n",
        "      <th></th>\n",
        "      <th></th>\n",
        "      <th></th>\n",
        "      <th></th>\n",
        "    </tr>\n",
        "  </thead>\n",
        "  <tbody>\n",
        "    <tr>\n",
        "      <th>a</th>\n",
        "      <td> 31446</td>\n",
        "      <td> 31581</td>\n",
        "      <td> 36536</td>\n",
        "      <td> 38330</td>\n",
        "      <td> 43680</td>\n",
        "      <td> 45408</td>\n",
        "      <td> 49100</td>\n",
        "      <td> 48942</td>\n",
        "      <td> 59442</td>\n",
        "      <td> 58631</td>\n",
        "      <td> 62313</td>\n",
        "      <td> 60582</td>\n",
        "      <td> 68331</td>\n",
        "      <td> 67821</td>\n",
        "      <td> 70631</td>\n",
        "      <td> 73002</td>\n",
        "      <td> 73584</td>\n",
        "      <td> 72148</td>\n",
        "      <td> 79150</td>\n",
        "      <td> 70712</td>\n",
        "      <td>...</td>\n",
        "    </tr>\n",
        "    <tr>\n",
        "      <th>b</th>\n",
        "      <td>   NaN</td>\n",
        "      <td>   NaN</td>\n",
        "      <td>   NaN</td>\n",
        "      <td>   NaN</td>\n",
        "      <td>   NaN</td>\n",
        "      <td>   NaN</td>\n",
        "      <td>   NaN</td>\n",
        "      <td>   NaN</td>\n",
        "      <td>   NaN</td>\n",
        "      <td>   NaN</td>\n",
        "      <td>   NaN</td>\n",
        "      <td>   NaN</td>\n",
        "      <td>   NaN</td>\n",
        "      <td>   NaN</td>\n",
        "      <td>   NaN</td>\n",
        "      <td>   NaN</td>\n",
        "      <td>   NaN</td>\n",
        "      <td>   NaN</td>\n",
        "      <td>   NaN</td>\n",
        "      <td>   NaN</td>\n",
        "      <td>...</td>\n",
        "    </tr>\n",
        "    <tr>\n",
        "      <th>c</th>\n",
        "      <td>   NaN</td>\n",
        "      <td>   NaN</td>\n",
        "      <td>     5</td>\n",
        "      <td>     5</td>\n",
        "      <td>   NaN</td>\n",
        "      <td>   NaN</td>\n",
        "      <td>   NaN</td>\n",
        "      <td>   NaN</td>\n",
        "      <td>   NaN</td>\n",
        "      <td>   NaN</td>\n",
        "      <td>   NaN</td>\n",
        "      <td>   NaN</td>\n",
        "      <td>   NaN</td>\n",
        "      <td>   NaN</td>\n",
        "      <td>   NaN</td>\n",
        "      <td>   NaN</td>\n",
        "      <td>     5</td>\n",
        "      <td>   NaN</td>\n",
        "      <td>   NaN</td>\n",
        "      <td>   NaN</td>\n",
        "      <td>...</td>\n",
        "    </tr>\n",
        "    <tr>\n",
        "      <th>d</th>\n",
        "      <td>   609</td>\n",
        "      <td>   607</td>\n",
        "      <td>   734</td>\n",
        "      <td>   810</td>\n",
        "      <td>   916</td>\n",
        "      <td>   862</td>\n",
        "      <td>  1007</td>\n",
        "      <td>  1027</td>\n",
        "      <td>  1298</td>\n",
        "      <td>  1374</td>\n",
        "      <td>  1438</td>\n",
        "      <td>  1512</td>\n",
        "      <td>  1775</td>\n",
        "      <td>  1821</td>\n",
        "      <td>  1985</td>\n",
        "      <td>  2268</td>\n",
        "      <td>  2372</td>\n",
        "      <td>  2455</td>\n",
        "      <td>  2953</td>\n",
        "      <td>  3028</td>\n",
        "      <td>...</td>\n",
        "    </tr>\n",
        "    <tr>\n",
        "      <th>e</th>\n",
        "      <td> 33378</td>\n",
        "      <td> 34080</td>\n",
        "      <td> 40399</td>\n",
        "      <td> 41914</td>\n",
        "      <td> 48089</td>\n",
        "      <td> 49616</td>\n",
        "      <td> 53884</td>\n",
        "      <td> 54353</td>\n",
        "      <td> 66750</td>\n",
        "      <td> 66663</td>\n",
        "      <td> 70948</td>\n",
        "      <td> 67750</td>\n",
        "      <td> 77186</td>\n",
        "      <td> 76455</td>\n",
        "      <td> 79938</td>\n",
        "      <td> 83875</td>\n",
        "      <td> 84355</td>\n",
        "      <td> 82783</td>\n",
        "      <td> 91151</td>\n",
        "      <td> 81395</td>\n",
        "      <td>...</td>\n",
        "    </tr>\n",
        "  </tbody>\n",
        "</table>\n",
        "<p>5 rows \u00d7 262 columns</p>\n",
        "</div>"
       ],
       "output_type": "pyout",
       "prompt_number": 109,
       "text": [
        "sex              F                                                          \\\n",
        "year          1880   1881   1882   1883   1884   1885   1886   1887   1888   \n",
        "last_letter                                                                  \n",
        "a            31446  31581  36536  38330  43680  45408  49100  48942  59442   \n",
        "b              NaN    NaN    NaN    NaN    NaN    NaN    NaN    NaN    NaN   \n",
        "c              NaN    NaN      5      5    NaN    NaN    NaN    NaN    NaN   \n",
        "d              609    607    734    810    916    862   1007   1027   1298   \n",
        "e            33378  34080  40399  41914  48089  49616  53884  54353  66750   \n",
        "\n",
        "sex                                                                         \\\n",
        "year          1889   1890   1891   1892   1893   1894   1895   1896   1897   \n",
        "last_letter                                                                  \n",
        "a            58631  62313  60582  68331  67821  70631  73002  73584  72148   \n",
        "b              NaN    NaN    NaN    NaN    NaN    NaN    NaN    NaN    NaN   \n",
        "c              NaN    NaN    NaN    NaN    NaN    NaN    NaN      5    NaN   \n",
        "d             1374   1438   1512   1775   1821   1985   2268   2372   2455   \n",
        "e            66663  70948  67750  77186  76455  79938  83875  84355  82783   \n",
        "\n",
        "sex                            \n",
        "year          1898   1899      \n",
        "last_letter                    \n",
        "a            79150  70712 ...  \n",
        "b              NaN    NaN ...  \n",
        "c              NaN    NaN ...  \n",
        "d             2953   3028 ...  \n",
        "e            91151  81395 ...  \n",
        "\n",
        "[5 rows x 262 columns]"
       ]
      }
     ],
     "prompt_number": 109
    },
    {
     "cell_type": "code",
     "collapsed": false,
     "input": [
      "# Three representative years\n",
      "subtable = table.reindex(columns=[1910, 1960, 2010], level='year')\n",
      "subtable.head()"
     ],
     "language": "python",
     "outputs": [
      {
       "html": [
        "<div style=\"max-height:1000px;max-width:1500px;overflow:auto;\">\n",
        "<table border=\"1\" class=\"dataframe\">\n",
        "  <thead>\n",
        "    <tr>\n",
        "      <th>sex</th>\n",
        "      <th colspan=\"3\" halign=\"left\">F</th>\n",
        "      <th colspan=\"3\" halign=\"left\">M</th>\n",
        "    </tr>\n",
        "    <tr>\n",
        "      <th>year</th>\n",
        "      <th>1910</th>\n",
        "      <th>1960</th>\n",
        "      <th>2010</th>\n",
        "      <th>1910</th>\n",
        "      <th>1960</th>\n",
        "      <th>2010</th>\n",
        "    </tr>\n",
        "    <tr>\n",
        "      <th>last_letter</th>\n",
        "      <th></th>\n",
        "      <th></th>\n",
        "      <th></th>\n",
        "      <th></th>\n",
        "      <th></th>\n",
        "      <th></th>\n",
        "    </tr>\n",
        "  </thead>\n",
        "  <tbody>\n",
        "    <tr>\n",
        "      <th>a</th>\n",
        "      <td> 108376</td>\n",
        "      <td> 691247</td>\n",
        "      <td> 670605</td>\n",
        "      <td>   977</td>\n",
        "      <td>   5204</td>\n",
        "      <td>  28438</td>\n",
        "    </tr>\n",
        "    <tr>\n",
        "      <th>b</th>\n",
        "      <td>    NaN</td>\n",
        "      <td>    694</td>\n",
        "      <td>    450</td>\n",
        "      <td>   411</td>\n",
        "      <td>   3912</td>\n",
        "      <td>  38859</td>\n",
        "    </tr>\n",
        "    <tr>\n",
        "      <th>c</th>\n",
        "      <td>      5</td>\n",
        "      <td>     49</td>\n",
        "      <td>    946</td>\n",
        "      <td>   482</td>\n",
        "      <td>  15476</td>\n",
        "      <td>  23125</td>\n",
        "    </tr>\n",
        "    <tr>\n",
        "      <th>d</th>\n",
        "      <td>   6750</td>\n",
        "      <td>   3729</td>\n",
        "      <td>   2607</td>\n",
        "      <td> 22111</td>\n",
        "      <td> 262112</td>\n",
        "      <td>  44398</td>\n",
        "    </tr>\n",
        "    <tr>\n",
        "      <th>e</th>\n",
        "      <td> 133569</td>\n",
        "      <td> 435013</td>\n",
        "      <td> 313833</td>\n",
        "      <td> 28655</td>\n",
        "      <td> 178823</td>\n",
        "      <td> 129012</td>\n",
        "    </tr>\n",
        "  </tbody>\n",
        "</table>\n",
        "<p>5 rows \u00d7 6 columns</p>\n",
        "</div>"
       ],
       "output_type": "pyout",
       "prompt_number": 110,
       "text": [
        "sex               F                      M                \n",
        "year           1910    1960    2010   1910    1960    2010\n",
        "last_letter                                               \n",
        "a            108376  691247  670605    977    5204   28438\n",
        "b               NaN     694     450    411    3912   38859\n",
        "c                 5      49     946    482   15476   23125\n",
        "d              6750    3729    2607  22111  262112   44398\n",
        "e            133569  435013  313833  28655  178823  129012\n",
        "\n",
        "[5 rows x 6 columns]"
       ]
      }
     ],
     "prompt_number": 110
    },
    {
     "cell_type": "markdown",
     "source": [
      "Next, normalize the table by total births\n"
     ]
    },
    {
     "cell_type": "code",
     "collapsed": false,
     "input": [
      "subtable.sum()"
     ],
     "language": "python",
     "outputs": [
      {
       "output_type": "pyout",
       "prompt_number": 112,
       "text": [
        "sex  year\n",
        "F    1910     396416\n",
        "     1960    2022062\n",
        "     2010    1759010\n",
        "M    1910     194198\n",
        "     1960    2132588\n",
        "     2010    1898382\n",
        "dtype: float64"
       ]
      }
     ],
     "prompt_number": 112
    },
    {
     "cell_type": "code",
     "collapsed": false,
     "input": [
      "letter_prop = subtable / subtable.sum().astype(float)\n",
      "letter_prop.head()"
     ],
     "language": "python",
     "outputs": [
      {
       "html": [
        "<div style=\"max-height:1000px;max-width:1500px;overflow:auto;\">\n",
        "<table border=\"1\" class=\"dataframe\">\n",
        "  <thead>\n",
        "    <tr>\n",
        "      <th>sex</th>\n",
        "      <th colspan=\"3\" halign=\"left\">F</th>\n",
        "      <th colspan=\"3\" halign=\"left\">M</th>\n",
        "    </tr>\n",
        "    <tr>\n",
        "      <th>year</th>\n",
        "      <th>1910</th>\n",
        "      <th>1960</th>\n",
        "      <th>2010</th>\n",
        "      <th>1910</th>\n",
        "      <th>1960</th>\n",
        "      <th>2010</th>\n",
        "    </tr>\n",
        "    <tr>\n",
        "      <th>last_letter</th>\n",
        "      <th></th>\n",
        "      <th></th>\n",
        "      <th></th>\n",
        "      <th></th>\n",
        "      <th></th>\n",
        "      <th></th>\n",
        "    </tr>\n",
        "  </thead>\n",
        "  <tbody>\n",
        "    <tr>\n",
        "      <th>a</th>\n",
        "      <td> 0.273390</td>\n",
        "      <td> 0.341853</td>\n",
        "      <td> 0.381240</td>\n",
        "      <td> 0.005031</td>\n",
        "      <td> 0.002440</td>\n",
        "      <td> 0.014980</td>\n",
        "    </tr>\n",
        "    <tr>\n",
        "      <th>b</th>\n",
        "      <td>      NaN</td>\n",
        "      <td> 0.000343</td>\n",
        "      <td> 0.000256</td>\n",
        "      <td> 0.002116</td>\n",
        "      <td> 0.001834</td>\n",
        "      <td> 0.020470</td>\n",
        "    </tr>\n",
        "    <tr>\n",
        "      <th>c</th>\n",
        "      <td> 0.000013</td>\n",
        "      <td> 0.000024</td>\n",
        "      <td> 0.000538</td>\n",
        "      <td> 0.002482</td>\n",
        "      <td> 0.007257</td>\n",
        "      <td> 0.012181</td>\n",
        "    </tr>\n",
        "    <tr>\n",
        "      <th>d</th>\n",
        "      <td> 0.017028</td>\n",
        "      <td> 0.001844</td>\n",
        "      <td> 0.001482</td>\n",
        "      <td> 0.113858</td>\n",
        "      <td> 0.122908</td>\n",
        "      <td> 0.023387</td>\n",
        "    </tr>\n",
        "    <tr>\n",
        "      <th>e</th>\n",
        "      <td> 0.336941</td>\n",
        "      <td> 0.215133</td>\n",
        "      <td> 0.178415</td>\n",
        "      <td> 0.147556</td>\n",
        "      <td> 0.083853</td>\n",
        "      <td> 0.067959</td>\n",
        "    </tr>\n",
        "  </tbody>\n",
        "</table>\n",
        "<p>5 rows \u00d7 6 columns</p>\n",
        "</div>"
       ],
       "output_type": "pyout",
       "prompt_number": 115,
       "text": [
        "sex                 F                             M                    \n",
        "year             1910      1960      2010      1910      1960      2010\n",
        "last_letter                                                            \n",
        "a            0.273390  0.341853  0.381240  0.005031  0.002440  0.014980\n",
        "b                 NaN  0.000343  0.000256  0.002116  0.001834  0.020470\n",
        "c            0.000013  0.000024  0.000538  0.002482  0.007257  0.012181\n",
        "d            0.017028  0.001844  0.001482  0.113858  0.122908  0.023387\n",
        "e            0.336941  0.215133  0.178415  0.147556  0.083853  0.067959\n",
        "\n",
        "[5 rows x 6 columns]"
       ]
      }
     ],
     "prompt_number": 115
    },
    {
     "cell_type": "code",
     "collapsed": false,
     "input": [
      "from matplotlib import pyplot as plt\n",
      "fig, axes = plt.subplots(2, 1, figsize=(10,8))\n",
      "letter_prop['M'].plot(kind='bar', ax=axes[0], title='Male')\n",
      "letter_prop['F'].plot(kind='bar', ax=axes[1], title='Female', legend=False)"
     ],
     "language": "python",
     "outputs": [
      {
       "output_type": "pyout",
       "prompt_number": 128,
       "text": [
        "<matplotlib.axes.AxesSubplot at 0x7fae8c9760d0>"
       ]
      },
      {
       "output_type": "display_data",
       "png": "[encoded data removed]",
       "text": [
        "<matplotlib.figure.Figure at 0x7fae87ad11d0>"
       ]
      }
     ],
     "prompt_number": 128
    }
   ]
  }
 ]
}