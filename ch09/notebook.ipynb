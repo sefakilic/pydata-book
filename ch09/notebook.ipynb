{
 "metadata": {
  "name": ""
 },
 "nbformat": 3,
 "nbformat_minor": 0,
 "worksheets": [
  {
   "cells": [
    {
     "cell_type": "heading",
     "level": 1,
     "source": [
      "Data Aggregation and Group Operations"
     ]
    },
    {
     "cell_type": "code",
     "collapsed": false,
     "input": [
      "import pandas as pd\n",
      "from pandas import Series, DataFrame\n",
      "import numpy as np"
     ],
     "language": "python",
     "outputs": [],
     "prompt_number": 1
    },
    {
     "cell_type": "markdown",
     "source": [
      "Group operations\n",
      "- split\n",
      "- apply\n",
      "- combine\n"
     ]
    },
    {
     "cell_type": "code",
     "collapsed": false,
     "input": [
      "df = DataFrame({'key1' : ['a', 'a', 'b', 'b', 'a'],\n",
      "                'key2' : ['one', 'two', 'one', 'two', 'one'],\n",
      "                'data1' : np.random.randn(5),\n",
      "                'data2' : np.random.randn(5)})\n",
      "df"
     ],
     "language": "python",
     "outputs": [
      {
       "html": [
        "<div style=\"max-height:1000px;max-width:1500px;overflow:auto;\">\n",
        "<table border=\"1\" class=\"dataframe\">\n",
        "  <thead>\n",
        "    <tr style=\"text-align: right;\">\n",
        "      <th></th>\n",
        "      <th>data1</th>\n",
        "      <th>data2</th>\n",
        "      <th>key1</th>\n",
        "      <th>key2</th>\n",
        "    </tr>\n",
        "  </thead>\n",
        "  <tbody>\n",
        "    <tr>\n",
        "      <th>0</th>\n",
        "      <td>-0.922163</td>\n",
        "      <td>-1.291017</td>\n",
        "      <td> a</td>\n",
        "      <td> one</td>\n",
        "    </tr>\n",
        "    <tr>\n",
        "      <th>1</th>\n",
        "      <td> 0.618388</td>\n",
        "      <td>-1.071131</td>\n",
        "      <td> a</td>\n",
        "      <td> two</td>\n",
        "    </tr>\n",
        "    <tr>\n",
        "      <th>2</th>\n",
        "      <td>-0.405181</td>\n",
        "      <td>-0.277793</td>\n",
        "      <td> b</td>\n",
        "      <td> one</td>\n",
        "    </tr>\n",
        "    <tr>\n",
        "      <th>3</th>\n",
        "      <td> 0.964335</td>\n",
        "      <td> 0.701521</td>\n",
        "      <td> b</td>\n",
        "      <td> two</td>\n",
        "    </tr>\n",
        "    <tr>\n",
        "      <th>4</th>\n",
        "      <td>-1.311777</td>\n",
        "      <td> 0.232108</td>\n",
        "      <td> a</td>\n",
        "      <td> one</td>\n",
        "    </tr>\n",
        "  </tbody>\n",
        "</table>\n",
        "</div>"
       ],
       "output_type": "pyout",
       "prompt_number": 2,
       "text": [
        "      data1     data2 key1 key2\n",
        "0 -0.922163 -1.291017    a  one\n",
        "1  0.618388 -1.071131    a  two\n",
        "2 -0.405181 -0.277793    b  one\n",
        "3  0.964335  0.701521    b  two\n",
        "4 -1.311777  0.232108    a  one"
       ]
      }
     ],
     "prompt_number": 2
    },
    {
     "cell_type": "code",
     "collapsed": false,
     "input": [
      "grouped = df['data1'].groupby(df['key1'])\n",
      "grouped"
     ],
     "language": "python",
     "outputs": [
      {
       "output_type": "pyout",
       "prompt_number": 3,
       "text": [
        "<pandas.core.groupby.SeriesGroupBy object at 0x7fd4363a3850>"
       ]
      }
     ],
     "prompt_number": 3
    },
    {
     "cell_type": "code",
     "collapsed": false,
     "input": [
      "grouped.mean()"
     ],
     "language": "python",
     "outputs": [
      {
       "output_type": "pyout",
       "prompt_number": 4,
       "text": [
        "key1\n",
        "a      -0.538517\n",
        "b       0.279577\n",
        "Name: data1, dtype: float64"
       ]
      }
     ],
     "prompt_number": 4
    },
    {
     "cell_type": "markdown",
     "source": [
      "We can pass multiple arrays as list to group by"
     ]
    },
    {
     "cell_type": "code",
     "collapsed": false,
     "input": [
      "means = df['data1'].groupby([df['key1'], df['key2']]).mean()\n",
      "means"
     ],
     "language": "python",
     "outputs": [
      {
       "output_type": "pyout",
       "prompt_number": 5,
       "text": [
        "key1  key2\n",
        "a     one    -1.116970\n",
        "      two     0.618388\n",
        "b     one    -0.405181\n",
        "      two     0.964335\n",
        "Name: data1, dtype: float64"
       ]
      }
     ],
     "prompt_number": 5
    },
    {
     "cell_type": "code",
     "collapsed": false,
     "input": [
      "means.unstack()"
     ],
     "language": "python",
     "outputs": [
      {
       "html": [
        "<div style=\"max-height:1000px;max-width:1500px;overflow:auto;\">\n",
        "<table border=\"1\" class=\"dataframe\">\n",
        "  <thead>\n",
        "    <tr style=\"text-align: right;\">\n",
        "      <th>key2</th>\n",
        "      <th>one</th>\n",
        "      <th>two</th>\n",
        "    </tr>\n",
        "    <tr>\n",
        "      <th>key1</th>\n",
        "      <th></th>\n",
        "      <th></th>\n",
        "    </tr>\n",
        "  </thead>\n",
        "  <tbody>\n",
        "    <tr>\n",
        "      <th>a</th>\n",
        "      <td>-1.116970</td>\n",
        "      <td> 0.618388</td>\n",
        "    </tr>\n",
        "    <tr>\n",
        "      <th>b</th>\n",
        "      <td>-0.405181</td>\n",
        "      <td> 0.964335</td>\n",
        "    </tr>\n",
        "  </tbody>\n",
        "</table>\n",
        "</div>"
       ],
       "output_type": "pyout",
       "prompt_number": 6,
       "text": [
        "key2       one       two\n",
        "key1                    \n",
        "a    -1.116970  0.618388\n",
        "b    -0.405181  0.964335"
       ]
      }
     ],
     "prompt_number": 6
    },
    {
     "cell_type": "markdown",
     "source": [
      "Group keys can be any arrays of the right length"
     ]
    },
    {
     "cell_type": "code",
     "collapsed": false,
     "input": [
      "states = np.array(['Ohio', 'California', 'California', 'Ohio', 'Ohio'])\n",
      "years = np.array([2005, 2005, 2006, 2005, 2006])\n",
      "df['data1'].groupby([states, years]).mean()"
     ],
     "language": "python",
     "outputs": [
      {
       "output_type": "pyout",
       "prompt_number": 7,
       "text": [
        "California  2005    0.618388\n",
        "            2006   -0.405181\n",
        "Ohio        2005    0.021086\n",
        "            2006   -1.311777\n",
        "Name: data1, dtype: float64"
       ]
      }
     ],
     "prompt_number": 7
    },
    {
     "cell_type": "markdown",
     "source": [
      "Frequently, the grouping information to be found in the same DataFrame as the\n",
      "data that we want to work on."
     ]
    },
    {
     "cell_type": "code",
     "collapsed": false,
     "input": [
      "df.groupby('key1').mean()"
     ],
     "language": "python",
     "outputs": [
      {
       "html": [
        "<div style=\"max-height:1000px;max-width:1500px;overflow:auto;\">\n",
        "<table border=\"1\" class=\"dataframe\">\n",
        "  <thead>\n",
        "    <tr style=\"text-align: right;\">\n",
        "      <th></th>\n",
        "      <th>data1</th>\n",
        "      <th>data2</th>\n",
        "    </tr>\n",
        "    <tr>\n",
        "      <th>key1</th>\n",
        "      <th></th>\n",
        "      <th></th>\n",
        "    </tr>\n",
        "  </thead>\n",
        "  <tbody>\n",
        "    <tr>\n",
        "      <th>a</th>\n",
        "      <td>-0.538517</td>\n",
        "      <td>-0.710013</td>\n",
        "    </tr>\n",
        "    <tr>\n",
        "      <th>b</th>\n",
        "      <td> 0.279577</td>\n",
        "      <td> 0.211864</td>\n",
        "    </tr>\n",
        "  </tbody>\n",
        "</table>\n",
        "</div>"
       ],
       "output_type": "pyout",
       "prompt_number": 8,
       "text": [
        "         data1     data2\n",
        "key1                    \n",
        "a    -0.538517 -0.710013\n",
        "b     0.279577  0.211864"
       ]
      }
     ],
     "prompt_number": 8
    },
    {
     "cell_type": "code",
     "collapsed": false,
     "input": [
      "df.groupby(['key1', 'key2']).mean()"
     ],
     "language": "python",
     "outputs": [
      {
       "html": [
        "<div style=\"max-height:1000px;max-width:1500px;overflow:auto;\">\n",
        "<table border=\"1\" class=\"dataframe\">\n",
        "  <thead>\n",
        "    <tr style=\"text-align: right;\">\n",
        "      <th></th>\n",
        "      <th></th>\n",
        "      <th>data1</th>\n",
        "      <th>data2</th>\n",
        "    </tr>\n",
        "    <tr>\n",
        "      <th>key1</th>\n",
        "      <th>key2</th>\n",
        "      <th></th>\n",
        "      <th></th>\n",
        "    </tr>\n",
        "  </thead>\n",
        "  <tbody>\n",
        "    <tr>\n",
        "      <th rowspan=\"2\" valign=\"top\">a</th>\n",
        "      <th>one</th>\n",
        "      <td>-1.116970</td>\n",
        "      <td>-0.529454</td>\n",
        "    </tr>\n",
        "    <tr>\n",
        "      <th>two</th>\n",
        "      <td> 0.618388</td>\n",
        "      <td>-1.071131</td>\n",
        "    </tr>\n",
        "    <tr>\n",
        "      <th rowspan=\"2\" valign=\"top\">b</th>\n",
        "      <th>one</th>\n",
        "      <td>-0.405181</td>\n",
        "      <td>-0.277793</td>\n",
        "    </tr>\n",
        "    <tr>\n",
        "      <th>two</th>\n",
        "      <td> 0.964335</td>\n",
        "      <td> 0.701521</td>\n",
        "    </tr>\n",
        "  </tbody>\n",
        "</table>\n",
        "</div>"
       ],
       "output_type": "pyout",
       "prompt_number": 9,
       "text": [
        "              data1     data2\n",
        "key1 key2                    \n",
        "a    one  -1.116970 -0.529454\n",
        "     two   0.618388 -1.071131\n",
        "b    one  -0.405181 -0.277793\n",
        "     two   0.964335  0.701521"
       ]
      }
     ],
     "prompt_number": 9
    },
    {
     "cell_type": "markdown",
     "source": [
      "A useful groupby method"
     ]
    },
    {
     "cell_type": "code",
     "collapsed": false,
     "input": [
      "df.groupby(['key1', 'key2']).size()"
     ],
     "language": "python",
     "outputs": [
      {
       "output_type": "pyout",
       "prompt_number": 10,
       "text": [
        "key1  key2\n",
        "a     one     2\n",
        "      two     1\n",
        "b     one     1\n",
        "      two     1\n",
        "dtype: int64"
       ]
      }
     ],
     "prompt_number": 10
    },
    {
     "cell_type": "markdown",
     "source": [
      "# Iterating over groups"
     ]
    },
    {
     "cell_type": "code",
     "collapsed": false,
     "input": [
      "for name, group in df.groupby('key1'):\n",
      "    print name\n",
      "    print group"
     ],
     "language": "python",
     "outputs": [
      {
       "output_type": "stream",
       "stream": "stdout",
       "text": [
        "a\n",
        "      data1     data2 key1 key2\n",
        "0 -0.922163 -1.291017    a  one\n",
        "1  0.618388 -1.071131    a  two\n",
        "4 -1.311777  0.232108    a  one\n",
        "b\n",
        "      data1     data2 key1 key2\n",
        "2 -0.405181 -0.277793    b  one\n",
        "3  0.964335  0.701521    b  two\n"
       ]
      }
     ],
     "prompt_number": 11
    },
    {
     "cell_type": "code",
     "collapsed": false,
     "input": [
      "for (k1, k2), group in df.groupby(['key1', 'key2']):\n",
      "    print k1, k2\n",
      "    print group"
     ],
     "language": "python",
     "outputs": [
      {
       "output_type": "stream",
       "stream": "stdout",
       "text": [
        "a one\n",
        "      data1     data2 key1 key2\n",
        "0 -0.922163 -1.291017    a  one\n",
        "4 -1.311777  0.232108    a  one\n",
        "a two\n",
        "      data1     data2 key1 key2\n",
        "1  0.618388 -1.071131    a  two\n",
        "b one\n",
        "      data1     data2 key1 key2\n",
        "2 -0.405181 -0.277793    b  one\n",
        "b two\n",
        "      data1     data2 key1 key2\n",
        "3  0.964335  0.701521    b  two\n"
       ]
      }
     ],
     "prompt_number": 12
    },
    {
     "cell_type": "code",
     "collapsed": false,
     "input": [
      "# A one-liner that can be useful to compute data as a dict\n",
      "pieces = dict(list(df.groupby('key1')))\n",
      "pieces['b']"
     ],
     "language": "python",
     "outputs": [
      {
       "html": [
        "<div style=\"max-height:1000px;max-width:1500px;overflow:auto;\">\n",
        "<table border=\"1\" class=\"dataframe\">\n",
        "  <thead>\n",
        "    <tr style=\"text-align: right;\">\n",
        "      <th></th>\n",
        "      <th>data1</th>\n",
        "      <th>data2</th>\n",
        "      <th>key1</th>\n",
        "      <th>key2</th>\n",
        "    </tr>\n",
        "  </thead>\n",
        "  <tbody>\n",
        "    <tr>\n",
        "      <th>2</th>\n",
        "      <td>-0.405181</td>\n",
        "      <td>-0.277793</td>\n",
        "      <td> b</td>\n",
        "      <td> one</td>\n",
        "    </tr>\n",
        "    <tr>\n",
        "      <th>3</th>\n",
        "      <td> 0.964335</td>\n",
        "      <td> 0.701521</td>\n",
        "      <td> b</td>\n",
        "      <td> two</td>\n",
        "    </tr>\n",
        "  </tbody>\n",
        "</table>\n",
        "</div>"
       ],
       "output_type": "pyout",
       "prompt_number": 13,
       "text": [
        "      data1     data2 key1 key2\n",
        "2 -0.405181 -0.277793    b  one\n",
        "3  0.964335  0.701521    b  two"
       ]
      }
     ],
     "prompt_number": 13
    },
    {
     "cell_type": "markdown",
     "source": [
      "Data can be grouped on any of the other axes"
     ]
    },
    {
     "cell_type": "code",
     "collapsed": false,
     "input": [
      "df.dtypes"
     ],
     "language": "python",
     "outputs": [
      {
       "output_type": "pyout",
       "prompt_number": 14,
       "text": [
        "data1    float64\n",
        "data2    float64\n",
        "key1      object\n",
        "key2      object\n",
        "dtype: object"
       ]
      }
     ],
     "prompt_number": 14
    },
    {
     "cell_type": "code",
     "collapsed": false,
     "input": [
      "grouped = df.groupby(df.dtypes, axis=1)\n",
      "dict(list(grouped))"
     ],
     "language": "python",
     "outputs": [
      {
       "output_type": "pyout",
       "prompt_number": 15,
       "text": [
        "{dtype('float64'):       data1     data2\n",
        "0 -0.922163 -1.291017\n",
        "1  0.618388 -1.071131\n",
        "2 -0.405181 -0.277793\n",
        "3  0.964335  0.701521\n",
        "4 -1.311777  0.232108,\n",
        " dtype('O'):   key1 key2\n",
        "0    a  one\n",
        "1    a  two\n",
        "2    b  one\n",
        "3    b  two\n",
        "4    a  one}"
       ]
      }
     ],
     "prompt_number": 15
    },
    {
     "cell_type": "markdown",
     "source": [
      "# Selecting a column or subset of columns"
     ]
    },
    {
     "cell_type": "markdown",
     "source": [
      "    df.groupby('key1')['data1']\n",
      "    df.groupby('key1')[['data2']]\n",
      "\n",
      "are syntactic sugar for\n",
      "\n",
      "    df['data1'].groupby(df['key1'])\n",
      "    df[['data2']].groupby(df['key1'])\n",
      "\n",
      "For large datasets, it may be desirable to aggregate only a few columns\n"
     ]
    },
    {
     "cell_type": "code",
     "collapsed": false,
     "input": [
      "df.groupby(['key1', 'key2'])[['data2']].mean()"
     ],
     "language": "python",
     "outputs": [
      {
       "html": [
        "<div style=\"max-height:1000px;max-width:1500px;overflow:auto;\">\n",
        "<table border=\"1\" class=\"dataframe\">\n",
        "  <thead>\n",
        "    <tr style=\"text-align: right;\">\n",
        "      <th></th>\n",
        "      <th></th>\n",
        "      <th>data2</th>\n",
        "    </tr>\n",
        "    <tr>\n",
        "      <th>key1</th>\n",
        "      <th>key2</th>\n",
        "      <th></th>\n",
        "    </tr>\n",
        "  </thead>\n",
        "  <tbody>\n",
        "    <tr>\n",
        "      <th rowspan=\"2\" valign=\"top\">a</th>\n",
        "      <th>one</th>\n",
        "      <td>-0.529454</td>\n",
        "    </tr>\n",
        "    <tr>\n",
        "      <th>two</th>\n",
        "      <td>-1.071131</td>\n",
        "    </tr>\n",
        "    <tr>\n",
        "      <th rowspan=\"2\" valign=\"top\">b</th>\n",
        "      <th>one</th>\n",
        "      <td>-0.277793</td>\n",
        "    </tr>\n",
        "    <tr>\n",
        "      <th>two</th>\n",
        "      <td> 0.701521</td>\n",
        "    </tr>\n",
        "  </tbody>\n",
        "</table>\n",
        "</div>"
       ],
       "output_type": "pyout",
       "prompt_number": 16,
       "text": [
        "              data2\n",
        "key1 key2          \n",
        "a    one  -0.529454\n",
        "     two  -1.071131\n",
        "b    one  -0.277793\n",
        "     two   0.701521"
       ]
      }
     ],
     "prompt_number": 16
    },
    {
     "cell_type": "markdown",
     "source": [
      "# Grouping with Dicts and Series"
     ]
    },
    {
     "cell_type": "code",
     "collapsed": false,
     "input": [
      "people = DataFrame(np.random.randn(5, 5),\n",
      "                   columns=['a', 'b', 'c', 'd', 'e'],\n",
      "                   index=['Joe', 'Steve', 'Wes', 'Jim', 'Travis'])\n",
      "\n",
      "people.ix[2:3, ['b', 'c']] = np.nan # Add a few NA values\n",
      "\n",
      "people"
     ],
     "language": "python",
     "outputs": [
      {
       "html": [
        "<div style=\"max-height:1000px;max-width:1500px;overflow:auto;\">\n",
        "<table border=\"1\" class=\"dataframe\">\n",
        "  <thead>\n",
        "    <tr style=\"text-align: right;\">\n",
        "      <th></th>\n",
        "      <th>a</th>\n",
        "      <th>b</th>\n",
        "      <th>c</th>\n",
        "      <th>d</th>\n",
        "      <th>e</th>\n",
        "    </tr>\n",
        "  </thead>\n",
        "  <tbody>\n",
        "    <tr>\n",
        "      <th>Joe</th>\n",
        "      <td> 1.878759</td>\n",
        "      <td> 1.427431</td>\n",
        "      <td>-1.675842</td>\n",
        "      <td>-2.226905</td>\n",
        "      <td>-0.313960</td>\n",
        "    </tr>\n",
        "    <tr>\n",
        "      <th>Steve</th>\n",
        "      <td> 0.906383</td>\n",
        "      <td> 0.454673</td>\n",
        "      <td>-0.791233</td>\n",
        "      <td> 0.944204</td>\n",
        "      <td>-0.706606</td>\n",
        "    </tr>\n",
        "    <tr>\n",
        "      <th>Wes</th>\n",
        "      <td> 0.084559</td>\n",
        "      <td>      NaN</td>\n",
        "      <td>      NaN</td>\n",
        "      <td> 0.822532</td>\n",
        "      <td> 1.017160</td>\n",
        "    </tr>\n",
        "    <tr>\n",
        "      <th>Jim</th>\n",
        "      <td> 0.305658</td>\n",
        "      <td> 0.734752</td>\n",
        "      <td> 0.345478</td>\n",
        "      <td>-0.125185</td>\n",
        "      <td>-1.085377</td>\n",
        "    </tr>\n",
        "    <tr>\n",
        "      <th>Travis</th>\n",
        "      <td> 1.560479</td>\n",
        "      <td>-0.451446</td>\n",
        "      <td>-0.392087</td>\n",
        "      <td>-0.457524</td>\n",
        "      <td>-1.574465</td>\n",
        "    </tr>\n",
        "  </tbody>\n",
        "</table>\n",
        "</div>"
       ],
       "output_type": "pyout",
       "prompt_number": 17,
       "text": [
        "               a         b         c         d         e\n",
        "Joe     1.878759  1.427431 -1.675842 -2.226905 -0.313960\n",
        "Steve   0.906383  0.454673 -0.791233  0.944204 -0.706606\n",
        "Wes     0.084559       NaN       NaN  0.822532  1.017160\n",
        "Jim     0.305658  0.734752  0.345478 -0.125185 -1.085377\n",
        "Travis  1.560479 -0.451446 -0.392087 -0.457524 -1.574465"
       ]
      }
     ],
     "prompt_number": 17
    },
    {
     "cell_type": "code",
     "collapsed": false,
     "input": [
      "mapping = {'a': 'red', 'b': 'red', 'c': 'blue',\n",
      "           'd': 'blue', 'e': 'red', 'f' : 'orange'}\n",
      "\n",
      "by_column = people.groupby(mapping, axis=1)\n",
      "\n",
      "by_column.sum()"
     ],
     "language": "python",
     "outputs": [
      {
       "html": [
        "<div style=\"max-height:1000px;max-width:1500px;overflow:auto;\">\n",
        "<table border=\"1\" class=\"dataframe\">\n",
        "  <thead>\n",
        "    <tr style=\"text-align: right;\">\n",
        "      <th></th>\n",
        "      <th>blue</th>\n",
        "      <th>red</th>\n",
        "    </tr>\n",
        "  </thead>\n",
        "  <tbody>\n",
        "    <tr>\n",
        "      <th>Joe</th>\n",
        "      <td>-3.902747</td>\n",
        "      <td> 2.992230</td>\n",
        "    </tr>\n",
        "    <tr>\n",
        "      <th>Steve</th>\n",
        "      <td> 0.152972</td>\n",
        "      <td> 0.654450</td>\n",
        "    </tr>\n",
        "    <tr>\n",
        "      <th>Wes</th>\n",
        "      <td> 0.822532</td>\n",
        "      <td> 1.101719</td>\n",
        "    </tr>\n",
        "    <tr>\n",
        "      <th>Jim</th>\n",
        "      <td> 0.220293</td>\n",
        "      <td>-0.044967</td>\n",
        "    </tr>\n",
        "    <tr>\n",
        "      <th>Travis</th>\n",
        "      <td>-0.849612</td>\n",
        "      <td>-0.465433</td>\n",
        "    </tr>\n",
        "  </tbody>\n",
        "</table>\n",
        "</div>"
       ],
       "output_type": "pyout",
       "prompt_number": 18,
       "text": [
        "            blue       red\n",
        "Joe    -3.902747  2.992230\n",
        "Steve   0.152972  0.654450\n",
        "Wes     0.822532  1.101719\n",
        "Jim     0.220293 -0.044967\n",
        "Travis -0.849612 -0.465433"
       ]
      }
     ],
     "prompt_number": 18
    },
    {
     "cell_type": "code",
     "collapsed": false,
     "input": [
      "map_series = Series(mapping)\n",
      "map_series"
     ],
     "language": "python",
     "outputs": [
      {
       "output_type": "pyout",
       "prompt_number": 19,
       "text": [
        "a       red\n",
        "b       red\n",
        "c      blue\n",
        "d      blue\n",
        "e       red\n",
        "f    orange\n",
        "dtype: object"
       ]
      }
     ],
     "prompt_number": 19
    },
    {
     "cell_type": "code",
     "collapsed": false,
     "input": [
      "people.groupby(map_series, axis=1).count()\n"
     ],
     "language": "python",
     "outputs": [
      {
       "html": [
        "<div style=\"max-height:1000px;max-width:1500px;overflow:auto;\">\n",
        "<table border=\"1\" class=\"dataframe\">\n",
        "  <thead>\n",
        "    <tr style=\"text-align: right;\">\n",
        "      <th></th>\n",
        "      <th>blue</th>\n",
        "      <th>red</th>\n",
        "    </tr>\n",
        "  </thead>\n",
        "  <tbody>\n",
        "    <tr>\n",
        "      <th>Joe</th>\n",
        "      <td> 2</td>\n",
        "      <td> 3</td>\n",
        "    </tr>\n",
        "    <tr>\n",
        "      <th>Steve</th>\n",
        "      <td> 2</td>\n",
        "      <td> 3</td>\n",
        "    </tr>\n",
        "    <tr>\n",
        "      <th>Wes</th>\n",
        "      <td> 1</td>\n",
        "      <td> 2</td>\n",
        "    </tr>\n",
        "    <tr>\n",
        "      <th>Jim</th>\n",
        "      <td> 2</td>\n",
        "      <td> 3</td>\n",
        "    </tr>\n",
        "    <tr>\n",
        "      <th>Travis</th>\n",
        "      <td> 2</td>\n",
        "      <td> 3</td>\n",
        "    </tr>\n",
        "  </tbody>\n",
        "</table>\n",
        "</div>"
       ],
       "output_type": "pyout",
       "prompt_number": 20,
       "text": [
        "        blue  red\n",
        "Joe        2    3\n",
        "Steve      2    3\n",
        "Wes        1    2\n",
        "Jim        2    3\n",
        "Travis     2    3"
       ]
      }
     ],
     "prompt_number": 20
    },
    {
     "cell_type": "markdown",
     "source": [
      "# Grouping with functions"
     ]
    },
    {
     "cell_type": "code",
     "collapsed": false,
     "input": [
      "people.groupby(len).sum()"
     ],
     "language": "python",
     "outputs": [
      {
       "html": [
        "<div style=\"max-height:1000px;max-width:1500px;overflow:auto;\">\n",
        "<table border=\"1\" class=\"dataframe\">\n",
        "  <thead>\n",
        "    <tr style=\"text-align: right;\">\n",
        "      <th></th>\n",
        "      <th>a</th>\n",
        "      <th>b</th>\n",
        "      <th>c</th>\n",
        "      <th>d</th>\n",
        "      <th>e</th>\n",
        "    </tr>\n",
        "  </thead>\n",
        "  <tbody>\n",
        "    <tr>\n",
        "      <th>3</th>\n",
        "      <td> 2.268976</td>\n",
        "      <td> 2.162183</td>\n",
        "      <td>-1.330363</td>\n",
        "      <td>-1.529558</td>\n",
        "      <td>-0.382178</td>\n",
        "    </tr>\n",
        "    <tr>\n",
        "      <th>5</th>\n",
        "      <td> 0.906383</td>\n",
        "      <td> 0.454673</td>\n",
        "      <td>-0.791233</td>\n",
        "      <td> 0.944204</td>\n",
        "      <td>-0.706606</td>\n",
        "    </tr>\n",
        "    <tr>\n",
        "      <th>6</th>\n",
        "      <td> 1.560479</td>\n",
        "      <td>-0.451446</td>\n",
        "      <td>-0.392087</td>\n",
        "      <td>-0.457524</td>\n",
        "      <td>-1.574465</td>\n",
        "    </tr>\n",
        "  </tbody>\n",
        "</table>\n",
        "</div>"
       ],
       "output_type": "pyout",
       "prompt_number": 21,
       "text": [
        "          a         b         c         d         e\n",
        "3  2.268976  2.162183 -1.330363 -1.529558 -0.382178\n",
        "5  0.906383  0.454673 -0.791233  0.944204 -0.706606\n",
        "6  1.560479 -0.451446 -0.392087 -0.457524 -1.574465"
       ]
      }
     ],
     "prompt_number": 21
    },
    {
     "cell_type": "markdown",
     "source": [
      "# Data Aggregation"
     ]
    },
    {
     "cell_type": "code",
     "collapsed": false,
     "input": [
      "df"
     ],
     "language": "python",
     "outputs": [
      {
       "html": [
        "<div style=\"max-height:1000px;max-width:1500px;overflow:auto;\">\n",
        "<table border=\"1\" class=\"dataframe\">\n",
        "  <thead>\n",
        "    <tr style=\"text-align: right;\">\n",
        "      <th></th>\n",
        "      <th>data1</th>\n",
        "      <th>data2</th>\n",
        "      <th>key1</th>\n",
        "      <th>key2</th>\n",
        "    </tr>\n",
        "  </thead>\n",
        "  <tbody>\n",
        "    <tr>\n",
        "      <th>0</th>\n",
        "      <td>-0.922163</td>\n",
        "      <td>-1.291017</td>\n",
        "      <td> a</td>\n",
        "      <td> one</td>\n",
        "    </tr>\n",
        "    <tr>\n",
        "      <th>1</th>\n",
        "      <td> 0.618388</td>\n",
        "      <td>-1.071131</td>\n",
        "      <td> a</td>\n",
        "      <td> two</td>\n",
        "    </tr>\n",
        "    <tr>\n",
        "      <th>2</th>\n",
        "      <td>-0.405181</td>\n",
        "      <td>-0.277793</td>\n",
        "      <td> b</td>\n",
        "      <td> one</td>\n",
        "    </tr>\n",
        "    <tr>\n",
        "      <th>3</th>\n",
        "      <td> 0.964335</td>\n",
        "      <td> 0.701521</td>\n",
        "      <td> b</td>\n",
        "      <td> two</td>\n",
        "    </tr>\n",
        "    <tr>\n",
        "      <th>4</th>\n",
        "      <td>-1.311777</td>\n",
        "      <td> 0.232108</td>\n",
        "      <td> a</td>\n",
        "      <td> one</td>\n",
        "    </tr>\n",
        "  </tbody>\n",
        "</table>\n",
        "</div>"
       ],
       "output_type": "pyout",
       "prompt_number": 22,
       "text": [
        "      data1     data2 key1 key2\n",
        "0 -0.922163 -1.291017    a  one\n",
        "1  0.618388 -1.071131    a  two\n",
        "2 -0.405181 -0.277793    b  one\n",
        "3  0.964335  0.701521    b  two\n",
        "4 -1.311777  0.232108    a  one"
       ]
      }
     ],
     "prompt_number": 22
    },
    {
     "cell_type": "code",
     "collapsed": false,
     "input": [
      "grouped = df.groupby('key1')\n",
      "grouped['data1'].quantile(0.9)"
     ],
     "language": "python",
     "outputs": [
      {
       "output_type": "pyout",
       "prompt_number": 23,
       "text": [
        "key1\n",
        "a       0.310278\n",
        "b       0.827383\n",
        "Name: data1, dtype: float64"
       ]
      }
     ],
     "prompt_number": 23
    },
    {
     "cell_type": "markdown",
     "source": [
      "Use your own aggregation functions"
     ]
    },
    {
     "cell_type": "code",
     "collapsed": false,
     "input": [
      "def peak_to_peak(arr):\n",
      "    return arr.max() - arr.min()\n",
      "\n",
      "grouped.agg(peak_to_peak)\n",
      "\n"
     ],
     "language": "python",
     "outputs": [
      {
       "html": [
        "<div style=\"max-height:1000px;max-width:1500px;overflow:auto;\">\n",
        "<table border=\"1\" class=\"dataframe\">\n",
        "  <thead>\n",
        "    <tr style=\"text-align: right;\">\n",
        "      <th></th>\n",
        "      <th></th>\n",
        "      <th>size</th>\n",
        "      <th>tip</th>\n",
        "      <th>tip_pct</th>\n",
        "      <th>total_bill</th>\n",
        "    </tr>\n",
        "    <tr>\n",
        "      <th>sex</th>\n",
        "      <th>smoker</th>\n",
        "      <th></th>\n",
        "      <th></th>\n",
        "      <th></th>\n",
        "      <th></th>\n",
        "    </tr>\n",
        "  </thead>\n",
        "  <tbody>\n",
        "    <tr>\n",
        "      <th rowspan=\"2\" valign=\"top\">Female</th>\n",
        "      <th>No</th>\n",
        "      <td> 5</td>\n",
        "      <td> 4.20</td>\n",
        "      <td> 0.195876</td>\n",
        "      <td> 28.58</td>\n",
        "    </tr>\n",
        "    <tr>\n",
        "      <th>Yes</th>\n",
        "      <td> 3</td>\n",
        "      <td> 5.50</td>\n",
        "      <td> 0.360233</td>\n",
        "      <td> 41.23</td>\n",
        "    </tr>\n",
        "    <tr>\n",
        "      <th rowspan=\"2\" valign=\"top\">Male</th>\n",
        "      <th>No</th>\n",
        "      <td> 4</td>\n",
        "      <td> 7.75</td>\n",
        "      <td> 0.220186</td>\n",
        "      <td> 40.82</td>\n",
        "    </tr>\n",
        "    <tr>\n",
        "      <th>Yes</th>\n",
        "      <td> 4</td>\n",
        "      <td> 9.00</td>\n",
        "      <td> 0.674707</td>\n",
        "      <td> 43.56</td>\n",
        "    </tr>\n",
        "  </tbody>\n",
        "</table>\n",
        "</div>"
       ],
       "output_type": "pyout",
       "prompt_number": 35,
       "text": [
        "               size   tip   tip_pct  total_bill\n",
        "sex    smoker                                  \n",
        "Female No         5  4.20  0.195876       28.58\n",
        "       Yes        3  5.50  0.360233       41.23\n",
        "Male   No         4  7.75  0.220186       40.82\n",
        "       Yes        4  9.00  0.674707       43.56"
       ]
      }
     ],
     "prompt_number": 35
    },
    {
     "cell_type": "code",
     "collapsed": false,
     "input": [
      "grouped.describe()"
     ],
     "language": "python",
     "outputs": [
      {
       "html": [
        "<div style=\"max-height:1000px;max-width:1500px;overflow:auto;\">\n",
        "<table border=\"1\" class=\"dataframe\">\n",
        "  <thead>\n",
        "    <tr style=\"text-align: right;\">\n",
        "      <th></th>\n",
        "      <th></th>\n",
        "      <th>data1</th>\n",
        "      <th>data2</th>\n",
        "    </tr>\n",
        "    <tr>\n",
        "      <th>key1</th>\n",
        "      <th></th>\n",
        "      <th></th>\n",
        "      <th></th>\n",
        "    </tr>\n",
        "  </thead>\n",
        "  <tbody>\n",
        "    <tr>\n",
        "      <th rowspan=\"8\" valign=\"top\">a</th>\n",
        "      <th>count</th>\n",
        "      <td> 3.000000</td>\n",
        "      <td> 3.000000</td>\n",
        "    </tr>\n",
        "    <tr>\n",
        "      <th>mean</th>\n",
        "      <td>-0.538517</td>\n",
        "      <td>-0.710013</td>\n",
        "    </tr>\n",
        "    <tr>\n",
        "      <th>std</th>\n",
        "      <td> 1.020672</td>\n",
        "      <td> 0.823275</td>\n",
        "    </tr>\n",
        "    <tr>\n",
        "      <th>min</th>\n",
        "      <td>-1.311777</td>\n",
        "      <td>-1.291017</td>\n",
        "    </tr>\n",
        "    <tr>\n",
        "      <th>25%</th>\n",
        "      <td>-1.116970</td>\n",
        "      <td>-1.181074</td>\n",
        "    </tr>\n",
        "    <tr>\n",
        "      <th>50%</th>\n",
        "      <td>-0.922163</td>\n",
        "      <td>-1.071131</td>\n",
        "    </tr>\n",
        "    <tr>\n",
        "      <th>75%</th>\n",
        "      <td>-0.151887</td>\n",
        "      <td>-0.419511</td>\n",
        "    </tr>\n",
        "    <tr>\n",
        "      <th>max</th>\n",
        "      <td> 0.618388</td>\n",
        "      <td> 0.232108</td>\n",
        "    </tr>\n",
        "    <tr>\n",
        "      <th rowspan=\"8\" valign=\"top\">b</th>\n",
        "      <th>count</th>\n",
        "      <td> 2.000000</td>\n",
        "      <td> 2.000000</td>\n",
        "    </tr>\n",
        "    <tr>\n",
        "      <th>mean</th>\n",
        "      <td> 0.279577</td>\n",
        "      <td> 0.211864</td>\n",
        "    </tr>\n",
        "    <tr>\n",
        "      <th>std</th>\n",
        "      <td> 0.968394</td>\n",
        "      <td> 0.692480</td>\n",
        "    </tr>\n",
        "    <tr>\n",
        "      <th>min</th>\n",
        "      <td>-0.405181</td>\n",
        "      <td>-0.277793</td>\n",
        "    </tr>\n",
        "    <tr>\n",
        "      <th>25%</th>\n",
        "      <td>-0.062802</td>\n",
        "      <td>-0.032964</td>\n",
        "    </tr>\n",
        "    <tr>\n",
        "      <th>50%</th>\n",
        "      <td> 0.279577</td>\n",
        "      <td> 0.211864</td>\n",
        "    </tr>\n",
        "    <tr>\n",
        "      <th>75%</th>\n",
        "      <td> 0.621956</td>\n",
        "      <td> 0.456693</td>\n",
        "    </tr>\n",
        "    <tr>\n",
        "      <th>max</th>\n",
        "      <td> 0.964335</td>\n",
        "      <td> 0.701521</td>\n",
        "    </tr>\n",
        "  </tbody>\n",
        "</table>\n",
        "</div>"
       ],
       "output_type": "pyout",
       "prompt_number": 27,
       "text": [
        "               data1     data2\n",
        "key1                          \n",
        "a    count  3.000000  3.000000\n",
        "     mean  -0.538517 -0.710013\n",
        "     std    1.020672  0.823275\n",
        "     min   -1.311777 -1.291017\n",
        "     25%   -1.116970 -1.181074\n",
        "     50%   -0.922163 -1.071131\n",
        "     75%   -0.151887 -0.419511\n",
        "     max    0.618388  0.232108\n",
        "b    count  2.000000  2.000000\n",
        "     mean   0.279577  0.211864\n",
        "     std    0.968394  0.692480\n",
        "     min   -0.405181 -0.277793\n",
        "     25%   -0.062802 -0.032964\n",
        "     50%    0.279577  0.211864\n",
        "     75%    0.621956  0.456693\n",
        "     max    0.964335  0.701521"
       ]
      }
     ],
     "prompt_number": 27
    },
    {
     "cell_type": "markdown",
     "source": [
      "# More aggregations"
     ]
    },
    {
     "cell_type": "code",
     "collapsed": false,
     "input": [
      "tips = pd.read_csv('../ch08/tips.csv')\n",
      "\n",
      "# Add tip percentage of total bill\n",
      "tips['tip_pct'] = tips['tip'] / tips['total_bill']\n",
      "\n",
      "tips.head()"
     ],
     "language": "python",
     "outputs": [
      {
       "html": [
        "<div style=\"max-height:1000px;max-width:1500px;overflow:auto;\">\n",
        "<table border=\"1\" class=\"dataframe\">\n",
        "  <thead>\n",
        "    <tr style=\"text-align: right;\">\n",
        "      <th></th>\n",
        "      <th>total_bill</th>\n",
        "      <th>tip</th>\n",
        "      <th>sex</th>\n",
        "      <th>smoker</th>\n",
        "      <th>day</th>\n",
        "      <th>time</th>\n",
        "      <th>size</th>\n",
        "      <th>tip_pct</th>\n",
        "    </tr>\n",
        "  </thead>\n",
        "  <tbody>\n",
        "    <tr>\n",
        "      <th>0</th>\n",
        "      <td> 16.99</td>\n",
        "      <td> 1.01</td>\n",
        "      <td> Female</td>\n",
        "      <td> No</td>\n",
        "      <td> Sun</td>\n",
        "      <td> Dinner</td>\n",
        "      <td> 2</td>\n",
        "      <td> 0.059447</td>\n",
        "    </tr>\n",
        "    <tr>\n",
        "      <th>1</th>\n",
        "      <td> 10.34</td>\n",
        "      <td> 1.66</td>\n",
        "      <td>   Male</td>\n",
        "      <td> No</td>\n",
        "      <td> Sun</td>\n",
        "      <td> Dinner</td>\n",
        "      <td> 3</td>\n",
        "      <td> 0.160542</td>\n",
        "    </tr>\n",
        "    <tr>\n",
        "      <th>2</th>\n",
        "      <td> 21.01</td>\n",
        "      <td> 3.50</td>\n",
        "      <td>   Male</td>\n",
        "      <td> No</td>\n",
        "      <td> Sun</td>\n",
        "      <td> Dinner</td>\n",
        "      <td> 3</td>\n",
        "      <td> 0.166587</td>\n",
        "    </tr>\n",
        "    <tr>\n",
        "      <th>3</th>\n",
        "      <td> 23.68</td>\n",
        "      <td> 3.31</td>\n",
        "      <td>   Male</td>\n",
        "      <td> No</td>\n",
        "      <td> Sun</td>\n",
        "      <td> Dinner</td>\n",
        "      <td> 2</td>\n",
        "      <td> 0.139780</td>\n",
        "    </tr>\n",
        "    <tr>\n",
        "      <th>4</th>\n",
        "      <td> 24.59</td>\n",
        "      <td> 3.61</td>\n",
        "      <td> Female</td>\n",
        "      <td> No</td>\n",
        "      <td> Sun</td>\n",
        "      <td> Dinner</td>\n",
        "      <td> 4</td>\n",
        "      <td> 0.146808</td>\n",
        "    </tr>\n",
        "  </tbody>\n",
        "</table>\n",
        "</div>"
       ],
       "output_type": "pyout",
       "prompt_number": 29,
       "text": [
        "   total_bill   tip     sex smoker  day    time  size   tip_pct\n",
        "0       16.99  1.01  Female     No  Sun  Dinner     2  0.059447\n",
        "1       10.34  1.66    Male     No  Sun  Dinner     3  0.160542\n",
        "2       21.01  3.50    Male     No  Sun  Dinner     3  0.166587\n",
        "3       23.68  3.31    Male     No  Sun  Dinner     2  0.139780\n",
        "4       24.59  3.61  Female     No  Sun  Dinner     4  0.146808"
       ]
      }
     ],
     "prompt_number": 29
    },
    {
     "cell_type": "markdown",
     "source": [
      "# Column-wise and multiple function application"
     ]
    },
    {
     "cell_type": "code",
     "collapsed": false,
     "input": [
      "grouped = tips.groupby(['sex', 'smoker'])\n",
      "grouped_pct = grouped['tip_pct']\n",
      "grouped_pct.agg('mean')"
     ],
     "language": "python",
     "outputs": [
      {
       "output_type": "pyout",
       "prompt_number": 33,
       "text": [
        "sex     smoker\n",
        "Female  No        0.156921\n",
        "        Yes       0.182150\n",
        "Male    No        0.160669\n",
        "        Yes       0.152771\n",
        "Name: tip_pct, dtype: float64"
       ]
      }
     ],
     "prompt_number": 33
    },
    {
     "cell_type": "code",
     "collapsed": false,
     "input": [
      "grouped_pct.agg(['mean', 'std', peak_to_peak])"
     ],
     "language": "python",
     "outputs": [
      {
       "html": [
        "<div style=\"max-height:1000px;max-width:1500px;overflow:auto;\">\n",
        "<table border=\"1\" class=\"dataframe\">\n",
        "  <thead>\n",
        "    <tr style=\"text-align: right;\">\n",
        "      <th></th>\n",
        "      <th></th>\n",
        "      <th>mean</th>\n",
        "      <th>std</th>\n",
        "      <th>peak_to_peak</th>\n",
        "    </tr>\n",
        "    <tr>\n",
        "      <th>sex</th>\n",
        "      <th>smoker</th>\n",
        "      <th></th>\n",
        "      <th></th>\n",
        "      <th></th>\n",
        "    </tr>\n",
        "  </thead>\n",
        "  <tbody>\n",
        "    <tr>\n",
        "      <th rowspan=\"2\" valign=\"top\">Female</th>\n",
        "      <th>No</th>\n",
        "      <td> 0.156921</td>\n",
        "      <td> 0.036421</td>\n",
        "      <td> 0.195876</td>\n",
        "    </tr>\n",
        "    <tr>\n",
        "      <th>Yes</th>\n",
        "      <td> 0.182150</td>\n",
        "      <td> 0.071595</td>\n",
        "      <td> 0.360233</td>\n",
        "    </tr>\n",
        "    <tr>\n",
        "      <th rowspan=\"2\" valign=\"top\">Male</th>\n",
        "      <th>No</th>\n",
        "      <td> 0.160669</td>\n",
        "      <td> 0.041849</td>\n",
        "      <td> 0.220186</td>\n",
        "    </tr>\n",
        "    <tr>\n",
        "      <th>Yes</th>\n",
        "      <td> 0.152771</td>\n",
        "      <td> 0.090588</td>\n",
        "      <td> 0.674707</td>\n",
        "    </tr>\n",
        "  </tbody>\n",
        "</table>\n",
        "</div>"
       ],
       "output_type": "pyout",
       "prompt_number": 38,
       "text": [
        "                   mean       std  peak_to_peak\n",
        "sex    smoker                                  \n",
        "Female No      0.156921  0.036421      0.195876\n",
        "       Yes     0.182150  0.071595      0.360233\n",
        "Male   No      0.160669  0.041849      0.220186\n",
        "       Yes     0.152771  0.090588      0.674707"
       ]
      }
     ],
     "prompt_number": 38
    },
    {
     "cell_type": "code",
     "collapsed": false,
     "input": [
      "functions = ['count', 'mean', 'max']\n",
      "result = grouped['tip_pct', 'total_bill'].agg(functions)\n",
      "result"
     ],
     "language": "python",
     "outputs": [
      {
       "html": [
        "<div style=\"max-height:1000px;max-width:1500px;overflow:auto;\">\n",
        "<table border=\"1\" class=\"dataframe\">\n",
        "  <thead>\n",
        "    <tr>\n",
        "      <th></th>\n",
        "      <th></th>\n",
        "      <th colspan=\"3\" halign=\"left\">tip_pct</th>\n",
        "      <th colspan=\"3\" halign=\"left\">total_bill</th>\n",
        "    </tr>\n",
        "    <tr>\n",
        "      <th></th>\n",
        "      <th></th>\n",
        "      <th>count</th>\n",
        "      <th>mean</th>\n",
        "      <th>max</th>\n",
        "      <th>count</th>\n",
        "      <th>mean</th>\n",
        "      <th>max</th>\n",
        "    </tr>\n",
        "    <tr>\n",
        "      <th>sex</th>\n",
        "      <th>smoker</th>\n",
        "      <th></th>\n",
        "      <th></th>\n",
        "      <th></th>\n",
        "      <th></th>\n",
        "      <th></th>\n",
        "      <th></th>\n",
        "    </tr>\n",
        "  </thead>\n",
        "  <tbody>\n",
        "    <tr>\n",
        "      <th rowspan=\"2\" valign=\"top\">Female</th>\n",
        "      <th>No</th>\n",
        "      <td> 54</td>\n",
        "      <td> 0.156921</td>\n",
        "      <td> 0.252672</td>\n",
        "      <td> 54</td>\n",
        "      <td> 18.105185</td>\n",
        "      <td> 35.83</td>\n",
        "    </tr>\n",
        "    <tr>\n",
        "      <th>Yes</th>\n",
        "      <td> 33</td>\n",
        "      <td> 0.182150</td>\n",
        "      <td> 0.416667</td>\n",
        "      <td> 33</td>\n",
        "      <td> 17.977879</td>\n",
        "      <td> 44.30</td>\n",
        "    </tr>\n",
        "    <tr>\n",
        "      <th rowspan=\"2\" valign=\"top\">Male</th>\n",
        "      <th>No</th>\n",
        "      <td> 97</td>\n",
        "      <td> 0.160669</td>\n",
        "      <td> 0.291990</td>\n",
        "      <td> 97</td>\n",
        "      <td> 19.791237</td>\n",
        "      <td> 48.33</td>\n",
        "    </tr>\n",
        "    <tr>\n",
        "      <th>Yes</th>\n",
        "      <td> 60</td>\n",
        "      <td> 0.152771</td>\n",
        "      <td> 0.710345</td>\n",
        "      <td> 60</td>\n",
        "      <td> 22.284500</td>\n",
        "      <td> 50.81</td>\n",
        "    </tr>\n",
        "  </tbody>\n",
        "</table>\n",
        "</div>"
       ],
       "output_type": "pyout",
       "prompt_number": 39,
       "text": [
        "               tip_pct                      total_bill                  \n",
        "                 count      mean       max       count       mean    max\n",
        "sex    smoker                                                           \n",
        "Female No           54  0.156921  0.252672          54  18.105185  35.83\n",
        "       Yes          33  0.182150  0.416667          33  17.977879  44.30\n",
        "Male   No           97  0.160669  0.291990          97  19.791237  48.33\n",
        "       Yes          60  0.152771  0.710345          60  22.284500  50.81"
       ]
      }
     ],
     "prompt_number": 39
    },
    {
     "cell_type": "markdown",
     "source": [
      "# Group-wise operations and transformations"
     ]
    },
    {
     "cell_type": "markdown",
     "source": [
      "Aggregations is only one kind of group operation. It reduces one-dimensional\n",
      "array to a scalar value. `transform` and `apply` enable you to do many other\n",
      "kinds of group operations."
     ]
    },
    {
     "cell_type": "markdown",
     "source": [
      "Suppose we wanted to add a column to a DataFrame containing group means for each\n",
      "index.\n",
      "\n",
      "First, _not so good_ solution."
     ]
    },
    {
     "cell_type": "code",
     "collapsed": false,
     "input": [
      "df"
     ],
     "language": "python",
     "outputs": [
      {
       "html": [
        "<div style=\"max-height:1000px;max-width:1500px;overflow:auto;\">\n",
        "<table border=\"1\" class=\"dataframe\">\n",
        "  <thead>\n",
        "    <tr style=\"text-align: right;\">\n",
        "      <th></th>\n",
        "      <th>data1</th>\n",
        "      <th>data2</th>\n",
        "      <th>key1</th>\n",
        "      <th>key2</th>\n",
        "    </tr>\n",
        "  </thead>\n",
        "  <tbody>\n",
        "    <tr>\n",
        "      <th>0</th>\n",
        "      <td>-0.922163</td>\n",
        "      <td>-1.291017</td>\n",
        "      <td> a</td>\n",
        "      <td> one</td>\n",
        "    </tr>\n",
        "    <tr>\n",
        "      <th>1</th>\n",
        "      <td> 0.618388</td>\n",
        "      <td>-1.071131</td>\n",
        "      <td> a</td>\n",
        "      <td> two</td>\n",
        "    </tr>\n",
        "    <tr>\n",
        "      <th>2</th>\n",
        "      <td>-0.405181</td>\n",
        "      <td>-0.277793</td>\n",
        "      <td> b</td>\n",
        "      <td> one</td>\n",
        "    </tr>\n",
        "    <tr>\n",
        "      <th>3</th>\n",
        "      <td> 0.964335</td>\n",
        "      <td> 0.701521</td>\n",
        "      <td> b</td>\n",
        "      <td> two</td>\n",
        "    </tr>\n",
        "    <tr>\n",
        "      <th>4</th>\n",
        "      <td>-1.311777</td>\n",
        "      <td> 0.232108</td>\n",
        "      <td> a</td>\n",
        "      <td> one</td>\n",
        "    </tr>\n",
        "  </tbody>\n",
        "</table>\n",
        "</div>"
       ],
       "output_type": "pyout",
       "prompt_number": 40,
       "text": [
        "      data1     data2 key1 key2\n",
        "0 -0.922163 -1.291017    a  one\n",
        "1  0.618388 -1.071131    a  two\n",
        "2 -0.405181 -0.277793    b  one\n",
        "3  0.964335  0.701521    b  two\n",
        "4 -1.311777  0.232108    a  one"
       ]
      }
     ],
     "prompt_number": 40
    },
    {
     "cell_type": "code",
     "collapsed": false,
     "input": [
      "k1_means = df.groupby('key1').mean().add_prefix('mean_')\n",
      "k1_means"
     ],
     "language": "python",
     "outputs": [
      {
       "html": [
        "<div style=\"max-height:1000px;max-width:1500px;overflow:auto;\">\n",
        "<table border=\"1\" class=\"dataframe\">\n",
        "  <thead>\n",
        "    <tr style=\"text-align: right;\">\n",
        "      <th></th>\n",
        "      <th>mean_data1</th>\n",
        "      <th>mean_data2</th>\n",
        "    </tr>\n",
        "    <tr>\n",
        "      <th>key1</th>\n",
        "      <th></th>\n",
        "      <th></th>\n",
        "    </tr>\n",
        "  </thead>\n",
        "  <tbody>\n",
        "    <tr>\n",
        "      <th>a</th>\n",
        "      <td>-0.538517</td>\n",
        "      <td>-0.710013</td>\n",
        "    </tr>\n",
        "    <tr>\n",
        "      <th>b</th>\n",
        "      <td> 0.279577</td>\n",
        "      <td> 0.211864</td>\n",
        "    </tr>\n",
        "  </tbody>\n",
        "</table>\n",
        "</div>"
       ],
       "output_type": "pyout",
       "prompt_number": 43,
       "text": [
        "      mean_data1  mean_data2\n",
        "key1                        \n",
        "a      -0.538517   -0.710013\n",
        "b       0.279577    0.211864"
       ]
      }
     ],
     "prompt_number": 43
    },
    {
     "cell_type": "code",
     "collapsed": false,
     "input": [
      "pd.merge(df, k1_means, left_on='key1', right_index=True)\n"
     ],
     "language": "python",
     "outputs": [
      {
       "html": [
        "<div style=\"max-height:1000px;max-width:1500px;overflow:auto;\">\n",
        "<table border=\"1\" class=\"dataframe\">\n",
        "  <thead>\n",
        "    <tr style=\"text-align: right;\">\n",
        "      <th></th>\n",
        "      <th>data1</th>\n",
        "      <th>data2</th>\n",
        "      <th>key1</th>\n",
        "      <th>key2</th>\n",
        "      <th>mean_data1</th>\n",
        "      <th>mean_data2</th>\n",
        "    </tr>\n",
        "  </thead>\n",
        "  <tbody>\n",
        "    <tr>\n",
        "      <th>0</th>\n",
        "      <td>-0.922163</td>\n",
        "      <td>-1.291017</td>\n",
        "      <td> a</td>\n",
        "      <td> one</td>\n",
        "      <td>-0.538517</td>\n",
        "      <td>-0.710013</td>\n",
        "    </tr>\n",
        "    <tr>\n",
        "      <th>1</th>\n",
        "      <td> 0.618388</td>\n",
        "      <td>-1.071131</td>\n",
        "      <td> a</td>\n",
        "      <td> two</td>\n",
        "      <td>-0.538517</td>\n",
        "      <td>-0.710013</td>\n",
        "    </tr>\n",
        "    <tr>\n",
        "      <th>4</th>\n",
        "      <td>-1.311777</td>\n",
        "      <td> 0.232108</td>\n",
        "      <td> a</td>\n",
        "      <td> one</td>\n",
        "      <td>-0.538517</td>\n",
        "      <td>-0.710013</td>\n",
        "    </tr>\n",
        "    <tr>\n",
        "      <th>2</th>\n",
        "      <td>-0.405181</td>\n",
        "      <td>-0.277793</td>\n",
        "      <td> b</td>\n",
        "      <td> one</td>\n",
        "      <td> 0.279577</td>\n",
        "      <td> 0.211864</td>\n",
        "    </tr>\n",
        "    <tr>\n",
        "      <th>3</th>\n",
        "      <td> 0.964335</td>\n",
        "      <td> 0.701521</td>\n",
        "      <td> b</td>\n",
        "      <td> two</td>\n",
        "      <td> 0.279577</td>\n",
        "      <td> 0.211864</td>\n",
        "    </tr>\n",
        "  </tbody>\n",
        "</table>\n",
        "</div>"
       ],
       "output_type": "pyout",
       "prompt_number": 46,
       "text": [
        "      data1     data2 key1 key2  mean_data1  mean_data2\n",
        "0 -0.922163 -1.291017    a  one   -0.538517   -0.710013\n",
        "1  0.618388 -1.071131    a  two   -0.538517   -0.710013\n",
        "4 -1.311777  0.232108    a  one   -0.538517   -0.710013\n",
        "2 -0.405181 -0.277793    b  one    0.279577    0.211864\n",
        "3  0.964335  0.701521    b  two    0.279577    0.211864"
       ]
      }
     ],
     "prompt_number": 46
    },
    {
     "cell_type": "markdown",
     "source": [
      "Now, _better_ solution"
     ]
    },
    {
     "cell_type": "code",
     "collapsed": false,
     "input": [
      "people"
     ],
     "language": "python",
     "outputs": [
      {
       "html": [
        "<div style=\"max-height:1000px;max-width:1500px;overflow:auto;\">\n",
        "<table border=\"1\" class=\"dataframe\">\n",
        "  <thead>\n",
        "    <tr style=\"text-align: right;\">\n",
        "      <th></th>\n",
        "      <th>a</th>\n",
        "      <th>b</th>\n",
        "      <th>c</th>\n",
        "      <th>d</th>\n",
        "      <th>e</th>\n",
        "    </tr>\n",
        "  </thead>\n",
        "  <tbody>\n",
        "    <tr>\n",
        "      <th>Joe</th>\n",
        "      <td> 1.878759</td>\n",
        "      <td> 1.427431</td>\n",
        "      <td>-1.675842</td>\n",
        "      <td>-2.226905</td>\n",
        "      <td>-0.313960</td>\n",
        "    </tr>\n",
        "    <tr>\n",
        "      <th>Steve</th>\n",
        "      <td> 0.906383</td>\n",
        "      <td> 0.454673</td>\n",
        "      <td>-0.791233</td>\n",
        "      <td> 0.944204</td>\n",
        "      <td>-0.706606</td>\n",
        "    </tr>\n",
        "    <tr>\n",
        "      <th>Wes</th>\n",
        "      <td> 0.084559</td>\n",
        "      <td>      NaN</td>\n",
        "      <td>      NaN</td>\n",
        "      <td> 0.822532</td>\n",
        "      <td> 1.017160</td>\n",
        "    </tr>\n",
        "    <tr>\n",
        "      <th>Jim</th>\n",
        "      <td> 0.305658</td>\n",
        "      <td> 0.734752</td>\n",
        "      <td> 0.345478</td>\n",
        "      <td>-0.125185</td>\n",
        "      <td>-1.085377</td>\n",
        "    </tr>\n",
        "    <tr>\n",
        "      <th>Travis</th>\n",
        "      <td> 1.560479</td>\n",
        "      <td>-0.451446</td>\n",
        "      <td>-0.392087</td>\n",
        "      <td>-0.457524</td>\n",
        "      <td>-1.574465</td>\n",
        "    </tr>\n",
        "  </tbody>\n",
        "</table>\n",
        "</div>"
       ],
       "output_type": "pyout",
       "prompt_number": 48,
       "text": [
        "               a         b         c         d         e\n",
        "Joe     1.878759  1.427431 -1.675842 -2.226905 -0.313960\n",
        "Steve   0.906383  0.454673 -0.791233  0.944204 -0.706606\n",
        "Wes     0.084559       NaN       NaN  0.822532  1.017160\n",
        "Jim     0.305658  0.734752  0.345478 -0.125185 -1.085377\n",
        "Travis  1.560479 -0.451446 -0.392087 -0.457524 -1.574465"
       ]
      }
     ],
     "prompt_number": 48
    },
    {
     "cell_type": "code",
     "collapsed": false,
     "input": [
      "key = ['one', 'two', 'one', 'two', 'one']\n",
      "people.groupby(key).mean()"
     ],
     "language": "python",
     "outputs": [
      {
       "html": [
        "<div style=\"max-height:1000px;max-width:1500px;overflow:auto;\">\n",
        "<table border=\"1\" class=\"dataframe\">\n",
        "  <thead>\n",
        "    <tr style=\"text-align: right;\">\n",
        "      <th></th>\n",
        "      <th>a</th>\n",
        "      <th>b</th>\n",
        "      <th>c</th>\n",
        "      <th>d</th>\n",
        "      <th>e</th>\n",
        "    </tr>\n",
        "  </thead>\n",
        "  <tbody>\n",
        "    <tr>\n",
        "      <th>one</th>\n",
        "      <td> 1.174599</td>\n",
        "      <td> 0.487992</td>\n",
        "      <td>-1.033964</td>\n",
        "      <td>-0.620633</td>\n",
        "      <td>-0.290422</td>\n",
        "    </tr>\n",
        "    <tr>\n",
        "      <th>two</th>\n",
        "      <td> 0.606021</td>\n",
        "      <td> 0.594712</td>\n",
        "      <td>-0.222877</td>\n",
        "      <td> 0.409510</td>\n",
        "      <td>-0.895992</td>\n",
        "    </tr>\n",
        "  </tbody>\n",
        "</table>\n",
        "</div>"
       ],
       "output_type": "pyout",
       "prompt_number": 50,
       "text": [
        "            a         b         c         d         e\n",
        "one  1.174599  0.487992 -1.033964 -0.620633 -0.290422\n",
        "two  0.606021  0.594712 -0.222877  0.409510 -0.895992"
       ]
      }
     ],
     "prompt_number": 50
    },
    {
     "cell_type": "code",
     "collapsed": false,
     "input": [
      "people.groupby(key).transform(lambda x: x.mean())"
     ],
     "language": "python",
     "outputs": [
      {
       "html": [
        "<div style=\"max-height:1000px;max-width:1500px;overflow:auto;\">\n",
        "<table border=\"1\" class=\"dataframe\">\n",
        "  <thead>\n",
        "    <tr style=\"text-align: right;\">\n",
        "      <th></th>\n",
        "      <th>a</th>\n",
        "      <th>b</th>\n",
        "      <th>c</th>\n",
        "      <th>d</th>\n",
        "      <th>e</th>\n",
        "    </tr>\n",
        "  </thead>\n",
        "  <tbody>\n",
        "    <tr>\n",
        "      <th>Jim</th>\n",
        "      <td> 0.606021</td>\n",
        "      <td> 0.594712</td>\n",
        "      <td>-0.222877</td>\n",
        "      <td> 0.409510</td>\n",
        "      <td>-0.895992</td>\n",
        "    </tr>\n",
        "    <tr>\n",
        "      <th>Joe</th>\n",
        "      <td> 1.174599</td>\n",
        "      <td> 0.487992</td>\n",
        "      <td>-1.033964</td>\n",
        "      <td>-0.620633</td>\n",
        "      <td>-0.290422</td>\n",
        "    </tr>\n",
        "    <tr>\n",
        "      <th>Steve</th>\n",
        "      <td> 0.606021</td>\n",
        "      <td> 0.594712</td>\n",
        "      <td>-0.222877</td>\n",
        "      <td> 0.409510</td>\n",
        "      <td>-0.895992</td>\n",
        "    </tr>\n",
        "    <tr>\n",
        "      <th>Travis</th>\n",
        "      <td> 1.174599</td>\n",
        "      <td> 0.487992</td>\n",
        "      <td>-1.033964</td>\n",
        "      <td>-0.620633</td>\n",
        "      <td>-0.290422</td>\n",
        "    </tr>\n",
        "    <tr>\n",
        "      <th>Wes</th>\n",
        "      <td> 1.174599</td>\n",
        "      <td> 0.487992</td>\n",
        "      <td>-1.033964</td>\n",
        "      <td>-0.620633</td>\n",
        "      <td>-0.290422</td>\n",
        "    </tr>\n",
        "  </tbody>\n",
        "</table>\n",
        "</div>"
       ],
       "output_type": "pyout",
       "prompt_number": 72,
       "text": [
        "               a         b         c         d         e\n",
        "Jim     0.606021  0.594712 -0.222877  0.409510 -0.895992\n",
        "Joe     1.174599  0.487992 -1.033964 -0.620633 -0.290422\n",
        "Steve   0.606021  0.594712 -0.222877  0.409510 -0.895992\n",
        "Travis  1.174599  0.487992 -1.033964 -0.620633 -0.290422\n",
        "Wes     1.174599  0.487992 -1.033964 -0.620633 -0.290422"
       ]
      }
     ],
     "prompt_number": 72
    },
    {
     "cell_type": "markdown",
     "source": [
      "To subtract the mean value from each group"
     ]
    },
    {
     "cell_type": "code",
     "collapsed": false,
     "input": [
      "def demean(arr):\n",
      "    return arr - arr.mean()\n",
      "\n",
      "demeaned = people.groupby(key).transform(demean)\n",
      "\n",
      "demeaned"
     ],
     "language": "python",
     "outputs": [
      {
       "html": [
        "<div style=\"max-height:1000px;max-width:1500px;overflow:auto;\">\n",
        "<table border=\"1\" class=\"dataframe\">\n",
        "  <thead>\n",
        "    <tr style=\"text-align: right;\">\n",
        "      <th></th>\n",
        "      <th>a</th>\n",
        "      <th>b</th>\n",
        "      <th>c</th>\n",
        "      <th>d</th>\n",
        "      <th>e</th>\n",
        "    </tr>\n",
        "  </thead>\n",
        "  <tbody>\n",
        "    <tr>\n",
        "      <th>Jim</th>\n",
        "      <td>-0.300363</td>\n",
        "      <td> 0.140039</td>\n",
        "      <td> 0.568355</td>\n",
        "      <td>-0.534695</td>\n",
        "      <td>-0.189386</td>\n",
        "    </tr>\n",
        "    <tr>\n",
        "      <th>Joe</th>\n",
        "      <td> 0.704160</td>\n",
        "      <td> 0.939439</td>\n",
        "      <td>-0.641877</td>\n",
        "      <td>-1.606273</td>\n",
        "      <td>-0.023538</td>\n",
        "    </tr>\n",
        "    <tr>\n",
        "      <th>Steve</th>\n",
        "      <td> 0.300363</td>\n",
        "      <td>-0.140039</td>\n",
        "      <td>-0.568355</td>\n",
        "      <td> 0.534695</td>\n",
        "      <td> 0.189386</td>\n",
        "    </tr>\n",
        "    <tr>\n",
        "      <th>Travis</th>\n",
        "      <td> 0.385880</td>\n",
        "      <td>-0.939439</td>\n",
        "      <td> 0.641877</td>\n",
        "      <td> 0.163108</td>\n",
        "      <td>-1.284043</td>\n",
        "    </tr>\n",
        "    <tr>\n",
        "      <th>Wes</th>\n",
        "      <td>-1.090040</td>\n",
        "      <td>      NaN</td>\n",
        "      <td>      NaN</td>\n",
        "      <td> 1.443165</td>\n",
        "      <td> 1.307582</td>\n",
        "    </tr>\n",
        "  </tbody>\n",
        "</table>\n",
        "</div>"
       ],
       "output_type": "pyout",
       "prompt_number": 70,
       "text": [
        "               a         b         c         d         e\n",
        "Jim    -0.300363  0.140039  0.568355 -0.534695 -0.189386\n",
        "Joe     0.704160  0.939439 -0.641877 -1.606273 -0.023538\n",
        "Steve   0.300363 -0.140039 -0.568355  0.534695  0.189386\n",
        "Travis  0.385880 -0.939439  0.641877  0.163108 -1.284043\n",
        "Wes    -1.090040       NaN       NaN  1.443165  1.307582"
       ]
      }
     ],
     "prompt_number": 70
    },
    {
     "cell_type": "markdown",
     "source": [
      "# Apply: general split-apply-combine"
     ]
    },
    {
     "cell_type": "markdown",
     "source": [
      "Suppose, you want to select the top five `tip_pct` values by group."
     ]
    },
    {
     "cell_type": "code",
     "collapsed": false,
     "input": [
      "def top(df, n=5, column='tip_pct'):\n",
      "    return df.sort_index(by=column)[-n:]\n",
      "\n",
      "top(tips, n=6)"
     ],
     "language": "python",
     "outputs": [
      {
       "html": [
        "<div style=\"max-height:1000px;max-width:1500px;overflow:auto;\">\n",
        "<table border=\"1\" class=\"dataframe\">\n",
        "  <thead>\n",
        "    <tr style=\"text-align: right;\">\n",
        "      <th></th>\n",
        "      <th>total_bill</th>\n",
        "      <th>tip</th>\n",
        "      <th>sex</th>\n",
        "      <th>smoker</th>\n",
        "      <th>day</th>\n",
        "      <th>time</th>\n",
        "      <th>size</th>\n",
        "      <th>tip_pct</th>\n",
        "    </tr>\n",
        "  </thead>\n",
        "  <tbody>\n",
        "    <tr>\n",
        "      <th>109</th>\n",
        "      <td> 14.31</td>\n",
        "      <td> 4.00</td>\n",
        "      <td> Female</td>\n",
        "      <td> Yes</td>\n",
        "      <td> Sat</td>\n",
        "      <td> Dinner</td>\n",
        "      <td> 2</td>\n",
        "      <td> 0.279525</td>\n",
        "    </tr>\n",
        "    <tr>\n",
        "      <th>183</th>\n",
        "      <td> 23.17</td>\n",
        "      <td> 6.50</td>\n",
        "      <td>   Male</td>\n",
        "      <td> Yes</td>\n",
        "      <td> Sun</td>\n",
        "      <td> Dinner</td>\n",
        "      <td> 4</td>\n",
        "      <td> 0.280535</td>\n",
        "    </tr>\n",
        "    <tr>\n",
        "      <th>232</th>\n",
        "      <td> 11.61</td>\n",
        "      <td> 3.39</td>\n",
        "      <td>   Male</td>\n",
        "      <td>  No</td>\n",
        "      <td> Sat</td>\n",
        "      <td> Dinner</td>\n",
        "      <td> 2</td>\n",
        "      <td> 0.291990</td>\n",
        "    </tr>\n",
        "    <tr>\n",
        "      <th>67 </th>\n",
        "      <td>  3.07</td>\n",
        "      <td> 1.00</td>\n",
        "      <td> Female</td>\n",
        "      <td> Yes</td>\n",
        "      <td> Sat</td>\n",
        "      <td> Dinner</td>\n",
        "      <td> 1</td>\n",
        "      <td> 0.325733</td>\n",
        "    </tr>\n",
        "    <tr>\n",
        "      <th>178</th>\n",
        "      <td>  9.60</td>\n",
        "      <td> 4.00</td>\n",
        "      <td> Female</td>\n",
        "      <td> Yes</td>\n",
        "      <td> Sun</td>\n",
        "      <td> Dinner</td>\n",
        "      <td> 2</td>\n",
        "      <td> 0.416667</td>\n",
        "    </tr>\n",
        "    <tr>\n",
        "      <th>172</th>\n",
        "      <td>  7.25</td>\n",
        "      <td> 5.15</td>\n",
        "      <td>   Male</td>\n",
        "      <td> Yes</td>\n",
        "      <td> Sun</td>\n",
        "      <td> Dinner</td>\n",
        "      <td> 2</td>\n",
        "      <td> 0.710345</td>\n",
        "    </tr>\n",
        "  </tbody>\n",
        "</table>\n",
        "</div>"
       ],
       "output_type": "pyout",
       "prompt_number": 73,
       "text": [
        "     total_bill   tip     sex smoker  day    time  size   tip_pct\n",
        "109       14.31  4.00  Female    Yes  Sat  Dinner     2  0.279525\n",
        "183       23.17  6.50    Male    Yes  Sun  Dinner     4  0.280535\n",
        "232       11.61  3.39    Male     No  Sat  Dinner     2  0.291990\n",
        "67         3.07  1.00  Female    Yes  Sat  Dinner     1  0.325733\n",
        "178        9.60  4.00  Female    Yes  Sun  Dinner     2  0.416667\n",
        "172        7.25  5.15    Male    Yes  Sun  Dinner     2  0.710345"
       ]
      }
     ],
     "prompt_number": 73
    },
    {
     "cell_type": "markdown",
     "source": [
      "Group by smoker"
     ]
    },
    {
     "cell_type": "code",
     "collapsed": false,
     "input": [
      "tips.groupby('smoker').apply(top)"
     ],
     "language": "python",
     "outputs": [
      {
       "html": [
        "<div style=\"max-height:1000px;max-width:1500px;overflow:auto;\">\n",
        "<table border=\"1\" class=\"dataframe\">\n",
        "  <thead>\n",
        "    <tr style=\"text-align: right;\">\n",
        "      <th></th>\n",
        "      <th></th>\n",
        "      <th>total_bill</th>\n",
        "      <th>tip</th>\n",
        "      <th>sex</th>\n",
        "      <th>smoker</th>\n",
        "      <th>day</th>\n",
        "      <th>time</th>\n",
        "      <th>size</th>\n",
        "      <th>tip_pct</th>\n",
        "    </tr>\n",
        "    <tr>\n",
        "      <th>smoker</th>\n",
        "      <th></th>\n",
        "      <th></th>\n",
        "      <th></th>\n",
        "      <th></th>\n",
        "      <th></th>\n",
        "      <th></th>\n",
        "      <th></th>\n",
        "      <th></th>\n",
        "      <th></th>\n",
        "    </tr>\n",
        "  </thead>\n",
        "  <tbody>\n",
        "    <tr>\n",
        "      <th rowspan=\"5\" valign=\"top\">No</th>\n",
        "      <th>88 </th>\n",
        "      <td> 24.71</td>\n",
        "      <td> 5.85</td>\n",
        "      <td>   Male</td>\n",
        "      <td>  No</td>\n",
        "      <td> Thur</td>\n",
        "      <td>  Lunch</td>\n",
        "      <td> 2</td>\n",
        "      <td> 0.236746</td>\n",
        "    </tr>\n",
        "    <tr>\n",
        "      <th>185</th>\n",
        "      <td> 20.69</td>\n",
        "      <td> 5.00</td>\n",
        "      <td>   Male</td>\n",
        "      <td>  No</td>\n",
        "      <td>  Sun</td>\n",
        "      <td> Dinner</td>\n",
        "      <td> 5</td>\n",
        "      <td> 0.241663</td>\n",
        "    </tr>\n",
        "    <tr>\n",
        "      <th>51 </th>\n",
        "      <td> 10.29</td>\n",
        "      <td> 2.60</td>\n",
        "      <td> Female</td>\n",
        "      <td>  No</td>\n",
        "      <td>  Sun</td>\n",
        "      <td> Dinner</td>\n",
        "      <td> 2</td>\n",
        "      <td> 0.252672</td>\n",
        "    </tr>\n",
        "    <tr>\n",
        "      <th>149</th>\n",
        "      <td>  7.51</td>\n",
        "      <td> 2.00</td>\n",
        "      <td>   Male</td>\n",
        "      <td>  No</td>\n",
        "      <td> Thur</td>\n",
        "      <td>  Lunch</td>\n",
        "      <td> 2</td>\n",
        "      <td> 0.266312</td>\n",
        "    </tr>\n",
        "    <tr>\n",
        "      <th>232</th>\n",
        "      <td> 11.61</td>\n",
        "      <td> 3.39</td>\n",
        "      <td>   Male</td>\n",
        "      <td>  No</td>\n",
        "      <td>  Sat</td>\n",
        "      <td> Dinner</td>\n",
        "      <td> 2</td>\n",
        "      <td> 0.291990</td>\n",
        "    </tr>\n",
        "    <tr>\n",
        "      <th rowspan=\"5\" valign=\"top\">Yes</th>\n",
        "      <th>109</th>\n",
        "      <td> 14.31</td>\n",
        "      <td> 4.00</td>\n",
        "      <td> Female</td>\n",
        "      <td> Yes</td>\n",
        "      <td>  Sat</td>\n",
        "      <td> Dinner</td>\n",
        "      <td> 2</td>\n",
        "      <td> 0.279525</td>\n",
        "    </tr>\n",
        "    <tr>\n",
        "      <th>183</th>\n",
        "      <td> 23.17</td>\n",
        "      <td> 6.50</td>\n",
        "      <td>   Male</td>\n",
        "      <td> Yes</td>\n",
        "      <td>  Sun</td>\n",
        "      <td> Dinner</td>\n",
        "      <td> 4</td>\n",
        "      <td> 0.280535</td>\n",
        "    </tr>\n",
        "    <tr>\n",
        "      <th>67 </th>\n",
        "      <td>  3.07</td>\n",
        "      <td> 1.00</td>\n",
        "      <td> Female</td>\n",
        "      <td> Yes</td>\n",
        "      <td>  Sat</td>\n",
        "      <td> Dinner</td>\n",
        "      <td> 1</td>\n",
        "      <td> 0.325733</td>\n",
        "    </tr>\n",
        "    <tr>\n",
        "      <th>178</th>\n",
        "      <td>  9.60</td>\n",
        "      <td> 4.00</td>\n",
        "      <td> Female</td>\n",
        "      <td> Yes</td>\n",
        "      <td>  Sun</td>\n",
        "      <td> Dinner</td>\n",
        "      <td> 2</td>\n",
        "      <td> 0.416667</td>\n",
        "    </tr>\n",
        "    <tr>\n",
        "      <th>172</th>\n",
        "      <td>  7.25</td>\n",
        "      <td> 5.15</td>\n",
        "      <td>   Male</td>\n",
        "      <td> Yes</td>\n",
        "      <td>  Sun</td>\n",
        "      <td> Dinner</td>\n",
        "      <td> 2</td>\n",
        "      <td> 0.710345</td>\n",
        "    </tr>\n",
        "  </tbody>\n",
        "</table>\n",
        "</div>"
       ],
       "output_type": "pyout",
       "prompt_number": 74,
       "text": [
        "            total_bill   tip     sex smoker   day    time  size   tip_pct\n",
        "smoker                                                                   \n",
        "No     88        24.71  5.85    Male     No  Thur   Lunch     2  0.236746\n",
        "       185       20.69  5.00    Male     No   Sun  Dinner     5  0.241663\n",
        "       51        10.29  2.60  Female     No   Sun  Dinner     2  0.252672\n",
        "       149        7.51  2.00    Male     No  Thur   Lunch     2  0.266312\n",
        "       232       11.61  3.39    Male     No   Sat  Dinner     2  0.291990\n",
        "Yes    109       14.31  4.00  Female    Yes   Sat  Dinner     2  0.279525\n",
        "       183       23.17  6.50    Male    Yes   Sun  Dinner     4  0.280535\n",
        "       67         3.07  1.00  Female    Yes   Sat  Dinner     1  0.325733\n",
        "       178        9.60  4.00  Female    Yes   Sun  Dinner     2  0.416667\n",
        "       172        7.25  5.15    Male    Yes   Sun  Dinner     2  0.710345"
       ]
      }
     ],
     "prompt_number": 74
    },
    {
     "cell_type": "markdown",
     "source": [
      "# Example: filling missing values with group-specific values"
     ]
    },
    {
     "cell_type": "code",
     "collapsed": false,
     "input": [
      "s = Series(np.random.randn(6))\n",
      "s[::2] = np.nan\n",
      "s"
     ],
     "language": "python",
     "outputs": [
      {
       "output_type": "pyout",
       "prompt_number": 75,
       "text": [
        "0         NaN\n",
        "1   -0.741868\n",
        "2         NaN\n",
        "3    1.963352\n",
        "4         NaN\n",
        "5    1.093293\n",
        "dtype: float64"
       ]
      }
     ],
     "prompt_number": 75
    },
    {
     "cell_type": "code",
     "collapsed": false,
     "input": [
      "s.fillna(s.mean())"
     ],
     "language": "python",
     "outputs": [
      {
       "output_type": "pyout",
       "prompt_number": 76,
       "text": [
        "0    0.771592\n",
        "1   -0.741868\n",
        "2    0.771592\n",
        "3    1.963352\n",
        "4    0.771592\n",
        "5    1.093293\n",
        "dtype: float64"
       ]
      }
     ],
     "prompt_number": 76
    },
    {
     "cell_type": "code",
     "collapsed": false,
     "input": [
      "states = ['Ohio', 'New York', 'Vermont', 'Florida',\n",
      "          'Oregon', 'Nevada', 'California', 'Idaho']\n",
      "group_key = ['East'] * 4 + ['West'] * 4\n",
      "data = Series(np.random.randn(8), index=states)\n",
      "data[['Vermont', 'Nevada', 'Idaho']] = np.nan\n",
      "data"
     ],
     "language": "python",
     "outputs": [
      {
       "output_type": "pyout",
       "prompt_number": 77,
       "text": [
        "Ohio         -0.295697\n",
        "New York     -0.388167\n",
        "Vermont            NaN\n",
        "Florida      -0.350035\n",
        "Oregon       -1.973867\n",
        "Nevada             NaN\n",
        "California   -0.697867\n",
        "Idaho              NaN\n",
        "dtype: float64"
       ]
      }
     ],
     "prompt_number": 77
    },
    {
     "cell_type": "code",
     "collapsed": false,
     "input": [
      "data.groupby(group_key).mean()"
     ],
     "language": "python",
     "outputs": [
      {
       "output_type": "pyout",
       "prompt_number": 79,
       "text": [
        "East   -0.344633\n",
        "West   -1.335867\n",
        "dtype: float64"
       ]
      }
     ],
     "prompt_number": 79
    },
    {
     "cell_type": "markdown",
     "source": [
      "We can fill NA values using the group means"
     ]
    },
    {
     "cell_type": "code",
     "collapsed": false,
     "input": [
      "fill_mean = lambda g: g.fillna(g.mean())\n",
      "data.groupby(group_key).apply(fill_mean)"
     ],
     "language": "python",
     "outputs": [
      {
       "output_type": "pyout",
       "prompt_number": 80,
       "text": [
        "Ohio         -0.295697\n",
        "New York     -0.388167\n",
        "Vermont      -0.344633\n",
        "Florida      -0.350035\n",
        "Oregon       -1.973867\n",
        "Nevada       -1.335867\n",
        "California   -0.697867\n",
        "Idaho        -1.335867\n",
        "dtype: float64"
       ]
      }
     ],
     "prompt_number": 80
    },
    {
     "cell_type": "markdown",
     "source": [
      "In another case, you might have pre-defined fill values"
     ]
    },
    {
     "cell_type": "code",
     "collapsed": false,
     "input": [
      "fill_values = {'East': 0.5, 'West': -1}\n",
      "fill_func = lambda g: g.fillna(fill_values[g.name])\n",
      "data.groupby(group_key).apply(fill_func)"
     ],
     "language": "python",
     "outputs": [
      {
       "output_type": "pyout",
       "prompt_number": 81,
       "text": [
        "Ohio         -0.295697\n",
        "New York     -0.388167\n",
        "Vermont       0.500000\n",
        "Florida      -0.350035\n",
        "Oregon       -1.973867\n",
        "Nevada       -1.000000\n",
        "California   -0.697867\n",
        "Idaho        -1.000000\n",
        "dtype: float64"
       ]
      }
     ],
     "prompt_number": 81
    },
    {
     "cell_type": "markdown",
     "source": [
      "# Example: random sampling and permutation"
     ]
    },
    {
     "cell_type": "markdown",
     "source": [
      "Here is a way to construct a deck of English-style playing cards:"
     ]
    },
    {
     "cell_type": "code",
     "collapsed": false,
     "input": [
      "# Hearts, Spades, Clubs, Diamonds\n",
      "suits = ['H', 'S', 'C', 'D']\n",
      "card_val = (range(1, 11) + [10] * 3) * 4\n",
      "base_names = ['A'] + range(2, 11) + ['J', 'K', 'Q']\n",
      "cards = []\n",
      "for suit in ['H', 'S', 'C', 'D']:\n",
      "    cards.extend(str(num) + suit for num in base_names)\n",
      "\n",
      "deck = Series(card_val, index=cards)\n",
      "\n",
      "deck[:13]"
     ],
     "language": "python",
     "outputs": [
      {
       "output_type": "pyout",
       "prompt_number": 84,
       "text": [
        "AH      1\n",
        "2H      2\n",
        "3H      3\n",
        "4H      4\n",
        "5H      5\n",
        "6H      6\n",
        "7H      7\n",
        "8H      8\n",
        "9H      9\n",
        "10H    10\n",
        "JH     10\n",
        "KH     10\n",
        "QH     10\n",
        "dtype: int64"
       ]
      }
     ],
     "prompt_number": 84
    },
    {
     "cell_type": "markdown",
     "source": [
      "Now, drawing a hand of 5 cards"
     ]
    },
    {
     "cell_type": "code",
     "collapsed": false,
     "input": [
      "def draw(deck, n=5):\n",
      "    return deck.take(np.random.permutation(len(deck))[:n])\n",
      "\n",
      "draw(deck)"
     ],
     "language": "python",
     "outputs": [
      {
       "output_type": "pyout",
       "prompt_number": 85,
       "text": [
        "JS     10\n",
        "10S    10\n",
        "2C      2\n",
        "2D      2\n",
        "JC     10\n",
        "dtype: int64"
       ]
      }
     ],
     "prompt_number": 85
    },
    {
     "cell_type": "markdown",
     "source": [
      "Suppose you wanted two random cards from each suit. Because the suit is the last\n",
      "character of each card name, we can group based on this and use apply:"
     ]
    },
    {
     "cell_type": "code",
     "collapsed": false,
     "input": [
      "get_suit = lambda card: card[-1] # last letter is suit\n",
      "\n",
      "deck.groupby(get_suit).apply(draw, n=2)"
     ],
     "language": "python",
     "outputs": [
      {
       "output_type": "pyout",
       "prompt_number": 86,
       "text": [
        "C  7C      7\n",
        "   4C      4\n",
        "D  6D      6\n",
        "   10D    10\n",
        "H  2H      2\n",
        "   9H      9\n",
        "S  9S      9\n",
        "   AS      1\n",
        "dtype: int64"
       ]
      }
     ],
     "prompt_number": 86
    },
    {
     "cell_type": "code",
     "collapsed": false,
     "input": [
      "# alternatively\n",
      "deck.groupby(get_suit, group_keys=False).apply(draw, n=2)"
     ],
     "language": "python",
     "outputs": [
      {
       "output_type": "pyout",
       "prompt_number": 87,
       "text": [
        "6C      6\n",
        "2C      2\n",
        "9D      9\n",
        "10D    10\n",
        "7H      7\n",
        "5H      5\n",
        "9S      9\n",
        "4S      4\n",
        "dtype: int64"
       ]
      }
     ],
     "prompt_number": 87
    },
    {
     "cell_type": "markdown",
     "source": [
      "# Example: group weighted average and correlation"
     ]
    },
    {
     "cell_type": "code",
     "collapsed": false,
     "input": [
      "df = DataFrame({'category': ['a', 'a', 'a', 'a', 'b', 'b', 'b', 'b'],\n",
      "                'data': np.random.randn(8),\n",
      "                'weights': np.random.rand(8)})\n",
      "df"
     ],
     "language": "python",
     "outputs": [
      {
       "html": [
        "<div style=\"max-height:1000px;max-width:1500px;overflow:auto;\">\n",
        "<table border=\"1\" class=\"dataframe\">\n",
        "  <thead>\n",
        "    <tr style=\"text-align: right;\">\n",
        "      <th></th>\n",
        "      <th>category</th>\n",
        "      <th>data</th>\n",
        "      <th>weights</th>\n",
        "    </tr>\n",
        "  </thead>\n",
        "  <tbody>\n",
        "    <tr>\n",
        "      <th>0</th>\n",
        "      <td> a</td>\n",
        "      <td> 0.056011</td>\n",
        "      <td> 0.190085</td>\n",
        "    </tr>\n",
        "    <tr>\n",
        "      <th>1</th>\n",
        "      <td> a</td>\n",
        "      <td>-0.698439</td>\n",
        "      <td> 0.355443</td>\n",
        "    </tr>\n",
        "    <tr>\n",
        "      <th>2</th>\n",
        "      <td> a</td>\n",
        "      <td>-0.564983</td>\n",
        "      <td> 0.161284</td>\n",
        "    </tr>\n",
        "    <tr>\n",
        "      <th>3</th>\n",
        "      <td> a</td>\n",
        "      <td>-1.983392</td>\n",
        "      <td> 0.054599</td>\n",
        "    </tr>\n",
        "    <tr>\n",
        "      <th>4</th>\n",
        "      <td> b</td>\n",
        "      <td> 1.740717</td>\n",
        "      <td> 0.324543</td>\n",
        "    </tr>\n",
        "    <tr>\n",
        "      <th>5</th>\n",
        "      <td> b</td>\n",
        "      <td>-0.062977</td>\n",
        "      <td> 0.607596</td>\n",
        "    </tr>\n",
        "    <tr>\n",
        "      <th>6</th>\n",
        "      <td> b</td>\n",
        "      <td> 0.112187</td>\n",
        "      <td> 0.267029</td>\n",
        "    </tr>\n",
        "    <tr>\n",
        "      <th>7</th>\n",
        "      <td> b</td>\n",
        "      <td> 0.633037</td>\n",
        "      <td> 0.134990</td>\n",
        "    </tr>\n",
        "  </tbody>\n",
        "</table>\n",
        "</div>"
       ],
       "output_type": "pyout",
       "prompt_number": 88,
       "text": [
        "  category      data   weights\n",
        "0        a  0.056011  0.190085\n",
        "1        a -0.698439  0.355443\n",
        "2        a -0.564983  0.161284\n",
        "3        a -1.983392  0.054599\n",
        "4        b  1.740717  0.324543\n",
        "5        b -0.062977  0.607596\n",
        "6        b  0.112187  0.267029\n",
        "7        b  0.633037  0.134990"
       ]
      }
     ],
     "prompt_number": 88
    },
    {
     "cell_type": "code",
     "collapsed": false,
     "input": [
      "grouped = df.groupby('category')\n",
      "\n",
      "get_wavg = lambda g: np.average(g['data'], weights=g['weights'])\n",
      "\n",
      "grouped.apply(get_wavg)"
     ],
     "language": "python",
     "outputs": [
      {
       "output_type": "pyout",
       "prompt_number": 90,
       "text": [
        "category\n",
        "a          -0.573964\n",
        "b           0.481265\n",
        "dtype: float64"
       ]
      }
     ],
     "prompt_number": 90
    },
    {
     "cell_type": "markdown",
     "source": [
      "Less trivial example"
     ]
    },
    {
     "cell_type": "code",
     "collapsed": false,
     "input": [
      "close_px = pd.read_csv('stock_px.csv', parse_dates=True, index_col=0)\n",
      "\n",
      "close_px.info()"
     ],
     "language": "python",
     "outputs": [
      {
       "output_type": "stream",
       "stream": "stdout",
       "text": [
        "<class 'pandas.core.frame.DataFrame'>\n",
        "DatetimeIndex: 2214 entries, 2003-01-02 00:00:00 to 2011-10-14 00:00:00\n",
        "Data columns (total 4 columns):\n",
        "AAPL    2214 non-null float64\n",
        "MSFT    2214 non-null float64\n",
        "XOM     2214 non-null float64\n",
        "SPX     2214 non-null float64\n",
        "dtypes: float64(4)"
       ]
      }
     ],
     "prompt_number": 95
    },
    {
     "cell_type": "code",
     "collapsed": false,
     "input": [
      "close_px.tail()"
     ],
     "language": "python",
     "outputs": [
      {
       "html": [
        "<div style=\"max-height:1000px;max-width:1500px;overflow:auto;\">\n",
        "<table border=\"1\" class=\"dataframe\">\n",
        "  <thead>\n",
        "    <tr style=\"text-align: right;\">\n",
        "      <th></th>\n",
        "      <th>AAPL</th>\n",
        "      <th>MSFT</th>\n",
        "      <th>XOM</th>\n",
        "      <th>SPX</th>\n",
        "    </tr>\n",
        "  </thead>\n",
        "  <tbody>\n",
        "    <tr>\n",
        "      <th>2011-10-10</th>\n",
        "      <td> 388.81</td>\n",
        "      <td> 26.94</td>\n",
        "      <td> 76.28</td>\n",
        "      <td> 1194.89</td>\n",
        "    </tr>\n",
        "    <tr>\n",
        "      <th>2011-10-11</th>\n",
        "      <td> 400.29</td>\n",
        "      <td> 27.00</td>\n",
        "      <td> 76.27</td>\n",
        "      <td> 1195.54</td>\n",
        "    </tr>\n",
        "    <tr>\n",
        "      <th>2011-10-12</th>\n",
        "      <td> 402.19</td>\n",
        "      <td> 26.96</td>\n",
        "      <td> 77.16</td>\n",
        "      <td> 1207.25</td>\n",
        "    </tr>\n",
        "    <tr>\n",
        "      <th>2011-10-13</th>\n",
        "      <td> 408.43</td>\n",
        "      <td> 27.18</td>\n",
        "      <td> 76.37</td>\n",
        "      <td> 1203.66</td>\n",
        "    </tr>\n",
        "    <tr>\n",
        "      <th>2011-10-14</th>\n",
        "      <td> 422.00</td>\n",
        "      <td> 27.27</td>\n",
        "      <td> 78.11</td>\n",
        "      <td> 1224.58</td>\n",
        "    </tr>\n",
        "  </tbody>\n",
        "</table>\n",
        "</div>"
       ],
       "output_type": "pyout",
       "prompt_number": 96,
       "text": [
        "              AAPL   MSFT    XOM      SPX\n",
        "2011-10-10  388.81  26.94  76.28  1194.89\n",
        "2011-10-11  400.29  27.00  76.27  1195.54\n",
        "2011-10-12  402.19  26.96  77.16  1207.25\n",
        "2011-10-13  408.43  27.18  76.37  1203.66\n",
        "2011-10-14  422.00  27.27  78.11  1224.58"
       ]
      }
     ],
     "prompt_number": 96
    },
    {
     "cell_type": "markdown",
     "source": [
      "Let's compute a DataFrame consisting of the yearly correlations of daily returns\n",
      "(computed from percent changes) with SPX."
     ]
    },
    {
     "cell_type": "code",
     "collapsed": false,
     "input": [
      "rets = close_px.pct_change().dropna()\n",
      "spx_corr = lambda x: x.corrwith(x['SPX'])\n",
      "by_year = rets.groupby(lambda x: x.year)\n",
      "by_year.apply(spx_corr)"
     ],
     "language": "python",
     "outputs": [
      {
       "html": [
        "<div style=\"max-height:1000px;max-width:1500px;overflow:auto;\">\n",
        "<table border=\"1\" class=\"dataframe\">\n",
        "  <thead>\n",
        "    <tr style=\"text-align: right;\">\n",
        "      <th></th>\n",
        "      <th>AAPL</th>\n",
        "      <th>MSFT</th>\n",
        "      <th>XOM</th>\n",
        "      <th>SPX</th>\n",
        "    </tr>\n",
        "  </thead>\n",
        "  <tbody>\n",
        "    <tr>\n",
        "      <th>2003</th>\n",
        "      <td> 0.541124</td>\n",
        "      <td> 0.745174</td>\n",
        "      <td> 0.661265</td>\n",
        "      <td> 1</td>\n",
        "    </tr>\n",
        "    <tr>\n",
        "      <th>2004</th>\n",
        "      <td> 0.374283</td>\n",
        "      <td> 0.588531</td>\n",
        "      <td> 0.557742</td>\n",
        "      <td> 1</td>\n",
        "    </tr>\n",
        "    <tr>\n",
        "      <th>2005</th>\n",
        "      <td> 0.467540</td>\n",
        "      <td> 0.562374</td>\n",
        "      <td> 0.631010</td>\n",
        "      <td> 1</td>\n",
        "    </tr>\n",
        "    <tr>\n",
        "      <th>2006</th>\n",
        "      <td> 0.428267</td>\n",
        "      <td> 0.406126</td>\n",
        "      <td> 0.518514</td>\n",
        "      <td> 1</td>\n",
        "    </tr>\n",
        "    <tr>\n",
        "      <th>2007</th>\n",
        "      <td> 0.508118</td>\n",
        "      <td> 0.658770</td>\n",
        "      <td> 0.786264</td>\n",
        "      <td> 1</td>\n",
        "    </tr>\n",
        "    <tr>\n",
        "      <th>2008</th>\n",
        "      <td> 0.681434</td>\n",
        "      <td> 0.804626</td>\n",
        "      <td> 0.828303</td>\n",
        "      <td> 1</td>\n",
        "    </tr>\n",
        "    <tr>\n",
        "      <th>2009</th>\n",
        "      <td> 0.707103</td>\n",
        "      <td> 0.654902</td>\n",
        "      <td> 0.797921</td>\n",
        "      <td> 1</td>\n",
        "    </tr>\n",
        "    <tr>\n",
        "      <th>2010</th>\n",
        "      <td> 0.710105</td>\n",
        "      <td> 0.730118</td>\n",
        "      <td> 0.839057</td>\n",
        "      <td> 1</td>\n",
        "    </tr>\n",
        "    <tr>\n",
        "      <th>2011</th>\n",
        "      <td> 0.691931</td>\n",
        "      <td> 0.800996</td>\n",
        "      <td> 0.859975</td>\n",
        "      <td> 1</td>\n",
        "    </tr>\n",
        "  </tbody>\n",
        "</table>\n",
        "</div>"
       ],
       "output_type": "pyout",
       "prompt_number": 98,
       "text": [
        "          AAPL      MSFT       XOM  SPX\n",
        "2003  0.541124  0.745174  0.661265    1\n",
        "2004  0.374283  0.588531  0.557742    1\n",
        "2005  0.467540  0.562374  0.631010    1\n",
        "2006  0.428267  0.406126  0.518514    1\n",
        "2007  0.508118  0.658770  0.786264    1\n",
        "2008  0.681434  0.804626  0.828303    1\n",
        "2009  0.707103  0.654902  0.797921    1\n",
        "2010  0.710105  0.730118  0.839057    1\n",
        "2011  0.691931  0.800996  0.859975    1"
       ]
      }
     ],
     "prompt_number": 98
    },
    {
     "cell_type": "code",
     "collapsed": false,
     "input": [
      "tips.groupby(['sex', 'smoker']).agg('mean')"
     ],
     "language": "python",
     "outputs": [
      {
       "html": [
        "<div style=\"max-height:1000px;max-width:1500px;overflow:auto;\">\n",
        "<table border=\"1\" class=\"dataframe\">\n",
        "  <thead>\n",
        "    <tr style=\"text-align: right;\">\n",
        "      <th></th>\n",
        "      <th></th>\n",
        "      <th>total_bill</th>\n",
        "      <th>tip</th>\n",
        "      <th>size</th>\n",
        "      <th>tip_pct</th>\n",
        "    </tr>\n",
        "    <tr>\n",
        "      <th>sex</th>\n",
        "      <th>smoker</th>\n",
        "      <th></th>\n",
        "      <th></th>\n",
        "      <th></th>\n",
        "      <th></th>\n",
        "    </tr>\n",
        "  </thead>\n",
        "  <tbody>\n",
        "    <tr>\n",
        "      <th rowspan=\"2\" valign=\"top\">Female</th>\n",
        "      <th>No</th>\n",
        "      <td> 18.105185</td>\n",
        "      <td> 2.773519</td>\n",
        "      <td> 2.592593</td>\n",
        "      <td> 0.156921</td>\n",
        "    </tr>\n",
        "    <tr>\n",
        "      <th>Yes</th>\n",
        "      <td> 17.977879</td>\n",
        "      <td> 2.931515</td>\n",
        "      <td> 2.242424</td>\n",
        "      <td> 0.182150</td>\n",
        "    </tr>\n",
        "    <tr>\n",
        "      <th rowspan=\"2\" valign=\"top\">Male</th>\n",
        "      <th>No</th>\n",
        "      <td> 19.791237</td>\n",
        "      <td> 3.113402</td>\n",
        "      <td> 2.711340</td>\n",
        "      <td> 0.160669</td>\n",
        "    </tr>\n",
        "    <tr>\n",
        "      <th>Yes</th>\n",
        "      <td> 22.284500</td>\n",
        "      <td> 3.051167</td>\n",
        "      <td> 2.500000</td>\n",
        "      <td> 0.152771</td>\n",
        "    </tr>\n",
        "  </tbody>\n",
        "</table>\n",
        "</div>"
       ],
       "output_type": "pyout",
       "prompt_number": 102,
       "text": [
        "               total_bill       tip      size   tip_pct\n",
        "sex    smoker                                          \n",
        "Female No       18.105185  2.773519  2.592593  0.156921\n",
        "       Yes      17.977879  2.931515  2.242424  0.182150\n",
        "Male   No       19.791237  3.113402  2.711340  0.160669\n",
        "       Yes      22.284500  3.051167  2.500000  0.152771"
       ]
      }
     ],
     "prompt_number": 102
    },
    {
     "cell_type": "code",
     "collapsed": false,
     "input": [
      "tips.pivot_table(index=['sex', 'smoker'])"
     ],
     "language": "python",
     "outputs": [
      {
       "html": [
        "<div style=\"max-height:1000px;max-width:1500px;overflow:auto;\">\n",
        "<table border=\"1\" class=\"dataframe\">\n",
        "  <thead>\n",
        "    <tr style=\"text-align: right;\">\n",
        "      <th></th>\n",
        "      <th></th>\n",
        "      <th>size</th>\n",
        "      <th>tip</th>\n",
        "      <th>tip_pct</th>\n",
        "      <th>total_bill</th>\n",
        "    </tr>\n",
        "    <tr>\n",
        "      <th>sex</th>\n",
        "      <th>smoker</th>\n",
        "      <th></th>\n",
        "      <th></th>\n",
        "      <th></th>\n",
        "      <th></th>\n",
        "    </tr>\n",
        "  </thead>\n",
        "  <tbody>\n",
        "    <tr>\n",
        "      <th rowspan=\"2\" valign=\"top\">Female</th>\n",
        "      <th>No</th>\n",
        "      <td> 2.592593</td>\n",
        "      <td> 2.773519</td>\n",
        "      <td> 0.156921</td>\n",
        "      <td> 18.105185</td>\n",
        "    </tr>\n",
        "    <tr>\n",
        "      <th>Yes</th>\n",
        "      <td> 2.242424</td>\n",
        "      <td> 2.931515</td>\n",
        "      <td> 0.182150</td>\n",
        "      <td> 17.977879</td>\n",
        "    </tr>\n",
        "    <tr>\n",
        "      <th rowspan=\"2\" valign=\"top\">Male</th>\n",
        "      <th>No</th>\n",
        "      <td> 2.711340</td>\n",
        "      <td> 3.113402</td>\n",
        "      <td> 0.160669</td>\n",
        "      <td> 19.791237</td>\n",
        "    </tr>\n",
        "    <tr>\n",
        "      <th>Yes</th>\n",
        "      <td> 2.500000</td>\n",
        "      <td> 3.051167</td>\n",
        "      <td> 0.152771</td>\n",
        "      <td> 22.284500</td>\n",
        "    </tr>\n",
        "  </tbody>\n",
        "</table>\n",
        "</div>"
       ],
       "output_type": "pyout",
       "prompt_number": 104,
       "text": [
        "                   size       tip   tip_pct  total_bill\n",
        "sex    smoker                                          \n",
        "Female No      2.592593  2.773519  0.156921   18.105185\n",
        "       Yes     2.242424  2.931515  0.182150   17.977879\n",
        "Male   No      2.711340  3.113402  0.160669   19.791237\n",
        "       Yes     2.500000  3.051167  0.152771   22.284500"
       ]
      }
     ],
     "prompt_number": 104
    },
    {
     "cell_type": "code",
     "collapsed": false,
     "input": [
      "tips.pivot_table(['tip_pct', 'size'], index=['sex', 'day'],\n",
      "                 columns='smoker')"
     ],
     "language": "python",
     "outputs": [
      {
       "html": [
        "<div style=\"max-height:1000px;max-width:1500px;overflow:auto;\">\n",
        "<table border=\"1\" class=\"dataframe\">\n",
        "  <thead>\n",
        "    <tr>\n",
        "      <th></th>\n",
        "      <th></th>\n",
        "      <th colspan=\"2\" halign=\"left\">tip_pct</th>\n",
        "      <th colspan=\"2\" halign=\"left\">size</th>\n",
        "    </tr>\n",
        "    <tr>\n",
        "      <th></th>\n",
        "      <th>smoker</th>\n",
        "      <th>No</th>\n",
        "      <th>Yes</th>\n",
        "      <th>No</th>\n",
        "      <th>Yes</th>\n",
        "    </tr>\n",
        "    <tr>\n",
        "      <th>sex</th>\n",
        "      <th>day</th>\n",
        "      <th></th>\n",
        "      <th></th>\n",
        "      <th></th>\n",
        "      <th></th>\n",
        "    </tr>\n",
        "  </thead>\n",
        "  <tbody>\n",
        "    <tr>\n",
        "      <th rowspan=\"4\" valign=\"top\">Female</th>\n",
        "      <th>Fri</th>\n",
        "      <td> 0.165296</td>\n",
        "      <td> 0.209129</td>\n",
        "      <td> 2.500000</td>\n",
        "      <td> 2.000000</td>\n",
        "    </tr>\n",
        "    <tr>\n",
        "      <th>Sat</th>\n",
        "      <td> 0.147993</td>\n",
        "      <td> 0.163817</td>\n",
        "      <td> 2.307692</td>\n",
        "      <td> 2.200000</td>\n",
        "    </tr>\n",
        "    <tr>\n",
        "      <th>Sun</th>\n",
        "      <td> 0.165710</td>\n",
        "      <td> 0.237075</td>\n",
        "      <td> 3.071429</td>\n",
        "      <td> 2.500000</td>\n",
        "    </tr>\n",
        "    <tr>\n",
        "      <th>Thur</th>\n",
        "      <td> 0.155971</td>\n",
        "      <td> 0.163073</td>\n",
        "      <td> 2.480000</td>\n",
        "      <td> 2.428571</td>\n",
        "    </tr>\n",
        "    <tr>\n",
        "      <th rowspan=\"4\" valign=\"top\">Male</th>\n",
        "      <th>Fri</th>\n",
        "      <td> 0.138005</td>\n",
        "      <td> 0.144730</td>\n",
        "      <td> 2.000000</td>\n",
        "      <td> 2.125000</td>\n",
        "    </tr>\n",
        "    <tr>\n",
        "      <th>Sat</th>\n",
        "      <td> 0.162132</td>\n",
        "      <td> 0.139067</td>\n",
        "      <td> 2.656250</td>\n",
        "      <td> 2.629630</td>\n",
        "    </tr>\n",
        "    <tr>\n",
        "      <th>Sun</th>\n",
        "      <td> 0.158291</td>\n",
        "      <td> 0.173964</td>\n",
        "      <td> 2.883721</td>\n",
        "      <td> 2.600000</td>\n",
        "    </tr>\n",
        "    <tr>\n",
        "      <th>Thur</th>\n",
        "      <td> 0.165706</td>\n",
        "      <td> 0.164417</td>\n",
        "      <td> 2.500000</td>\n",
        "      <td> 2.300000</td>\n",
        "    </tr>\n",
        "  </tbody>\n",
        "</table>\n",
        "</div>"
       ],
       "output_type": "pyout",
       "prompt_number": 108,
       "text": [
        "              tip_pct                size          \n",
        "smoker             No       Yes        No       Yes\n",
        "sex    day                                         \n",
        "Female Fri   0.165296  0.209129  2.500000  2.000000\n",
        "       Sat   0.147993  0.163817  2.307692  2.200000\n",
        "       Sun   0.165710  0.237075  3.071429  2.500000\n",
        "       Thur  0.155971  0.163073  2.480000  2.428571\n",
        "Male   Fri   0.138005  0.144730  2.000000  2.125000\n",
        "       Sat   0.162132  0.139067  2.656250  2.629630\n",
        "       Sun   0.158291  0.173964  2.883721  2.600000\n",
        "       Thur  0.165706  0.164417  2.500000  2.300000"
       ]
      }
     ],
     "prompt_number": 108
    },
    {
     "cell_type": "code",
     "collapsed": false,
     "input": [
      "tips.pivot_table(['tip_pct', 'size'], index=['sex', 'day'],\n",
      "                 columns='smoker', margins=True)"
     ],
     "language": "python",
     "outputs": [
      {
       "html": [
        "<div style=\"max-height:1000px;max-width:1500px;overflow:auto;\">\n",
        "<table border=\"1\" class=\"dataframe\">\n",
        "  <thead>\n",
        "    <tr>\n",
        "      <th></th>\n",
        "      <th></th>\n",
        "      <th colspan=\"3\" halign=\"left\">tip_pct</th>\n",
        "      <th colspan=\"3\" halign=\"left\">size</th>\n",
        "    </tr>\n",
        "    <tr>\n",
        "      <th></th>\n",
        "      <th>smoker</th>\n",
        "      <th>No</th>\n",
        "      <th>Yes</th>\n",
        "      <th>All</th>\n",
        "      <th>No</th>\n",
        "      <th>Yes</th>\n",
        "      <th>All</th>\n",
        "    </tr>\n",
        "    <tr>\n",
        "      <th>sex</th>\n",
        "      <th>day</th>\n",
        "      <th></th>\n",
        "      <th></th>\n",
        "      <th></th>\n",
        "      <th></th>\n",
        "      <th></th>\n",
        "      <th></th>\n",
        "    </tr>\n",
        "  </thead>\n",
        "  <tbody>\n",
        "    <tr>\n",
        "      <th rowspan=\"4\" valign=\"top\">Female</th>\n",
        "      <th>Fri</th>\n",
        "      <td> 0.165296</td>\n",
        "      <td> 0.209129</td>\n",
        "      <td> 0.199388</td>\n",
        "      <td> 2.500000</td>\n",
        "      <td> 2.000000</td>\n",
        "      <td> 2.111111</td>\n",
        "    </tr>\n",
        "    <tr>\n",
        "      <th>Sat</th>\n",
        "      <td> 0.147993</td>\n",
        "      <td> 0.163817</td>\n",
        "      <td> 0.156470</td>\n",
        "      <td> 2.307692</td>\n",
        "      <td> 2.200000</td>\n",
        "      <td> 2.250000</td>\n",
        "    </tr>\n",
        "    <tr>\n",
        "      <th>Sun</th>\n",
        "      <td> 0.165710</td>\n",
        "      <td> 0.237075</td>\n",
        "      <td> 0.181569</td>\n",
        "      <td> 3.071429</td>\n",
        "      <td> 2.500000</td>\n",
        "      <td> 2.944444</td>\n",
        "    </tr>\n",
        "    <tr>\n",
        "      <th>Thur</th>\n",
        "      <td> 0.155971</td>\n",
        "      <td> 0.163073</td>\n",
        "      <td> 0.157525</td>\n",
        "      <td> 2.480000</td>\n",
        "      <td> 2.428571</td>\n",
        "      <td> 2.468750</td>\n",
        "    </tr>\n",
        "    <tr>\n",
        "      <th rowspan=\"4\" valign=\"top\">Male</th>\n",
        "      <th>Fri</th>\n",
        "      <td> 0.138005</td>\n",
        "      <td> 0.144730</td>\n",
        "      <td> 0.143385</td>\n",
        "      <td> 2.000000</td>\n",
        "      <td> 2.125000</td>\n",
        "      <td> 2.100000</td>\n",
        "    </tr>\n",
        "    <tr>\n",
        "      <th>Sat</th>\n",
        "      <td> 0.162132</td>\n",
        "      <td> 0.139067</td>\n",
        "      <td> 0.151577</td>\n",
        "      <td> 2.656250</td>\n",
        "      <td> 2.629630</td>\n",
        "      <td> 2.644068</td>\n",
        "    </tr>\n",
        "    <tr>\n",
        "      <th>Sun</th>\n",
        "      <td> 0.158291</td>\n",
        "      <td> 0.173964</td>\n",
        "      <td> 0.162344</td>\n",
        "      <td> 2.883721</td>\n",
        "      <td> 2.600000</td>\n",
        "      <td> 2.810345</td>\n",
        "    </tr>\n",
        "    <tr>\n",
        "      <th>Thur</th>\n",
        "      <td> 0.165706</td>\n",
        "      <td> 0.164417</td>\n",
        "      <td> 0.165276</td>\n",
        "      <td> 2.500000</td>\n",
        "      <td> 2.300000</td>\n",
        "      <td> 2.433333</td>\n",
        "    </tr>\n",
        "    <tr>\n",
        "      <th>All</th>\n",
        "      <th></th>\n",
        "      <td> 0.159328</td>\n",
        "      <td> 0.163196</td>\n",
        "      <td> 0.160803</td>\n",
        "      <td> 2.668874</td>\n",
        "      <td> 2.408602</td>\n",
        "      <td> 2.569672</td>\n",
        "    </tr>\n",
        "  </tbody>\n",
        "</table>\n",
        "</div>"
       ],
       "output_type": "pyout",
       "prompt_number": 109,
       "text": [
        "              tip_pct                          size                    \n",
        "smoker             No       Yes       All        No       Yes       All\n",
        "sex    day                                                             \n",
        "Female Fri   0.165296  0.209129  0.199388  2.500000  2.000000  2.111111\n",
        "       Sat   0.147993  0.163817  0.156470  2.307692  2.200000  2.250000\n",
        "       Sun   0.165710  0.237075  0.181569  3.071429  2.500000  2.944444\n",
        "       Thur  0.155971  0.163073  0.157525  2.480000  2.428571  2.468750\n",
        "Male   Fri   0.138005  0.144730  0.143385  2.000000  2.125000  2.100000\n",
        "       Sat   0.162132  0.139067  0.151577  2.656250  2.629630  2.644068\n",
        "       Sun   0.158291  0.173964  0.162344  2.883721  2.600000  2.810345\n",
        "       Thur  0.165706  0.164417  0.165276  2.500000  2.300000  2.433333\n",
        "All          0.159328  0.163196  0.160803  2.668874  2.408602  2.569672"
       ]
      }
     ],
     "prompt_number": 109
    },
    {
     "cell_type": "code",
     "collapsed": false,
     "input": [
      "tips.pivot_table('tip_pct', index=['sex', 'smoker'],\n",
      "                 columns='day', margins=True, aggfunc=len)"
     ],
     "language": "python",
     "outputs": [
      {
       "html": [
        "<div style=\"max-height:1000px;max-width:1500px;overflow:auto;\">\n",
        "<table border=\"1\" class=\"dataframe\">\n",
        "  <thead>\n",
        "    <tr style=\"text-align: right;\">\n",
        "      <th></th>\n",
        "      <th>day</th>\n",
        "      <th>Fri</th>\n",
        "      <th>Sat</th>\n",
        "      <th>Sun</th>\n",
        "      <th>Thur</th>\n",
        "      <th>All</th>\n",
        "    </tr>\n",
        "    <tr>\n",
        "      <th>sex</th>\n",
        "      <th>smoker</th>\n",
        "      <th></th>\n",
        "      <th></th>\n",
        "      <th></th>\n",
        "      <th></th>\n",
        "      <th></th>\n",
        "    </tr>\n",
        "  </thead>\n",
        "  <tbody>\n",
        "    <tr>\n",
        "      <th rowspan=\"2\" valign=\"top\">Female</th>\n",
        "      <th>No</th>\n",
        "      <td>  2</td>\n",
        "      <td> 13</td>\n",
        "      <td> 14</td>\n",
        "      <td> 25</td>\n",
        "      <td>  54</td>\n",
        "    </tr>\n",
        "    <tr>\n",
        "      <th>Yes</th>\n",
        "      <td>  7</td>\n",
        "      <td> 15</td>\n",
        "      <td>  4</td>\n",
        "      <td>  7</td>\n",
        "      <td>  33</td>\n",
        "    </tr>\n",
        "    <tr>\n",
        "      <th rowspan=\"2\" valign=\"top\">Male</th>\n",
        "      <th>No</th>\n",
        "      <td>  2</td>\n",
        "      <td> 32</td>\n",
        "      <td> 43</td>\n",
        "      <td> 20</td>\n",
        "      <td>  97</td>\n",
        "    </tr>\n",
        "    <tr>\n",
        "      <th>Yes</th>\n",
        "      <td>  8</td>\n",
        "      <td> 27</td>\n",
        "      <td> 15</td>\n",
        "      <td> 10</td>\n",
        "      <td>  60</td>\n",
        "    </tr>\n",
        "    <tr>\n",
        "      <th>All</th>\n",
        "      <th></th>\n",
        "      <td> 19</td>\n",
        "      <td> 87</td>\n",
        "      <td> 76</td>\n",
        "      <td> 62</td>\n",
        "      <td> 244</td>\n",
        "    </tr>\n",
        "  </tbody>\n",
        "</table>\n",
        "</div>"
       ],
       "output_type": "pyout",
       "prompt_number": 110,
       "text": [
        "day            Fri  Sat  Sun  Thur  All\n",
        "sex    smoker                          \n",
        "Female No        2   13   14    25   54\n",
        "       Yes       7   15    4     7   33\n",
        "Male   No        2   32   43    20   97\n",
        "       Yes       8   27   15    10   60\n",
        "All             19   87   76    62  244"
       ]
      }
     ],
     "prompt_number": 110
    },
    {
     "cell_type": "markdown",
     "source": [
      "# Cross-tabulation: Crosstab"
     ]
    },
    {
     "cell_type": "code",
     "collapsed": false,
     "input": [
      "pd.crosstab([tips.time, tips.day], tips.smoker, margins=True)"
     ],
     "language": "python",
     "outputs": [
      {
       "html": [
        "<div style=\"max-height:1000px;max-width:1500px;overflow:auto;\">\n",
        "<table border=\"1\" class=\"dataframe\">\n",
        "  <thead>\n",
        "    <tr style=\"text-align: right;\">\n",
        "      <th></th>\n",
        "      <th>smoker</th>\n",
        "      <th>No</th>\n",
        "      <th>Yes</th>\n",
        "      <th>All</th>\n",
        "    </tr>\n",
        "    <tr>\n",
        "      <th>time</th>\n",
        "      <th>day</th>\n",
        "      <th></th>\n",
        "      <th></th>\n",
        "      <th></th>\n",
        "    </tr>\n",
        "  </thead>\n",
        "  <tbody>\n",
        "    <tr>\n",
        "      <th rowspan=\"4\" valign=\"top\">Dinner</th>\n",
        "      <th>Fri</th>\n",
        "      <td>   3</td>\n",
        "      <td>  9</td>\n",
        "      <td>  12</td>\n",
        "    </tr>\n",
        "    <tr>\n",
        "      <th>Sat</th>\n",
        "      <td>  45</td>\n",
        "      <td> 42</td>\n",
        "      <td>  87</td>\n",
        "    </tr>\n",
        "    <tr>\n",
        "      <th>Sun</th>\n",
        "      <td>  57</td>\n",
        "      <td> 19</td>\n",
        "      <td>  76</td>\n",
        "    </tr>\n",
        "    <tr>\n",
        "      <th>Thur</th>\n",
        "      <td>   1</td>\n",
        "      <td>  0</td>\n",
        "      <td>   1</td>\n",
        "    </tr>\n",
        "    <tr>\n",
        "      <th rowspan=\"2\" valign=\"top\">Lunch</th>\n",
        "      <th>Fri</th>\n",
        "      <td>   1</td>\n",
        "      <td>  6</td>\n",
        "      <td>   7</td>\n",
        "    </tr>\n",
        "    <tr>\n",
        "      <th>Thur</th>\n",
        "      <td>  44</td>\n",
        "      <td> 17</td>\n",
        "      <td>  61</td>\n",
        "    </tr>\n",
        "    <tr>\n",
        "      <th>All</th>\n",
        "      <th></th>\n",
        "      <td> 151</td>\n",
        "      <td> 93</td>\n",
        "      <td> 244</td>\n",
        "    </tr>\n",
        "  </tbody>\n",
        "</table>\n",
        "</div>"
       ],
       "output_type": "pyout",
       "prompt_number": 112,
       "text": [
        "smoker        No  Yes  All\n",
        "time   day                \n",
        "Dinner Fri     3    9   12\n",
        "       Sat    45   42   87\n",
        "       Sun    57   19   76\n",
        "       Thur    1    0    1\n",
        "Lunch  Fri     1    6    7\n",
        "       Thur   44   17   61\n",
        "All          151   93  244"
       ]
      }
     ],
     "prompt_number": 112
    }
   ]
  }
 ]
}