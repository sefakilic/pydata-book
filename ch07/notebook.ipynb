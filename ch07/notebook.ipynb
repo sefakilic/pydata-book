{
 "metadata": {
  "name": ""
 },
 "nbformat": 3,
 "nbformat_minor": 0,
 "worksheets": [
  {
   "cells": [
    {
     "cell_type": "code",
     "collapsed": false,
     "input": [
      "from pandas import DataFrame, Series\n",
      "import pandas as pd\n",
      "import numpy as np"
     ],
     "language": "python",
     "outputs": [],
     "prompt_number": 5
    },
    {
     "cell_type": "markdown",
     "source": [
      "Much of the work on data analysis is spent on data preparation\n",
      "- loading\n",
      "- cleaning\n",
      "- transforming\n",
      "- rearranging\n"
     ]
    },
    {
     "cell_type": "markdown",
     "source": [
      "# Combining and merging data sets"
     ]
    },
    {
     "cell_type": "markdown",
     "source": [
      "## Database-style DataFrame merges"
     ]
    },
    {
     "cell_type": "code",
     "collapsed": false,
     "input": [
      "df1 = DataFrame({'key': ['b', 'b', 'a', 'c', 'a', 'a', 'b'],\n",
      "                 'data1': range(7)})\n",
      "df1"
     ],
     "language": "python",
     "outputs": [
      {
       "html": [
        "<div style=\"max-height:1000px;max-width:1500px;overflow:auto;\">\n",
        "<table border=\"1\" class=\"dataframe\">\n",
        "  <thead>\n",
        "    <tr style=\"text-align: right;\">\n",
        "      <th></th>\n",
        "      <th>data1</th>\n",
        "      <th>key</th>\n",
        "    </tr>\n",
        "  </thead>\n",
        "  <tbody>\n",
        "    <tr>\n",
        "      <th>0</th>\n",
        "      <td> 0</td>\n",
        "      <td> b</td>\n",
        "    </tr>\n",
        "    <tr>\n",
        "      <th>1</th>\n",
        "      <td> 1</td>\n",
        "      <td> b</td>\n",
        "    </tr>\n",
        "    <tr>\n",
        "      <th>2</th>\n",
        "      <td> 2</td>\n",
        "      <td> a</td>\n",
        "    </tr>\n",
        "    <tr>\n",
        "      <th>3</th>\n",
        "      <td> 3</td>\n",
        "      <td> c</td>\n",
        "    </tr>\n",
        "    <tr>\n",
        "      <th>4</th>\n",
        "      <td> 4</td>\n",
        "      <td> a</td>\n",
        "    </tr>\n",
        "    <tr>\n",
        "      <th>5</th>\n",
        "      <td> 5</td>\n",
        "      <td> a</td>\n",
        "    </tr>\n",
        "    <tr>\n",
        "      <th>6</th>\n",
        "      <td> 6</td>\n",
        "      <td> b</td>\n",
        "    </tr>\n",
        "  </tbody>\n",
        "</table>\n",
        "<p>7 rows \u00d7 2 columns</p>\n",
        "</div>"
       ],
       "output_type": "pyout",
       "prompt_number": 2,
       "text": [
        "   data1 key\n",
        "0      0   b\n",
        "1      1   b\n",
        "2      2   a\n",
        "3      3   c\n",
        "4      4   a\n",
        "5      5   a\n",
        "6      6   b\n",
        "\n",
        "[7 rows x 2 columns]"
       ]
      }
     ],
     "prompt_number": 2
    },
    {
     "cell_type": "code",
     "collapsed": false,
     "input": [
      "df2 = DataFrame({'key': ['a', 'b', 'd'],\n",
      "                 'data2': range(3)})\n",
      "df2"
     ],
     "language": "python",
     "outputs": [
      {
       "html": [
        "<div style=\"max-height:1000px;max-width:1500px;overflow:auto;\">\n",
        "<table border=\"1\" class=\"dataframe\">\n",
        "  <thead>\n",
        "    <tr style=\"text-align: right;\">\n",
        "      <th></th>\n",
        "      <th>data2</th>\n",
        "      <th>key</th>\n",
        "    </tr>\n",
        "  </thead>\n",
        "  <tbody>\n",
        "    <tr>\n",
        "      <th>0</th>\n",
        "      <td> 0</td>\n",
        "      <td> a</td>\n",
        "    </tr>\n",
        "    <tr>\n",
        "      <th>1</th>\n",
        "      <td> 1</td>\n",
        "      <td> b</td>\n",
        "    </tr>\n",
        "    <tr>\n",
        "      <th>2</th>\n",
        "      <td> 2</td>\n",
        "      <td> d</td>\n",
        "    </tr>\n",
        "  </tbody>\n",
        "</table>\n",
        "<p>3 rows \u00d7 2 columns</p>\n",
        "</div>"
       ],
       "output_type": "pyout",
       "prompt_number": 3,
       "text": [
        "   data2 key\n",
        "0      0   a\n",
        "1      1   b\n",
        "2      2   d\n",
        "\n",
        "[3 rows x 2 columns]"
       ]
      }
     ],
     "prompt_number": 3
    },
    {
     "cell_type": "code",
     "collapsed": false,
     "input": [
      "pd.merge(df1, df2)"
     ],
     "language": "python",
     "outputs": [
      {
       "html": [
        "<div style=\"max-height:1000px;max-width:1500px;overflow:auto;\">\n",
        "<table border=\"1\" class=\"dataframe\">\n",
        "  <thead>\n",
        "    <tr style=\"text-align: right;\">\n",
        "      <th></th>\n",
        "      <th>data1</th>\n",
        "      <th>key</th>\n",
        "      <th>data2</th>\n",
        "    </tr>\n",
        "  </thead>\n",
        "  <tbody>\n",
        "    <tr>\n",
        "      <th>0</th>\n",
        "      <td> 0</td>\n",
        "      <td> b</td>\n",
        "      <td> 1</td>\n",
        "    </tr>\n",
        "    <tr>\n",
        "      <th>1</th>\n",
        "      <td> 1</td>\n",
        "      <td> b</td>\n",
        "      <td> 1</td>\n",
        "    </tr>\n",
        "    <tr>\n",
        "      <th>2</th>\n",
        "      <td> 6</td>\n",
        "      <td> b</td>\n",
        "      <td> 1</td>\n",
        "    </tr>\n",
        "    <tr>\n",
        "      <th>3</th>\n",
        "      <td> 2</td>\n",
        "      <td> a</td>\n",
        "      <td> 0</td>\n",
        "    </tr>\n",
        "    <tr>\n",
        "      <th>4</th>\n",
        "      <td> 4</td>\n",
        "      <td> a</td>\n",
        "      <td> 0</td>\n",
        "    </tr>\n",
        "    <tr>\n",
        "      <th>5</th>\n",
        "      <td> 5</td>\n",
        "      <td> a</td>\n",
        "      <td> 0</td>\n",
        "    </tr>\n",
        "  </tbody>\n",
        "</table>\n",
        "<p>6 rows \u00d7 3 columns</p>\n",
        "</div>"
       ],
       "output_type": "pyout",
       "prompt_number": 5,
       "text": [
        "   data1 key  data2\n",
        "0      0   b      1\n",
        "1      1   b      1\n",
        "2      6   b      1\n",
        "3      2   a      0\n",
        "4      4   a      0\n",
        "5      5   a      0\n",
        "\n",
        "[6 rows x 3 columns]"
       ]
      }
     ],
     "prompt_number": 5
    },
    {
     "cell_type": "markdown",
     "source": [
      "It's good practice to specificy keys explicitly."
     ]
    },
    {
     "cell_type": "code",
     "collapsed": false,
     "input": [
      "pd.merge(df1, df2, on='key')"
     ],
     "language": "python",
     "outputs": [
      {
       "html": [
        "<div style=\"max-height:1000px;max-width:1500px;overflow:auto;\">\n",
        "<table border=\"1\" class=\"dataframe\">\n",
        "  <thead>\n",
        "    <tr style=\"text-align: right;\">\n",
        "      <th></th>\n",
        "      <th>data1</th>\n",
        "      <th>key</th>\n",
        "      <th>data2</th>\n",
        "    </tr>\n",
        "  </thead>\n",
        "  <tbody>\n",
        "    <tr>\n",
        "      <th>0</th>\n",
        "      <td> 0</td>\n",
        "      <td> b</td>\n",
        "      <td> 1</td>\n",
        "    </tr>\n",
        "    <tr>\n",
        "      <th>1</th>\n",
        "      <td> 1</td>\n",
        "      <td> b</td>\n",
        "      <td> 1</td>\n",
        "    </tr>\n",
        "    <tr>\n",
        "      <th>2</th>\n",
        "      <td> 6</td>\n",
        "      <td> b</td>\n",
        "      <td> 1</td>\n",
        "    </tr>\n",
        "    <tr>\n",
        "      <th>3</th>\n",
        "      <td> 2</td>\n",
        "      <td> a</td>\n",
        "      <td> 0</td>\n",
        "    </tr>\n",
        "    <tr>\n",
        "      <th>4</th>\n",
        "      <td> 4</td>\n",
        "      <td> a</td>\n",
        "      <td> 0</td>\n",
        "    </tr>\n",
        "    <tr>\n",
        "      <th>5</th>\n",
        "      <td> 5</td>\n",
        "      <td> a</td>\n",
        "      <td> 0</td>\n",
        "    </tr>\n",
        "  </tbody>\n",
        "</table>\n",
        "<p>6 rows \u00d7 3 columns</p>\n",
        "</div>"
       ],
       "output_type": "pyout",
       "prompt_number": 6,
       "text": [
        "   data1 key  data2\n",
        "0      0   b      1\n",
        "1      1   b      1\n",
        "2      6   b      1\n",
        "3      2   a      0\n",
        "4      4   a      0\n",
        "5      5   a      0\n",
        "\n",
        "[6 rows x 3 columns]"
       ]
      }
     ],
     "prompt_number": 6
    },
    {
     "cell_type": "code",
     "collapsed": false,
     "input": [
      "df3 = DataFrame({'lkey': ['b', 'b', 'a', 'c', 'a', 'a', 'b'],\n",
      "                 'data1': range(7)})\n",
      "df3"
     ],
     "language": "python",
     "outputs": [
      {
       "html": [
        "<div style=\"max-height:1000px;max-width:1500px;overflow:auto;\">\n",
        "<table border=\"1\" class=\"dataframe\">\n",
        "  <thead>\n",
        "    <tr style=\"text-align: right;\">\n",
        "      <th></th>\n",
        "      <th>data1</th>\n",
        "      <th>lkey</th>\n",
        "    </tr>\n",
        "  </thead>\n",
        "  <tbody>\n",
        "    <tr>\n",
        "      <th>0</th>\n",
        "      <td> 0</td>\n",
        "      <td> b</td>\n",
        "    </tr>\n",
        "    <tr>\n",
        "      <th>1</th>\n",
        "      <td> 1</td>\n",
        "      <td> b</td>\n",
        "    </tr>\n",
        "    <tr>\n",
        "      <th>2</th>\n",
        "      <td> 2</td>\n",
        "      <td> a</td>\n",
        "    </tr>\n",
        "    <tr>\n",
        "      <th>3</th>\n",
        "      <td> 3</td>\n",
        "      <td> c</td>\n",
        "    </tr>\n",
        "    <tr>\n",
        "      <th>4</th>\n",
        "      <td> 4</td>\n",
        "      <td> a</td>\n",
        "    </tr>\n",
        "    <tr>\n",
        "      <th>5</th>\n",
        "      <td> 5</td>\n",
        "      <td> a</td>\n",
        "    </tr>\n",
        "    <tr>\n",
        "      <th>6</th>\n",
        "      <td> 6</td>\n",
        "      <td> b</td>\n",
        "    </tr>\n",
        "  </tbody>\n",
        "</table>\n",
        "<p>7 rows \u00d7 2 columns</p>\n",
        "</div>"
       ],
       "output_type": "pyout",
       "prompt_number": 7,
       "text": [
        "   data1 lkey\n",
        "0      0    b\n",
        "1      1    b\n",
        "2      2    a\n",
        "3      3    c\n",
        "4      4    a\n",
        "5      5    a\n",
        "6      6    b\n",
        "\n",
        "[7 rows x 2 columns]"
       ]
      }
     ],
     "prompt_number": 7
    },
    {
     "cell_type": "code",
     "collapsed": false,
     "input": [
      "df4 = DataFrame({'rkey': ['a', 'b', 'd'],\n",
      "                 'data2': range(3)})\n",
      "df4"
     ],
     "language": "python",
     "outputs": [
      {
       "html": [
        "<div style=\"max-height:1000px;max-width:1500px;overflow:auto;\">\n",
        "<table border=\"1\" class=\"dataframe\">\n",
        "  <thead>\n",
        "    <tr style=\"text-align: right;\">\n",
        "      <th></th>\n",
        "      <th>data2</th>\n",
        "      <th>rkey</th>\n",
        "    </tr>\n",
        "  </thead>\n",
        "  <tbody>\n",
        "    <tr>\n",
        "      <th>0</th>\n",
        "      <td> 0</td>\n",
        "      <td> a</td>\n",
        "    </tr>\n",
        "    <tr>\n",
        "      <th>1</th>\n",
        "      <td> 1</td>\n",
        "      <td> b</td>\n",
        "    </tr>\n",
        "    <tr>\n",
        "      <th>2</th>\n",
        "      <td> 2</td>\n",
        "      <td> d</td>\n",
        "    </tr>\n",
        "  </tbody>\n",
        "</table>\n",
        "<p>3 rows \u00d7 2 columns</p>\n",
        "</div>"
       ],
       "output_type": "pyout",
       "prompt_number": 8,
       "text": [
        "   data2 rkey\n",
        "0      0    a\n",
        "1      1    b\n",
        "2      2    d\n",
        "\n",
        "[3 rows x 2 columns]"
       ]
      }
     ],
     "prompt_number": 8
    },
    {
     "cell_type": "code",
     "collapsed": false,
     "input": [
      "pd.merge(df3, df4, left_on='lkey', right_on='rkey')"
     ],
     "language": "python",
     "outputs": [
      {
       "html": [
        "<div style=\"max-height:1000px;max-width:1500px;overflow:auto;\">\n",
        "<table border=\"1\" class=\"dataframe\">\n",
        "  <thead>\n",
        "    <tr style=\"text-align: right;\">\n",
        "      <th></th>\n",
        "      <th>data1</th>\n",
        "      <th>lkey</th>\n",
        "      <th>data2</th>\n",
        "      <th>rkey</th>\n",
        "    </tr>\n",
        "  </thead>\n",
        "  <tbody>\n",
        "    <tr>\n",
        "      <th>0</th>\n",
        "      <td> 0</td>\n",
        "      <td> b</td>\n",
        "      <td> 1</td>\n",
        "      <td> b</td>\n",
        "    </tr>\n",
        "    <tr>\n",
        "      <th>1</th>\n",
        "      <td> 1</td>\n",
        "      <td> b</td>\n",
        "      <td> 1</td>\n",
        "      <td> b</td>\n",
        "    </tr>\n",
        "    <tr>\n",
        "      <th>2</th>\n",
        "      <td> 6</td>\n",
        "      <td> b</td>\n",
        "      <td> 1</td>\n",
        "      <td> b</td>\n",
        "    </tr>\n",
        "    <tr>\n",
        "      <th>3</th>\n",
        "      <td> 2</td>\n",
        "      <td> a</td>\n",
        "      <td> 0</td>\n",
        "      <td> a</td>\n",
        "    </tr>\n",
        "    <tr>\n",
        "      <th>4</th>\n",
        "      <td> 4</td>\n",
        "      <td> a</td>\n",
        "      <td> 0</td>\n",
        "      <td> a</td>\n",
        "    </tr>\n",
        "    <tr>\n",
        "      <th>5</th>\n",
        "      <td> 5</td>\n",
        "      <td> a</td>\n",
        "      <td> 0</td>\n",
        "      <td> a</td>\n",
        "    </tr>\n",
        "  </tbody>\n",
        "</table>\n",
        "<p>6 rows \u00d7 4 columns</p>\n",
        "</div>"
       ],
       "output_type": "pyout",
       "prompt_number": 9,
       "text": [
        "   data1 lkey  data2 rkey\n",
        "0      0    b      1    b\n",
        "1      1    b      1    b\n",
        "2      6    b      1    b\n",
        "3      2    a      0    a\n",
        "4      4    a      0    a\n",
        "5      5    a      0    a\n",
        "\n",
        "[6 rows x 4 columns]"
       ]
      }
     ],
     "prompt_number": 9
    },
    {
     "cell_type": "markdown",
     "source": [
      "By default, pandas does _inner_ join; the keys in the result are the\n",
      "intersection. Other possible options are _left_, _right_ and _outer_.\n"
     ]
    },
    {
     "cell_type": "code",
     "collapsed": false,
     "input": [
      "df1"
     ],
     "language": "python",
     "outputs": [
      {
       "html": [
        "<div style=\"max-height:1000px;max-width:1500px;overflow:auto;\">\n",
        "<table border=\"1\" class=\"dataframe\">\n",
        "  <thead>\n",
        "    <tr style=\"text-align: right;\">\n",
        "      <th></th>\n",
        "      <th>data1</th>\n",
        "      <th>key</th>\n",
        "    </tr>\n",
        "  </thead>\n",
        "  <tbody>\n",
        "    <tr>\n",
        "      <th>0</th>\n",
        "      <td> 0</td>\n",
        "      <td> b</td>\n",
        "    </tr>\n",
        "    <tr>\n",
        "      <th>1</th>\n",
        "      <td> 1</td>\n",
        "      <td> b</td>\n",
        "    </tr>\n",
        "    <tr>\n",
        "      <th>2</th>\n",
        "      <td> 2</td>\n",
        "      <td> a</td>\n",
        "    </tr>\n",
        "    <tr>\n",
        "      <th>3</th>\n",
        "      <td> 3</td>\n",
        "      <td> c</td>\n",
        "    </tr>\n",
        "    <tr>\n",
        "      <th>4</th>\n",
        "      <td> 4</td>\n",
        "      <td> a</td>\n",
        "    </tr>\n",
        "    <tr>\n",
        "      <th>5</th>\n",
        "      <td> 5</td>\n",
        "      <td> a</td>\n",
        "    </tr>\n",
        "    <tr>\n",
        "      <th>6</th>\n",
        "      <td> 6</td>\n",
        "      <td> b</td>\n",
        "    </tr>\n",
        "  </tbody>\n",
        "</table>\n",
        "<p>7 rows \u00d7 2 columns</p>\n",
        "</div>"
       ],
       "output_type": "pyout",
       "prompt_number": 12,
       "text": [
        "   data1 key\n",
        "0      0   b\n",
        "1      1   b\n",
        "2      2   a\n",
        "3      3   c\n",
        "4      4   a\n",
        "5      5   a\n",
        "6      6   b\n",
        "\n",
        "[7 rows x 2 columns]"
       ]
      }
     ],
     "prompt_number": 12
    },
    {
     "cell_type": "code",
     "collapsed": false,
     "input": [
      "df2"
     ],
     "language": "python",
     "outputs": [
      {
       "html": [
        "<div style=\"max-height:1000px;max-width:1500px;overflow:auto;\">\n",
        "<table border=\"1\" class=\"dataframe\">\n",
        "  <thead>\n",
        "    <tr style=\"text-align: right;\">\n",
        "      <th></th>\n",
        "      <th>data2</th>\n",
        "      <th>key</th>\n",
        "    </tr>\n",
        "  </thead>\n",
        "  <tbody>\n",
        "    <tr>\n",
        "      <th>0</th>\n",
        "      <td> 0</td>\n",
        "      <td> a</td>\n",
        "    </tr>\n",
        "    <tr>\n",
        "      <th>1</th>\n",
        "      <td> 1</td>\n",
        "      <td> b</td>\n",
        "    </tr>\n",
        "    <tr>\n",
        "      <th>2</th>\n",
        "      <td> 2</td>\n",
        "      <td> d</td>\n",
        "    </tr>\n",
        "  </tbody>\n",
        "</table>\n",
        "<p>3 rows \u00d7 2 columns</p>\n",
        "</div>"
       ],
       "output_type": "pyout",
       "prompt_number": 13,
       "text": [
        "   data2 key\n",
        "0      0   a\n",
        "1      1   b\n",
        "2      2   d\n",
        "\n",
        "[3 rows x 2 columns]"
       ]
      }
     ],
     "prompt_number": 13
    },
    {
     "cell_type": "code",
     "collapsed": false,
     "input": [
      "pd.merge(df1, df2)"
     ],
     "language": "python",
     "outputs": [
      {
       "html": [
        "<div style=\"max-height:1000px;max-width:1500px;overflow:auto;\">\n",
        "<table border=\"1\" class=\"dataframe\">\n",
        "  <thead>\n",
        "    <tr style=\"text-align: right;\">\n",
        "      <th></th>\n",
        "      <th>data1</th>\n",
        "      <th>key</th>\n",
        "      <th>data2</th>\n",
        "    </tr>\n",
        "  </thead>\n",
        "  <tbody>\n",
        "    <tr>\n",
        "      <th>0</th>\n",
        "      <td> 0</td>\n",
        "      <td> b</td>\n",
        "      <td> 1</td>\n",
        "    </tr>\n",
        "    <tr>\n",
        "      <th>1</th>\n",
        "      <td> 1</td>\n",
        "      <td> b</td>\n",
        "      <td> 1</td>\n",
        "    </tr>\n",
        "    <tr>\n",
        "      <th>2</th>\n",
        "      <td> 6</td>\n",
        "      <td> b</td>\n",
        "      <td> 1</td>\n",
        "    </tr>\n",
        "    <tr>\n",
        "      <th>3</th>\n",
        "      <td> 2</td>\n",
        "      <td> a</td>\n",
        "      <td> 0</td>\n",
        "    </tr>\n",
        "    <tr>\n",
        "      <th>4</th>\n",
        "      <td> 4</td>\n",
        "      <td> a</td>\n",
        "      <td> 0</td>\n",
        "    </tr>\n",
        "    <tr>\n",
        "      <th>5</th>\n",
        "      <td> 5</td>\n",
        "      <td> a</td>\n",
        "      <td> 0</td>\n",
        "    </tr>\n",
        "  </tbody>\n",
        "</table>\n",
        "<p>6 rows \u00d7 3 columns</p>\n",
        "</div>"
       ],
       "output_type": "pyout",
       "prompt_number": 14,
       "text": [
        "   data1 key  data2\n",
        "0      0   b      1\n",
        "1      1   b      1\n",
        "2      6   b      1\n",
        "3      2   a      0\n",
        "4      4   a      0\n",
        "5      5   a      0\n",
        "\n",
        "[6 rows x 3 columns]"
       ]
      }
     ],
     "prompt_number": 14
    },
    {
     "cell_type": "code",
     "collapsed": false,
     "input": [
      "pd.merge(df1, df2, how='outer')"
     ],
     "language": "python",
     "outputs": [
      {
       "html": [
        "<div style=\"max-height:1000px;max-width:1500px;overflow:auto;\">\n",
        "<table border=\"1\" class=\"dataframe\">\n",
        "  <thead>\n",
        "    <tr style=\"text-align: right;\">\n",
        "      <th></th>\n",
        "      <th>data1</th>\n",
        "      <th>key</th>\n",
        "      <th>data2</th>\n",
        "    </tr>\n",
        "  </thead>\n",
        "  <tbody>\n",
        "    <tr>\n",
        "      <th>0</th>\n",
        "      <td>  0</td>\n",
        "      <td> b</td>\n",
        "      <td>  1</td>\n",
        "    </tr>\n",
        "    <tr>\n",
        "      <th>1</th>\n",
        "      <td>  1</td>\n",
        "      <td> b</td>\n",
        "      <td>  1</td>\n",
        "    </tr>\n",
        "    <tr>\n",
        "      <th>2</th>\n",
        "      <td>  6</td>\n",
        "      <td> b</td>\n",
        "      <td>  1</td>\n",
        "    </tr>\n",
        "    <tr>\n",
        "      <th>3</th>\n",
        "      <td>  2</td>\n",
        "      <td> a</td>\n",
        "      <td>  0</td>\n",
        "    </tr>\n",
        "    <tr>\n",
        "      <th>4</th>\n",
        "      <td>  4</td>\n",
        "      <td> a</td>\n",
        "      <td>  0</td>\n",
        "    </tr>\n",
        "    <tr>\n",
        "      <th>5</th>\n",
        "      <td>  5</td>\n",
        "      <td> a</td>\n",
        "      <td>  0</td>\n",
        "    </tr>\n",
        "    <tr>\n",
        "      <th>6</th>\n",
        "      <td>  3</td>\n",
        "      <td> c</td>\n",
        "      <td>NaN</td>\n",
        "    </tr>\n",
        "    <tr>\n",
        "      <th>7</th>\n",
        "      <td>NaN</td>\n",
        "      <td> d</td>\n",
        "      <td>  2</td>\n",
        "    </tr>\n",
        "  </tbody>\n",
        "</table>\n",
        "<p>8 rows \u00d7 3 columns</p>\n",
        "</div>"
       ],
       "output_type": "pyout",
       "prompt_number": 15,
       "text": [
        "   data1 key  data2\n",
        "0      0   b      1\n",
        "1      1   b      1\n",
        "2      6   b      1\n",
        "3      2   a      0\n",
        "4      4   a      0\n",
        "5      5   a      0\n",
        "6      3   c    NaN\n",
        "7    NaN   d      2\n",
        "\n",
        "[8 rows x 3 columns]"
       ]
      }
     ],
     "prompt_number": 15
    },
    {
     "cell_type": "code",
     "collapsed": false,
     "input": [
      "pd.merge(df1, df2, how='left')"
     ],
     "language": "python",
     "outputs": [
      {
       "html": [
        "<div style=\"max-height:1000px;max-width:1500px;overflow:auto;\">\n",
        "<table border=\"1\" class=\"dataframe\">\n",
        "  <thead>\n",
        "    <tr style=\"text-align: right;\">\n",
        "      <th></th>\n",
        "      <th>data1</th>\n",
        "      <th>key</th>\n",
        "      <th>data2</th>\n",
        "    </tr>\n",
        "  </thead>\n",
        "  <tbody>\n",
        "    <tr>\n",
        "      <th>0</th>\n",
        "      <td> 0</td>\n",
        "      <td> b</td>\n",
        "      <td>  1</td>\n",
        "    </tr>\n",
        "    <tr>\n",
        "      <th>1</th>\n",
        "      <td> 1</td>\n",
        "      <td> b</td>\n",
        "      <td>  1</td>\n",
        "    </tr>\n",
        "    <tr>\n",
        "      <th>2</th>\n",
        "      <td> 6</td>\n",
        "      <td> b</td>\n",
        "      <td>  1</td>\n",
        "    </tr>\n",
        "    <tr>\n",
        "      <th>3</th>\n",
        "      <td> 2</td>\n",
        "      <td> a</td>\n",
        "      <td>  0</td>\n",
        "    </tr>\n",
        "    <tr>\n",
        "      <th>4</th>\n",
        "      <td> 4</td>\n",
        "      <td> a</td>\n",
        "      <td>  0</td>\n",
        "    </tr>\n",
        "    <tr>\n",
        "      <th>5</th>\n",
        "      <td> 5</td>\n",
        "      <td> a</td>\n",
        "      <td>  0</td>\n",
        "    </tr>\n",
        "    <tr>\n",
        "      <th>6</th>\n",
        "      <td> 3</td>\n",
        "      <td> c</td>\n",
        "      <td>NaN</td>\n",
        "    </tr>\n",
        "  </tbody>\n",
        "</table>\n",
        "<p>7 rows \u00d7 3 columns</p>\n",
        "</div>"
       ],
       "output_type": "pyout",
       "prompt_number": 16,
       "text": [
        "   data1 key  data2\n",
        "0      0   b      1\n",
        "1      1   b      1\n",
        "2      6   b      1\n",
        "3      2   a      0\n",
        "4      4   a      0\n",
        "5      5   a      0\n",
        "6      3   c    NaN\n",
        "\n",
        "[7 rows x 3 columns]"
       ]
      }
     ],
     "prompt_number": 16
    },
    {
     "cell_type": "code",
     "collapsed": false,
     "input": [
      "pd.merge(df1, df2, how='right')"
     ],
     "language": "python",
     "outputs": [
      {
       "html": [
        "<div style=\"max-height:1000px;max-width:1500px;overflow:auto;\">\n",
        "<table border=\"1\" class=\"dataframe\">\n",
        "  <thead>\n",
        "    <tr style=\"text-align: right;\">\n",
        "      <th></th>\n",
        "      <th>data1</th>\n",
        "      <th>key</th>\n",
        "      <th>data2</th>\n",
        "    </tr>\n",
        "  </thead>\n",
        "  <tbody>\n",
        "    <tr>\n",
        "      <th>0</th>\n",
        "      <td>  0</td>\n",
        "      <td> b</td>\n",
        "      <td> 1</td>\n",
        "    </tr>\n",
        "    <tr>\n",
        "      <th>1</th>\n",
        "      <td>  1</td>\n",
        "      <td> b</td>\n",
        "      <td> 1</td>\n",
        "    </tr>\n",
        "    <tr>\n",
        "      <th>2</th>\n",
        "      <td>  6</td>\n",
        "      <td> b</td>\n",
        "      <td> 1</td>\n",
        "    </tr>\n",
        "    <tr>\n",
        "      <th>3</th>\n",
        "      <td>  2</td>\n",
        "      <td> a</td>\n",
        "      <td> 0</td>\n",
        "    </tr>\n",
        "    <tr>\n",
        "      <th>4</th>\n",
        "      <td>  4</td>\n",
        "      <td> a</td>\n",
        "      <td> 0</td>\n",
        "    </tr>\n",
        "    <tr>\n",
        "      <th>5</th>\n",
        "      <td>  5</td>\n",
        "      <td> a</td>\n",
        "      <td> 0</td>\n",
        "    </tr>\n",
        "    <tr>\n",
        "      <th>6</th>\n",
        "      <td>NaN</td>\n",
        "      <td> d</td>\n",
        "      <td> 2</td>\n",
        "    </tr>\n",
        "  </tbody>\n",
        "</table>\n",
        "<p>7 rows \u00d7 3 columns</p>\n",
        "</div>"
       ],
       "output_type": "pyout",
       "prompt_number": 17,
       "text": [
        "   data1 key  data2\n",
        "0      0   b      1\n",
        "1      1   b      1\n",
        "2      6   b      1\n",
        "3      2   a      0\n",
        "4      4   a      0\n",
        "5      5   a      0\n",
        "6    NaN   d      2\n",
        "\n",
        "[7 rows x 3 columns]"
       ]
      }
     ],
     "prompt_number": 17
    },
    {
     "cell_type": "markdown",
     "source": [
      "Many-to-many merges\n"
     ]
    },
    {
     "cell_type": "code",
     "collapsed": false,
     "input": [
      "df1 = DataFrame({'key': ['b', 'b', 'a', 'c', 'a', 'b'],\n",
      "                 'data1': range(6)})\n",
      "df2 = DataFrame({'key': ['a', 'b', 'a', 'b', 'd'],\n",
      "                 'data2': range(5)})"
     ],
     "language": "python",
     "outputs": [],
     "prompt_number": 22
    },
    {
     "cell_type": "code",
     "collapsed": false,
     "input": [
      "df1"
     ],
     "language": "python",
     "outputs": [
      {
       "html": [
        "<div style=\"max-height:1000px;max-width:1500px;overflow:auto;\">\n",
        "<table border=\"1\" class=\"dataframe\">\n",
        "  <thead>\n",
        "    <tr style=\"text-align: right;\">\n",
        "      <th></th>\n",
        "      <th>data1</th>\n",
        "      <th>key</th>\n",
        "    </tr>\n",
        "  </thead>\n",
        "  <tbody>\n",
        "    <tr>\n",
        "      <th>0</th>\n",
        "      <td> 0</td>\n",
        "      <td> b</td>\n",
        "    </tr>\n",
        "    <tr>\n",
        "      <th>1</th>\n",
        "      <td> 1</td>\n",
        "      <td> b</td>\n",
        "    </tr>\n",
        "    <tr>\n",
        "      <th>2</th>\n",
        "      <td> 2</td>\n",
        "      <td> a</td>\n",
        "    </tr>\n",
        "    <tr>\n",
        "      <th>3</th>\n",
        "      <td> 3</td>\n",
        "      <td> c</td>\n",
        "    </tr>\n",
        "    <tr>\n",
        "      <th>4</th>\n",
        "      <td> 4</td>\n",
        "      <td> a</td>\n",
        "    </tr>\n",
        "    <tr>\n",
        "      <th>5</th>\n",
        "      <td> 5</td>\n",
        "      <td> b</td>\n",
        "    </tr>\n",
        "  </tbody>\n",
        "</table>\n",
        "<p>6 rows \u00d7 2 columns</p>\n",
        "</div>"
       ],
       "output_type": "pyout",
       "prompt_number": 23,
       "text": [
        "   data1 key\n",
        "0      0   b\n",
        "1      1   b\n",
        "2      2   a\n",
        "3      3   c\n",
        "4      4   a\n",
        "5      5   b\n",
        "\n",
        "[6 rows x 2 columns]"
       ]
      }
     ],
     "prompt_number": 23
    },
    {
     "cell_type": "code",
     "collapsed": false,
     "input": [
      "df2"
     ],
     "language": "python",
     "outputs": [
      {
       "html": [
        "<div style=\"max-height:1000px;max-width:1500px;overflow:auto;\">\n",
        "<table border=\"1\" class=\"dataframe\">\n",
        "  <thead>\n",
        "    <tr style=\"text-align: right;\">\n",
        "      <th></th>\n",
        "      <th>data2</th>\n",
        "      <th>key</th>\n",
        "    </tr>\n",
        "  </thead>\n",
        "  <tbody>\n",
        "    <tr>\n",
        "      <th>0</th>\n",
        "      <td> 0</td>\n",
        "      <td> a</td>\n",
        "    </tr>\n",
        "    <tr>\n",
        "      <th>1</th>\n",
        "      <td> 1</td>\n",
        "      <td> b</td>\n",
        "    </tr>\n",
        "    <tr>\n",
        "      <th>2</th>\n",
        "      <td> 2</td>\n",
        "      <td> a</td>\n",
        "    </tr>\n",
        "    <tr>\n",
        "      <th>3</th>\n",
        "      <td> 3</td>\n",
        "      <td> b</td>\n",
        "    </tr>\n",
        "    <tr>\n",
        "      <th>4</th>\n",
        "      <td> 4</td>\n",
        "      <td> d</td>\n",
        "    </tr>\n",
        "  </tbody>\n",
        "</table>\n",
        "<p>5 rows \u00d7 2 columns</p>\n",
        "</div>"
       ],
       "output_type": "pyout",
       "prompt_number": 24,
       "text": [
        "   data2 key\n",
        "0      0   a\n",
        "1      1   b\n",
        "2      2   a\n",
        "3      3   b\n",
        "4      4   d\n",
        "\n",
        "[5 rows x 2 columns]"
       ]
      }
     ],
     "prompt_number": 24
    },
    {
     "cell_type": "code",
     "collapsed": false,
     "input": [
      "pd.merge(df1, df2, how='left')"
     ],
     "language": "python",
     "outputs": [
      {
       "html": [
        "<div style=\"max-height:1000px;max-width:1500px;overflow:auto;\">\n",
        "<table border=\"1\" class=\"dataframe\">\n",
        "  <thead>\n",
        "    <tr style=\"text-align: right;\">\n",
        "      <th></th>\n",
        "      <th>data1</th>\n",
        "      <th>key</th>\n",
        "      <th>data2</th>\n",
        "    </tr>\n",
        "  </thead>\n",
        "  <tbody>\n",
        "    <tr>\n",
        "      <th>0 </th>\n",
        "      <td> 0</td>\n",
        "      <td> b</td>\n",
        "      <td>  1</td>\n",
        "    </tr>\n",
        "    <tr>\n",
        "      <th>1 </th>\n",
        "      <td> 0</td>\n",
        "      <td> b</td>\n",
        "      <td>  3</td>\n",
        "    </tr>\n",
        "    <tr>\n",
        "      <th>2 </th>\n",
        "      <td> 1</td>\n",
        "      <td> b</td>\n",
        "      <td>  1</td>\n",
        "    </tr>\n",
        "    <tr>\n",
        "      <th>3 </th>\n",
        "      <td> 1</td>\n",
        "      <td> b</td>\n",
        "      <td>  3</td>\n",
        "    </tr>\n",
        "    <tr>\n",
        "      <th>4 </th>\n",
        "      <td> 5</td>\n",
        "      <td> b</td>\n",
        "      <td>  1</td>\n",
        "    </tr>\n",
        "    <tr>\n",
        "      <th>5 </th>\n",
        "      <td> 5</td>\n",
        "      <td> b</td>\n",
        "      <td>  3</td>\n",
        "    </tr>\n",
        "    <tr>\n",
        "      <th>6 </th>\n",
        "      <td> 2</td>\n",
        "      <td> a</td>\n",
        "      <td>  0</td>\n",
        "    </tr>\n",
        "    <tr>\n",
        "      <th>7 </th>\n",
        "      <td> 2</td>\n",
        "      <td> a</td>\n",
        "      <td>  2</td>\n",
        "    </tr>\n",
        "    <tr>\n",
        "      <th>8 </th>\n",
        "      <td> 4</td>\n",
        "      <td> a</td>\n",
        "      <td>  0</td>\n",
        "    </tr>\n",
        "    <tr>\n",
        "      <th>9 </th>\n",
        "      <td> 4</td>\n",
        "      <td> a</td>\n",
        "      <td>  2</td>\n",
        "    </tr>\n",
        "    <tr>\n",
        "      <th>10</th>\n",
        "      <td> 3</td>\n",
        "      <td> c</td>\n",
        "      <td>NaN</td>\n",
        "    </tr>\n",
        "  </tbody>\n",
        "</table>\n",
        "<p>11 rows \u00d7 3 columns</p>\n",
        "</div>"
       ],
       "output_type": "pyout",
       "prompt_number": 25,
       "text": [
        "    data1 key  data2\n",
        "0       0   b      1\n",
        "1       0   b      3\n",
        "2       1   b      1\n",
        "3       1   b      3\n",
        "4       5   b      1\n",
        "5       5   b      3\n",
        "6       2   a      0\n",
        "7       2   a      2\n",
        "8       4   a      0\n",
        "9       4   a      2\n",
        "10      3   c    NaN\n",
        "\n",
        "[11 rows x 3 columns]"
       ]
      }
     ],
     "prompt_number": 25
    },
    {
     "cell_type": "code",
     "collapsed": false,
     "input": [
      "pd.merge(df1, df2, how='inner')"
     ],
     "language": "python",
     "outputs": [
      {
       "html": [
        "<div style=\"max-height:1000px;max-width:1500px;overflow:auto;\">\n",
        "<table border=\"1\" class=\"dataframe\">\n",
        "  <thead>\n",
        "    <tr style=\"text-align: right;\">\n",
        "      <th></th>\n",
        "      <th>data1</th>\n",
        "      <th>key</th>\n",
        "      <th>data2</th>\n",
        "    </tr>\n",
        "  </thead>\n",
        "  <tbody>\n",
        "    <tr>\n",
        "      <th>0</th>\n",
        "      <td> 0</td>\n",
        "      <td> b</td>\n",
        "      <td> 1</td>\n",
        "    </tr>\n",
        "    <tr>\n",
        "      <th>1</th>\n",
        "      <td> 0</td>\n",
        "      <td> b</td>\n",
        "      <td> 3</td>\n",
        "    </tr>\n",
        "    <tr>\n",
        "      <th>2</th>\n",
        "      <td> 1</td>\n",
        "      <td> b</td>\n",
        "      <td> 1</td>\n",
        "    </tr>\n",
        "    <tr>\n",
        "      <th>3</th>\n",
        "      <td> 1</td>\n",
        "      <td> b</td>\n",
        "      <td> 3</td>\n",
        "    </tr>\n",
        "    <tr>\n",
        "      <th>4</th>\n",
        "      <td> 5</td>\n",
        "      <td> b</td>\n",
        "      <td> 1</td>\n",
        "    </tr>\n",
        "    <tr>\n",
        "      <th>5</th>\n",
        "      <td> 5</td>\n",
        "      <td> b</td>\n",
        "      <td> 3</td>\n",
        "    </tr>\n",
        "    <tr>\n",
        "      <th>6</th>\n",
        "      <td> 2</td>\n",
        "      <td> a</td>\n",
        "      <td> 0</td>\n",
        "    </tr>\n",
        "    <tr>\n",
        "      <th>7</th>\n",
        "      <td> 2</td>\n",
        "      <td> a</td>\n",
        "      <td> 2</td>\n",
        "    </tr>\n",
        "    <tr>\n",
        "      <th>8</th>\n",
        "      <td> 4</td>\n",
        "      <td> a</td>\n",
        "      <td> 0</td>\n",
        "    </tr>\n",
        "    <tr>\n",
        "      <th>9</th>\n",
        "      <td> 4</td>\n",
        "      <td> a</td>\n",
        "      <td> 2</td>\n",
        "    </tr>\n",
        "  </tbody>\n",
        "</table>\n",
        "<p>10 rows \u00d7 3 columns</p>\n",
        "</div>"
       ],
       "output_type": "pyout",
       "prompt_number": 27,
       "text": [
        "   data1 key  data2\n",
        "0      0   b      1\n",
        "1      0   b      3\n",
        "2      1   b      1\n",
        "3      1   b      3\n",
        "4      5   b      1\n",
        "5      5   b      3\n",
        "6      2   a      0\n",
        "7      2   a      2\n",
        "8      4   a      0\n",
        "9      4   a      2\n",
        "\n",
        "[10 rows x 3 columns]"
       ]
      }
     ],
     "prompt_number": 27
    },
    {
     "cell_type": "markdown",
     "source": [
      "## More examples of join operations"
     ]
    },
    {
     "cell_type": "code",
     "collapsed": false,
     "input": [
      "employee = DataFrame({'last_name': ['Rafferty', 'Jones', 'Heisenberg', 'Robinson', 'Smith', 'John'],\n",
      "                      'dept_id': [31, 33, 33, 34, 34, None]})\n",
      "employee"
     ],
     "language": "python",
     "outputs": [
      {
       "html": [
        "<div style=\"max-height:1000px;max-width:1500px;overflow:auto;\">\n",
        "<table border=\"1\" class=\"dataframe\">\n",
        "  <thead>\n",
        "    <tr style=\"text-align: right;\">\n",
        "      <th></th>\n",
        "      <th>dept_id</th>\n",
        "      <th>last_name</th>\n",
        "    </tr>\n",
        "  </thead>\n",
        "  <tbody>\n",
        "    <tr>\n",
        "      <th>0</th>\n",
        "      <td> 31</td>\n",
        "      <td>   Rafferty</td>\n",
        "    </tr>\n",
        "    <tr>\n",
        "      <th>1</th>\n",
        "      <td> 33</td>\n",
        "      <td>      Jones</td>\n",
        "    </tr>\n",
        "    <tr>\n",
        "      <th>2</th>\n",
        "      <td> 33</td>\n",
        "      <td> Heisenberg</td>\n",
        "    </tr>\n",
        "    <tr>\n",
        "      <th>3</th>\n",
        "      <td> 34</td>\n",
        "      <td>   Robinson</td>\n",
        "    </tr>\n",
        "    <tr>\n",
        "      <th>4</th>\n",
        "      <td> 34</td>\n",
        "      <td>      Smith</td>\n",
        "    </tr>\n",
        "    <tr>\n",
        "      <th>5</th>\n",
        "      <td>NaN</td>\n",
        "      <td>       John</td>\n",
        "    </tr>\n",
        "  </tbody>\n",
        "</table>\n",
        "<p>6 rows \u00d7 2 columns</p>\n",
        "</div>"
       ],
       "output_type": "pyout",
       "prompt_number": 30,
       "text": [
        "   dept_id   last_name\n",
        "0       31    Rafferty\n",
        "1       33       Jones\n",
        "2       33  Heisenberg\n",
        "3       34    Robinson\n",
        "4       34       Smith\n",
        "5      NaN        John\n",
        "\n",
        "[6 rows x 2 columns]"
       ]
      }
     ],
     "prompt_number": 30
    },
    {
     "cell_type": "code",
     "collapsed": false,
     "input": [
      "dept = DataFrame({'dept_id': [31, 33, 34, 35],\n",
      "                  'dept_name': ['Sales', 'Engineering', 'Clerical', 'Marketing']})\n",
      "dept"
     ],
     "language": "python",
     "outputs": [
      {
       "html": [
        "<div style=\"max-height:1000px;max-width:1500px;overflow:auto;\">\n",
        "<table border=\"1\" class=\"dataframe\">\n",
        "  <thead>\n",
        "    <tr style=\"text-align: right;\">\n",
        "      <th></th>\n",
        "      <th>dept_id</th>\n",
        "      <th>dept_name</th>\n",
        "    </tr>\n",
        "  </thead>\n",
        "  <tbody>\n",
        "    <tr>\n",
        "      <th>0</th>\n",
        "      <td> 31</td>\n",
        "      <td>       Sales</td>\n",
        "    </tr>\n",
        "    <tr>\n",
        "      <th>1</th>\n",
        "      <td> 33</td>\n",
        "      <td> Engineering</td>\n",
        "    </tr>\n",
        "    <tr>\n",
        "      <th>2</th>\n",
        "      <td> 34</td>\n",
        "      <td>    Clerical</td>\n",
        "    </tr>\n",
        "    <tr>\n",
        "      <th>3</th>\n",
        "      <td> 35</td>\n",
        "      <td>   Marketing</td>\n",
        "    </tr>\n",
        "  </tbody>\n",
        "</table>\n",
        "<p>4 rows \u00d7 2 columns</p>\n",
        "</div>"
       ],
       "output_type": "pyout",
       "prompt_number": 36,
       "text": [
        "   dept_id    dept_name\n",
        "0       31        Sales\n",
        "1       33  Engineering\n",
        "2       34     Clerical\n",
        "3       35    Marketing\n",
        "\n",
        "[4 rows x 2 columns]"
       ]
      }
     ],
     "prompt_number": 36
    },
    {
     "cell_type": "markdown",
     "source": [
      "The result of _inner_ join is the outcome of first taking the Cartesian product\n",
      "(or cross-join) of all records in the tables (combining every record in table A\n",
      "with every record in table B) and then returning all records which satisfy the\n",
      "join predicate (i.e. if they have the same value for the `on` column)."
     ]
    },
    {
     "cell_type": "code",
     "collapsed": false,
     "input": [
      "pd.merge(employee, dept, how='inner')"
     ],
     "language": "python",
     "outputs": [
      {
       "html": [
        "<div style=\"max-height:1000px;max-width:1500px;overflow:auto;\">\n",
        "<table border=\"1\" class=\"dataframe\">\n",
        "  <thead>\n",
        "    <tr style=\"text-align: right;\">\n",
        "      <th></th>\n",
        "      <th>dept_id</th>\n",
        "      <th>last_name</th>\n",
        "      <th>dept_name</th>\n",
        "    </tr>\n",
        "  </thead>\n",
        "  <tbody>\n",
        "    <tr>\n",
        "      <th>0</th>\n",
        "      <td> 31</td>\n",
        "      <td>   Rafferty</td>\n",
        "      <td>       Sales</td>\n",
        "    </tr>\n",
        "    <tr>\n",
        "      <th>1</th>\n",
        "      <td> 33</td>\n",
        "      <td>      Jones</td>\n",
        "      <td> Engineering</td>\n",
        "    </tr>\n",
        "    <tr>\n",
        "      <th>2</th>\n",
        "      <td> 33</td>\n",
        "      <td> Heisenberg</td>\n",
        "      <td> Engineering</td>\n",
        "    </tr>\n",
        "    <tr>\n",
        "      <th>3</th>\n",
        "      <td> 34</td>\n",
        "      <td>   Robinson</td>\n",
        "      <td>    Clerical</td>\n",
        "    </tr>\n",
        "    <tr>\n",
        "      <th>4</th>\n",
        "      <td> 34</td>\n",
        "      <td>      Smith</td>\n",
        "      <td>    Clerical</td>\n",
        "    </tr>\n",
        "  </tbody>\n",
        "</table>\n",
        "<p>5 rows \u00d7 3 columns</p>\n",
        "</div>"
       ],
       "output_type": "pyout",
       "prompt_number": 37,
       "text": [
        "   dept_id   last_name    dept_name\n",
        "0       31    Rafferty        Sales\n",
        "1       33       Jones  Engineering\n",
        "2       33  Heisenberg  Engineering\n",
        "3       34    Robinson     Clerical\n",
        "4       34       Smith     Clerical\n",
        "\n",
        "[5 rows x 3 columns]"
       ]
      }
     ],
     "prompt_number": 37
    },
    {
     "cell_type": "markdown",
     "source": [
      "The result of a _left outer_ join for tables A and B __always__ contains all\n",
      "records on the \"left\" table (A), even if the join-condition doesn't find any\n",
      "matching record in the \"right\" table (B). That is if the there is no match on\n",
      "table B for a given record in A, the join will return a row in the result with\n",
      "NULL each column of B."
     ]
    },
    {
     "cell_type": "code",
     "collapsed": false,
     "input": [
      "pd.merge(employee, dept, how='left')"
     ],
     "language": "python",
     "outputs": [
      {
       "html": [
        "<div style=\"max-height:1000px;max-width:1500px;overflow:auto;\">\n",
        "<table border=\"1\" class=\"dataframe\">\n",
        "  <thead>\n",
        "    <tr style=\"text-align: right;\">\n",
        "      <th></th>\n",
        "      <th>dept_id</th>\n",
        "      <th>last_name</th>\n",
        "      <th>dept_name</th>\n",
        "    </tr>\n",
        "  </thead>\n",
        "  <tbody>\n",
        "    <tr>\n",
        "      <th>0</th>\n",
        "      <td> 31</td>\n",
        "      <td>   Rafferty</td>\n",
        "      <td>       Sales</td>\n",
        "    </tr>\n",
        "    <tr>\n",
        "      <th>1</th>\n",
        "      <td> 33</td>\n",
        "      <td>      Jones</td>\n",
        "      <td> Engineering</td>\n",
        "    </tr>\n",
        "    <tr>\n",
        "      <th>2</th>\n",
        "      <td> 33</td>\n",
        "      <td> Heisenberg</td>\n",
        "      <td> Engineering</td>\n",
        "    </tr>\n",
        "    <tr>\n",
        "      <th>3</th>\n",
        "      <td> 34</td>\n",
        "      <td>   Robinson</td>\n",
        "      <td>    Clerical</td>\n",
        "    </tr>\n",
        "    <tr>\n",
        "      <th>4</th>\n",
        "      <td> 34</td>\n",
        "      <td>      Smith</td>\n",
        "      <td>    Clerical</td>\n",
        "    </tr>\n",
        "    <tr>\n",
        "      <th>5</th>\n",
        "      <td>NaN</td>\n",
        "      <td>       John</td>\n",
        "      <td>         NaN</td>\n",
        "    </tr>\n",
        "  </tbody>\n",
        "</table>\n",
        "<p>6 rows \u00d7 3 columns</p>\n",
        "</div>"
       ],
       "output_type": "pyout",
       "prompt_number": 41,
       "text": [
        "   dept_id   last_name    dept_name\n",
        "0       31    Rafferty        Sales\n",
        "1       33       Jones  Engineering\n",
        "2       33  Heisenberg  Engineering\n",
        "3       34    Robinson     Clerical\n",
        "4       34       Smith     Clerical\n",
        "5      NaN        John          NaN\n",
        "\n",
        "[6 rows x 3 columns]"
       ]
      }
     ],
     "prompt_number": 41
    },
    {
     "cell_type": "markdown",
     "source": [
      "The _right outer_ join is same as a _left outer_ join except the tables are\n",
      "reversed."
     ]
    },
    {
     "cell_type": "code",
     "collapsed": false,
     "input": [
      "pd.merge(employee, dept, how='right')"
     ],
     "language": "python",
     "outputs": [
      {
       "html": [
        "<div style=\"max-height:1000px;max-width:1500px;overflow:auto;\">\n",
        "<table border=\"1\" class=\"dataframe\">\n",
        "  <thead>\n",
        "    <tr style=\"text-align: right;\">\n",
        "      <th></th>\n",
        "      <th>dept_id</th>\n",
        "      <th>last_name</th>\n",
        "      <th>dept_name</th>\n",
        "    </tr>\n",
        "  </thead>\n",
        "  <tbody>\n",
        "    <tr>\n",
        "      <th>0</th>\n",
        "      <td> 31</td>\n",
        "      <td>   Rafferty</td>\n",
        "      <td>       Sales</td>\n",
        "    </tr>\n",
        "    <tr>\n",
        "      <th>1</th>\n",
        "      <td> 33</td>\n",
        "      <td>      Jones</td>\n",
        "      <td> Engineering</td>\n",
        "    </tr>\n",
        "    <tr>\n",
        "      <th>2</th>\n",
        "      <td> 33</td>\n",
        "      <td> Heisenberg</td>\n",
        "      <td> Engineering</td>\n",
        "    </tr>\n",
        "    <tr>\n",
        "      <th>3</th>\n",
        "      <td> 34</td>\n",
        "      <td>   Robinson</td>\n",
        "      <td>    Clerical</td>\n",
        "    </tr>\n",
        "    <tr>\n",
        "      <th>4</th>\n",
        "      <td> 34</td>\n",
        "      <td>      Smith</td>\n",
        "      <td>    Clerical</td>\n",
        "    </tr>\n",
        "    <tr>\n",
        "      <th>5</th>\n",
        "      <td> 35</td>\n",
        "      <td>        NaN</td>\n",
        "      <td>   Marketing</td>\n",
        "    </tr>\n",
        "  </tbody>\n",
        "</table>\n",
        "<p>6 rows \u00d7 3 columns</p>\n",
        "</div>"
       ],
       "output_type": "pyout",
       "prompt_number": 42,
       "text": [
        "   dept_id   last_name    dept_name\n",
        "0       31    Rafferty        Sales\n",
        "1       33       Jones  Engineering\n",
        "2       33  Heisenberg  Engineering\n",
        "3       34    Robinson     Clerical\n",
        "4       34       Smith     Clerical\n",
        "5       35         NaN    Marketing\n",
        "\n",
        "[6 rows x 3 columns]"
       ]
      }
     ],
     "prompt_number": 42
    },
    {
     "cell_type": "markdown",
     "source": [
      "The _outer_ (or _full outer_) join combines the effect of applying both _left_\n",
      "and _right_ outer joins.\n"
     ]
    },
    {
     "cell_type": "code",
     "collapsed": false,
     "input": [
      "pd.merge(employee, dept, how='outer')"
     ],
     "language": "python",
     "outputs": [
      {
       "html": [
        "<div style=\"max-height:1000px;max-width:1500px;overflow:auto;\">\n",
        "<table border=\"1\" class=\"dataframe\">\n",
        "  <thead>\n",
        "    <tr style=\"text-align: right;\">\n",
        "      <th></th>\n",
        "      <th>dept_id</th>\n",
        "      <th>last_name</th>\n",
        "      <th>dept_name</th>\n",
        "    </tr>\n",
        "  </thead>\n",
        "  <tbody>\n",
        "    <tr>\n",
        "      <th>0</th>\n",
        "      <td> 31</td>\n",
        "      <td>   Rafferty</td>\n",
        "      <td>       Sales</td>\n",
        "    </tr>\n",
        "    <tr>\n",
        "      <th>1</th>\n",
        "      <td> 33</td>\n",
        "      <td>      Jones</td>\n",
        "      <td> Engineering</td>\n",
        "    </tr>\n",
        "    <tr>\n",
        "      <th>2</th>\n",
        "      <td> 33</td>\n",
        "      <td> Heisenberg</td>\n",
        "      <td> Engineering</td>\n",
        "    </tr>\n",
        "    <tr>\n",
        "      <th>3</th>\n",
        "      <td> 34</td>\n",
        "      <td>   Robinson</td>\n",
        "      <td>    Clerical</td>\n",
        "    </tr>\n",
        "    <tr>\n",
        "      <th>4</th>\n",
        "      <td> 34</td>\n",
        "      <td>      Smith</td>\n",
        "      <td>    Clerical</td>\n",
        "    </tr>\n",
        "    <tr>\n",
        "      <th>5</th>\n",
        "      <td>NaN</td>\n",
        "      <td>       John</td>\n",
        "      <td>         NaN</td>\n",
        "    </tr>\n",
        "    <tr>\n",
        "      <th>6</th>\n",
        "      <td> 35</td>\n",
        "      <td>        NaN</td>\n",
        "      <td>   Marketing</td>\n",
        "    </tr>\n",
        "  </tbody>\n",
        "</table>\n",
        "<p>7 rows \u00d7 3 columns</p>\n",
        "</div>"
       ],
       "output_type": "pyout",
       "prompt_number": 43,
       "text": [
        "   dept_id   last_name    dept_name\n",
        "0       31    Rafferty        Sales\n",
        "1       33       Jones  Engineering\n",
        "2       33  Heisenberg  Engineering\n",
        "3       34    Robinson     Clerical\n",
        "4       34       Smith     Clerical\n",
        "5      NaN        John          NaN\n",
        "6       35         NaN    Marketing\n",
        "\n",
        "[7 rows x 3 columns]"
       ]
      }
     ],
     "prompt_number": 43
    },
    {
     "cell_type": "markdown",
     "source": [
      "## Merging on index"
     ]
    },
    {
     "cell_type": "code",
     "collapsed": false,
     "input": [
      "left1 = DataFrame({'key': ['a', 'b', 'a', 'a', 'b', 'c'],\n",
      "                   'value': range(6)})\n",
      "right1 = DataFrame({'group_val': [3.5, 7]}, index=['a', 'b'])"
     ],
     "language": "python",
     "outputs": [],
     "prompt_number": 46
    },
    {
     "cell_type": "code",
     "collapsed": false,
     "input": [
      "left1"
     ],
     "language": "python",
     "outputs": [
      {
       "html": [
        "<div style=\"max-height:1000px;max-width:1500px;overflow:auto;\">\n",
        "<table border=\"1\" class=\"dataframe\">\n",
        "  <thead>\n",
        "    <tr style=\"text-align: right;\">\n",
        "      <th></th>\n",
        "      <th>key</th>\n",
        "      <th>value</th>\n",
        "    </tr>\n",
        "  </thead>\n",
        "  <tbody>\n",
        "    <tr>\n",
        "      <th>0</th>\n",
        "      <td> a</td>\n",
        "      <td> 0</td>\n",
        "    </tr>\n",
        "    <tr>\n",
        "      <th>1</th>\n",
        "      <td> b</td>\n",
        "      <td> 1</td>\n",
        "    </tr>\n",
        "    <tr>\n",
        "      <th>2</th>\n",
        "      <td> a</td>\n",
        "      <td> 2</td>\n",
        "    </tr>\n",
        "    <tr>\n",
        "      <th>3</th>\n",
        "      <td> a</td>\n",
        "      <td> 3</td>\n",
        "    </tr>\n",
        "    <tr>\n",
        "      <th>4</th>\n",
        "      <td> b</td>\n",
        "      <td> 4</td>\n",
        "    </tr>\n",
        "    <tr>\n",
        "      <th>5</th>\n",
        "      <td> c</td>\n",
        "      <td> 5</td>\n",
        "    </tr>\n",
        "  </tbody>\n",
        "</table>\n",
        "<p>6 rows \u00d7 2 columns</p>\n",
        "</div>"
       ],
       "output_type": "pyout",
       "prompt_number": 47,
       "text": [
        "  key  value\n",
        "0   a      0\n",
        "1   b      1\n",
        "2   a      2\n",
        "3   a      3\n",
        "4   b      4\n",
        "5   c      5\n",
        "\n",
        "[6 rows x 2 columns]"
       ]
      }
     ],
     "prompt_number": 47
    },
    {
     "cell_type": "code",
     "collapsed": false,
     "input": [
      "right1"
     ],
     "language": "python",
     "outputs": [
      {
       "html": [
        "<div style=\"max-height:1000px;max-width:1500px;overflow:auto;\">\n",
        "<table border=\"1\" class=\"dataframe\">\n",
        "  <thead>\n",
        "    <tr style=\"text-align: right;\">\n",
        "      <th></th>\n",
        "      <th>group_val</th>\n",
        "    </tr>\n",
        "  </thead>\n",
        "  <tbody>\n",
        "    <tr>\n",
        "      <th>a</th>\n",
        "      <td> 3.5</td>\n",
        "    </tr>\n",
        "    <tr>\n",
        "      <th>b</th>\n",
        "      <td> 7.0</td>\n",
        "    </tr>\n",
        "  </tbody>\n",
        "</table>\n",
        "<p>2 rows \u00d7 1 columns</p>\n",
        "</div>"
       ],
       "output_type": "pyout",
       "prompt_number": 48,
       "text": [
        "   group_val\n",
        "a        3.5\n",
        "b        7.0\n",
        "\n",
        "[2 rows x 1 columns]"
       ]
      }
     ],
     "prompt_number": 48
    },
    {
     "cell_type": "code",
     "collapsed": false,
     "input": [
      "pd.merge(left1, right1, left_on='key', right_index=True)"
     ],
     "language": "python",
     "outputs": [
      {
       "html": [
        "<div style=\"max-height:1000px;max-width:1500px;overflow:auto;\">\n",
        "<table border=\"1\" class=\"dataframe\">\n",
        "  <thead>\n",
        "    <tr style=\"text-align: right;\">\n",
        "      <th></th>\n",
        "      <th>key</th>\n",
        "      <th>value</th>\n",
        "      <th>group_val</th>\n",
        "    </tr>\n",
        "  </thead>\n",
        "  <tbody>\n",
        "    <tr>\n",
        "      <th>0</th>\n",
        "      <td> a</td>\n",
        "      <td> 0</td>\n",
        "      <td> 3.5</td>\n",
        "    </tr>\n",
        "    <tr>\n",
        "      <th>2</th>\n",
        "      <td> a</td>\n",
        "      <td> 2</td>\n",
        "      <td> 3.5</td>\n",
        "    </tr>\n",
        "    <tr>\n",
        "      <th>3</th>\n",
        "      <td> a</td>\n",
        "      <td> 3</td>\n",
        "      <td> 3.5</td>\n",
        "    </tr>\n",
        "    <tr>\n",
        "      <th>1</th>\n",
        "      <td> b</td>\n",
        "      <td> 1</td>\n",
        "      <td> 7.0</td>\n",
        "    </tr>\n",
        "    <tr>\n",
        "      <th>4</th>\n",
        "      <td> b</td>\n",
        "      <td> 4</td>\n",
        "      <td> 7.0</td>\n",
        "    </tr>\n",
        "  </tbody>\n",
        "</table>\n",
        "<p>5 rows \u00d7 3 columns</p>\n",
        "</div>"
       ],
       "output_type": "pyout",
       "prompt_number": 49,
       "text": [
        "  key  value  group_val\n",
        "0   a      0        3.5\n",
        "2   a      2        3.5\n",
        "3   a      3        3.5\n",
        "1   b      1        7.0\n",
        "4   b      4        7.0\n",
        "\n",
        "[5 rows x 3 columns]"
       ]
      }
     ],
     "prompt_number": 49
    },
    {
     "cell_type": "markdown",
     "source": [
      "## Concatenating Along on Axis"
     ]
    },
    {
     "cell_type": "code",
     "collapsed": false,
     "input": [
      "import numpy as np\n",
      "arr = np.arange(12).reshape((3, 4))\n",
      "arr"
     ],
     "language": "python",
     "outputs": [
      {
       "output_type": "pyout",
       "prompt_number": 51,
       "text": [
        "array([[ 0,  1,  2,  3],\n",
        "       [ 4,  5,  6,  7],\n",
        "       [ 8,  9, 10, 11]])"
       ]
      }
     ],
     "prompt_number": 51
    },
    {
     "cell_type": "code",
     "collapsed": false,
     "input": [
      "np.concatenate([arr, arr], axis=1)"
     ],
     "language": "python",
     "outputs": [
      {
       "output_type": "pyout",
       "prompt_number": 53,
       "text": [
        "array([[ 0,  1,  2,  3,  0,  1,  2,  3],\n",
        "       [ 4,  5,  6,  7,  4,  5,  6,  7],\n",
        "       [ 8,  9, 10, 11,  8,  9, 10, 11]])"
       ]
      }
     ],
     "prompt_number": 53
    },
    {
     "cell_type": "code",
     "collapsed": false,
     "input": [
      "s1 = Series([0, 1], index=['a', 'b'])\n",
      "s2 = Series([2, 3, 4], index=['c', 'd', 'e'])\n",
      "s3 = Series([5, 6], index=['f', 'g'])\n",
      "pd.concat([s1, s2, s3])"
     ],
     "language": "python",
     "outputs": [
      {
       "output_type": "pyout",
       "prompt_number": 55,
       "text": [
        "a    0\n",
        "b    1\n",
        "c    2\n",
        "d    3\n",
        "e    4\n",
        "f    5\n",
        "g    6\n",
        "dtype: int64"
       ]
      }
     ],
     "prompt_number": 55
    },
    {
     "cell_type": "markdown",
     "source": [
      "## Combining data with overlap"
     ]
    },
    {
     "cell_type": "code",
     "collapsed": false,
     "input": [
      "a = Series([np.nan, 2.5, np.nan, 3.5, 4.5, np.nan],\n",
      "           index=['f', 'e', 'd', 'c', 'b', 'a'])\n",
      "b = Series(np.arange(len(a), dtype=np.float64),\n",
      "           index=['f', 'e', 'd', 'c', 'b', 'a'])\n",
      "b[-1] = np.nan"
     ],
     "language": "python",
     "outputs": [],
     "prompt_number": 61
    },
    {
     "cell_type": "code",
     "collapsed": false,
     "input": [
      "a"
     ],
     "language": "python",
     "outputs": [
      {
       "output_type": "pyout",
       "prompt_number": 57,
       "text": [
        "f    NaN\n",
        "e    2.5\n",
        "d    NaN\n",
        "c    3.5\n",
        "b    4.5\n",
        "a    NaN\n",
        "dtype: float64"
       ]
      }
     ],
     "prompt_number": 57
    },
    {
     "cell_type": "code",
     "collapsed": false,
     "input": [
      "b"
     ],
     "language": "python",
     "outputs": [
      {
       "output_type": "pyout",
       "prompt_number": 62,
       "text": [
        "f     0\n",
        "e     1\n",
        "d     2\n",
        "c     3\n",
        "b     4\n",
        "a   NaN\n",
        "dtype: float64"
       ]
      }
     ],
     "prompt_number": 62
    },
    {
     "cell_type": "code",
     "collapsed": false,
     "input": [
      "np.where(pd.isnull(a), b, a)"
     ],
     "language": "python",
     "outputs": [
      {
       "output_type": "pyout",
       "prompt_number": 63,
       "text": [
        "array([ 0. ,  2.5,  2. ,  3.5,  4.5,  nan])"
       ]
      }
     ],
     "prompt_number": 63
    },
    {
     "cell_type": "code",
     "collapsed": false,
     "input": [
      "b.combine_first(a)"
     ],
     "language": "python",
     "outputs": [
      {
       "output_type": "pyout",
       "prompt_number": 65,
       "text": [
        "f     0\n",
        "e     1\n",
        "d     2\n",
        "c     3\n",
        "b     4\n",
        "a   NaN\n",
        "dtype: float64"
       ]
      }
     ],
     "prompt_number": 65
    },
    {
     "cell_type": "markdown",
     "source": [
      "# Reshaping and Pivoting"
     ]
    },
    {
     "cell_type": "markdown",
     "source": [
      "## Reshaping with hierarchical indexing\n"
     ]
    },
    {
     "cell_type": "code",
     "collapsed": false,
     "input": [
      "data = DataFrame(np.arange(6).reshape((2, 3)),\n",
      "                 index=pd.Index(['Ohio', 'Colorado'], name='state'),\n",
      "                 columns=pd.Index(['one', 'two', 'three'], name='number'))\n",
      "data"
     ],
     "language": "python",
     "outputs": [
      {
       "html": [
        "<div style=\"max-height:1000px;max-width:1500px;overflow:auto;\">\n",
        "<table border=\"1\" class=\"dataframe\">\n",
        "  <thead>\n",
        "    <tr style=\"text-align: right;\">\n",
        "      <th>number</th>\n",
        "      <th>one</th>\n",
        "      <th>two</th>\n",
        "      <th>three</th>\n",
        "    </tr>\n",
        "    <tr>\n",
        "      <th>state</th>\n",
        "      <th></th>\n",
        "      <th></th>\n",
        "      <th></th>\n",
        "    </tr>\n",
        "  </thead>\n",
        "  <tbody>\n",
        "    <tr>\n",
        "      <th>Ohio</th>\n",
        "      <td> 0</td>\n",
        "      <td> 1</td>\n",
        "      <td> 2</td>\n",
        "    </tr>\n",
        "    <tr>\n",
        "      <th>Colorado</th>\n",
        "      <td> 3</td>\n",
        "      <td> 4</td>\n",
        "      <td> 5</td>\n",
        "    </tr>\n",
        "  </tbody>\n",
        "</table>\n",
        "<p>2 rows \u00d7 3 columns</p>\n",
        "</div>"
       ],
       "output_type": "pyout",
       "prompt_number": 68,
       "text": [
        "number    one  two  three\n",
        "state                    \n",
        "Ohio        0    1      2\n",
        "Colorado    3    4      5\n",
        "\n",
        "[2 rows x 3 columns]"
       ]
      }
     ],
     "prompt_number": 68
    },
    {
     "cell_type": "code",
     "collapsed": false,
     "input": [
      "result = data.stack()\n",
      "result"
     ],
     "language": "python",
     "outputs": [
      {
       "output_type": "pyout",
       "prompt_number": 72,
       "text": [
        "state     number\n",
        "Ohio      one       0\n",
        "          two       1\n",
        "          three     2\n",
        "Colorado  one       3\n",
        "          two       4\n",
        "          three     5\n",
        "dtype: int64"
       ]
      }
     ],
     "prompt_number": 72
    },
    {
     "cell_type": "code",
     "collapsed": false,
     "input": [
      "result.unstack()"
     ],
     "language": "python",
     "outputs": [
      {
       "html": [
        "<div style=\"max-height:1000px;max-width:1500px;overflow:auto;\">\n",
        "<table border=\"1\" class=\"dataframe\">\n",
        "  <thead>\n",
        "    <tr style=\"text-align: right;\">\n",
        "      <th>number</th>\n",
        "      <th>one</th>\n",
        "      <th>two</th>\n",
        "      <th>three</th>\n",
        "    </tr>\n",
        "    <tr>\n",
        "      <th>state</th>\n",
        "      <th></th>\n",
        "      <th></th>\n",
        "      <th></th>\n",
        "    </tr>\n",
        "  </thead>\n",
        "  <tbody>\n",
        "    <tr>\n",
        "      <th>Ohio</th>\n",
        "      <td> 0</td>\n",
        "      <td> 1</td>\n",
        "      <td> 2</td>\n",
        "    </tr>\n",
        "    <tr>\n",
        "      <th>Colorado</th>\n",
        "      <td> 3</td>\n",
        "      <td> 4</td>\n",
        "      <td> 5</td>\n",
        "    </tr>\n",
        "  </tbody>\n",
        "</table>\n",
        "<p>2 rows \u00d7 3 columns</p>\n",
        "</div>"
       ],
       "output_type": "pyout",
       "prompt_number": 73,
       "text": [
        "number    one  two  three\n",
        "state                    \n",
        "Ohio        0    1      2\n",
        "Colorado    3    4      5\n",
        "\n",
        "[2 rows x 3 columns]"
       ]
      }
     ],
     "prompt_number": 73
    },
    {
     "cell_type": "code",
     "collapsed": false,
     "input": [
      "result.unstack(0)"
     ],
     "language": "python",
     "outputs": [
      {
       "html": [
        "<div style=\"max-height:1000px;max-width:1500px;overflow:auto;\">\n",
        "<table border=\"1\" class=\"dataframe\">\n",
        "  <thead>\n",
        "    <tr style=\"text-align: right;\">\n",
        "      <th>state</th>\n",
        "      <th>Ohio</th>\n",
        "      <th>Colorado</th>\n",
        "    </tr>\n",
        "    <tr>\n",
        "      <th>number</th>\n",
        "      <th></th>\n",
        "      <th></th>\n",
        "    </tr>\n",
        "  </thead>\n",
        "  <tbody>\n",
        "    <tr>\n",
        "      <th>one</th>\n",
        "      <td> 0</td>\n",
        "      <td> 3</td>\n",
        "    </tr>\n",
        "    <tr>\n",
        "      <th>two</th>\n",
        "      <td> 1</td>\n",
        "      <td> 4</td>\n",
        "    </tr>\n",
        "    <tr>\n",
        "      <th>three</th>\n",
        "      <td> 2</td>\n",
        "      <td> 5</td>\n",
        "    </tr>\n",
        "  </tbody>\n",
        "</table>\n",
        "<p>3 rows \u00d7 2 columns</p>\n",
        "</div>"
       ],
       "output_type": "pyout",
       "prompt_number": 76,
       "text": [
        "state   Ohio  Colorado\n",
        "number                \n",
        "one        0         3\n",
        "two        1         4\n",
        "three      2         5\n",
        "\n",
        "[3 rows x 2 columns]"
       ]
      }
     ],
     "prompt_number": 76
    },
    {
     "cell_type": "code",
     "collapsed": false,
     "input": [
      "result.unstack('state')"
     ],
     "language": "python",
     "outputs": [
      {
       "html": [
        "<div style=\"max-height:1000px;max-width:1500px;overflow:auto;\">\n",
        "<table border=\"1\" class=\"dataframe\">\n",
        "  <thead>\n",
        "    <tr style=\"text-align: right;\">\n",
        "      <th>state</th>\n",
        "      <th>Ohio</th>\n",
        "      <th>Colorado</th>\n",
        "    </tr>\n",
        "    <tr>\n",
        "      <th>number</th>\n",
        "      <th></th>\n",
        "      <th></th>\n",
        "    </tr>\n",
        "  </thead>\n",
        "  <tbody>\n",
        "    <tr>\n",
        "      <th>one</th>\n",
        "      <td> 0</td>\n",
        "      <td> 3</td>\n",
        "    </tr>\n",
        "    <tr>\n",
        "      <th>two</th>\n",
        "      <td> 1</td>\n",
        "      <td> 4</td>\n",
        "    </tr>\n",
        "    <tr>\n",
        "      <th>three</th>\n",
        "      <td> 2</td>\n",
        "      <td> 5</td>\n",
        "    </tr>\n",
        "  </tbody>\n",
        "</table>\n",
        "<p>3 rows \u00d7 2 columns</p>\n",
        "</div>"
       ],
       "output_type": "pyout",
       "prompt_number": 77,
       "text": [
        "state   Ohio  Colorado\n",
        "number                \n",
        "one        0         3\n",
        "two        1         4\n",
        "three      2         5\n",
        "\n",
        "[3 rows x 2 columns]"
       ]
      }
     ],
     "prompt_number": 77
    },
    {
     "cell_type": "markdown",
     "source": [
      "## Pivoting \"long\" to \"wide\" format"
     ]
    },
    {
     "cell_type": "markdown",
     "source": [
      "See [pivot_table](http://pandas.pydata.org/pandas-docs/stable/reshaping.html#pivot-tables-and-cross-tabulations) function."
     ]
    },
    {
     "cell_type": "markdown",
     "source": [
      "# Data Transformation"
     ]
    },
    {
     "cell_type": "code",
     "collapsed": false,
     "input": [
      "data = DataFrame({'k1': ['one'] * 3 + ['two'] * 4,\n",
      "                  'k2': [1, 1, 2, 3, 3, 4, 4]})\n",
      "data"
     ],
     "language": "python",
     "outputs": [
      {
       "html": [
        "<div style=\"max-height:1000px;max-width:1500px;overflow:auto;\">\n",
        "<table border=\"1\" class=\"dataframe\">\n",
        "  <thead>\n",
        "    <tr style=\"text-align: right;\">\n",
        "      <th></th>\n",
        "      <th>k1</th>\n",
        "      <th>k2</th>\n",
        "    </tr>\n",
        "  </thead>\n",
        "  <tbody>\n",
        "    <tr>\n",
        "      <th>0</th>\n",
        "      <td> one</td>\n",
        "      <td> 1</td>\n",
        "    </tr>\n",
        "    <tr>\n",
        "      <th>1</th>\n",
        "      <td> one</td>\n",
        "      <td> 1</td>\n",
        "    </tr>\n",
        "    <tr>\n",
        "      <th>2</th>\n",
        "      <td> one</td>\n",
        "      <td> 2</td>\n",
        "    </tr>\n",
        "    <tr>\n",
        "      <th>3</th>\n",
        "      <td> two</td>\n",
        "      <td> 3</td>\n",
        "    </tr>\n",
        "    <tr>\n",
        "      <th>4</th>\n",
        "      <td> two</td>\n",
        "      <td> 3</td>\n",
        "    </tr>\n",
        "    <tr>\n",
        "      <th>5</th>\n",
        "      <td> two</td>\n",
        "      <td> 4</td>\n",
        "    </tr>\n",
        "    <tr>\n",
        "      <th>6</th>\n",
        "      <td> two</td>\n",
        "      <td> 4</td>\n",
        "    </tr>\n",
        "  </tbody>\n",
        "</table>\n",
        "<p>7 rows \u00d7 2 columns</p>\n",
        "</div>"
       ],
       "output_type": "pyout",
       "prompt_number": 3,
       "text": [
        "    k1  k2\n",
        "0  one   1\n",
        "1  one   1\n",
        "2  one   2\n",
        "3  two   3\n",
        "4  two   3\n",
        "5  two   4\n",
        "6  two   4\n",
        "\n",
        "[7 rows x 2 columns]"
       ]
      }
     ],
     "prompt_number": 3
    },
    {
     "cell_type": "code",
     "collapsed": false,
     "input": [
      "data.duplicated()"
     ],
     "language": "python",
     "outputs": [
      {
       "output_type": "pyout",
       "prompt_number": 4,
       "text": [
        "0    False\n",
        "1     True\n",
        "2    False\n",
        "3    False\n",
        "4     True\n",
        "5    False\n",
        "6     True\n",
        "dtype: bool"
       ]
      }
     ],
     "prompt_number": 4
    },
    {
     "cell_type": "code",
     "collapsed": false,
     "input": [
      "data.drop_duplicates()"
     ],
     "language": "python",
     "outputs": [
      {
       "html": [
        "<div style=\"max-height:1000px;max-width:1500px;overflow:auto;\">\n",
        "<table border=\"1\" class=\"dataframe\">\n",
        "  <thead>\n",
        "    <tr style=\"text-align: right;\">\n",
        "      <th></th>\n",
        "      <th>k1</th>\n",
        "      <th>k2</th>\n",
        "    </tr>\n",
        "  </thead>\n",
        "  <tbody>\n",
        "    <tr>\n",
        "      <th>0</th>\n",
        "      <td> one</td>\n",
        "      <td> 1</td>\n",
        "    </tr>\n",
        "    <tr>\n",
        "      <th>2</th>\n",
        "      <td> one</td>\n",
        "      <td> 2</td>\n",
        "    </tr>\n",
        "    <tr>\n",
        "      <th>3</th>\n",
        "      <td> two</td>\n",
        "      <td> 3</td>\n",
        "    </tr>\n",
        "    <tr>\n",
        "      <th>5</th>\n",
        "      <td> two</td>\n",
        "      <td> 4</td>\n",
        "    </tr>\n",
        "  </tbody>\n",
        "</table>\n",
        "<p>4 rows \u00d7 2 columns</p>\n",
        "</div>"
       ],
       "output_type": "pyout",
       "prompt_number": 5,
       "text": [
        "    k1  k2\n",
        "0  one   1\n",
        "2  one   2\n",
        "3  two   3\n",
        "5  two   4\n",
        "\n",
        "[4 rows x 2 columns]"
       ]
      }
     ],
     "prompt_number": 5
    },
    {
     "cell_type": "markdown",
     "source": [
      "We can filter duplicates only based on the `k1` column."
     ]
    },
    {
     "cell_type": "code",
     "collapsed": false,
     "input": [
      "data.drop_duplicates('k1')"
     ],
     "language": "python",
     "outputs": [
      {
       "html": [
        "<div style=\"max-height:1000px;max-width:1500px;overflow:auto;\">\n",
        "<table border=\"1\" class=\"dataframe\">\n",
        "  <thead>\n",
        "    <tr style=\"text-align: right;\">\n",
        "      <th></th>\n",
        "      <th>k1</th>\n",
        "      <th>k2</th>\n",
        "    </tr>\n",
        "  </thead>\n",
        "  <tbody>\n",
        "    <tr>\n",
        "      <th>0</th>\n",
        "      <td> one</td>\n",
        "      <td> 1</td>\n",
        "    </tr>\n",
        "    <tr>\n",
        "      <th>3</th>\n",
        "      <td> two</td>\n",
        "      <td> 3</td>\n",
        "    </tr>\n",
        "  </tbody>\n",
        "</table>\n",
        "<p>2 rows \u00d7 2 columns</p>\n",
        "</div>"
       ],
       "output_type": "pyout",
       "prompt_number": 6,
       "text": [
        "    k1  k2\n",
        "0  one   1\n",
        "3  two   3\n",
        "\n",
        "[2 rows x 2 columns]"
       ]
      }
     ],
     "prompt_number": 6
    },
    {
     "cell_type": "markdown",
     "source": [
      "## Transforming data using a function or mapping"
     ]
    },
    {
     "cell_type": "code",
     "collapsed": false,
     "input": [
      "data = DataFrame({'food': ['bacon', 'pulled pork', 'bacon', 'Pastrami',\n",
      "                           'corned beef', 'Bacon', 'pastrami', 'honey ham',\n",
      "                           'nova lox'],\n",
      "                  'ounces': [4, 3, 12, 6, 7.5, 8, 3, 5, 6]})\n",
      "data"
     ],
     "language": "python",
     "outputs": [
      {
       "html": [
        "<div style=\"max-height:1000px;max-width:1500px;overflow:auto;\">\n",
        "<table border=\"1\" class=\"dataframe\">\n",
        "  <thead>\n",
        "    <tr style=\"text-align: right;\">\n",
        "      <th></th>\n",
        "      <th>food</th>\n",
        "      <th>ounces</th>\n",
        "    </tr>\n",
        "  </thead>\n",
        "  <tbody>\n",
        "    <tr>\n",
        "      <th>0</th>\n",
        "      <td>       bacon</td>\n",
        "      <td>  4.0</td>\n",
        "    </tr>\n",
        "    <tr>\n",
        "      <th>1</th>\n",
        "      <td> pulled pork</td>\n",
        "      <td>  3.0</td>\n",
        "    </tr>\n",
        "    <tr>\n",
        "      <th>2</th>\n",
        "      <td>       bacon</td>\n",
        "      <td> 12.0</td>\n",
        "    </tr>\n",
        "    <tr>\n",
        "      <th>3</th>\n",
        "      <td>    Pastrami</td>\n",
        "      <td>  6.0</td>\n",
        "    </tr>\n",
        "    <tr>\n",
        "      <th>4</th>\n",
        "      <td> corned beef</td>\n",
        "      <td>  7.5</td>\n",
        "    </tr>\n",
        "    <tr>\n",
        "      <th>5</th>\n",
        "      <td>       Bacon</td>\n",
        "      <td>  8.0</td>\n",
        "    </tr>\n",
        "    <tr>\n",
        "      <th>6</th>\n",
        "      <td>    pastrami</td>\n",
        "      <td>  3.0</td>\n",
        "    </tr>\n",
        "    <tr>\n",
        "      <th>7</th>\n",
        "      <td>   honey ham</td>\n",
        "      <td>  5.0</td>\n",
        "    </tr>\n",
        "    <tr>\n",
        "      <th>8</th>\n",
        "      <td>    nova lox</td>\n",
        "      <td>  6.0</td>\n",
        "    </tr>\n",
        "  </tbody>\n",
        "</table>\n",
        "<p>9 rows \u00d7 2 columns</p>\n",
        "</div>"
       ],
       "output_type": "pyout",
       "prompt_number": 7,
       "text": [
        "          food  ounces\n",
        "0        bacon     4.0\n",
        "1  pulled pork     3.0\n",
        "2        bacon    12.0\n",
        "3     Pastrami     6.0\n",
        "4  corned beef     7.5\n",
        "5        Bacon     8.0\n",
        "6     pastrami     3.0\n",
        "7    honey ham     5.0\n",
        "8     nova lox     6.0\n",
        "\n",
        "[9 rows x 2 columns]"
       ]
      }
     ],
     "prompt_number": 7
    },
    {
     "cell_type": "code",
     "collapsed": false,
     "input": [
      "meat_to_animal = {\n",
      "'bacon': 'pig',\n",
      "'pulled pork': 'pig',\n",
      "'pastrami': 'cow',\n",
      "'corned beef': 'cow',\n",
      "'honey ham': 'pig',\n",
      "'nova lox': 'salmon'\n",
      "}"
     ],
     "language": "python",
     "outputs": [],
     "prompt_number": 8
    },
    {
     "cell_type": "markdown",
     "source": [
      "The `map` method on a Series accepts a function or a dict-like object."
     ]
    },
    {
     "cell_type": "code",
     "collapsed": false,
     "input": [
      "data['animal'] = data['food'].map(str.lower).map(meat_to_animal)\n",
      "data"
     ],
     "language": "python",
     "outputs": [
      {
       "html": [
        "<div style=\"max-height:1000px;max-width:1500px;overflow:auto;\">\n",
        "<table border=\"1\" class=\"dataframe\">\n",
        "  <thead>\n",
        "    <tr style=\"text-align: right;\">\n",
        "      <th></th>\n",
        "      <th>food</th>\n",
        "      <th>ounces</th>\n",
        "      <th>animal</th>\n",
        "    </tr>\n",
        "  </thead>\n",
        "  <tbody>\n",
        "    <tr>\n",
        "      <th>0</th>\n",
        "      <td>       bacon</td>\n",
        "      <td>  4.0</td>\n",
        "      <td>    pig</td>\n",
        "    </tr>\n",
        "    <tr>\n",
        "      <th>1</th>\n",
        "      <td> pulled pork</td>\n",
        "      <td>  3.0</td>\n",
        "      <td>    pig</td>\n",
        "    </tr>\n",
        "    <tr>\n",
        "      <th>2</th>\n",
        "      <td>       bacon</td>\n",
        "      <td> 12.0</td>\n",
        "      <td>    pig</td>\n",
        "    </tr>\n",
        "    <tr>\n",
        "      <th>3</th>\n",
        "      <td>    Pastrami</td>\n",
        "      <td>  6.0</td>\n",
        "      <td>    cow</td>\n",
        "    </tr>\n",
        "    <tr>\n",
        "      <th>4</th>\n",
        "      <td> corned beef</td>\n",
        "      <td>  7.5</td>\n",
        "      <td>    cow</td>\n",
        "    </tr>\n",
        "    <tr>\n",
        "      <th>5</th>\n",
        "      <td>       Bacon</td>\n",
        "      <td>  8.0</td>\n",
        "      <td>    pig</td>\n",
        "    </tr>\n",
        "    <tr>\n",
        "      <th>6</th>\n",
        "      <td>    pastrami</td>\n",
        "      <td>  3.0</td>\n",
        "      <td>    cow</td>\n",
        "    </tr>\n",
        "    <tr>\n",
        "      <th>7</th>\n",
        "      <td>   honey ham</td>\n",
        "      <td>  5.0</td>\n",
        "      <td>    pig</td>\n",
        "    </tr>\n",
        "    <tr>\n",
        "      <th>8</th>\n",
        "      <td>    nova lox</td>\n",
        "      <td>  6.0</td>\n",
        "      <td> salmon</td>\n",
        "    </tr>\n",
        "  </tbody>\n",
        "</table>\n",
        "<p>9 rows \u00d7 3 columns</p>\n",
        "</div>"
       ],
       "output_type": "pyout",
       "prompt_number": 10,
       "text": [
        "          food  ounces  animal\n",
        "0        bacon     4.0     pig\n",
        "1  pulled pork     3.0     pig\n",
        "2        bacon    12.0     pig\n",
        "3     Pastrami     6.0     cow\n",
        "4  corned beef     7.5     cow\n",
        "5        Bacon     8.0     pig\n",
        "6     pastrami     3.0     cow\n",
        "7    honey ham     5.0     pig\n",
        "8     nova lox     6.0  salmon\n",
        "\n",
        "[9 rows x 3 columns]"
       ]
      }
     ],
     "prompt_number": 10
    },
    {
     "cell_type": "code",
     "collapsed": false,
     "input": [
      "# equivalent\n",
      "data['food'].map(lambda x: meat_to_animal[x.lower()])"
     ],
     "language": "python",
     "outputs": [
      {
       "output_type": "pyout",
       "prompt_number": 11,
       "text": [
        "0       pig\n",
        "1       pig\n",
        "2       pig\n",
        "3       cow\n",
        "4       cow\n",
        "5       pig\n",
        "6       cow\n",
        "7       pig\n",
        "8    salmon\n",
        "Name: food, dtype: object"
       ]
      }
     ],
     "prompt_number": 11
    },
    {
     "cell_type": "markdown",
     "source": [
      "## Replacing values"
     ]
    },
    {
     "cell_type": "code",
     "collapsed": false,
     "input": [
      "data = Series([1., -999., 2., -999., -1000., 3.])\n",
      "data"
     ],
     "language": "python",
     "outputs": [
      {
       "output_type": "pyout",
       "prompt_number": 13,
       "text": [
        "0       1\n",
        "1    -999\n",
        "2       2\n",
        "3    -999\n",
        "4   -1000\n",
        "5       3\n",
        "dtype: float64"
       ]
      }
     ],
     "prompt_number": 13
    },
    {
     "cell_type": "code",
     "collapsed": false,
     "input": [
      "data.replace(-999, np.nan)"
     ],
     "language": "python",
     "outputs": [
      {
       "output_type": "pyout",
       "prompt_number": 16,
       "text": [
        "0       1\n",
        "1     NaN\n",
        "2       2\n",
        "3     NaN\n",
        "4   -1000\n",
        "5       3\n",
        "dtype: float64"
       ]
      }
     ],
     "prompt_number": 16
    },
    {
     "cell_type": "code",
     "collapsed": false,
     "input": [
      "data.replace([-999, -1000], np.nan)"
     ],
     "language": "python",
     "outputs": [
      {
       "output_type": "pyout",
       "prompt_number": 17,
       "text": [
        "0     1\n",
        "1   NaN\n",
        "2     2\n",
        "3   NaN\n",
        "4   NaN\n",
        "5     3\n",
        "dtype: float64"
       ]
      }
     ],
     "prompt_number": 17
    },
    {
     "cell_type": "markdown",
     "source": [
      "## Renaming axis indexes"
     ]
    },
    {
     "cell_type": "code",
     "collapsed": false,
     "input": [
      "data = DataFrame(np.arange(12).reshape((3, 4)),\n",
      "                 index=['Ohio', 'Colorado', 'New York'],\n",
      "                 columns=['one', 'two', 'three', 'four'])\n",
      "data.index.map(str.upper)"
     ],
     "language": "python",
     "outputs": [
      {
       "output_type": "pyout",
       "prompt_number": 23,
       "text": [
        "array(['OHIO', 'COLORADO', 'NEW YORK'], dtype=object)"
       ]
      }
     ],
     "prompt_number": 23
    },
    {
     "cell_type": "code",
     "collapsed": false,
     "input": [
      "data.index = data.index.map(str.upper)\n",
      "data"
     ],
     "language": "python",
     "outputs": [
      {
       "html": [
        "<div style=\"max-height:1000px;max-width:1500px;overflow:auto;\">\n",
        "<table border=\"1\" class=\"dataframe\">\n",
        "  <thead>\n",
        "    <tr style=\"text-align: right;\">\n",
        "      <th></th>\n",
        "      <th>one</th>\n",
        "      <th>two</th>\n",
        "      <th>three</th>\n",
        "      <th>four</th>\n",
        "    </tr>\n",
        "  </thead>\n",
        "  <tbody>\n",
        "    <tr>\n",
        "      <th>OHIO</th>\n",
        "      <td> 0</td>\n",
        "      <td> 1</td>\n",
        "      <td>  2</td>\n",
        "      <td>  3</td>\n",
        "    </tr>\n",
        "    <tr>\n",
        "      <th>COLORADO</th>\n",
        "      <td> 4</td>\n",
        "      <td> 5</td>\n",
        "      <td>  6</td>\n",
        "      <td>  7</td>\n",
        "    </tr>\n",
        "    <tr>\n",
        "      <th>NEW YORK</th>\n",
        "      <td> 8</td>\n",
        "      <td> 9</td>\n",
        "      <td> 10</td>\n",
        "      <td> 11</td>\n",
        "    </tr>\n",
        "  </tbody>\n",
        "</table>\n",
        "<p>3 rows \u00d7 4 columns</p>\n",
        "</div>"
       ],
       "output_type": "pyout",
       "prompt_number": 25,
       "text": [
        "          one  two  three  four\n",
        "OHIO        0    1      2     3\n",
        "COLORADO    4    5      6     7\n",
        "NEW YORK    8    9     10    11\n",
        "\n",
        "[3 rows x 4 columns]"
       ]
      }
     ],
     "prompt_number": 25
    },
    {
     "cell_type": "code",
     "collapsed": false,
     "input": [
      "data.rename(index=str.title, columns=str.upper)"
     ],
     "language": "python",
     "outputs": [
      {
       "html": [
        "<div style=\"max-height:1000px;max-width:1500px;overflow:auto;\">\n",
        "<table border=\"1\" class=\"dataframe\">\n",
        "  <thead>\n",
        "    <tr style=\"text-align: right;\">\n",
        "      <th></th>\n",
        "      <th>ONE</th>\n",
        "      <th>TWO</th>\n",
        "      <th>THREE</th>\n",
        "      <th>FOUR</th>\n",
        "    </tr>\n",
        "  </thead>\n",
        "  <tbody>\n",
        "    <tr>\n",
        "      <th>Ohio</th>\n",
        "      <td> 0</td>\n",
        "      <td> 1</td>\n",
        "      <td>  2</td>\n",
        "      <td>  3</td>\n",
        "    </tr>\n",
        "    <tr>\n",
        "      <th>Colorado</th>\n",
        "      <td> 4</td>\n",
        "      <td> 5</td>\n",
        "      <td>  6</td>\n",
        "      <td>  7</td>\n",
        "    </tr>\n",
        "    <tr>\n",
        "      <th>New York</th>\n",
        "      <td> 8</td>\n",
        "      <td> 9</td>\n",
        "      <td> 10</td>\n",
        "      <td> 11</td>\n",
        "    </tr>\n",
        "  </tbody>\n",
        "</table>\n",
        "<p>3 rows \u00d7 4 columns</p>\n",
        "</div>"
       ],
       "output_type": "pyout",
       "prompt_number": 28,
       "text": [
        "          ONE  TWO  THREE  FOUR\n",
        "Ohio        0    1      2     3\n",
        "Colorado    4    5      6     7\n",
        "New York    8    9     10    11\n",
        "\n",
        "[3 rows x 4 columns]"
       ]
      }
     ],
     "prompt_number": 28
    },
    {
     "cell_type": "markdown",
     "source": [
      "# Discretization and Binning"
     ]
    },
    {
     "cell_type": "code",
     "collapsed": false,
     "input": [
      "ages = [20, 22, 25, 27, 21, 23, 37, 31, 61, 45, 41, 32]\n",
      "bins = [18, 25, 35, 60, 100]\n",
      "cats = pd.cut(ages, bins)\n",
      "cats"
     ],
     "language": "python",
     "outputs": [
      {
       "output_type": "pyout",
       "prompt_number": 31,
       "text": [
        "  (18, 25]\n",
        "  (18, 25]\n",
        "  (18, 25]\n",
        "  (25, 35]\n",
        "  (18, 25]\n",
        "  (18, 25]\n",
        "  (35, 60]\n",
        "  (25, 35]\n",
        " (60, 100]\n",
        "  (35, 60]\n",
        "  (35, 60]\n",
        "  (25, 35]\n",
        "Levels (4): Index(['(18, 25]', '(25, 35]', '(35, 60]', '(60, 100]'], dtype=object)"
       ]
      }
     ],
     "prompt_number": 31
    },
    {
     "cell_type": "code",
     "collapsed": false,
     "input": [
      "cats.labels"
     ],
     "language": "python",
     "outputs": [
      {
       "output_type": "pyout",
       "prompt_number": 32,
       "text": [
        "array([0, 0, 0, 1, 0, 0, 2, 1, 3, 2, 2, 1])"
       ]
      }
     ],
     "prompt_number": 32
    },
    {
     "cell_type": "code",
     "collapsed": false,
     "input": [
      "cats.levels"
     ],
     "language": "python",
     "outputs": [
      {
       "output_type": "pyout",
       "prompt_number": 33,
       "text": [
        "Index([u'(18, 25]', u'(25, 35]', u'(35, 60]', u'(60, 100]'], dtype='object')"
       ]
      }
     ],
     "prompt_number": 33
    },
    {
     "cell_type": "code",
     "collapsed": false,
     "input": [
      "pd.value_counts(cats)"
     ],
     "language": "python",
     "outputs": [
      {
       "output_type": "pyout",
       "prompt_number": 34,
       "text": [
        "(18, 25]     5\n",
        "(35, 60]     3\n",
        "(25, 35]     3\n",
        "(60, 100]    1\n",
        "dtype: int64"
       ]
      }
     ],
     "prompt_number": 34
    },
    {
     "cell_type": "markdown",
     "source": [
      "## Detecting and filtering outliers"
     ]
    },
    {
     "cell_type": "code",
     "collapsed": false,
     "input": [
      "np.random.seed(12345)\n",
      "data = DataFrame(np.random.randn(1000, 4))\n",
      "data.describe()"
     ],
     "language": "python",
     "outputs": [
      {
       "html": [
        "<div style=\"max-height:1000px;max-width:1500px;overflow:auto;\">\n",
        "<table border=\"1\" class=\"dataframe\">\n",
        "  <thead>\n",
        "    <tr style=\"text-align: right;\">\n",
        "      <th></th>\n",
        "      <th>0</th>\n",
        "      <th>1</th>\n",
        "      <th>2</th>\n",
        "      <th>3</th>\n",
        "    </tr>\n",
        "  </thead>\n",
        "  <tbody>\n",
        "    <tr>\n",
        "      <th>count</th>\n",
        "      <td> 1000.000000</td>\n",
        "      <td> 1000.000000</td>\n",
        "      <td> 1000.000000</td>\n",
        "      <td> 1000.000000</td>\n",
        "    </tr>\n",
        "    <tr>\n",
        "      <th>mean</th>\n",
        "      <td>   -0.067684</td>\n",
        "      <td>    0.067924</td>\n",
        "      <td>    0.025598</td>\n",
        "      <td>   -0.002298</td>\n",
        "    </tr>\n",
        "    <tr>\n",
        "      <th>std</th>\n",
        "      <td>    0.998035</td>\n",
        "      <td>    0.992106</td>\n",
        "      <td>    1.006835</td>\n",
        "      <td>    0.996794</td>\n",
        "    </tr>\n",
        "    <tr>\n",
        "      <th>min</th>\n",
        "      <td>   -3.428254</td>\n",
        "      <td>   -3.548824</td>\n",
        "      <td>   -3.184377</td>\n",
        "      <td>   -3.745356</td>\n",
        "    </tr>\n",
        "    <tr>\n",
        "      <th>25%</th>\n",
        "      <td>   -0.774890</td>\n",
        "      <td>   -0.591841</td>\n",
        "      <td>   -0.641675</td>\n",
        "      <td>   -0.644144</td>\n",
        "    </tr>\n",
        "    <tr>\n",
        "      <th>50%</th>\n",
        "      <td>   -0.116401</td>\n",
        "      <td>    0.101143</td>\n",
        "      <td>    0.002073</td>\n",
        "      <td>   -0.013611</td>\n",
        "    </tr>\n",
        "    <tr>\n",
        "      <th>75%</th>\n",
        "      <td>    0.616366</td>\n",
        "      <td>    0.780282</td>\n",
        "      <td>    0.680391</td>\n",
        "      <td>    0.654328</td>\n",
        "    </tr>\n",
        "    <tr>\n",
        "      <th>max</th>\n",
        "      <td>    3.366626</td>\n",
        "      <td>    2.653656</td>\n",
        "      <td>    3.260383</td>\n",
        "      <td>    3.927528</td>\n",
        "    </tr>\n",
        "  </tbody>\n",
        "</table>\n",
        "<p>8 rows \u00d7 4 columns</p>\n",
        "</div>"
       ],
       "output_type": "pyout",
       "prompt_number": 36,
       "text": [
        "                 0            1            2            3\n",
        "count  1000.000000  1000.000000  1000.000000  1000.000000\n",
        "mean     -0.067684     0.067924     0.025598    -0.002298\n",
        "std       0.998035     0.992106     1.006835     0.996794\n",
        "min      -3.428254    -3.548824    -3.184377    -3.745356\n",
        "25%      -0.774890    -0.591841    -0.641675    -0.644144\n",
        "50%      -0.116401     0.101143     0.002073    -0.013611\n",
        "75%       0.616366     0.780282     0.680391     0.654328\n",
        "max       3.366626     2.653656     3.260383     3.927528\n",
        "\n",
        "[8 rows x 4 columns]"
       ]
      }
     ],
     "prompt_number": 36
    },
    {
     "cell_type": "code",
     "collapsed": false,
     "input": [
      "col = data[3]\n",
      "col[np.abs(col) > 3]"
     ],
     "language": "python",
     "outputs": [
      {
       "output_type": "pyout",
       "prompt_number": 45,
       "text": [
        "97     3.927528\n",
        "305   -3.399312\n",
        "400   -3.745356\n",
        "Name: 3, dtype: float64"
       ]
      }
     ],
     "prompt_number": 45
    },
    {
     "cell_type": "code",
     "collapsed": false,
     "input": [
      "data[(np.abs(data) > 3).any(1)]"
     ],
     "language": "python",
     "outputs": [
      {
       "html": [
        "<div style=\"max-height:1000px;max-width:1500px;overflow:auto;\">\n",
        "<table border=\"1\" class=\"dataframe\">\n",
        "  <thead>\n",
        "    <tr style=\"text-align: right;\">\n",
        "      <th></th>\n",
        "      <th>0</th>\n",
        "      <th>1</th>\n",
        "      <th>2</th>\n",
        "      <th>3</th>\n",
        "    </tr>\n",
        "  </thead>\n",
        "  <tbody>\n",
        "    <tr>\n",
        "      <th>5  </th>\n",
        "      <td>-0.539741</td>\n",
        "      <td> 0.476985</td>\n",
        "      <td> 3.248944</td>\n",
        "      <td>-1.021228</td>\n",
        "    </tr>\n",
        "    <tr>\n",
        "      <th>97 </th>\n",
        "      <td>-0.774363</td>\n",
        "      <td> 0.552936</td>\n",
        "      <td> 0.106061</td>\n",
        "      <td> 3.927528</td>\n",
        "    </tr>\n",
        "    <tr>\n",
        "      <th>102</th>\n",
        "      <td>-0.655054</td>\n",
        "      <td>-0.565230</td>\n",
        "      <td> 3.176873</td>\n",
        "      <td> 0.959533</td>\n",
        "    </tr>\n",
        "    <tr>\n",
        "      <th>305</th>\n",
        "      <td>-2.315555</td>\n",
        "      <td> 0.457246</td>\n",
        "      <td>-0.025907</td>\n",
        "      <td>-3.399312</td>\n",
        "    </tr>\n",
        "    <tr>\n",
        "      <th>324</th>\n",
        "      <td> 0.050188</td>\n",
        "      <td> 1.951312</td>\n",
        "      <td> 3.260383</td>\n",
        "      <td> 0.963301</td>\n",
        "    </tr>\n",
        "    <tr>\n",
        "      <th>400</th>\n",
        "      <td> 0.146326</td>\n",
        "      <td> 0.508391</td>\n",
        "      <td>-0.196713</td>\n",
        "      <td>-3.745356</td>\n",
        "    </tr>\n",
        "    <tr>\n",
        "      <th>499</th>\n",
        "      <td>-0.293333</td>\n",
        "      <td>-0.242459</td>\n",
        "      <td>-3.056990</td>\n",
        "      <td> 1.918403</td>\n",
        "    </tr>\n",
        "    <tr>\n",
        "      <th>523</th>\n",
        "      <td>-3.428254</td>\n",
        "      <td>-0.296336</td>\n",
        "      <td>-0.439938</td>\n",
        "      <td>-0.867165</td>\n",
        "    </tr>\n",
        "    <tr>\n",
        "      <th>586</th>\n",
        "      <td> 0.275144</td>\n",
        "      <td> 1.179227</td>\n",
        "      <td>-3.184377</td>\n",
        "      <td> 1.369891</td>\n",
        "    </tr>\n",
        "    <tr>\n",
        "      <th>808</th>\n",
        "      <td>-0.362528</td>\n",
        "      <td>-3.548824</td>\n",
        "      <td> 1.553205</td>\n",
        "      <td>-2.186301</td>\n",
        "    </tr>\n",
        "    <tr>\n",
        "      <th>900</th>\n",
        "      <td> 3.366626</td>\n",
        "      <td>-2.372214</td>\n",
        "      <td> 0.851010</td>\n",
        "      <td> 1.332846</td>\n",
        "    </tr>\n",
        "  </tbody>\n",
        "</table>\n",
        "<p>11 rows \u00d7 4 columns</p>\n",
        "</div>"
       ],
       "output_type": "pyout",
       "prompt_number": 49,
       "text": [
        "            0         1         2         3\n",
        "5   -0.539741  0.476985  3.248944 -1.021228\n",
        "97  -0.774363  0.552936  0.106061  3.927528\n",
        "102 -0.655054 -0.565230  3.176873  0.959533\n",
        "305 -2.315555  0.457246 -0.025907 -3.399312\n",
        "324  0.050188  1.951312  3.260383  0.963301\n",
        "400  0.146326  0.508391 -0.196713 -3.745356\n",
        "499 -0.293333 -0.242459 -3.056990  1.918403\n",
        "523 -3.428254 -0.296336 -0.439938 -0.867165\n",
        "586  0.275144  1.179227 -3.184377  1.369891\n",
        "808 -0.362528 -3.548824  1.553205 -2.186301\n",
        "900  3.366626 -2.372214  0.851010  1.332846\n",
        "\n",
        "[11 rows x 4 columns]"
       ]
      }
     ],
     "prompt_number": 49
    },
    {
     "cell_type": "markdown",
     "source": [
      "## Permutation and random sampling"
     ]
    },
    {
     "cell_type": "code",
     "collapsed": false,
     "input": [
      "df = DataFrame(np.arange(5 * 4).reshape(5, 4))\n",
      "sampler = np.random.permutation(5)\n",
      "sampler"
     ],
     "language": "python",
     "outputs": [
      {
       "output_type": "pyout",
       "prompt_number": 51,
       "text": [
        "array([1, 3, 4, 0, 2])"
       ]
      }
     ],
     "prompt_number": 51
    },
    {
     "cell_type": "code",
     "collapsed": false,
     "input": [
      "df"
     ],
     "language": "python",
     "outputs": [
      {
       "html": [
        "<div style=\"max-height:1000px;max-width:1500px;overflow:auto;\">\n",
        "<table border=\"1\" class=\"dataframe\">\n",
        "  <thead>\n",
        "    <tr style=\"text-align: right;\">\n",
        "      <th></th>\n",
        "      <th>0</th>\n",
        "      <th>1</th>\n",
        "      <th>2</th>\n",
        "      <th>3</th>\n",
        "    </tr>\n",
        "  </thead>\n",
        "  <tbody>\n",
        "    <tr>\n",
        "      <th>0</th>\n",
        "      <td>  0</td>\n",
        "      <td>  1</td>\n",
        "      <td>  2</td>\n",
        "      <td>  3</td>\n",
        "    </tr>\n",
        "    <tr>\n",
        "      <th>1</th>\n",
        "      <td>  4</td>\n",
        "      <td>  5</td>\n",
        "      <td>  6</td>\n",
        "      <td>  7</td>\n",
        "    </tr>\n",
        "    <tr>\n",
        "      <th>2</th>\n",
        "      <td>  8</td>\n",
        "      <td>  9</td>\n",
        "      <td> 10</td>\n",
        "      <td> 11</td>\n",
        "    </tr>\n",
        "    <tr>\n",
        "      <th>3</th>\n",
        "      <td> 12</td>\n",
        "      <td> 13</td>\n",
        "      <td> 14</td>\n",
        "      <td> 15</td>\n",
        "    </tr>\n",
        "    <tr>\n",
        "      <th>4</th>\n",
        "      <td> 16</td>\n",
        "      <td> 17</td>\n",
        "      <td> 18</td>\n",
        "      <td> 19</td>\n",
        "    </tr>\n",
        "  </tbody>\n",
        "</table>\n",
        "<p>5 rows \u00d7 4 columns</p>\n",
        "</div>"
       ],
       "output_type": "pyout",
       "prompt_number": 52,
       "text": [
        "    0   1   2   3\n",
        "0   0   1   2   3\n",
        "1   4   5   6   7\n",
        "2   8   9  10  11\n",
        "3  12  13  14  15\n",
        "4  16  17  18  19\n",
        "\n",
        "[5 rows x 4 columns]"
       ]
      }
     ],
     "prompt_number": 52
    },
    {
     "cell_type": "code",
     "collapsed": false,
     "input": [
      "df.take(sampler)"
     ],
     "language": "python",
     "outputs": [
      {
       "html": [
        "<div style=\"max-height:1000px;max-width:1500px;overflow:auto;\">\n",
        "<table border=\"1\" class=\"dataframe\">\n",
        "  <thead>\n",
        "    <tr style=\"text-align: right;\">\n",
        "      <th></th>\n",
        "      <th>0</th>\n",
        "      <th>1</th>\n",
        "      <th>2</th>\n",
        "      <th>3</th>\n",
        "    </tr>\n",
        "  </thead>\n",
        "  <tbody>\n",
        "    <tr>\n",
        "      <th>1</th>\n",
        "      <td>  4</td>\n",
        "      <td>  5</td>\n",
        "      <td>  6</td>\n",
        "      <td>  7</td>\n",
        "    </tr>\n",
        "    <tr>\n",
        "      <th>3</th>\n",
        "      <td> 12</td>\n",
        "      <td> 13</td>\n",
        "      <td> 14</td>\n",
        "      <td> 15</td>\n",
        "    </tr>\n",
        "    <tr>\n",
        "      <th>4</th>\n",
        "      <td> 16</td>\n",
        "      <td> 17</td>\n",
        "      <td> 18</td>\n",
        "      <td> 19</td>\n",
        "    </tr>\n",
        "    <tr>\n",
        "      <th>0</th>\n",
        "      <td>  0</td>\n",
        "      <td>  1</td>\n",
        "      <td>  2</td>\n",
        "      <td>  3</td>\n",
        "    </tr>\n",
        "    <tr>\n",
        "      <th>2</th>\n",
        "      <td>  8</td>\n",
        "      <td>  9</td>\n",
        "      <td> 10</td>\n",
        "      <td> 11</td>\n",
        "    </tr>\n",
        "  </tbody>\n",
        "</table>\n",
        "<p>5 rows \u00d7 4 columns</p>\n",
        "</div>"
       ],
       "output_type": "pyout",
       "prompt_number": 54,
       "text": [
        "    0   1   2   3\n",
        "1   4   5   6   7\n",
        "3  12  13  14  15\n",
        "4  16  17  18  19\n",
        "0   0   1   2   3\n",
        "2   8   9  10  11\n",
        "\n",
        "[5 rows x 4 columns]"
       ]
      }
     ],
     "prompt_number": 54
    },
    {
     "cell_type": "markdown",
     "source": [
      "Sampling _without_ replacement"
     ]
    },
    {
     "cell_type": "code",
     "collapsed": false,
     "input": [
      "df.take(np.random.permutation(len(df))[:3])"
     ],
     "language": "python",
     "outputs": [
      {
       "html": [
        "<div style=\"max-height:1000px;max-width:1500px;overflow:auto;\">\n",
        "<table border=\"1\" class=\"dataframe\">\n",
        "  <thead>\n",
        "    <tr style=\"text-align: right;\">\n",
        "      <th></th>\n",
        "      <th>0</th>\n",
        "      <th>1</th>\n",
        "      <th>2</th>\n",
        "      <th>3</th>\n",
        "    </tr>\n",
        "  </thead>\n",
        "  <tbody>\n",
        "    <tr>\n",
        "      <th>1</th>\n",
        "      <td>  4</td>\n",
        "      <td>  5</td>\n",
        "      <td>  6</td>\n",
        "      <td>  7</td>\n",
        "    </tr>\n",
        "    <tr>\n",
        "      <th>3</th>\n",
        "      <td> 12</td>\n",
        "      <td> 13</td>\n",
        "      <td> 14</td>\n",
        "      <td> 15</td>\n",
        "    </tr>\n",
        "    <tr>\n",
        "      <th>0</th>\n",
        "      <td>  0</td>\n",
        "      <td>  1</td>\n",
        "      <td>  2</td>\n",
        "      <td>  3</td>\n",
        "    </tr>\n",
        "  </tbody>\n",
        "</table>\n",
        "<p>3 rows \u00d7 4 columns</p>\n",
        "</div>"
       ],
       "output_type": "pyout",
       "prompt_number": 55,
       "text": [
        "    0   1   2   3\n",
        "1   4   5   6   7\n",
        "3  12  13  14  15\n",
        "0   0   1   2   3\n",
        "\n",
        "[3 rows x 4 columns]"
       ]
      }
     ],
     "prompt_number": 55
    },
    {
     "cell_type": "markdown",
     "source": [
      "Sampling _with_ replacement\n",
      "\n"
     ]
    },
    {
     "cell_type": "code",
     "collapsed": false,
     "input": [
      "bag = np.array([5, 7, -1, 6, 4])\n",
      "sampler = np.random.randint(0, len(bag), size=10)\n",
      "sampler"
     ],
     "language": "python",
     "outputs": [
      {
       "output_type": "pyout",
       "prompt_number": 57,
       "text": [
        "array([0, 1, 2, 2, 3, 2, 1, 2, 0, 4])"
       ]
      }
     ],
     "prompt_number": 57
    },
    {
     "cell_type": "code",
     "collapsed": false,
     "input": [
      "draws = bag.take(sampler)\n",
      "draws"
     ],
     "language": "python",
     "outputs": [
      {
       "output_type": "pyout",
       "prompt_number": 59,
       "text": [
        "array([ 5,  7, -1, -1,  6, -1,  7, -1,  5,  4])"
       ]
      }
     ],
     "prompt_number": 59
    },
    {
     "cell_type": "markdown",
     "source": [
      "## Computing indicator/dummy variables"
     ]
    },
    {
     "cell_type": "code",
     "collapsed": false,
     "input": [
      "df = DataFrame({'key': ['b', 'b', 'a', 'c', 'a', 'b'],\n",
      "                'data1': range(6)})\n",
      "pd.get_dummies(df['key'])\n"
     ],
     "language": "python",
     "outputs": [
      {
       "html": [
        "<div style=\"max-height:1000px;max-width:1500px;overflow:auto;\">\n",
        "<table border=\"1\" class=\"dataframe\">\n",
        "  <thead>\n",
        "    <tr style=\"text-align: right;\">\n",
        "      <th></th>\n",
        "      <th>a</th>\n",
        "      <th>b</th>\n",
        "      <th>c</th>\n",
        "    </tr>\n",
        "  </thead>\n",
        "  <tbody>\n",
        "    <tr>\n",
        "      <th>0</th>\n",
        "      <td> 0</td>\n",
        "      <td> 1</td>\n",
        "      <td> 0</td>\n",
        "    </tr>\n",
        "    <tr>\n",
        "      <th>1</th>\n",
        "      <td> 0</td>\n",
        "      <td> 1</td>\n",
        "      <td> 0</td>\n",
        "    </tr>\n",
        "    <tr>\n",
        "      <th>2</th>\n",
        "      <td> 1</td>\n",
        "      <td> 0</td>\n",
        "      <td> 0</td>\n",
        "    </tr>\n",
        "    <tr>\n",
        "      <th>3</th>\n",
        "      <td> 0</td>\n",
        "      <td> 0</td>\n",
        "      <td> 1</td>\n",
        "    </tr>\n",
        "    <tr>\n",
        "      <th>4</th>\n",
        "      <td> 1</td>\n",
        "      <td> 0</td>\n",
        "      <td> 0</td>\n",
        "    </tr>\n",
        "    <tr>\n",
        "      <th>5</th>\n",
        "      <td> 0</td>\n",
        "      <td> 1</td>\n",
        "      <td> 0</td>\n",
        "    </tr>\n",
        "  </tbody>\n",
        "</table>\n",
        "<p>6 rows \u00d7 3 columns</p>\n",
        "</div>"
       ],
       "output_type": "pyout",
       "prompt_number": 60,
       "text": [
        "   a  b  c\n",
        "0  0  1  0\n",
        "1  0  1  0\n",
        "2  1  0  0\n",
        "3  0  0  1\n",
        "4  1  0  0\n",
        "5  0  1  0\n",
        "\n",
        "[6 rows x 3 columns]"
       ]
      }
     ],
     "prompt_number": 60
    },
    {
     "cell_type": "code",
     "collapsed": false,
     "input": [
      "dummies = pd.get_dummies(df['key'], prefix='key')\n",
      "df[['data1']].join(dummies)"
     ],
     "language": "python",
     "outputs": [
      {
       "html": [
        "<div style=\"max-height:1000px;max-width:1500px;overflow:auto;\">\n",
        "<table border=\"1\" class=\"dataframe\">\n",
        "  <thead>\n",
        "    <tr style=\"text-align: right;\">\n",
        "      <th></th>\n",
        "      <th>data1</th>\n",
        "      <th>key_a</th>\n",
        "      <th>key_b</th>\n",
        "      <th>key_c</th>\n",
        "    </tr>\n",
        "  </thead>\n",
        "  <tbody>\n",
        "    <tr>\n",
        "      <th>0</th>\n",
        "      <td> 0</td>\n",
        "      <td> 0</td>\n",
        "      <td> 1</td>\n",
        "      <td> 0</td>\n",
        "    </tr>\n",
        "    <tr>\n",
        "      <th>1</th>\n",
        "      <td> 1</td>\n",
        "      <td> 0</td>\n",
        "      <td> 1</td>\n",
        "      <td> 0</td>\n",
        "    </tr>\n",
        "    <tr>\n",
        "      <th>2</th>\n",
        "      <td> 2</td>\n",
        "      <td> 1</td>\n",
        "      <td> 0</td>\n",
        "      <td> 0</td>\n",
        "    </tr>\n",
        "    <tr>\n",
        "      <th>3</th>\n",
        "      <td> 3</td>\n",
        "      <td> 0</td>\n",
        "      <td> 0</td>\n",
        "      <td> 1</td>\n",
        "    </tr>\n",
        "    <tr>\n",
        "      <th>4</th>\n",
        "      <td> 4</td>\n",
        "      <td> 1</td>\n",
        "      <td> 0</td>\n",
        "      <td> 0</td>\n",
        "    </tr>\n",
        "    <tr>\n",
        "      <th>5</th>\n",
        "      <td> 5</td>\n",
        "      <td> 0</td>\n",
        "      <td> 1</td>\n",
        "      <td> 0</td>\n",
        "    </tr>\n",
        "  </tbody>\n",
        "</table>\n",
        "<p>6 rows \u00d7 4 columns</p>\n",
        "</div>"
       ],
       "output_type": "pyout",
       "prompt_number": 65,
       "text": [
        "   data1  key_a  key_b  key_c\n",
        "0      0      0      1      0\n",
        "1      1      0      1      0\n",
        "2      2      1      0      0\n",
        "3      3      0      0      1\n",
        "4      4      1      0      0\n",
        "5      5      0      1      0\n",
        "\n",
        "[6 rows x 4 columns]"
       ]
      }
     ],
     "prompt_number": 65
    },
    {
     "cell_type": "code",
     "collapsed": false,
     "input": [
      "mnames = ['movie_id', 'title', 'genres']\n",
      "movies = pd.read_table('../ch02/movielens/movies.dat', sep='::', header=None, names=mnames)\n",
      "movies[:10]\n"
     ],
     "language": "python",
     "outputs": [
      {
       "html": [
        "<div style=\"max-height:1000px;max-width:1500px;overflow:auto;\">\n",
        "<table border=\"1\" class=\"dataframe\">\n",
        "  <thead>\n",
        "    <tr style=\"text-align: right;\">\n",
        "      <th></th>\n",
        "      <th>movie_id</th>\n",
        "      <th>title</th>\n",
        "      <th>genres</th>\n",
        "    </tr>\n",
        "  </thead>\n",
        "  <tbody>\n",
        "    <tr>\n",
        "      <th>0</th>\n",
        "      <td>  1</td>\n",
        "      <td>                   Toy Story (1995)</td>\n",
        "      <td>  Animation|Children's|Comedy</td>\n",
        "    </tr>\n",
        "    <tr>\n",
        "      <th>1</th>\n",
        "      <td>  2</td>\n",
        "      <td>                     Jumanji (1995)</td>\n",
        "      <td> Adventure|Children's|Fantasy</td>\n",
        "    </tr>\n",
        "    <tr>\n",
        "      <th>2</th>\n",
        "      <td>  3</td>\n",
        "      <td>            Grumpier Old Men (1995)</td>\n",
        "      <td>               Comedy|Romance</td>\n",
        "    </tr>\n",
        "    <tr>\n",
        "      <th>3</th>\n",
        "      <td>  4</td>\n",
        "      <td>           Waiting to Exhale (1995)</td>\n",
        "      <td>                 Comedy|Drama</td>\n",
        "    </tr>\n",
        "    <tr>\n",
        "      <th>4</th>\n",
        "      <td>  5</td>\n",
        "      <td> Father of the Bride Part II (1995)</td>\n",
        "      <td>                       Comedy</td>\n",
        "    </tr>\n",
        "    <tr>\n",
        "      <th>5</th>\n",
        "      <td>  6</td>\n",
        "      <td>                        Heat (1995)</td>\n",
        "      <td>        Action|Crime|Thriller</td>\n",
        "    </tr>\n",
        "    <tr>\n",
        "      <th>6</th>\n",
        "      <td>  7</td>\n",
        "      <td>                     Sabrina (1995)</td>\n",
        "      <td>               Comedy|Romance</td>\n",
        "    </tr>\n",
        "    <tr>\n",
        "      <th>7</th>\n",
        "      <td>  8</td>\n",
        "      <td>                Tom and Huck (1995)</td>\n",
        "      <td>         Adventure|Children's</td>\n",
        "    </tr>\n",
        "    <tr>\n",
        "      <th>8</th>\n",
        "      <td>  9</td>\n",
        "      <td>                Sudden Death (1995)</td>\n",
        "      <td>                       Action</td>\n",
        "    </tr>\n",
        "    <tr>\n",
        "      <th>9</th>\n",
        "      <td> 10</td>\n",
        "      <td>                   GoldenEye (1995)</td>\n",
        "      <td>    Action|Adventure|Thriller</td>\n",
        "    </tr>\n",
        "  </tbody>\n",
        "</table>\n",
        "<p>10 rows \u00d7 3 columns</p>\n",
        "</div>"
       ],
       "output_type": "pyout",
       "prompt_number": 70,
       "text": [
        "   movie_id                               title                        genres\n",
        "0         1                    Toy Story (1995)   Animation|Children's|Comedy\n",
        "1         2                      Jumanji (1995)  Adventure|Children's|Fantasy\n",
        "2         3             Grumpier Old Men (1995)                Comedy|Romance\n",
        "3         4            Waiting to Exhale (1995)                  Comedy|Drama\n",
        "4         5  Father of the Bride Part II (1995)                        Comedy\n",
        "5         6                         Heat (1995)         Action|Crime|Thriller\n",
        "6         7                      Sabrina (1995)                Comedy|Romance\n",
        "7         8                 Tom and Huck (1995)          Adventure|Children's\n",
        "8         9                 Sudden Death (1995)                        Action\n",
        "9        10                    GoldenEye (1995)     Action|Adventure|Thriller\n",
        "\n",
        "[10 rows x 3 columns]"
       ]
      }
     ],
     "prompt_number": 70
    },
    {
     "cell_type": "code",
     "collapsed": false,
     "input": [
      "genre_iter = (set(x.split('|')) for x in movies.genres)\n",
      "genres = sorted(set.union(*genre_iter))\n",
      "genres\n"
     ],
     "language": "python",
     "outputs": [
      {
       "output_type": "pyout",
       "prompt_number": 73,
       "text": [
        "['Action',\n",
        " 'Adventure',\n",
        " 'Animation',\n",
        " \"Children's\",\n",
        " 'Comedy',\n",
        " 'Crime',\n",
        " 'Documentary',\n",
        " 'Drama',\n",
        " 'Fantasy',\n",
        " 'Film-Noir',\n",
        " 'Horror',\n",
        " 'Musical',\n",
        " 'Mystery',\n",
        " 'Romance',\n",
        " 'Sci-Fi',\n",
        " 'Thriller',\n",
        " 'War',\n",
        " 'Western']"
       ]
      }
     ],
     "prompt_number": 73
    },
    {
     "cell_type": "markdown",
     "source": [
      "# String Manipulation"
     ]
    },
    {
     "cell_type": "code",
     "collapsed": false,
     "input": [
      "val = 'a,b, guido'\n",
      "val.split(',')"
     ],
     "language": "python",
     "outputs": [
      {
       "output_type": "pyout",
       "prompt_number": 74,
       "text": [
        "['a', 'b', ' guido']"
       ]
      }
     ],
     "prompt_number": 74
    },
    {
     "cell_type": "code",
     "collapsed": false,
     "input": [
      "pieces = [x.strip() for x in val.split(',')]\n",
      "pieces\n"
     ],
     "language": "python",
     "outputs": [
      {
       "output_type": "pyout",
       "prompt_number": 77,
       "text": [
        "['a', 'b', 'guido']"
       ]
      }
     ],
     "prompt_number": 77
    },
    {
     "cell_type": "code",
     "collapsed": false,
     "input": [
      "first, second, third = pieces\n",
      "first + '::' + second + '::' + third\n"
     ],
     "language": "python",
     "outputs": [
      {
       "output_type": "pyout",
       "prompt_number": 80,
       "text": [
        "'a::b::guido'"
       ]
      }
     ],
     "prompt_number": 80
    },
    {
     "cell_type": "code",
     "collapsed": false,
     "input": [
      "'guido' in val"
     ],
     "language": "python",
     "outputs": [
      {
       "output_type": "pyout",
       "prompt_number": 81,
       "text": [
        "True"
       ]
      }
     ],
     "prompt_number": 81
    },
    {
     "cell_type": "code",
     "collapsed": false,
     "input": [
      "val.index(',')"
     ],
     "language": "python",
     "outputs": [
      {
       "output_type": "pyout",
       "prompt_number": 82,
       "text": [
        "1"
       ]
      }
     ],
     "prompt_number": 82
    },
    {
     "cell_type": "code",
     "collapsed": false,
     "input": [
      "val.find(':')"
     ],
     "language": "python",
     "outputs": [
      {
       "output_type": "pyout",
       "prompt_number": 83,
       "text": [
        "-1"
       ]
      }
     ],
     "prompt_number": 83
    },
    {
     "cell_type": "markdown",
     "source": [
      "The difference between `find` and `index` is that `index` raises an exception if\n",
      "the string isn't found."
     ]
    },
    {
     "cell_type": "code",
     "collapsed": false,
     "input": [
      "val.count(',')"
     ],
     "language": "python",
     "outputs": [
      {
       "output_type": "pyout",
       "prompt_number": 84,
       "text": [
        "2"
       ]
      }
     ],
     "prompt_number": 84
    },
    {
     "cell_type": "markdown",
     "source": [
      "## Regular Expressions"
     ]
    },
    {
     "cell_type": "code",
     "collapsed": false,
     "input": [
      "import re\n",
      "text = \"foo    bar\\t baz  \\tqux\"\n",
      "re.split('\\s+', text)"
     ],
     "language": "python",
     "outputs": [
      {
       "output_type": "pyout",
       "prompt_number": 85,
       "text": [
        "['foo', 'bar', 'baz', 'qux']"
       ]
      }
     ],
     "prompt_number": 85
    },
    {
     "cell_type": "markdown",
     "source": [
      "## Vectorized string functions in pandas"
     ]
    },
    {
     "cell_type": "code",
     "collapsed": false,
     "input": [
      "data = {'Dave': 'dave@google.com', 'Steve': 'steve@gmail.com',\n",
      "        'Rob': 'rob@gmail.com', 'Wes': np.nan}\n",
      "data = Series(data)\n",
      "data"
     ],
     "language": "python",
     "outputs": [
      {
       "output_type": "pyout",
       "prompt_number": 90,
       "text": [
        "Dave     dave@google.com\n",
        "Rob        rob@gmail.com\n",
        "Steve    steve@gmail.com\n",
        "Wes                  NaN\n",
        "dtype: object"
       ]
      }
     ],
     "prompt_number": 90
    },
    {
     "cell_type": "markdown",
     "source": [
      "Use of `data.map` will fail on the NA. To skip NAs, Series' `str` functions can\n",
      "be used."
     ]
    },
    {
     "cell_type": "code",
     "collapsed": false,
     "input": [
      "data.str.contains('gmail')"
     ],
     "language": "python",
     "outputs": [
      {
       "output_type": "pyout",
       "prompt_number": 91,
       "text": [
        "Dave     False\n",
        "Rob       True\n",
        "Steve     True\n",
        "Wes        NaN\n",
        "dtype: object"
       ]
      }
     ],
     "prompt_number": 91
    },
    {
     "cell_type": "code",
     "collapsed": false,
     "input": [
      "pattern = r'([A-Z0-9._%+-]+)@([A-Z0-9.-]+)\\.([A-Z]{2,4})'\n",
      "pattern"
     ],
     "language": "python",
     "outputs": [
      {
       "output_type": "pyout",
       "prompt_number": 92,
       "text": [
        "'([A-Z0-9._%+-]+)@([A-Z0-9.-]+)\\\\.([A-Z]{2,4})'"
       ]
      }
     ],
     "prompt_number": 92
    },
    {
     "cell_type": "code",
     "collapsed": false,
     "input": [
      "data.str.findall(pattern, flags=re.IGNORECASE)"
     ],
     "language": "python",
     "outputs": [
      {
       "output_type": "pyout",
       "prompt_number": 99,
       "text": [
        "Dave     [(dave, google, com)]\n",
        "Rob        [(rob, gmail, com)]\n",
        "Steve    [(steve, gmail, com)]\n",
        "Wes                        NaN\n",
        "dtype: object"
       ]
      }
     ],
     "prompt_number": 99
    },
    {
     "cell_type": "code",
     "collapsed": false,
     "input": [
      "matches = data.str.match(pattern, flags=re.IGNORECASE)\n",
      "matches"
     ],
     "language": "python",
     "outputs": [
      {
       "output_type": "stream",
       "stream": "stderr",
       "text": [
        "/usr/local/lib/python2.7/dist-packages/pandas/core/strings.py:367: UserWarning: In future versions of pandas, match will change to always return a bool indexer.\n",
        "  \" always return a bool indexer.\"\"\", UserWarning)\n"
       ]
      },
      {
       "output_type": "pyout",
       "prompt_number": 102,
       "text": [
        "Dave     (dave, google, com)\n",
        "Rob        (rob, gmail, com)\n",
        "Steve    (steve, gmail, com)\n",
        "Wes                      NaN\n",
        "dtype: object"
       ]
      }
     ],
     "prompt_number": 102
    },
    {
     "cell_type": "code",
     "collapsed": false,
     "input": [
      "matches.str.get(1)"
     ],
     "language": "python",
     "outputs": [
      {
       "output_type": "pyout",
       "prompt_number": 103,
       "text": [
        "Dave     google\n",
        "Rob       gmail\n",
        "Steve     gmail\n",
        "Wes         NaN\n",
        "dtype: object"
       ]
      }
     ],
     "prompt_number": 103
    },
    {
     "cell_type": "code",
     "collapsed": false,
     "input": [
      "data.str[:5]"
     ],
     "language": "python",
     "outputs": [
      {
       "output_type": "pyout",
       "prompt_number": 106,
       "text": [
        "Dave     dave@\n",
        "Rob      rob@g\n",
        "Steve    steve\n",
        "Wes        NaN\n",
        "dtype: object"
       ]
      }
     ],
     "prompt_number": 106
    },
    {
     "cell_type": "markdown",
     "source": [
      "# Example: USDA Food database"
     ]
    },
    {
     "cell_type": "code",
     "collapsed": false,
     "input": [
      "import json\n",
      "db = json.load(open('foods-2011-10-03.json'))\n",
      "len(db)"
     ],
     "language": "python",
     "outputs": [
      {
       "output_type": "pyout",
       "prompt_number": 1,
       "text": [
        "6636"
       ]
      }
     ],
     "prompt_number": 1
    },
    {
     "cell_type": "code",
     "collapsed": false,
     "input": [
      "db[0].keys()"
     ],
     "language": "python",
     "outputs": [
      {
       "output_type": "pyout",
       "prompt_number": 2,
       "text": [
        "[u'portions',\n",
        " u'description',\n",
        " u'tags',\n",
        " u'nutrients',\n",
        " u'group',\n",
        " u'id',\n",
        " u'manufacturer']"
       ]
      }
     ],
     "prompt_number": 2
    },
    {
     "cell_type": "code",
     "collapsed": false,
     "input": [
      "db[0]['nutrients'][0]"
     ],
     "language": "python",
     "outputs": [
      {
       "output_type": "pyout",
       "prompt_number": 3,
       "text": [
        "{u'description': u'Protein',\n",
        " u'group': u'Composition',\n",
        " u'units': u'g',\n",
        " u'value': 25.18}"
       ]
      }
     ],
     "prompt_number": 3
    },
    {
     "cell_type": "code",
     "collapsed": false,
     "input": [
      "nutrients = DataFrame(db[0]['nutrients'])\n",
      "nutrients.tail()"
     ],
     "language": "python",
     "outputs": [
      {
       "html": [
        "<div style=\"max-height:1000px;max-width:1500px;overflow:auto;\">\n",
        "<table border=\"1\" class=\"dataframe\">\n",
        "  <thead>\n",
        "    <tr style=\"text-align: right;\">\n",
        "      <th></th>\n",
        "      <th>description</th>\n",
        "      <th>group</th>\n",
        "      <th>units</th>\n",
        "      <th>value</th>\n",
        "    </tr>\n",
        "  </thead>\n",
        "  <tbody>\n",
        "    <tr>\n",
        "      <th>157</th>\n",
        "      <td>                             Serine</td>\n",
        "      <td> Amino Acids</td>\n",
        "      <td>  g</td>\n",
        "      <td>  1.472</td>\n",
        "    </tr>\n",
        "    <tr>\n",
        "      <th>158</th>\n",
        "      <td>                        Cholesterol</td>\n",
        "      <td>       Other</td>\n",
        "      <td> mg</td>\n",
        "      <td> 93.000</td>\n",
        "    </tr>\n",
        "    <tr>\n",
        "      <th>159</th>\n",
        "      <td>       Fatty acids, total saturated</td>\n",
        "      <td>       Other</td>\n",
        "      <td>  g</td>\n",
        "      <td> 18.584</td>\n",
        "    </tr>\n",
        "    <tr>\n",
        "      <th>160</th>\n",
        "      <td> Fatty acids, total monounsaturated</td>\n",
        "      <td>       Other</td>\n",
        "      <td>  g</td>\n",
        "      <td>  8.275</td>\n",
        "    </tr>\n",
        "    <tr>\n",
        "      <th>161</th>\n",
        "      <td> Fatty acids, total polyunsaturated</td>\n",
        "      <td>       Other</td>\n",
        "      <td>  g</td>\n",
        "      <td>  0.830</td>\n",
        "    </tr>\n",
        "  </tbody>\n",
        "</table>\n",
        "<p>5 rows \u00d7 4 columns</p>\n",
        "</div>"
       ],
       "output_type": "pyout",
       "prompt_number": 7,
       "text": [
        "                            description        group units   value\n",
        "157                              Serine  Amino Acids     g   1.472\n",
        "158                         Cholesterol        Other    mg  93.000\n",
        "159        Fatty acids, total saturated        Other     g  18.584\n",
        "160  Fatty acids, total monounsaturated        Other     g   8.275\n",
        "161  Fatty acids, total polyunsaturated        Other     g   0.830\n",
        "\n",
        "[5 rows x 4 columns]"
       ]
      }
     ],
     "prompt_number": 7
    },
    {
     "cell_type": "code",
     "collapsed": false,
     "input": [
      "info_keys = ['description', 'group', 'id', 'manufacturer']\n",
      "info = DataFrame(db, columns=info_keys)\n",
      "info.head()"
     ],
     "language": "python",
     "outputs": [
      {
       "html": [
        "<div style=\"max-height:1000px;max-width:1500px;overflow:auto;\">\n",
        "<table border=\"1\" class=\"dataframe\">\n",
        "  <thead>\n",
        "    <tr style=\"text-align: right;\">\n",
        "      <th></th>\n",
        "      <th>description</th>\n",
        "      <th>group</th>\n",
        "      <th>id</th>\n",
        "      <th>manufacturer</th>\n",
        "    </tr>\n",
        "  </thead>\n",
        "  <tbody>\n",
        "    <tr>\n",
        "      <th>0</th>\n",
        "      <td>                    Cheese, caraway</td>\n",
        "      <td> Dairy and Egg Products</td>\n",
        "      <td> 1008</td>\n",
        "      <td> </td>\n",
        "    </tr>\n",
        "    <tr>\n",
        "      <th>1</th>\n",
        "      <td>                    Cheese, cheddar</td>\n",
        "      <td> Dairy and Egg Products</td>\n",
        "      <td> 1009</td>\n",
        "      <td> </td>\n",
        "    </tr>\n",
        "    <tr>\n",
        "      <th>2</th>\n",
        "      <td>                       Cheese, edam</td>\n",
        "      <td> Dairy and Egg Products</td>\n",
        "      <td> 1018</td>\n",
        "      <td> </td>\n",
        "    </tr>\n",
        "    <tr>\n",
        "      <th>3</th>\n",
        "      <td>                       Cheese, feta</td>\n",
        "      <td> Dairy and Egg Products</td>\n",
        "      <td> 1019</td>\n",
        "      <td> </td>\n",
        "    </tr>\n",
        "    <tr>\n",
        "      <th>4</th>\n",
        "      <td> Cheese, mozzarella, part skim milk</td>\n",
        "      <td> Dairy and Egg Products</td>\n",
        "      <td> 1028</td>\n",
        "      <td> </td>\n",
        "    </tr>\n",
        "  </tbody>\n",
        "</table>\n",
        "<p>5 rows \u00d7 4 columns</p>\n",
        "</div>"
       ],
       "output_type": "pyout",
       "prompt_number": 10,
       "text": [
        "                          description                   group    id  \\\n",
        "0                     Cheese, caraway  Dairy and Egg Products  1008   \n",
        "1                     Cheese, cheddar  Dairy and Egg Products  1009   \n",
        "2                        Cheese, edam  Dairy and Egg Products  1018   \n",
        "3                        Cheese, feta  Dairy and Egg Products  1019   \n",
        "4  Cheese, mozzarella, part skim milk  Dairy and Egg Products  1028   \n",
        "\n",
        "  manufacturer  \n",
        "0               \n",
        "1               \n",
        "2               \n",
        "3               \n",
        "4               \n",
        "\n",
        "[5 rows x 4 columns]"
       ]
      }
     ],
     "prompt_number": 10
    },
    {
     "cell_type": "code",
     "collapsed": false,
     "input": [
      "pd.value_counts(info.group)[:10]"
     ],
     "language": "python",
     "outputs": [
      {
       "output_type": "pyout",
       "prompt_number": 11,
       "text": [
        "Vegetables and Vegetable Products    812\n",
        "Beef Products                        618\n",
        "Baked Products                       496\n",
        "Breakfast Cereals                    403\n",
        "Legumes and Legume Products          365\n",
        "Fast Foods                           365\n",
        "Lamb, Veal, and Game Products        345\n",
        "Sweets                               341\n",
        "Fruits and Fruit Juices              328\n",
        "Pork Products                        328\n",
        "dtype: int64"
       ]
      }
     ],
     "prompt_number": 11
    },
    {
     "cell_type": "markdown",
     "source": [
      "To do some analysis on all of the nutrient data, it's easiest to assemble the\n",
      "nutrients for each food into a single large table."
     ]
    },
    {
     "cell_type": "code",
     "collapsed": false,
     "input": [
      "nutrients = []\n",
      "for rec in db:\n",
      "    fnuts = DataFrame(rec['nutrients'])\n",
      "    fnuts['id'] = rec['id']\n",
      "    nutrients.append(fnuts)\n",
      "nutrients = pd.concat(nutrients, ignore_index=True)"
     ],
     "language": "python",
     "outputs": [],
     "prompt_number": 35
    },
    {
     "cell_type": "code",
     "collapsed": false,
     "input": [
      "nutrients.head()"
     ],
     "language": "python",
     "outputs": [
      {
       "html": [
        "<div style=\"max-height:1000px;max-width:1500px;overflow:auto;\">\n",
        "<table border=\"1\" class=\"dataframe\">\n",
        "  <thead>\n",
        "    <tr style=\"text-align: right;\">\n",
        "      <th></th>\n",
        "      <th>description</th>\n",
        "      <th>group</th>\n",
        "      <th>units</th>\n",
        "      <th>value</th>\n",
        "      <th>id</th>\n",
        "    </tr>\n",
        "  </thead>\n",
        "  <tbody>\n",
        "    <tr>\n",
        "      <th>0</th>\n",
        "      <td>                     Protein</td>\n",
        "      <td> Composition</td>\n",
        "      <td>    g</td>\n",
        "      <td>  25.18</td>\n",
        "      <td> 1008</td>\n",
        "    </tr>\n",
        "    <tr>\n",
        "      <th>1</th>\n",
        "      <td>           Total lipid (fat)</td>\n",
        "      <td> Composition</td>\n",
        "      <td>    g</td>\n",
        "      <td>  29.20</td>\n",
        "      <td> 1008</td>\n",
        "    </tr>\n",
        "    <tr>\n",
        "      <th>2</th>\n",
        "      <td> Carbohydrate, by difference</td>\n",
        "      <td> Composition</td>\n",
        "      <td>    g</td>\n",
        "      <td>   3.06</td>\n",
        "      <td> 1008</td>\n",
        "    </tr>\n",
        "    <tr>\n",
        "      <th>3</th>\n",
        "      <td>                         Ash</td>\n",
        "      <td>       Other</td>\n",
        "      <td>    g</td>\n",
        "      <td>   3.28</td>\n",
        "      <td> 1008</td>\n",
        "    </tr>\n",
        "    <tr>\n",
        "      <th>4</th>\n",
        "      <td>                      Energy</td>\n",
        "      <td>      Energy</td>\n",
        "      <td> kcal</td>\n",
        "      <td> 376.00</td>\n",
        "      <td> 1008</td>\n",
        "    </tr>\n",
        "  </tbody>\n",
        "</table>\n",
        "<p>5 rows \u00d7 5 columns</p>\n",
        "</div>"
       ],
       "output_type": "pyout",
       "prompt_number": 36,
       "text": [
        "                   description        group units   value    id\n",
        "0                      Protein  Composition     g   25.18  1008\n",
        "1            Total lipid (fat)  Composition     g   29.20  1008\n",
        "2  Carbohydrate, by difference  Composition     g    3.06  1008\n",
        "3                          Ash        Other     g    3.28  1008\n",
        "4                       Energy       Energy  kcal  376.00  1008\n",
        "\n",
        "[5 rows x 5 columns]"
       ]
      }
     ],
     "prompt_number": 36
    },
    {
     "cell_type": "markdown",
     "source": [
      "For some reason, there are duplicates in the data, remove them."
     ]
    },
    {
     "cell_type": "code",
     "collapsed": false,
     "input": [
      "nutrients.duplicated().sum()"
     ],
     "language": "python",
     "outputs": [
      {
       "output_type": "pyout",
       "prompt_number": 37,
       "text": [
        "14179"
       ]
      }
     ],
     "prompt_number": 37
    },
    {
     "cell_type": "code",
     "collapsed": false,
     "input": [
      "nutrients = nutrients.drop_duplicates()"
     ],
     "language": "python",
     "outputs": [],
     "prompt_number": 38
    },
    {
     "cell_type": "markdown",
     "source": [
      "Since `group` and `description` are in both DataFrame objects, we can rename\n",
      "them to make it clear\n"
     ]
    },
    {
     "cell_type": "code",
     "collapsed": false,
     "input": [
      "col_mapping = {'description': 'food', 'group': 'fgroup'}\n",
      "info = info.rename(columns=col_mapping, copy=False)\n",
      "info.head()"
     ],
     "language": "python",
     "outputs": [
      {
       "html": [
        "<div style=\"max-height:1000px;max-width:1500px;overflow:auto;\">\n",
        "<table border=\"1\" class=\"dataframe\">\n",
        "  <thead>\n",
        "    <tr style=\"text-align: right;\">\n",
        "      <th></th>\n",
        "      <th>food</th>\n",
        "      <th>fgroup</th>\n",
        "      <th>id</th>\n",
        "      <th>manufacturer</th>\n",
        "    </tr>\n",
        "  </thead>\n",
        "  <tbody>\n",
        "    <tr>\n",
        "      <th>0</th>\n",
        "      <td>                    Cheese, caraway</td>\n",
        "      <td> Dairy and Egg Products</td>\n",
        "      <td> 1008</td>\n",
        "      <td> </td>\n",
        "    </tr>\n",
        "    <tr>\n",
        "      <th>1</th>\n",
        "      <td>                    Cheese, cheddar</td>\n",
        "      <td> Dairy and Egg Products</td>\n",
        "      <td> 1009</td>\n",
        "      <td> </td>\n",
        "    </tr>\n",
        "    <tr>\n",
        "      <th>2</th>\n",
        "      <td>                       Cheese, edam</td>\n",
        "      <td> Dairy and Egg Products</td>\n",
        "      <td> 1018</td>\n",
        "      <td> </td>\n",
        "    </tr>\n",
        "    <tr>\n",
        "      <th>3</th>\n",
        "      <td>                       Cheese, feta</td>\n",
        "      <td> Dairy and Egg Products</td>\n",
        "      <td> 1019</td>\n",
        "      <td> </td>\n",
        "    </tr>\n",
        "    <tr>\n",
        "      <th>4</th>\n",
        "      <td> Cheese, mozzarella, part skim milk</td>\n",
        "      <td> Dairy and Egg Products</td>\n",
        "      <td> 1028</td>\n",
        "      <td> </td>\n",
        "    </tr>\n",
        "  </tbody>\n",
        "</table>\n",
        "<p>5 rows \u00d7 4 columns</p>\n",
        "</div>"
       ],
       "output_type": "pyout",
       "prompt_number": 39,
       "text": [
        "                                 food                  fgroup    id  \\\n",
        "0                     Cheese, caraway  Dairy and Egg Products  1008   \n",
        "1                     Cheese, cheddar  Dairy and Egg Products  1009   \n",
        "2                        Cheese, edam  Dairy and Egg Products  1018   \n",
        "3                        Cheese, feta  Dairy and Egg Products  1019   \n",
        "4  Cheese, mozzarella, part skim milk  Dairy and Egg Products  1028   \n",
        "\n",
        "  manufacturer  \n",
        "0               \n",
        "1               \n",
        "2               \n",
        "3               \n",
        "4               \n",
        "\n",
        "[5 rows x 4 columns]"
       ]
      }
     ],
     "prompt_number": 39
    },
    {
     "cell_type": "code",
     "collapsed": false,
     "input": [
      "col_mapping = {'description': 'nutrient', 'group': 'nutgroup'}\n",
      "nutrients = nutrients.rename(columns=col_mapping, copy=False)\n",
      "nutrients.head()"
     ],
     "language": "python",
     "outputs": [
      {
       "html": [
        "<div style=\"max-height:1000px;max-width:1500px;overflow:auto;\">\n",
        "<table border=\"1\" class=\"dataframe\">\n",
        "  <thead>\n",
        "    <tr style=\"text-align: right;\">\n",
        "      <th></th>\n",
        "      <th>nutrient</th>\n",
        "      <th>nutgroup</th>\n",
        "      <th>units</th>\n",
        "      <th>value</th>\n",
        "      <th>id</th>\n",
        "    </tr>\n",
        "  </thead>\n",
        "  <tbody>\n",
        "    <tr>\n",
        "      <th>0</th>\n",
        "      <td>                     Protein</td>\n",
        "      <td> Composition</td>\n",
        "      <td>    g</td>\n",
        "      <td>  25.18</td>\n",
        "      <td> 1008</td>\n",
        "    </tr>\n",
        "    <tr>\n",
        "      <th>1</th>\n",
        "      <td>           Total lipid (fat)</td>\n",
        "      <td> Composition</td>\n",
        "      <td>    g</td>\n",
        "      <td>  29.20</td>\n",
        "      <td> 1008</td>\n",
        "    </tr>\n",
        "    <tr>\n",
        "      <th>2</th>\n",
        "      <td> Carbohydrate, by difference</td>\n",
        "      <td> Composition</td>\n",
        "      <td>    g</td>\n",
        "      <td>   3.06</td>\n",
        "      <td> 1008</td>\n",
        "    </tr>\n",
        "    <tr>\n",
        "      <th>3</th>\n",
        "      <td>                         Ash</td>\n",
        "      <td>       Other</td>\n",
        "      <td>    g</td>\n",
        "      <td>   3.28</td>\n",
        "      <td> 1008</td>\n",
        "    </tr>\n",
        "    <tr>\n",
        "      <th>4</th>\n",
        "      <td>                      Energy</td>\n",
        "      <td>      Energy</td>\n",
        "      <td> kcal</td>\n",
        "      <td> 376.00</td>\n",
        "      <td> 1008</td>\n",
        "    </tr>\n",
        "  </tbody>\n",
        "</table>\n",
        "<p>5 rows \u00d7 5 columns</p>\n",
        "</div>"
       ],
       "output_type": "pyout",
       "prompt_number": 40,
       "text": [
        "                      nutrient     nutgroup units   value    id\n",
        "0                      Protein  Composition     g   25.18  1008\n",
        "1            Total lipid (fat)  Composition     g   29.20  1008\n",
        "2  Carbohydrate, by difference  Composition     g    3.06  1008\n",
        "3                          Ash        Other     g    3.28  1008\n",
        "4                       Energy       Energy  kcal  376.00  1008\n",
        "\n",
        "[5 rows x 5 columns]"
       ]
      }
     ],
     "prompt_number": 40
    },
    {
     "cell_type": "markdown",
     "source": [
      "Now, we are ready to merge `info` with `nutrients`"
     ]
    },
    {
     "cell_type": "code",
     "collapsed": false,
     "input": [
      "ndata = pd.merge(nutrients, info, on='id', how='outer')\n",
      "ndata.info()"
     ],
     "language": "python",
     "outputs": [
      {
       "output_type": "stream",
       "stream": "stdout",
       "text": [
        "<class 'pandas.core.frame.DataFrame'>\n",
        "Int64Index: 375176 entries, 0 to 375175\n",
        "Data columns (total 8 columns):\n",
        "nutrient        375176 non-null object\n",
        "nutgroup        375176 non-null object\n",
        "units           375176 non-null object\n",
        "value           375176 non-null float64\n",
        "id              375176 non-null int64\n",
        "food            375176 non-null object\n",
        "fgroup          375176 non-null object\n",
        "manufacturer    293054 non-null object\n",
        "dtypes: float64(1), int64(1), object(6)"
       ]
      }
     ],
     "prompt_number": 41
    },
    {
     "cell_type": "code",
     "collapsed": false,
     "input": [
      "ndata.ix[3000]"
     ],
     "language": "python",
     "outputs": [
      {
       "output_type": "pyout",
       "prompt_number": 42,
       "text": [
        "nutrient                 Alcohol, ethyl\n",
        "nutgroup                          Other\n",
        "units                                 g\n",
        "value                                 0\n",
        "id                                 1159\n",
        "food            Cheese, goat, soft type\n",
        "fgroup           Dairy and Egg Products\n",
        "manufacturer                           \n",
        "Name: 3000, dtype: object"
       ]
      }
     ],
     "prompt_number": 42
    },
    {
     "cell_type": "code",
     "collapsed": false,
     "input": [
      "%matplotlib inline\n",
      "result = ndata.groupby(['nutrient', 'fgroup'])['value'].quantile(0.5)\n",
      "result['Zinc, Zn'].order().plot(kind='barh')\n"
     ],
     "language": "python",
     "outputs": [
      {
       "output_type": "pyout",
       "prompt_number": 50,
       "text": [
        "<matplotlib.axes.AxesSubplot at 0x7f3a0ba22810>"
       ]
      },
      {
       "output_type": "display_data",
       "png": "[encoded data removed]",
       "text": [
        "<matplotlib.figure.Figure at 0x7f3a0c0a3510>"
       ]
      }
     ],
     "prompt_number": 50
    },
    {
     "cell_type": "code",
     "collapsed": false,
     "input": [
      "by_nutrient = ndata.groupby(['nutgroup', 'nutrient'])\n",
      "get_maximum = lambda x: x.xs(x.value.idxmax())\n",
      "get_minimum = lambda x: x.xs(x.value.idxmin())\n",
      "max_foods = by_nutrient.apply(get_maximum)[['value', 'food']]\n",
      "max_foods.ix['Amino Acids']['food']\n"
     ],
     "language": "python",
     "outputs": [
      {
       "output_type": "pyout",
       "prompt_number": 74,
       "text": [
        "nutrient\n",
        "Alanine                           Gelatins, dry powder, unsweetened\n",
        "Arginine                               Seeds, sesame flour, low-fat\n",
        "Aspartic acid                                   Soy protein isolate\n",
        "Cystine                Seeds, cottonseed flour, low fat (glandless)\n",
        "Glutamic acid                                   Soy protein isolate\n",
        "Glycine                           Gelatins, dry powder, unsweetened\n",
        "Histidine                Whale, beluga, meat, dried (Alaska Native)\n",
        "Hydroxyproline    KENTUCKY FRIED CHICKEN, Fried Chicken, ORIGINA...\n",
        "Isoleucine        Soy protein isolate, PROTEIN TECHNOLOGIES INTE...\n",
        "Leucine           Soy protein isolate, PROTEIN TECHNOLOGIES INTE...\n",
        "Lysine            Seal, bearded (Oogruk), meat, dried (Alaska Na...\n",
        "Methionine                    Fish, cod, Atlantic, dried and salted\n",
        "Phenylalanine     Soy protein isolate, PROTEIN TECHNOLOGIES INTE...\n",
        "Proline                           Gelatins, dry powder, unsweetened\n",
        "Serine            Soy protein isolate, PROTEIN TECHNOLOGIES INTE...\n",
        "Threonine         Soy protein isolate, PROTEIN TECHNOLOGIES INTE...\n",
        "Tryptophan         Sea lion, Steller, meat with fat (Alaska Native)\n",
        "Tyrosine          Soy protein isolate, PROTEIN TECHNOLOGIES INTE...\n",
        "Valine            Soy protein isolate, PROTEIN TECHNOLOGIES INTE...\n",
        "Name: food, dtype: object"
       ]
      }
     ],
     "prompt_number": 74
    }
   ]
  }
 ]
}