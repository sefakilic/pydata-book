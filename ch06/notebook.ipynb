{
 "metadata": {
  "name": ""
 },
 "nbformat": 3,
 "nbformat_minor": 0,
 "worksheets": [
  {
   "cells": [
    {
     "cell_type": "heading",
     "level": 1,
     "source": [
      "Data Loading, Storage and File Formats"
     ]
    },
    {
     "cell_type": "code",
     "collapsed": false,
     "input": [
      "import pandas as pd\n",
      "from pandas import DataFrame, Series"
     ],
     "language": "python",
     "outputs": [],
     "prompt_number": 5
    },
    {
     "cell_type": "markdown",
     "source": [
      "Some parsing functions in pandas\n",
      "- read_csv\n",
      "- read_table\n",
      "- read_fwf (for fixed-width-format)\n",
      "- read_clipboard (useful for converting tables from web pages)"
     ]
    },
    {
     "cell_type": "code",
     "collapsed": false,
     "input": [
      "!cat ex1.csv"
     ],
     "language": "python",
     "outputs": [
      {
       "output_type": "stream",
       "stream": "stdout",
       "text": [
        "a,b,c,d,message\r\n",
        "1,2,3,4,hello\r\n",
        "5,6,7,8,world\r\n",
        "9,10,11,12,foo"
       ]
      }
     ],
     "prompt_number": 2
    },
    {
     "cell_type": "code",
     "collapsed": false,
     "input": [
      "df = pd.read_csv('ex1.csv')\n",
      "df"
     ],
     "language": "python",
     "outputs": [
      {
       "html": [
        "<div style=\"max-height:1000px;max-width:1500px;overflow:auto;\">\n",
        "<table border=\"1\" class=\"dataframe\">\n",
        "  <thead>\n",
        "    <tr style=\"text-align: right;\">\n",
        "      <th></th>\n",
        "      <th>a</th>\n",
        "      <th>b</th>\n",
        "      <th>c</th>\n",
        "      <th>d</th>\n",
        "      <th>message</th>\n",
        "    </tr>\n",
        "  </thead>\n",
        "  <tbody>\n",
        "    <tr>\n",
        "      <th>0</th>\n",
        "      <td> 1</td>\n",
        "      <td>  2</td>\n",
        "      <td>  3</td>\n",
        "      <td>  4</td>\n",
        "      <td> hello</td>\n",
        "    </tr>\n",
        "    <tr>\n",
        "      <th>1</th>\n",
        "      <td> 5</td>\n",
        "      <td>  6</td>\n",
        "      <td>  7</td>\n",
        "      <td>  8</td>\n",
        "      <td> world</td>\n",
        "    </tr>\n",
        "    <tr>\n",
        "      <th>2</th>\n",
        "      <td> 9</td>\n",
        "      <td> 10</td>\n",
        "      <td> 11</td>\n",
        "      <td> 12</td>\n",
        "      <td>   foo</td>\n",
        "    </tr>\n",
        "  </tbody>\n",
        "</table>\n",
        "<p>3 rows \u00d7 5 columns</p>\n",
        "</div>"
       ],
       "output_type": "pyout",
       "prompt_number": 6,
       "text": [
        "   a   b   c   d message\n",
        "0  1   2   3   4   hello\n",
        "1  5   6   7   8   world\n",
        "2  9  10  11  12     foo\n",
        "\n",
        "[3 rows x 5 columns]"
       ]
      }
     ],
     "prompt_number": 6
    },
    {
     "cell_type": "code",
     "collapsed": false,
     "input": [
      "df = pd.read_table('ex1.csv', sep=',')\n",
      "df"
     ],
     "language": "python",
     "outputs": [
      {
       "html": [
        "<div style=\"max-height:1000px;max-width:1500px;overflow:auto;\">\n",
        "<table border=\"1\" class=\"dataframe\">\n",
        "  <thead>\n",
        "    <tr style=\"text-align: right;\">\n",
        "      <th></th>\n",
        "      <th>a</th>\n",
        "      <th>b</th>\n",
        "      <th>c</th>\n",
        "      <th>d</th>\n",
        "      <th>message</th>\n",
        "    </tr>\n",
        "  </thead>\n",
        "  <tbody>\n",
        "    <tr>\n",
        "      <th>0</th>\n",
        "      <td> 1</td>\n",
        "      <td>  2</td>\n",
        "      <td>  3</td>\n",
        "      <td>  4</td>\n",
        "      <td> hello</td>\n",
        "    </tr>\n",
        "    <tr>\n",
        "      <th>1</th>\n",
        "      <td> 5</td>\n",
        "      <td>  6</td>\n",
        "      <td>  7</td>\n",
        "      <td>  8</td>\n",
        "      <td> world</td>\n",
        "    </tr>\n",
        "    <tr>\n",
        "      <th>2</th>\n",
        "      <td> 9</td>\n",
        "      <td> 10</td>\n",
        "      <td> 11</td>\n",
        "      <td> 12</td>\n",
        "      <td>   foo</td>\n",
        "    </tr>\n",
        "  </tbody>\n",
        "</table>\n",
        "<p>3 rows \u00d7 5 columns</p>\n",
        "</div>"
       ],
       "output_type": "pyout",
       "prompt_number": 8,
       "text": [
        "   a   b   c   d message\n",
        "0  1   2   3   4   hello\n",
        "1  5   6   7   8   world\n",
        "2  9  10  11  12     foo\n",
        "\n",
        "[3 rows x 5 columns]"
       ]
      }
     ],
     "prompt_number": 8
    },
    {
     "cell_type": "code",
     "collapsed": false,
     "input": [
      "# No headers\n",
      "!cat ex2.csv"
     ],
     "language": "python",
     "outputs": [
      {
       "output_type": "stream",
       "stream": "stdout",
       "text": [
        "1,2,3,4,hello\r\n",
        "5,6,7,8,world\r\n",
        "9,10,11,12,foo"
       ]
      }
     ],
     "prompt_number": 9
    },
    {
     "cell_type": "code",
     "collapsed": false,
     "input": [
      "df = pd.read_csv('ex2.csv', header=None)\n",
      "df"
     ],
     "language": "python",
     "outputs": [
      {
       "html": [
        "<div style=\"max-height:1000px;max-width:1500px;overflow:auto;\">\n",
        "<table border=\"1\" class=\"dataframe\">\n",
        "  <thead>\n",
        "    <tr style=\"text-align: right;\">\n",
        "      <th></th>\n",
        "      <th>0</th>\n",
        "      <th>1</th>\n",
        "      <th>2</th>\n",
        "      <th>3</th>\n",
        "      <th>4</th>\n",
        "    </tr>\n",
        "  </thead>\n",
        "  <tbody>\n",
        "    <tr>\n",
        "      <th>0</th>\n",
        "      <td> 1</td>\n",
        "      <td>  2</td>\n",
        "      <td>  3</td>\n",
        "      <td>  4</td>\n",
        "      <td> hello</td>\n",
        "    </tr>\n",
        "    <tr>\n",
        "      <th>1</th>\n",
        "      <td> 5</td>\n",
        "      <td>  6</td>\n",
        "      <td>  7</td>\n",
        "      <td>  8</td>\n",
        "      <td> world</td>\n",
        "    </tr>\n",
        "    <tr>\n",
        "      <th>2</th>\n",
        "      <td> 9</td>\n",
        "      <td> 10</td>\n",
        "      <td> 11</td>\n",
        "      <td> 12</td>\n",
        "      <td>   foo</td>\n",
        "    </tr>\n",
        "  </tbody>\n",
        "</table>\n",
        "<p>3 rows \u00d7 5 columns</p>\n",
        "</div>"
       ],
       "output_type": "pyout",
       "prompt_number": 11,
       "text": [
        "   0   1   2   3      4\n",
        "0  1   2   3   4  hello\n",
        "1  5   6   7   8  world\n",
        "2  9  10  11  12    foo\n",
        "\n",
        "[3 rows x 5 columns]"
       ]
      }
     ],
     "prompt_number": 11
    },
    {
     "cell_type": "code",
     "collapsed": false,
     "input": [
      "df = pd.read_csv('ex2.csv', names=['a', 'b', 'c', 'd', 'message'])\n",
      "df"
     ],
     "language": "python",
     "outputs": [
      {
       "html": [
        "<div style=\"max-height:1000px;max-width:1500px;overflow:auto;\">\n",
        "<table border=\"1\" class=\"dataframe\">\n",
        "  <thead>\n",
        "    <tr style=\"text-align: right;\">\n",
        "      <th></th>\n",
        "      <th>a</th>\n",
        "      <th>b</th>\n",
        "      <th>c</th>\n",
        "      <th>d</th>\n",
        "      <th>message</th>\n",
        "    </tr>\n",
        "  </thead>\n",
        "  <tbody>\n",
        "    <tr>\n",
        "      <th>0</th>\n",
        "      <td> 1</td>\n",
        "      <td>  2</td>\n",
        "      <td>  3</td>\n",
        "      <td>  4</td>\n",
        "      <td> hello</td>\n",
        "    </tr>\n",
        "    <tr>\n",
        "      <th>1</th>\n",
        "      <td> 5</td>\n",
        "      <td>  6</td>\n",
        "      <td>  7</td>\n",
        "      <td>  8</td>\n",
        "      <td> world</td>\n",
        "    </tr>\n",
        "    <tr>\n",
        "      <th>2</th>\n",
        "      <td> 9</td>\n",
        "      <td> 10</td>\n",
        "      <td> 11</td>\n",
        "      <td> 12</td>\n",
        "      <td>   foo</td>\n",
        "    </tr>\n",
        "  </tbody>\n",
        "</table>\n",
        "<p>3 rows \u00d7 5 columns</p>\n",
        "</div>"
       ],
       "output_type": "pyout",
       "prompt_number": 13,
       "text": [
        "   a   b   c   d message\n",
        "0  1   2   3   4   hello\n",
        "1  5   6   7   8   world\n",
        "2  9  10  11  12     foo\n",
        "\n",
        "[3 rows x 5 columns]"
       ]
      }
     ],
     "prompt_number": 13
    },
    {
     "cell_type": "markdown",
     "source": [
      "Make one of the columns index\n"
     ]
    },
    {
     "cell_type": "code",
     "collapsed": false,
     "input": [
      "names = ['a', 'b', 'c', 'd', 'messages']\n",
      "pd.read_csv('ex2.csv', names=names, index_col='messages')"
     ],
     "language": "python",
     "outputs": [
      {
       "html": [
        "<div style=\"max-height:1000px;max-width:1500px;overflow:auto;\">\n",
        "<table border=\"1\" class=\"dataframe\">\n",
        "  <thead>\n",
        "    <tr style=\"text-align: right;\">\n",
        "      <th></th>\n",
        "      <th>a</th>\n",
        "      <th>b</th>\n",
        "      <th>c</th>\n",
        "      <th>d</th>\n",
        "    </tr>\n",
        "    <tr>\n",
        "      <th>messages</th>\n",
        "      <th></th>\n",
        "      <th></th>\n",
        "      <th></th>\n",
        "      <th></th>\n",
        "    </tr>\n",
        "  </thead>\n",
        "  <tbody>\n",
        "    <tr>\n",
        "      <th>hello</th>\n",
        "      <td> 1</td>\n",
        "      <td>  2</td>\n",
        "      <td>  3</td>\n",
        "      <td>  4</td>\n",
        "    </tr>\n",
        "    <tr>\n",
        "      <th>world</th>\n",
        "      <td> 5</td>\n",
        "      <td>  6</td>\n",
        "      <td>  7</td>\n",
        "      <td>  8</td>\n",
        "    </tr>\n",
        "    <tr>\n",
        "      <th>foo</th>\n",
        "      <td> 9</td>\n",
        "      <td> 10</td>\n",
        "      <td> 11</td>\n",
        "      <td> 12</td>\n",
        "    </tr>\n",
        "  </tbody>\n",
        "</table>\n",
        "<p>3 rows \u00d7 4 columns</p>\n",
        "</div>"
       ],
       "output_type": "pyout",
       "prompt_number": 15,
       "text": [
        "          a   b   c   d\n",
        "messages               \n",
        "hello     1   2   3   4\n",
        "world     5   6   7   8\n",
        "foo       9  10  11  12\n",
        "\n",
        "[3 rows x 4 columns]"
       ]
      }
     ],
     "prompt_number": 15
    },
    {
     "cell_type": "code",
     "collapsed": false,
     "input": [
      "!cat ex4.csv"
     ],
     "language": "python",
     "outputs": [
      {
       "output_type": "stream",
       "stream": "stdout",
       "text": [
        "# hey!\r\n",
        "a,b,c,d,message\r\n",
        "# just wanted to make things more difficult for you\r\n",
        "# who reads CSV files with computers, anyway?\r\n",
        "1,2,3,4,hello\r\n",
        "5,6,7,8,world\r\n",
        "9,10,11,12,foo"
       ]
      }
     ],
     "prompt_number": 18
    },
    {
     "cell_type": "code",
     "collapsed": false,
     "input": [
      "pd.read_csv('ex4.csv', skiprows=[0, 2, 3])"
     ],
     "language": "python",
     "outputs": [
      {
       "html": [
        "<div style=\"max-height:1000px;max-width:1500px;overflow:auto;\">\n",
        "<table border=\"1\" class=\"dataframe\">\n",
        "  <thead>\n",
        "    <tr style=\"text-align: right;\">\n",
        "      <th></th>\n",
        "      <th>a</th>\n",
        "      <th>b</th>\n",
        "      <th>c</th>\n",
        "      <th>d</th>\n",
        "      <th>message</th>\n",
        "    </tr>\n",
        "  </thead>\n",
        "  <tbody>\n",
        "    <tr>\n",
        "      <th>0</th>\n",
        "      <td> 1</td>\n",
        "      <td>  2</td>\n",
        "      <td>  3</td>\n",
        "      <td>  4</td>\n",
        "      <td> hello</td>\n",
        "    </tr>\n",
        "    <tr>\n",
        "      <th>1</th>\n",
        "      <td> 5</td>\n",
        "      <td>  6</td>\n",
        "      <td>  7</td>\n",
        "      <td>  8</td>\n",
        "      <td> world</td>\n",
        "    </tr>\n",
        "    <tr>\n",
        "      <th>2</th>\n",
        "      <td> 9</td>\n",
        "      <td> 10</td>\n",
        "      <td> 11</td>\n",
        "      <td> 12</td>\n",
        "      <td>   foo</td>\n",
        "    </tr>\n",
        "  </tbody>\n",
        "</table>\n",
        "<p>3 rows \u00d7 5 columns</p>\n",
        "</div>"
       ],
       "output_type": "pyout",
       "prompt_number": 20,
       "text": [
        "   a   b   c   d message\n",
        "0  1   2   3   4   hello\n",
        "1  5   6   7   8   world\n",
        "2  9  10  11  12     foo\n",
        "\n",
        "[3 rows x 5 columns]"
       ]
      }
     ],
     "prompt_number": 20
    },
    {
     "cell_type": "markdown",
     "source": [
      "# Handling missing values"
     ]
    },
    {
     "cell_type": "code",
     "collapsed": false,
     "input": [
      "!cat ex5.csv"
     ],
     "language": "python",
     "outputs": [
      {
       "output_type": "stream",
       "stream": "stdout",
       "text": [
        "something,a,b,c,d,message\r\n",
        "one,1,2,3,4,NA\r\n",
        "two,5,6,,8,world\r\n",
        "three,9,10,11,12,foo"
       ]
      }
     ],
     "prompt_number": 21
    },
    {
     "cell_type": "code",
     "collapsed": false,
     "input": [
      "pd.read_csv('ex5.csv')"
     ],
     "language": "python",
     "outputs": [
      {
       "html": [
        "<div style=\"max-height:1000px;max-width:1500px;overflow:auto;\">\n",
        "<table border=\"1\" class=\"dataframe\">\n",
        "  <thead>\n",
        "    <tr style=\"text-align: right;\">\n",
        "      <th></th>\n",
        "      <th>something</th>\n",
        "      <th>a</th>\n",
        "      <th>b</th>\n",
        "      <th>c</th>\n",
        "      <th>d</th>\n",
        "      <th>message</th>\n",
        "    </tr>\n",
        "  </thead>\n",
        "  <tbody>\n",
        "    <tr>\n",
        "      <th>0</th>\n",
        "      <td>   one</td>\n",
        "      <td> 1</td>\n",
        "      <td>  2</td>\n",
        "      <td>  3</td>\n",
        "      <td>  4</td>\n",
        "      <td>   NaN</td>\n",
        "    </tr>\n",
        "    <tr>\n",
        "      <th>1</th>\n",
        "      <td>   two</td>\n",
        "      <td> 5</td>\n",
        "      <td>  6</td>\n",
        "      <td>NaN</td>\n",
        "      <td>  8</td>\n",
        "      <td> world</td>\n",
        "    </tr>\n",
        "    <tr>\n",
        "      <th>2</th>\n",
        "      <td> three</td>\n",
        "      <td> 9</td>\n",
        "      <td> 10</td>\n",
        "      <td> 11</td>\n",
        "      <td> 12</td>\n",
        "      <td>   foo</td>\n",
        "    </tr>\n",
        "  </tbody>\n",
        "</table>\n",
        "<p>3 rows \u00d7 6 columns</p>\n",
        "</div>"
       ],
       "output_type": "pyout",
       "prompt_number": 22,
       "text": [
        "  something  a   b   c   d message\n",
        "0       one  1   2   3   4     NaN\n",
        "1       two  5   6 NaN   8   world\n",
        "2     three  9  10  11  12     foo\n",
        "\n",
        "[3 rows x 6 columns]"
       ]
      }
     ],
     "prompt_number": 22
    },
    {
     "cell_type": "code",
     "collapsed": false,
     "input": [
      "pd.read_csv('ex5.csv', na_values=['NULL'])"
     ],
     "language": "python",
     "outputs": [
      {
       "html": [
        "<div style=\"max-height:1000px;max-width:1500px;overflow:auto;\">\n",
        "<table border=\"1\" class=\"dataframe\">\n",
        "  <thead>\n",
        "    <tr style=\"text-align: right;\">\n",
        "      <th></th>\n",
        "      <th>something</th>\n",
        "      <th>a</th>\n",
        "      <th>b</th>\n",
        "      <th>c</th>\n",
        "      <th>d</th>\n",
        "      <th>message</th>\n",
        "    </tr>\n",
        "  </thead>\n",
        "  <tbody>\n",
        "    <tr>\n",
        "      <th>0</th>\n",
        "      <td>   one</td>\n",
        "      <td> 1</td>\n",
        "      <td>  2</td>\n",
        "      <td>  3</td>\n",
        "      <td>  4</td>\n",
        "      <td>   NaN</td>\n",
        "    </tr>\n",
        "    <tr>\n",
        "      <th>1</th>\n",
        "      <td>   two</td>\n",
        "      <td> 5</td>\n",
        "      <td>  6</td>\n",
        "      <td>NaN</td>\n",
        "      <td>  8</td>\n",
        "      <td> world</td>\n",
        "    </tr>\n",
        "    <tr>\n",
        "      <th>2</th>\n",
        "      <td> three</td>\n",
        "      <td> 9</td>\n",
        "      <td> 10</td>\n",
        "      <td> 11</td>\n",
        "      <td> 12</td>\n",
        "      <td>   foo</td>\n",
        "    </tr>\n",
        "  </tbody>\n",
        "</table>\n",
        "<p>3 rows \u00d7 6 columns</p>\n",
        "</div>"
       ],
       "output_type": "pyout",
       "prompt_number": 25,
       "text": [
        "  something  a   b   c   d message\n",
        "0       one  1   2   3   4     NaN\n",
        "1       two  5   6 NaN   8   world\n",
        "2     three  9  10  11  12     foo\n",
        "\n",
        "[3 rows x 6 columns]"
       ]
      }
     ],
     "prompt_number": 25
    },
    {
     "cell_type": "code",
     "collapsed": false,
     "input": [
      "pd.read_csv('ex5.csv', na_values={'messages': ['foo', 'NA'], 'something': ['two']})"
     ],
     "language": "python",
     "outputs": [
      {
       "html": [
        "<div style=\"max-height:1000px;max-width:1500px;overflow:auto;\">\n",
        "<table border=\"1\" class=\"dataframe\">\n",
        "  <thead>\n",
        "    <tr style=\"text-align: right;\">\n",
        "      <th></th>\n",
        "      <th>something</th>\n",
        "      <th>a</th>\n",
        "      <th>b</th>\n",
        "      <th>c</th>\n",
        "      <th>d</th>\n",
        "      <th>message</th>\n",
        "    </tr>\n",
        "  </thead>\n",
        "  <tbody>\n",
        "    <tr>\n",
        "      <th>0</th>\n",
        "      <td>   one</td>\n",
        "      <td> 1</td>\n",
        "      <td>  2</td>\n",
        "      <td>  3</td>\n",
        "      <td>  4</td>\n",
        "      <td>   NaN</td>\n",
        "    </tr>\n",
        "    <tr>\n",
        "      <th>1</th>\n",
        "      <td>   NaN</td>\n",
        "      <td> 5</td>\n",
        "      <td>  6</td>\n",
        "      <td>NaN</td>\n",
        "      <td>  8</td>\n",
        "      <td> world</td>\n",
        "    </tr>\n",
        "    <tr>\n",
        "      <th>2</th>\n",
        "      <td> three</td>\n",
        "      <td> 9</td>\n",
        "      <td> 10</td>\n",
        "      <td> 11</td>\n",
        "      <td> 12</td>\n",
        "      <td>   foo</td>\n",
        "    </tr>\n",
        "  </tbody>\n",
        "</table>\n",
        "<p>3 rows \u00d7 6 columns</p>\n",
        "</div>"
       ],
       "output_type": "pyout",
       "prompt_number": 26,
       "text": [
        "  something  a   b   c   d message\n",
        "0       one  1   2   3   4     NaN\n",
        "1       NaN  5   6 NaN   8   world\n",
        "2     three  9  10  11  12     foo\n",
        "\n",
        "[3 rows x 6 columns]"
       ]
      }
     ],
     "prompt_number": 26
    },
    {
     "cell_type": "markdown",
     "source": [
      "# Reading text files in pieces"
     ]
    },
    {
     "cell_type": "code",
     "collapsed": false,
     "input": [
      "result = pd.read_csv('ex6.csv')\n",
      "result.head()"
     ],
     "language": "python",
     "outputs": [
      {
       "html": [
        "<div style=\"max-height:1000px;max-width:1500px;overflow:auto;\">\n",
        "<table border=\"1\" class=\"dataframe\">\n",
        "  <thead>\n",
        "    <tr style=\"text-align: right;\">\n",
        "      <th></th>\n",
        "      <th>one</th>\n",
        "      <th>two</th>\n",
        "      <th>three</th>\n",
        "      <th>four</th>\n",
        "      <th>key</th>\n",
        "    </tr>\n",
        "  </thead>\n",
        "  <tbody>\n",
        "    <tr>\n",
        "      <th>0</th>\n",
        "      <td> 0.467976</td>\n",
        "      <td>-0.038649</td>\n",
        "      <td>-0.295344</td>\n",
        "      <td>-1.824726</td>\n",
        "      <td> L</td>\n",
        "    </tr>\n",
        "    <tr>\n",
        "      <th>1</th>\n",
        "      <td>-0.358893</td>\n",
        "      <td> 1.404453</td>\n",
        "      <td> 0.704965</td>\n",
        "      <td>-0.200638</td>\n",
        "      <td> B</td>\n",
        "    </tr>\n",
        "    <tr>\n",
        "      <th>2</th>\n",
        "      <td>-0.501840</td>\n",
        "      <td> 0.659254</td>\n",
        "      <td>-0.421691</td>\n",
        "      <td>-0.057688</td>\n",
        "      <td> G</td>\n",
        "    </tr>\n",
        "    <tr>\n",
        "      <th>3</th>\n",
        "      <td> 0.204886</td>\n",
        "      <td> 1.074134</td>\n",
        "      <td> 1.388361</td>\n",
        "      <td>-0.982404</td>\n",
        "      <td> R</td>\n",
        "    </tr>\n",
        "    <tr>\n",
        "      <th>4</th>\n",
        "      <td> 0.354628</td>\n",
        "      <td>-0.133116</td>\n",
        "      <td> 0.283763</td>\n",
        "      <td>-0.837063</td>\n",
        "      <td> Q</td>\n",
        "    </tr>\n",
        "  </tbody>\n",
        "</table>\n",
        "<p>5 rows \u00d7 5 columns</p>\n",
        "</div>"
       ],
       "output_type": "pyout",
       "prompt_number": 29,
       "text": [
        "        one       two     three      four key\n",
        "0  0.467976 -0.038649 -0.295344 -1.824726   L\n",
        "1 -0.358893  1.404453  0.704965 -0.200638   B\n",
        "2 -0.501840  0.659254 -0.421691 -0.057688   G\n",
        "3  0.204886  1.074134  1.388361 -0.982404   R\n",
        "4  0.354628 -0.133116  0.283763 -0.837063   Q\n",
        "\n",
        "[5 rows x 5 columns]"
       ]
      }
     ],
     "prompt_number": 29
    },
    {
     "cell_type": "markdown",
     "source": [
      "To avoid reading whole file"
     ]
    },
    {
     "cell_type": "code",
     "collapsed": false,
     "input": [
      "result = pd.read_csv('ex6.csv', nrows=5)\n",
      "result"
     ],
     "language": "python",
     "outputs": [
      {
       "html": [
        "<div style=\"max-height:1000px;max-width:1500px;overflow:auto;\">\n",
        "<table border=\"1\" class=\"dataframe\">\n",
        "  <thead>\n",
        "    <tr style=\"text-align: right;\">\n",
        "      <th></th>\n",
        "      <th>one</th>\n",
        "      <th>two</th>\n",
        "      <th>three</th>\n",
        "      <th>four</th>\n",
        "      <th>key</th>\n",
        "    </tr>\n",
        "  </thead>\n",
        "  <tbody>\n",
        "    <tr>\n",
        "      <th>0</th>\n",
        "      <td> 0.467976</td>\n",
        "      <td>-0.038649</td>\n",
        "      <td>-0.295344</td>\n",
        "      <td>-1.824726</td>\n",
        "      <td> L</td>\n",
        "    </tr>\n",
        "    <tr>\n",
        "      <th>1</th>\n",
        "      <td>-0.358893</td>\n",
        "      <td> 1.404453</td>\n",
        "      <td> 0.704965</td>\n",
        "      <td>-0.200638</td>\n",
        "      <td> B</td>\n",
        "    </tr>\n",
        "    <tr>\n",
        "      <th>2</th>\n",
        "      <td>-0.501840</td>\n",
        "      <td> 0.659254</td>\n",
        "      <td>-0.421691</td>\n",
        "      <td>-0.057688</td>\n",
        "      <td> G</td>\n",
        "    </tr>\n",
        "    <tr>\n",
        "      <th>3</th>\n",
        "      <td> 0.204886</td>\n",
        "      <td> 1.074134</td>\n",
        "      <td> 1.388361</td>\n",
        "      <td>-0.982404</td>\n",
        "      <td> R</td>\n",
        "    </tr>\n",
        "    <tr>\n",
        "      <th>4</th>\n",
        "      <td> 0.354628</td>\n",
        "      <td>-0.133116</td>\n",
        "      <td> 0.283763</td>\n",
        "      <td>-0.837063</td>\n",
        "      <td> Q</td>\n",
        "    </tr>\n",
        "  </tbody>\n",
        "</table>\n",
        "<p>5 rows \u00d7 5 columns</p>\n",
        "</div>"
       ],
       "output_type": "pyout",
       "prompt_number": 30,
       "text": [
        "        one       two     three      four key\n",
        "0  0.467976 -0.038649 -0.295344 -1.824726   L\n",
        "1 -0.358893  1.404453  0.704965 -0.200638   B\n",
        "2 -0.501840  0.659254 -0.421691 -0.057688   G\n",
        "3  0.204886  1.074134  1.388361 -0.982404   R\n",
        "4  0.354628 -0.133116  0.283763 -0.837063   Q\n",
        "\n",
        "[5 rows x 5 columns]"
       ]
      }
     ],
     "prompt_number": 30
    },
    {
     "cell_type": "markdown",
     "source": [
      "You can also read the file in chunks."
     ]
    },
    {
     "cell_type": "markdown",
     "source": [
      "# Writing data out to text format"
     ]
    },
    {
     "cell_type": "code",
     "collapsed": false,
     "input": [
      "data = pd.read_csv('ex5.csv')\n",
      "data"
     ],
     "language": "python",
     "outputs": [
      {
       "html": [
        "<div style=\"max-height:1000px;max-width:1500px;overflow:auto;\">\n",
        "<table border=\"1\" class=\"dataframe\">\n",
        "  <thead>\n",
        "    <tr style=\"text-align: right;\">\n",
        "      <th></th>\n",
        "      <th>something</th>\n",
        "      <th>a</th>\n",
        "      <th>b</th>\n",
        "      <th>c</th>\n",
        "      <th>d</th>\n",
        "      <th>message</th>\n",
        "    </tr>\n",
        "  </thead>\n",
        "  <tbody>\n",
        "    <tr>\n",
        "      <th>0</th>\n",
        "      <td>   one</td>\n",
        "      <td> 1</td>\n",
        "      <td>  2</td>\n",
        "      <td>  3</td>\n",
        "      <td>  4</td>\n",
        "      <td>   NaN</td>\n",
        "    </tr>\n",
        "    <tr>\n",
        "      <th>1</th>\n",
        "      <td>   two</td>\n",
        "      <td> 5</td>\n",
        "      <td>  6</td>\n",
        "      <td>NaN</td>\n",
        "      <td>  8</td>\n",
        "      <td> world</td>\n",
        "    </tr>\n",
        "    <tr>\n",
        "      <th>2</th>\n",
        "      <td> three</td>\n",
        "      <td> 9</td>\n",
        "      <td> 10</td>\n",
        "      <td> 11</td>\n",
        "      <td> 12</td>\n",
        "      <td>   foo</td>\n",
        "    </tr>\n",
        "  </tbody>\n",
        "</table>\n",
        "<p>3 rows \u00d7 6 columns</p>\n",
        "</div>"
       ],
       "output_type": "pyout",
       "prompt_number": 33,
       "text": [
        "  something  a   b   c   d message\n",
        "0       one  1   2   3   4     NaN\n",
        "1       two  5   6 NaN   8   world\n",
        "2     three  9  10  11  12     foo\n",
        "\n",
        "[3 rows x 6 columns]"
       ]
      }
     ],
     "prompt_number": 33
    },
    {
     "cell_type": "code",
     "collapsed": false,
     "input": [
      "data.to_csv('out.csv')\n",
      "!cat out.csv"
     ],
     "language": "python",
     "outputs": [
      {
       "output_type": "stream",
       "stream": "stdout",
       "text": [
        ",something,a,b,c,d,message\r\n",
        "0,one,1,2,3.0,4,\r\n",
        "1,two,5,6,,8,world\r\n",
        "2,three,9,10,11.0,12,foo\r\n"
       ]
      }
     ],
     "prompt_number": 35
    },
    {
     "cell_type": "code",
     "collapsed": false,
     "input": [
      "import sys\n",
      "data.to_csv(sys.stdout, sep='|')"
     ],
     "language": "python",
     "outputs": [
      {
       "output_type": "stream",
       "stream": "stdout",
       "text": [
        "|something|a|b|c|d|message\n",
        "0|one|1|2|3.0|4|\n",
        "1|two|5|6||8|world\n",
        "2|three|9|10|11.0|12|foo\n"
       ]
      }
     ],
     "prompt_number": 37
    },
    {
     "cell_type": "code",
     "collapsed": false,
     "input": [
      "data.to_csv(sys.stdout, na_rep='NULL')"
     ],
     "language": "python",
     "outputs": [
      {
       "output_type": "stream",
       "stream": "stdout",
       "text": [
        ",something,a,b,c,d,message\n",
        "0,one,1,2,3.0,4,NULL\n",
        "1,two,5,6,NULL,8,world\n",
        "2,three,9,10,11.0,12,foo\n"
       ]
      }
     ],
     "prompt_number": 38
    },
    {
     "cell_type": "code",
     "collapsed": false,
     "input": [
      "data.to_csv(sys.stdout, index=False, header=False)"
     ],
     "language": "python",
     "outputs": [
      {
       "output_type": "stream",
       "stream": "stdout",
       "text": [
        "one,1,2,3.0,4,\n",
        "two,5,6,,8,world\n",
        "three,9,10,11.0,12,foo\n"
       ]
      }
     ],
     "prompt_number": 39
    },
    {
     "cell_type": "markdown",
     "source": [
      "You can write only a subset of columns, and in an order of your choosing"
     ]
    },
    {
     "cell_type": "code",
     "collapsed": false,
     "input": [
      "data.to_csv(sys.stdout, index=False, cols=['a', 'b', 'c'])"
     ],
     "language": "python",
     "outputs": [
      {
       "output_type": "stream",
       "stream": "stdout",
       "text": [
        "a,b,c\n",
        "1,2,3.0\n",
        "5,6,\n",
        "9,10,11.0\n"
       ]
      }
     ],
     "prompt_number": 40
    },
    {
     "cell_type": "markdown",
     "source": [
      "# JSON data"
     ]
    },
    {
     "cell_type": "code",
     "collapsed": false,
     "input": [
      "obj = \"\"\"\n",
      "{\"name\": \"Wes\",\n",
      " \"places_lived\": [\"United States\", \"Spain\", \"Germany\"],\n",
      " \"pet\": null,\n",
      " \"siblings\": [{\"name\": \"Scott\", \"age\": 25, \"pet\": \"Zuko\"},\n",
      "              {\"name\": \"Katie\", \"age\": 33, \"pet\": \"Cisco\"}]\n",
      "}\n",
      "\"\"\"\n",
      "import json\n",
      "result = json.loads(obj)\n",
      "result"
     ],
     "language": "python",
     "outputs": [
      {
       "output_type": "pyout",
       "prompt_number": 44,
       "text": [
        "{u'name': u'Wes',\n",
        " u'pet': None,\n",
        " u'places_lived': [u'United States', u'Spain', u'Germany'],\n",
        " u'siblings': [{u'age': 25, u'name': u'Scott', u'pet': u'Zuko'},\n",
        "  {u'age': 33, u'name': u'Katie', u'pet': u'Cisco'}]}"
       ]
      }
     ],
     "prompt_number": 44
    },
    {
     "cell_type": "code",
     "collapsed": false,
     "input": [
      "siblings = DataFrame(result['siblings'], columns=['name', 'age'])\n",
      "siblings"
     ],
     "language": "python",
     "outputs": [
      {
       "html": [
        "<div style=\"max-height:1000px;max-width:1500px;overflow:auto;\">\n",
        "<table border=\"1\" class=\"dataframe\">\n",
        "  <thead>\n",
        "    <tr style=\"text-align: right;\">\n",
        "      <th></th>\n",
        "      <th>name</th>\n",
        "      <th>age</th>\n",
        "    </tr>\n",
        "  </thead>\n",
        "  <tbody>\n",
        "    <tr>\n",
        "      <th>0</th>\n",
        "      <td> Scott</td>\n",
        "      <td> 25</td>\n",
        "    </tr>\n",
        "    <tr>\n",
        "      <th>1</th>\n",
        "      <td> Katie</td>\n",
        "      <td> 33</td>\n",
        "    </tr>\n",
        "  </tbody>\n",
        "</table>\n",
        "<p>2 rows \u00d7 2 columns</p>\n",
        "</div>"
       ],
       "output_type": "pyout",
       "prompt_number": 47,
       "text": [
        "    name  age\n",
        "0  Scott   25\n",
        "1  Katie   33\n",
        "\n",
        "[2 rows x 2 columns]"
       ]
      }
     ],
     "prompt_number": 47
    },
    {
     "cell_type": "markdown",
     "source": [
      "# Some other data formats that pandas can handle\n",
      "- XML/HTML \n",
      "- Excel files\n",
      "- Binary data formats\n",
      "- Interacting with HTML and web APIs\n",
      "- Interacting with databases\n",
      "- Storing/Loading data in MongoDB"
     ]
    }
   ]
  }
 ]
}